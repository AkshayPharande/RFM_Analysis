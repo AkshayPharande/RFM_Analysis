{
 "cells": [
  {
   "cell_type": "markdown",
   "id": "59ab4b0d",
   "metadata": {
    "papermill": {
     "duration": 0.01259,
     "end_time": "2023-02-02T07:30:15.288066",
     "exception": false,
     "start_time": "2023-02-02T07:30:15.275476",
     "status": "completed"
    },
    "tags": []
   },
   "source": [
    "# __Data Modelling Approach__"
   ]
  },
  {
   "cell_type": "markdown",
   "id": "83e527db",
   "metadata": {
    "papermill": {
     "duration": 0.01272,
     "end_time": "2023-02-02T07:30:15.313090",
     "exception": false,
     "start_time": "2023-02-02T07:30:15.300370",
     "status": "completed"
    },
    "tags": []
   },
   "source": [
    "* __Step 1: Importing the Relevant Libraries__\n",
    "    \n",
    "* __Step 2: Data Inspection and Cleaning__\n",
    "\n",
    "* __Step 3: Data Understanding__\n",
    "    \n",
    "* __Step 4: RFM Modelling__\n",
    "    \n",
    "* __Step 5: find out the customers who are 'champions', 'Potential customers' and 'need attention__\n",
    "\n",
    "* __Step 6: Exploratory Data Analysis__\n",
    "\n",
    "* __Step 7: K-Means Clustering Technique__"
   ]
  },
  {
   "cell_type": "markdown",
   "id": "d67c3621",
   "metadata": {
    "papermill": {
     "duration": 0.01261,
     "end_time": "2023-02-02T07:30:15.337600",
     "exception": false,
     "start_time": "2023-02-02T07:30:15.324990",
     "status": "completed"
    },
    "tags": []
   },
   "source": [
    "## __Step 1: Importing the Relevant Libraries__ "
   ]
  },
  {
   "cell_type": "code",
   "execution_count": 1,
   "id": "a9d9dd26",
   "metadata": {
    "execution": {
     "iopub.execute_input": "2023-02-02T07:30:15.363707Z",
     "iopub.status.busy": "2023-02-02T07:30:15.363186Z",
     "iopub.status.idle": "2023-02-02T07:30:28.557322Z",
     "shell.execute_reply": "2023-02-02T07:30:28.555757Z"
    },
    "papermill": {
     "duration": 13.210137,
     "end_time": "2023-02-02T07:30:28.559550",
     "exception": false,
     "start_time": "2023-02-02T07:30:15.349413",
     "status": "completed"
    },
    "tags": []
   },
   "outputs": [
    {
     "name": "stdout",
     "output_type": "stream",
     "text": [
      "Collecting openpyxl\r\n",
      "  Downloading openpyxl-3.1.0-py2.py3-none-any.whl (250 kB)\r\n",
      "\u001b[2K     \u001b[90m━━━━━━━━━━━━━━━━━━━━━━━━━━━━━━━━━━━━━━━\u001b[0m \u001b[32m250.0/250.0 kB\u001b[0m \u001b[31m1.1 MB/s\u001b[0m eta \u001b[36m0:00:00\u001b[0m\r\n",
      "\u001b[?25hCollecting et-xmlfile\r\n",
      "  Downloading et_xmlfile-1.1.0-py3-none-any.whl (4.7 kB)\r\n",
      "Installing collected packages: et-xmlfile, openpyxl\r\n",
      "Successfully installed et-xmlfile-1.1.0 openpyxl-3.1.0\r\n",
      "\u001b[33mWARNING: Running pip as the 'root' user can result in broken permissions and conflicting behaviour with the system package manager. It is recommended to use a virtual environment instead: https://pip.pypa.io/warnings/venv\u001b[0m\u001b[33m\r\n",
      "\u001b[0mNote: you may need to restart the kernel to use updated packages.\n"
     ]
    }
   ],
   "source": [
    "pip install openpyxl"
   ]
  },
  {
   "cell_type": "code",
   "execution_count": 2,
   "id": "8d2e0b15",
   "metadata": {
    "execution": {
     "iopub.execute_input": "2023-02-02T07:30:28.587109Z",
     "iopub.status.busy": "2023-02-02T07:30:28.586686Z",
     "iopub.status.idle": "2023-02-02T07:30:31.684709Z",
     "shell.execute_reply": "2023-02-02T07:30:31.683337Z"
    },
    "papermill": {
     "duration": 3.11602,
     "end_time": "2023-02-02T07:30:31.688315",
     "exception": false,
     "start_time": "2023-02-02T07:30:28.572295",
     "status": "completed"
    },
    "tags": []
   },
   "outputs": [],
   "source": [
    "%matplotlib inline\n",
    "import pandas as pd\n",
    "import numpy as np\n",
    "import matplotlib.pyplot as plt\n",
    "import datetime as dt\n",
    "from matplotlib.gridspec import GridSpec\n",
    "import seaborn as sns\n",
    "import plotly.express as px\n",
    "from sklearn.cluster import KMeans\n",
    "from sklearn.preprocessing import StandardScaler as ss"
   ]
  },
  {
   "cell_type": "markdown",
   "id": "2b46c121",
   "metadata": {
    "papermill": {
     "duration": 0.014848,
     "end_time": "2023-02-02T07:30:31.716442",
     "exception": false,
     "start_time": "2023-02-02T07:30:31.701594",
     "status": "completed"
    },
    "tags": []
   },
   "source": [
    "\n",
    "## __Step 2: Data Inspection and Cleaning__"
   ]
  },
  {
   "cell_type": "code",
   "execution_count": 3,
   "id": "45a05656",
   "metadata": {
    "execution": {
     "iopub.execute_input": "2023-02-02T07:30:31.744787Z",
     "iopub.status.busy": "2023-02-02T07:30:31.744332Z",
     "iopub.status.idle": "2023-02-02T07:30:35.037903Z",
     "shell.execute_reply": "2023-02-02T07:30:35.036832Z"
    },
    "papermill": {
     "duration": 3.31119,
     "end_time": "2023-02-02T07:30:35.040908",
     "exception": false,
     "start_time": "2023-02-02T07:30:31.729718",
     "status": "completed"
    },
    "tags": []
   },
   "outputs": [
    {
     "data": {
      "text/html": [
       "<div>\n",
       "<style scoped>\n",
       "    .dataframe tbody tr th:only-of-type {\n",
       "        vertical-align: middle;\n",
       "    }\n",
       "\n",
       "    .dataframe tbody tr th {\n",
       "        vertical-align: top;\n",
       "    }\n",
       "\n",
       "    .dataframe thead th {\n",
       "        text-align: right;\n",
       "    }\n",
       "</style>\n",
       "<table border=\"1\" class=\"dataframe\">\n",
       "  <thead>\n",
       "    <tr style=\"text-align: right;\">\n",
       "      <th></th>\n",
       "      <th>CustomerID</th>\n",
       "      <th>TOTAL_ORDERS</th>\n",
       "      <th>REVENUE</th>\n",
       "      <th>AVERAGE_ORDER_VALUE</th>\n",
       "      <th>CARRIAGE_REVENUE</th>\n",
       "      <th>AVERAGESHIPPING</th>\n",
       "      <th>FIRST_ORDER_DATE</th>\n",
       "      <th>LATEST_ORDER_DATE</th>\n",
       "      <th>AVGDAYSBETWEENORDERS</th>\n",
       "      <th>DAYSSINCELASTORDER</th>\n",
       "      <th>...</th>\n",
       "      <th>WEEK3_DAY16_DAY23_REVENUE</th>\n",
       "      <th>WEEK4_DAY24_DAY31_REVENUE</th>\n",
       "      <th>TIME_0000_0600_ORDERS</th>\n",
       "      <th>TIME_0601_1200_ORDERS</th>\n",
       "      <th>TIME_1200_1800_ORDERS</th>\n",
       "      <th>TIME_1801_2359_ORDERS</th>\n",
       "      <th>TIME_0000_0600_REVENUE</th>\n",
       "      <th>TIME_0601_1200_REVENUE</th>\n",
       "      <th>TIME_1200_1800_REVENUE</th>\n",
       "      <th>TIME_1801_2359_REVENUE</th>\n",
       "    </tr>\n",
       "  </thead>\n",
       "  <tbody>\n",
       "    <tr>\n",
       "      <th>0</th>\n",
       "      <td>22</td>\n",
       "      <td>124</td>\n",
       "      <td>11986.54</td>\n",
       "      <td>96.67</td>\n",
       "      <td>529.59</td>\n",
       "      <td>4.27</td>\n",
       "      <td>2016-12-30</td>\n",
       "      <td>2021-10-24</td>\n",
       "      <td>14.19</td>\n",
       "      <td>1</td>\n",
       "      <td>...</td>\n",
       "      <td>2592.18</td>\n",
       "      <td>2409.71</td>\n",
       "      <td>12</td>\n",
       "      <td>61</td>\n",
       "      <td>37</td>\n",
       "      <td>14</td>\n",
       "      <td>1067.92</td>\n",
       "      <td>5674.65</td>\n",
       "      <td>3916.53</td>\n",
       "      <td>1327.44</td>\n",
       "    </tr>\n",
       "    <tr>\n",
       "      <th>1</th>\n",
       "      <td>29</td>\n",
       "      <td>82</td>\n",
       "      <td>11025.96</td>\n",
       "      <td>134.46</td>\n",
       "      <td>97.92</td>\n",
       "      <td>1.19</td>\n",
       "      <td>2018-03-31</td>\n",
       "      <td>2021-10-24</td>\n",
       "      <td>15.89</td>\n",
       "      <td>1</td>\n",
       "      <td>...</td>\n",
       "      <td>2807.66</td>\n",
       "      <td>4106.19</td>\n",
       "      <td>1</td>\n",
       "      <td>13</td>\n",
       "      <td>24</td>\n",
       "      <td>44</td>\n",
       "      <td>30.25</td>\n",
       "      <td>3143.69</td>\n",
       "      <td>2205.47</td>\n",
       "      <td>5646.55</td>\n",
       "    </tr>\n",
       "    <tr>\n",
       "      <th>2</th>\n",
       "      <td>83</td>\n",
       "      <td>43</td>\n",
       "      <td>7259.69</td>\n",
       "      <td>168.83</td>\n",
       "      <td>171.69</td>\n",
       "      <td>3.99</td>\n",
       "      <td>2017-11-30</td>\n",
       "      <td>2021-10-24</td>\n",
       "      <td>33.12</td>\n",
       "      <td>1</td>\n",
       "      <td>...</td>\n",
       "      <td>713.94</td>\n",
       "      <td>2861.90</td>\n",
       "      <td>0</td>\n",
       "      <td>6</td>\n",
       "      <td>12</td>\n",
       "      <td>25</td>\n",
       "      <td>0.00</td>\n",
       "      <td>707.98</td>\n",
       "      <td>2560.91</td>\n",
       "      <td>3990.80</td>\n",
       "    </tr>\n",
       "    <tr>\n",
       "      <th>3</th>\n",
       "      <td>95</td>\n",
       "      <td>44</td>\n",
       "      <td>6992.27</td>\n",
       "      <td>158.92</td>\n",
       "      <td>92.82</td>\n",
       "      <td>2.11</td>\n",
       "      <td>2019-04-09</td>\n",
       "      <td>2021-10-24</td>\n",
       "      <td>21.11</td>\n",
       "      <td>1</td>\n",
       "      <td>...</td>\n",
       "      <td>997.02</td>\n",
       "      <td>1260.08</td>\n",
       "      <td>0</td>\n",
       "      <td>10</td>\n",
       "      <td>13</td>\n",
       "      <td>21</td>\n",
       "      <td>0.00</td>\n",
       "      <td>1908.99</td>\n",
       "      <td>2025.05</td>\n",
       "      <td>3058.23</td>\n",
       "    </tr>\n",
       "    <tr>\n",
       "      <th>4</th>\n",
       "      <td>124</td>\n",
       "      <td>55</td>\n",
       "      <td>6263.44</td>\n",
       "      <td>113.88</td>\n",
       "      <td>179.04</td>\n",
       "      <td>3.26</td>\n",
       "      <td>2020-10-23</td>\n",
       "      <td>2021-10-24</td>\n",
       "      <td>6.65</td>\n",
       "      <td>1</td>\n",
       "      <td>...</td>\n",
       "      <td>2725.66</td>\n",
       "      <td>768.46</td>\n",
       "      <td>6</td>\n",
       "      <td>9</td>\n",
       "      <td>27</td>\n",
       "      <td>13</td>\n",
       "      <td>501.34</td>\n",
       "      <td>1197.83</td>\n",
       "      <td>3004.77</td>\n",
       "      <td>1559.50</td>\n",
       "    </tr>\n",
       "  </tbody>\n",
       "</table>\n",
       "<p>5 rows × 40 columns</p>\n",
       "</div>"
      ],
      "text/plain": [
       "   CustomerID  TOTAL_ORDERS   REVENUE  AVERAGE_ORDER_VALUE  CARRIAGE_REVENUE  \\\n",
       "0          22           124  11986.54                96.67            529.59   \n",
       "1          29            82  11025.96               134.46             97.92   \n",
       "2          83            43   7259.69               168.83            171.69   \n",
       "3          95            44   6992.27               158.92             92.82   \n",
       "4         124            55   6263.44               113.88            179.04   \n",
       "\n",
       "   AVERAGESHIPPING FIRST_ORDER_DATE LATEST_ORDER_DATE  AVGDAYSBETWEENORDERS  \\\n",
       "0             4.27       2016-12-30        2021-10-24                 14.19   \n",
       "1             1.19       2018-03-31        2021-10-24                 15.89   \n",
       "2             3.99       2017-11-30        2021-10-24                 33.12   \n",
       "3             2.11       2019-04-09        2021-10-24                 21.11   \n",
       "4             3.26       2020-10-23        2021-10-24                  6.65   \n",
       "\n",
       "   DAYSSINCELASTORDER  ...  WEEK3_DAY16_DAY23_REVENUE  \\\n",
       "0                   1  ...                    2592.18   \n",
       "1                   1  ...                    2807.66   \n",
       "2                   1  ...                     713.94   \n",
       "3                   1  ...                     997.02   \n",
       "4                   1  ...                    2725.66   \n",
       "\n",
       "   WEEK4_DAY24_DAY31_REVENUE  TIME_0000_0600_ORDERS  TIME_0601_1200_ORDERS  \\\n",
       "0                    2409.71                     12                     61   \n",
       "1                    4106.19                      1                     13   \n",
       "2                    2861.90                      0                      6   \n",
       "3                    1260.08                      0                     10   \n",
       "4                     768.46                      6                      9   \n",
       "\n",
       "   TIME_1200_1800_ORDERS  TIME_1801_2359_ORDERS  TIME_0000_0600_REVENUE  \\\n",
       "0                     37                     14                 1067.92   \n",
       "1                     24                     44                   30.25   \n",
       "2                     12                     25                    0.00   \n",
       "3                     13                     21                    0.00   \n",
       "4                     27                     13                  501.34   \n",
       "\n",
       "   TIME_0601_1200_REVENUE  TIME_1200_1800_REVENUE  TIME_1801_2359_REVENUE  \n",
       "0                 5674.65                 3916.53                 1327.44  \n",
       "1                 3143.69                 2205.47                 5646.55  \n",
       "2                  707.98                 2560.91                 3990.80  \n",
       "3                 1908.99                 2025.05                 3058.23  \n",
       "4                 1197.83                 3004.77                 1559.50  \n",
       "\n",
       "[5 rows x 40 columns]"
      ]
     },
     "execution_count": 3,
     "metadata": {},
     "output_type": "execute_result"
    }
   ],
   "source": [
    "data = pd.read_excel(\"../input/sales-data/sales_data.xlsx\")\n",
    "data.head()"
   ]
  },
  {
   "cell_type": "code",
   "execution_count": 4,
   "id": "b46a50fb",
   "metadata": {
    "execution": {
     "iopub.execute_input": "2023-02-02T07:30:35.071156Z",
     "iopub.status.busy": "2023-02-02T07:30:35.070615Z",
     "iopub.status.idle": "2023-02-02T07:30:35.180027Z",
     "shell.execute_reply": "2023-02-02T07:30:35.179296Z"
    },
    "papermill": {
     "duration": 0.127289,
     "end_time": "2023-02-02T07:30:35.182129",
     "exception": false,
     "start_time": "2023-02-02T07:30:35.054840",
     "status": "completed"
    },
    "tags": []
   },
   "outputs": [
    {
     "data": {
      "text/html": [
       "<div>\n",
       "<style scoped>\n",
       "    .dataframe tbody tr th:only-of-type {\n",
       "        vertical-align: middle;\n",
       "    }\n",
       "\n",
       "    .dataframe tbody tr th {\n",
       "        vertical-align: top;\n",
       "    }\n",
       "\n",
       "    .dataframe thead th {\n",
       "        text-align: right;\n",
       "    }\n",
       "</style>\n",
       "<table border=\"1\" class=\"dataframe\">\n",
       "  <thead>\n",
       "    <tr style=\"text-align: right;\">\n",
       "      <th></th>\n",
       "      <th>CustomerID</th>\n",
       "      <th>TOTAL_ORDERS</th>\n",
       "      <th>REVENUE</th>\n",
       "      <th>AVERAGE_ORDER_VALUE</th>\n",
       "      <th>CARRIAGE_REVENUE</th>\n",
       "      <th>AVERAGESHIPPING</th>\n",
       "      <th>AVGDAYSBETWEENORDERS</th>\n",
       "      <th>DAYSSINCELASTORDER</th>\n",
       "      <th>MONDAY_ORDERS</th>\n",
       "      <th>TUESDAY_ORDERS</th>\n",
       "      <th>...</th>\n",
       "      <th>WEEK3_DAY16_DAY23_REVENUE</th>\n",
       "      <th>WEEK4_DAY24_DAY31_REVENUE</th>\n",
       "      <th>TIME_0000_0600_ORDERS</th>\n",
       "      <th>TIME_0601_1200_ORDERS</th>\n",
       "      <th>TIME_1200_1800_ORDERS</th>\n",
       "      <th>TIME_1801_2359_ORDERS</th>\n",
       "      <th>TIME_0000_0600_REVENUE</th>\n",
       "      <th>TIME_0601_1200_REVENUE</th>\n",
       "      <th>TIME_1200_1800_REVENUE</th>\n",
       "      <th>TIME_1801_2359_REVENUE</th>\n",
       "    </tr>\n",
       "  </thead>\n",
       "  <tbody>\n",
       "    <tr>\n",
       "      <th>count</th>\n",
       "      <td>5000.000000</td>\n",
       "      <td>5000.00000</td>\n",
       "      <td>5000.000000</td>\n",
       "      <td>5000.000000</td>\n",
       "      <td>5000.000000</td>\n",
       "      <td>5000.000000</td>\n",
       "      <td>5000.000000</td>\n",
       "      <td>5000.000000</td>\n",
       "      <td>5000.000000</td>\n",
       "      <td>5000.00000</td>\n",
       "      <td>...</td>\n",
       "      <td>5000.000000</td>\n",
       "      <td>5000.000000</td>\n",
       "      <td>5000.000000</td>\n",
       "      <td>5000.000000</td>\n",
       "      <td>5000.000000</td>\n",
       "      <td>5000.000000</td>\n",
       "      <td>5000.000000</td>\n",
       "      <td>5000.000000</td>\n",
       "      <td>5000.000000</td>\n",
       "      <td>5000.000000</td>\n",
       "    </tr>\n",
       "    <tr>\n",
       "      <th>mean</th>\n",
       "      <td>40709.227800</td>\n",
       "      <td>12.87040</td>\n",
       "      <td>1681.523840</td>\n",
       "      <td>136.537378</td>\n",
       "      <td>46.036376</td>\n",
       "      <td>3.592574</td>\n",
       "      <td>163.159618</td>\n",
       "      <td>87.420000</td>\n",
       "      <td>1.629000</td>\n",
       "      <td>1.75440</td>\n",
       "      <td>...</td>\n",
       "      <td>421.826908</td>\n",
       "      <td>474.462852</td>\n",
       "      <td>1.028800</td>\n",
       "      <td>3.746200</td>\n",
       "      <td>4.434000</td>\n",
       "      <td>3.661400</td>\n",
       "      <td>131.062636</td>\n",
       "      <td>486.863868</td>\n",
       "      <td>584.731626</td>\n",
       "      <td>478.865710</td>\n",
       "    </tr>\n",
       "    <tr>\n",
       "      <th>std</th>\n",
       "      <td>49949.848017</td>\n",
       "      <td>12.67988</td>\n",
       "      <td>1998.618678</td>\n",
       "      <td>91.651569</td>\n",
       "      <td>47.879226</td>\n",
       "      <td>2.021360</td>\n",
       "      <td>259.699496</td>\n",
       "      <td>80.156513</td>\n",
       "      <td>2.236506</td>\n",
       "      <td>2.43394</td>\n",
       "      <td>...</td>\n",
       "      <td>643.449120</td>\n",
       "      <td>617.579321</td>\n",
       "      <td>2.174331</td>\n",
       "      <td>4.700234</td>\n",
       "      <td>5.044793</td>\n",
       "      <td>4.581894</td>\n",
       "      <td>331.289349</td>\n",
       "      <td>789.029911</td>\n",
       "      <td>804.290026</td>\n",
       "      <td>743.244248</td>\n",
       "    </tr>\n",
       "    <tr>\n",
       "      <th>min</th>\n",
       "      <td>1.000000</td>\n",
       "      <td>1.00000</td>\n",
       "      <td>38.500000</td>\n",
       "      <td>10.680000</td>\n",
       "      <td>0.000000</td>\n",
       "      <td>0.000000</td>\n",
       "      <td>0.000000</td>\n",
       "      <td>1.000000</td>\n",
       "      <td>0.000000</td>\n",
       "      <td>0.00000</td>\n",
       "      <td>...</td>\n",
       "      <td>0.000000</td>\n",
       "      <td>0.000000</td>\n",
       "      <td>0.000000</td>\n",
       "      <td>0.000000</td>\n",
       "      <td>0.000000</td>\n",
       "      <td>0.000000</td>\n",
       "      <td>0.000000</td>\n",
       "      <td>0.000000</td>\n",
       "      <td>0.000000</td>\n",
       "      <td>0.000000</td>\n",
       "    </tr>\n",
       "    <tr>\n",
       "      <th>25%</th>\n",
       "      <td>1687.500000</td>\n",
       "      <td>3.00000</td>\n",
       "      <td>315.097500</td>\n",
       "      <td>83.025000</td>\n",
       "      <td>9.980000</td>\n",
       "      <td>2.500000</td>\n",
       "      <td>21.670000</td>\n",
       "      <td>7.000000</td>\n",
       "      <td>0.000000</td>\n",
       "      <td>0.00000</td>\n",
       "      <td>...</td>\n",
       "      <td>0.000000</td>\n",
       "      <td>80.000000</td>\n",
       "      <td>0.000000</td>\n",
       "      <td>1.000000</td>\n",
       "      <td>1.000000</td>\n",
       "      <td>1.000000</td>\n",
       "      <td>0.000000</td>\n",
       "      <td>35.000000</td>\n",
       "      <td>89.990000</td>\n",
       "      <td>1.000000</td>\n",
       "    </tr>\n",
       "    <tr>\n",
       "      <th>50%</th>\n",
       "      <td>13765.000000</td>\n",
       "      <td>8.00000</td>\n",
       "      <td>966.725000</td>\n",
       "      <td>113.160000</td>\n",
       "      <td>24.985000</td>\n",
       "      <td>3.660000</td>\n",
       "      <td>57.635000</td>\n",
       "      <td>68.000000</td>\n",
       "      <td>1.000000</td>\n",
       "      <td>1.00000</td>\n",
       "      <td>...</td>\n",
       "      <td>194.990000</td>\n",
       "      <td>264.485000</td>\n",
       "      <td>0.000000</td>\n",
       "      <td>2.000000</td>\n",
       "      <td>3.000000</td>\n",
       "      <td>2.000000</td>\n",
       "      <td>0.000000</td>\n",
       "      <td>236.440000</td>\n",
       "      <td>299.840000</td>\n",
       "      <td>208.990000</td>\n",
       "    </tr>\n",
       "    <tr>\n",
       "      <th>75%</th>\n",
       "      <td>71891.500000</td>\n",
       "      <td>20.00000</td>\n",
       "      <td>2493.072500</td>\n",
       "      <td>160.272500</td>\n",
       "      <td>76.862500</td>\n",
       "      <td>4.790000</td>\n",
       "      <td>170.357500</td>\n",
       "      <td>171.250000</td>\n",
       "      <td>2.000000</td>\n",
       "      <td>3.00000</td>\n",
       "      <td>...</td>\n",
       "      <td>604.085000</td>\n",
       "      <td>651.487500</td>\n",
       "      <td>1.000000</td>\n",
       "      <td>6.000000</td>\n",
       "      <td>7.000000</td>\n",
       "      <td>5.000000</td>\n",
       "      <td>131.282500</td>\n",
       "      <td>661.952500</td>\n",
       "      <td>797.032500</td>\n",
       "      <td>620.117500</td>\n",
       "    </tr>\n",
       "    <tr>\n",
       "      <th>max</th>\n",
       "      <td>277160.000000</td>\n",
       "      <td>156.00000</td>\n",
       "      <td>34847.400000</td>\n",
       "      <td>1578.880000</td>\n",
       "      <td>529.590000</td>\n",
       "      <td>35.990000</td>\n",
       "      <td>1409.500000</td>\n",
       "      <td>207.000000</td>\n",
       "      <td>19.000000</td>\n",
       "      <td>23.00000</td>\n",
       "      <td>...</td>\n",
       "      <td>12946.220000</td>\n",
       "      <td>8274.970000</td>\n",
       "      <td>34.000000</td>\n",
       "      <td>61.000000</td>\n",
       "      <td>58.000000</td>\n",
       "      <td>64.000000</td>\n",
       "      <td>7700.240000</td>\n",
       "      <td>23832.770000</td>\n",
       "      <td>17749.010000</td>\n",
       "      <td>12995.020000</td>\n",
       "    </tr>\n",
       "  </tbody>\n",
       "</table>\n",
       "<p>8 rows × 38 columns</p>\n",
       "</div>"
      ],
      "text/plain": [
       "          CustomerID  TOTAL_ORDERS       REVENUE  AVERAGE_ORDER_VALUE  \\\n",
       "count    5000.000000    5000.00000   5000.000000          5000.000000   \n",
       "mean    40709.227800      12.87040   1681.523840           136.537378   \n",
       "std     49949.848017      12.67988   1998.618678            91.651569   \n",
       "min         1.000000       1.00000     38.500000            10.680000   \n",
       "25%      1687.500000       3.00000    315.097500            83.025000   \n",
       "50%     13765.000000       8.00000    966.725000           113.160000   \n",
       "75%     71891.500000      20.00000   2493.072500           160.272500   \n",
       "max    277160.000000     156.00000  34847.400000          1578.880000   \n",
       "\n",
       "       CARRIAGE_REVENUE  AVERAGESHIPPING  AVGDAYSBETWEENORDERS  \\\n",
       "count       5000.000000      5000.000000           5000.000000   \n",
       "mean          46.036376         3.592574            163.159618   \n",
       "std           47.879226         2.021360            259.699496   \n",
       "min            0.000000         0.000000              0.000000   \n",
       "25%            9.980000         2.500000             21.670000   \n",
       "50%           24.985000         3.660000             57.635000   \n",
       "75%           76.862500         4.790000            170.357500   \n",
       "max          529.590000        35.990000           1409.500000   \n",
       "\n",
       "       DAYSSINCELASTORDER  MONDAY_ORDERS  TUESDAY_ORDERS  ...  \\\n",
       "count         5000.000000    5000.000000      5000.00000  ...   \n",
       "mean            87.420000       1.629000         1.75440  ...   \n",
       "std             80.156513       2.236506         2.43394  ...   \n",
       "min              1.000000       0.000000         0.00000  ...   \n",
       "25%              7.000000       0.000000         0.00000  ...   \n",
       "50%             68.000000       1.000000         1.00000  ...   \n",
       "75%            171.250000       2.000000         3.00000  ...   \n",
       "max            207.000000      19.000000        23.00000  ...   \n",
       "\n",
       "       WEEK3_DAY16_DAY23_REVENUE  WEEK4_DAY24_DAY31_REVENUE  \\\n",
       "count                5000.000000                5000.000000   \n",
       "mean                  421.826908                 474.462852   \n",
       "std                   643.449120                 617.579321   \n",
       "min                     0.000000                   0.000000   \n",
       "25%                     0.000000                  80.000000   \n",
       "50%                   194.990000                 264.485000   \n",
       "75%                   604.085000                 651.487500   \n",
       "max                 12946.220000                8274.970000   \n",
       "\n",
       "       TIME_0000_0600_ORDERS  TIME_0601_1200_ORDERS  TIME_1200_1800_ORDERS  \\\n",
       "count            5000.000000            5000.000000            5000.000000   \n",
       "mean                1.028800               3.746200               4.434000   \n",
       "std                 2.174331               4.700234               5.044793   \n",
       "min                 0.000000               0.000000               0.000000   \n",
       "25%                 0.000000               1.000000               1.000000   \n",
       "50%                 0.000000               2.000000               3.000000   \n",
       "75%                 1.000000               6.000000               7.000000   \n",
       "max                34.000000              61.000000              58.000000   \n",
       "\n",
       "       TIME_1801_2359_ORDERS  TIME_0000_0600_REVENUE  TIME_0601_1200_REVENUE  \\\n",
       "count            5000.000000             5000.000000             5000.000000   \n",
       "mean                3.661400              131.062636              486.863868   \n",
       "std                 4.581894              331.289349              789.029911   \n",
       "min                 0.000000                0.000000                0.000000   \n",
       "25%                 1.000000                0.000000               35.000000   \n",
       "50%                 2.000000                0.000000              236.440000   \n",
       "75%                 5.000000              131.282500              661.952500   \n",
       "max                64.000000             7700.240000            23832.770000   \n",
       "\n",
       "       TIME_1200_1800_REVENUE  TIME_1801_2359_REVENUE  \n",
       "count             5000.000000             5000.000000  \n",
       "mean               584.731626              478.865710  \n",
       "std                804.290026              743.244248  \n",
       "min                  0.000000                0.000000  \n",
       "25%                 89.990000                1.000000  \n",
       "50%                299.840000              208.990000  \n",
       "75%                797.032500              620.117500  \n",
       "max              17749.010000            12995.020000  \n",
       "\n",
       "[8 rows x 38 columns]"
      ]
     },
     "execution_count": 4,
     "metadata": {},
     "output_type": "execute_result"
    }
   ],
   "source": [
    "data.describe()"
   ]
  },
  {
   "cell_type": "code",
   "execution_count": 5,
   "id": "f519c52b",
   "metadata": {
    "execution": {
     "iopub.execute_input": "2023-02-02T07:30:35.212625Z",
     "iopub.status.busy": "2023-02-02T07:30:35.211786Z",
     "iopub.status.idle": "2023-02-02T07:30:35.220709Z",
     "shell.execute_reply": "2023-02-02T07:30:35.218858Z"
    },
    "papermill": {
     "duration": 0.028047,
     "end_time": "2023-02-02T07:30:35.223197",
     "exception": false,
     "start_time": "2023-02-02T07:30:35.195150",
     "status": "completed"
    },
    "tags": []
   },
   "outputs": [
    {
     "data": {
      "text/plain": [
       "(5000, 40)"
      ]
     },
     "execution_count": 5,
     "metadata": {},
     "output_type": "execute_result"
    }
   ],
   "source": [
    "data.shape"
   ]
  },
  {
   "cell_type": "markdown",
   "id": "bcf3a5f9",
   "metadata": {
    "papermill": {
     "duration": 0.013942,
     "end_time": "2023-02-02T07:30:35.251045",
     "exception": false,
     "start_time": "2023-02-02T07:30:35.237103",
     "status": "completed"
    },
    "tags": []
   },
   "source": [
    "* __We have 5000 rows and 40 columns__"
   ]
  },
  {
   "cell_type": "code",
   "execution_count": 6,
   "id": "1157f346",
   "metadata": {
    "execution": {
     "iopub.execute_input": "2023-02-02T07:30:35.280898Z",
     "iopub.status.busy": "2023-02-02T07:30:35.280555Z",
     "iopub.status.idle": "2023-02-02T07:30:35.293204Z",
     "shell.execute_reply": "2023-02-02T07:30:35.291431Z"
    },
    "papermill": {
     "duration": 0.029912,
     "end_time": "2023-02-02T07:30:35.295357",
     "exception": false,
     "start_time": "2023-02-02T07:30:35.265445",
     "status": "completed"
    },
    "tags": []
   },
   "outputs": [
    {
     "data": {
      "text/plain": [
       "CustomerID                   0\n",
       "TOTAL_ORDERS                 0\n",
       "REVENUE                      0\n",
       "AVERAGE_ORDER_VALUE          0\n",
       "CARRIAGE_REVENUE             0\n",
       "AVERAGESHIPPING              0\n",
       "FIRST_ORDER_DATE             0\n",
       "LATEST_ORDER_DATE            0\n",
       "AVGDAYSBETWEENORDERS         0\n",
       "DAYSSINCELASTORDER           0\n",
       "MONDAY_ORDERS                0\n",
       "TUESDAY_ORDERS               0\n",
       "WEDNESDAY_ORDERS             0\n",
       "THURSDAY_ORDERS              0\n",
       "FRIDAY_ORDERS                0\n",
       "SATURDAY_ORDERS              0\n",
       "SUNDAY_ORDERS                0\n",
       "MONDAY_REVENUE               0\n",
       "TUESDAY_REVENUE              0\n",
       "WEDNESDAY_REVENUE            0\n",
       "THURSDAY_REVENUE             0\n",
       "FRIDAY_REVENUE               0\n",
       "SATURDAY_REVENUE             0\n",
       "SUNDAY_REVENUE               0\n",
       "WEEK1_DAY01_DAY07_ORDERS     0\n",
       "WEEK2_DAY08_DAY15_ORDERS     0\n",
       "WEEK3_DAY16_DAY23_ORDERS     0\n",
       "WEEK4_DAY24_DAY31_ORDERS     0\n",
       "WEEK1_DAY01_DAY07_REVENUE    0\n",
       "WEEK2_DAY08_DAY15_REVENUE    0\n",
       "WEEK3_DAY16_DAY23_REVENUE    0\n",
       "WEEK4_DAY24_DAY31_REVENUE    0\n",
       "TIME_0000_0600_ORDERS        0\n",
       "TIME_0601_1200_ORDERS        0\n",
       "TIME_1200_1800_ORDERS        0\n",
       "TIME_1801_2359_ORDERS        0\n",
       "TIME_0000_0600_REVENUE       0\n",
       "TIME_0601_1200_REVENUE       0\n",
       "TIME_1200_1800_REVENUE       0\n",
       "TIME_1801_2359_REVENUE       0\n",
       "dtype: int64"
      ]
     },
     "execution_count": 6,
     "metadata": {},
     "output_type": "execute_result"
    }
   ],
   "source": [
    "data.isna().sum()"
   ]
  },
  {
   "cell_type": "markdown",
   "id": "cbe999af",
   "metadata": {
    "papermill": {
     "duration": 0.013338,
     "end_time": "2023-02-02T07:30:35.322251",
     "exception": false,
     "start_time": "2023-02-02T07:30:35.308913",
     "status": "completed"
    },
    "tags": []
   },
   "source": [
    "* __NO missing values present in data and this is a clean dataset.__"
   ]
  },
  {
   "cell_type": "markdown",
   "id": "443b0e99",
   "metadata": {
    "papermill": {
     "duration": 0.013247,
     "end_time": "2023-02-02T07:30:35.349363",
     "exception": false,
     "start_time": "2023-02-02T07:30:35.336116",
     "status": "completed"
    },
    "tags": []
   },
   "source": [
    "## __Step 3: Data Understanding__"
   ]
  },
  {
   "cell_type": "code",
   "execution_count": 7,
   "id": "34338bd7",
   "metadata": {
    "execution": {
     "iopub.execute_input": "2023-02-02T07:30:35.379604Z",
     "iopub.status.busy": "2023-02-02T07:30:35.378513Z",
     "iopub.status.idle": "2023-02-02T07:30:35.386848Z",
     "shell.execute_reply": "2023-02-02T07:30:35.386069Z"
    },
    "papermill": {
     "duration": 0.026381,
     "end_time": "2023-02-02T07:30:35.389555",
     "exception": false,
     "start_time": "2023-02-02T07:30:35.363174",
     "status": "completed"
    },
    "tags": []
   },
   "outputs": [],
   "source": [
    "AVG_Daily_Orders = [data[['MONDAY_ORDERS','TUESDAY_ORDERS','WEDNESDAY_ORDERS','THURSDAY_ORDERS','FRIDAY_ORDERS','SATURDAY_ORDERS','SUNDAY_ORDERS']].mean()]\n",
    "AVG_Daily_Revenue = [data[['MONDAY_REVENUE','TUESDAY_REVENUE','WEDNESDAY_REVENUE','THURSDAY_REVENUE','FRIDAY_REVENUE','SATURDAY_REVENUE','SUNDAY_REVENUE']].mean()]"
   ]
  },
  {
   "cell_type": "code",
   "execution_count": 8,
   "id": "5177fd1b",
   "metadata": {
    "execution": {
     "iopub.execute_input": "2023-02-02T07:30:35.419029Z",
     "iopub.status.busy": "2023-02-02T07:30:35.418542Z",
     "iopub.status.idle": "2023-02-02T07:30:35.428781Z",
     "shell.execute_reply": "2023-02-02T07:30:35.426556Z"
    },
    "papermill": {
     "duration": 0.028645,
     "end_time": "2023-02-02T07:30:35.431883",
     "exception": false,
     "start_time": "2023-02-02T07:30:35.403238",
     "status": "completed"
    },
    "tags": []
   },
   "outputs": [
    {
     "data": {
      "text/plain": [
       "([MONDAY_ORDERS       1.6290\n",
       "  TUESDAY_ORDERS      1.7544\n",
       "  WEDNESDAY_ORDERS    1.7980\n",
       "  THURSDAY_ORDERS     2.1340\n",
       "  FRIDAY_ORDERS       1.9462\n",
       "  SATURDAY_ORDERS     1.6834\n",
       "  SUNDAY_ORDERS       1.9254\n",
       "  dtype: float64],\n",
       " [MONDAY_REVENUE       215.208336\n",
       "  TUESDAY_REVENUE      233.510430\n",
       "  WEDNESDAY_REVENUE    235.689294\n",
       "  THURSDAY_REVENUE     265.949796\n",
       "  FRIDAY_REVENUE       250.580554\n",
       "  SATURDAY_REVENUE     219.642100\n",
       "  SUNDAY_REVENUE       260.943330\n",
       "  dtype: float64])"
      ]
     },
     "execution_count": 8,
     "metadata": {},
     "output_type": "execute_result"
    }
   ],
   "source": [
    "AVG_Daily_Orders, AVG_Daily_Revenue"
   ]
  },
  {
   "cell_type": "markdown",
   "id": "2606f44d",
   "metadata": {
    "papermill": {
     "duration": 0.013486,
     "end_time": "2023-02-02T07:30:35.459024",
     "exception": false,
     "start_time": "2023-02-02T07:30:35.445538",
     "status": "completed"
    },
    "tags": []
   },
   "source": [
    "#### *__According to the data above, Thursday, Friday, and Sunday have higher daily average customer orders than other days. Additionally, the average revenue generated on these days is higher than on other days.__*\n"
   ]
  },
  {
   "cell_type": "code",
   "execution_count": 9,
   "id": "49892d75",
   "metadata": {
    "execution": {
     "iopub.execute_input": "2023-02-02T07:30:35.489672Z",
     "iopub.status.busy": "2023-02-02T07:30:35.489210Z",
     "iopub.status.idle": "2023-02-02T07:30:35.500236Z",
     "shell.execute_reply": "2023-02-02T07:30:35.498551Z"
    },
    "papermill": {
     "duration": 0.029366,
     "end_time": "2023-02-02T07:30:35.502551",
     "exception": false,
     "start_time": "2023-02-02T07:30:35.473185",
     "status": "completed"
    },
    "tags": []
   },
   "outputs": [],
   "source": [
    "AVG_Weekly_Orders = [data[['WEEK1_DAY01_DAY07_ORDERS','WEEK2_DAY08_DAY15_ORDERS','WEEK3_DAY16_DAY23_ORDERS','WEEK4_DAY24_DAY31_ORDERS']].mean()]\n",
    "AVG_Weekely_Revenue = [data[['WEEK1_DAY01_DAY07_REVENUE','WEEK2_DAY08_DAY15_REVENUE','WEEK3_DAY16_DAY23_REVENUE','WEEK4_DAY24_DAY31_REVENUE']].mean()]"
   ]
  },
  {
   "cell_type": "code",
   "execution_count": 10,
   "id": "2271ebdf",
   "metadata": {
    "execution": {
     "iopub.execute_input": "2023-02-02T07:30:35.532287Z",
     "iopub.status.busy": "2023-02-02T07:30:35.531222Z",
     "iopub.status.idle": "2023-02-02T07:30:35.540294Z",
     "shell.execute_reply": "2023-02-02T07:30:35.539057Z"
    },
    "papermill": {
     "duration": 0.026805,
     "end_time": "2023-02-02T07:30:35.543113",
     "exception": false,
     "start_time": "2023-02-02T07:30:35.516308",
     "status": "completed"
    },
    "tags": []
   },
   "outputs": [
    {
     "data": {
      "text/plain": [
       "([WEEK1_DAY01_DAY07_ORDERS    2.9978\n",
       "  WEEK2_DAY08_DAY15_ORDERS    3.0626\n",
       "  WEEK3_DAY16_DAY23_ORDERS    3.2300\n",
       "  WEEK4_DAY24_DAY31_ORDERS    3.5800\n",
       "  dtype: float64],\n",
       " [WEEK1_DAY01_DAY07_REVENUE    378.638346\n",
       "  WEEK2_DAY08_DAY15_REVENUE    406.595734\n",
       "  WEEK3_DAY16_DAY23_REVENUE    421.826908\n",
       "  WEEK4_DAY24_DAY31_REVENUE    474.462852\n",
       "  dtype: float64])"
      ]
     },
     "execution_count": 10,
     "metadata": {},
     "output_type": "execute_result"
    }
   ],
   "source": [
    "AVG_Weekly_Orders, AVG_Weekely_Revenue"
   ]
  },
  {
   "cell_type": "markdown",
   "id": "0c234bab",
   "metadata": {
    "papermill": {
     "duration": 0.01383,
     "end_time": "2023-02-02T07:30:35.571390",
     "exception": false,
     "start_time": "2023-02-02T07:30:35.557560",
     "status": "completed"
    },
    "tags": []
   },
   "source": [
    "#### *__According to the graph above, average revenue and orders increase from week 1 to week 4, and most customers prefer to buy products in the last week of the month.__*"
   ]
  },
  {
   "cell_type": "markdown",
   "id": "6a10d328",
   "metadata": {
    "papermill": {
     "duration": 0.013972,
     "end_time": "2023-02-02T07:30:35.599695",
     "exception": false,
     "start_time": "2023-02-02T07:30:35.585723",
     "status": "completed"
    },
    "tags": []
   },
   "source": [
    "\n",
    "## __Step 4: RFM Modeling Technique :__\n",
    "---\n",
    "__Here we will calculate the Recency, Frequency and Monetary for the customers and those are defined as ;__   \n",
    "* __Recency : How much time has elapsed since a customer's last activity or transaction with the brand? i.e DAYSSINCELASTORDER__    \n",
    "* __Frequency : How often has a customer transacted or interacted? i.e. TOTAL_ORDERS__\n",
    "* __Monetary : How much a customer has spent with the brand during a particular period of time? i.e.REVENUE__\n",
    "    \n",
    "    __Therefore, We need DAYSSINCELASTORDER, TOTAL_ORDERS and  REVENUE columns to do RFM Modelling.__"
   ]
  },
  {
   "cell_type": "code",
   "execution_count": 11,
   "id": "a6016e70",
   "metadata": {
    "execution": {
     "iopub.execute_input": "2023-02-02T07:30:35.629986Z",
     "iopub.status.busy": "2023-02-02T07:30:35.629570Z",
     "iopub.status.idle": "2023-02-02T07:30:35.656776Z",
     "shell.execute_reply": "2023-02-02T07:30:35.656005Z"
    },
    "papermill": {
     "duration": 0.045186,
     "end_time": "2023-02-02T07:30:35.659059",
     "exception": false,
     "start_time": "2023-02-02T07:30:35.613873",
     "status": "completed"
    },
    "tags": []
   },
   "outputs": [
    {
     "data": {
      "text/html": [
       "<div>\n",
       "<style scoped>\n",
       "    .dataframe tbody tr th:only-of-type {\n",
       "        vertical-align: middle;\n",
       "    }\n",
       "\n",
       "    .dataframe tbody tr th {\n",
       "        vertical-align: top;\n",
       "    }\n",
       "\n",
       "    .dataframe thead th {\n",
       "        text-align: right;\n",
       "    }\n",
       "</style>\n",
       "<table border=\"1\" class=\"dataframe\">\n",
       "  <thead>\n",
       "    <tr style=\"text-align: right;\">\n",
       "      <th></th>\n",
       "      <th>CustomerID</th>\n",
       "      <th>Frequency</th>\n",
       "      <th>Monetary</th>\n",
       "      <th>AVERAGE_ORDER_VALUE</th>\n",
       "      <th>CARRIAGE_REVENUE</th>\n",
       "      <th>AVERAGESHIPPING</th>\n",
       "      <th>FIRST_ORDER_DATE</th>\n",
       "      <th>LATEST_ORDER_DATE</th>\n",
       "      <th>AVGDAYSBETWEENORDERS</th>\n",
       "      <th>Recency</th>\n",
       "      <th>...</th>\n",
       "      <th>WEEK3_DAY16_DAY23_REVENUE</th>\n",
       "      <th>WEEK4_DAY24_DAY31_REVENUE</th>\n",
       "      <th>TIME_0000_0600_ORDERS</th>\n",
       "      <th>TIME_0601_1200_ORDERS</th>\n",
       "      <th>TIME_1200_1800_ORDERS</th>\n",
       "      <th>TIME_1801_2359_ORDERS</th>\n",
       "      <th>TIME_0000_0600_REVENUE</th>\n",
       "      <th>TIME_0601_1200_REVENUE</th>\n",
       "      <th>TIME_1200_1800_REVENUE</th>\n",
       "      <th>TIME_1801_2359_REVENUE</th>\n",
       "    </tr>\n",
       "  </thead>\n",
       "  <tbody>\n",
       "    <tr>\n",
       "      <th>0</th>\n",
       "      <td>22</td>\n",
       "      <td>124</td>\n",
       "      <td>11986.54</td>\n",
       "      <td>96.67</td>\n",
       "      <td>529.59</td>\n",
       "      <td>4.27</td>\n",
       "      <td>2016-12-30</td>\n",
       "      <td>2021-10-24</td>\n",
       "      <td>14.19</td>\n",
       "      <td>1</td>\n",
       "      <td>...</td>\n",
       "      <td>2592.18</td>\n",
       "      <td>2409.71</td>\n",
       "      <td>12</td>\n",
       "      <td>61</td>\n",
       "      <td>37</td>\n",
       "      <td>14</td>\n",
       "      <td>1067.92</td>\n",
       "      <td>5674.65</td>\n",
       "      <td>3916.53</td>\n",
       "      <td>1327.44</td>\n",
       "    </tr>\n",
       "    <tr>\n",
       "      <th>1</th>\n",
       "      <td>29</td>\n",
       "      <td>82</td>\n",
       "      <td>11025.96</td>\n",
       "      <td>134.46</td>\n",
       "      <td>97.92</td>\n",
       "      <td>1.19</td>\n",
       "      <td>2018-03-31</td>\n",
       "      <td>2021-10-24</td>\n",
       "      <td>15.89</td>\n",
       "      <td>1</td>\n",
       "      <td>...</td>\n",
       "      <td>2807.66</td>\n",
       "      <td>4106.19</td>\n",
       "      <td>1</td>\n",
       "      <td>13</td>\n",
       "      <td>24</td>\n",
       "      <td>44</td>\n",
       "      <td>30.25</td>\n",
       "      <td>3143.69</td>\n",
       "      <td>2205.47</td>\n",
       "      <td>5646.55</td>\n",
       "    </tr>\n",
       "    <tr>\n",
       "      <th>2</th>\n",
       "      <td>83</td>\n",
       "      <td>43</td>\n",
       "      <td>7259.69</td>\n",
       "      <td>168.83</td>\n",
       "      <td>171.69</td>\n",
       "      <td>3.99</td>\n",
       "      <td>2017-11-30</td>\n",
       "      <td>2021-10-24</td>\n",
       "      <td>33.12</td>\n",
       "      <td>1</td>\n",
       "      <td>...</td>\n",
       "      <td>713.94</td>\n",
       "      <td>2861.90</td>\n",
       "      <td>0</td>\n",
       "      <td>6</td>\n",
       "      <td>12</td>\n",
       "      <td>25</td>\n",
       "      <td>0.00</td>\n",
       "      <td>707.98</td>\n",
       "      <td>2560.91</td>\n",
       "      <td>3990.80</td>\n",
       "    </tr>\n",
       "    <tr>\n",
       "      <th>3</th>\n",
       "      <td>95</td>\n",
       "      <td>44</td>\n",
       "      <td>6992.27</td>\n",
       "      <td>158.92</td>\n",
       "      <td>92.82</td>\n",
       "      <td>2.11</td>\n",
       "      <td>2019-04-09</td>\n",
       "      <td>2021-10-24</td>\n",
       "      <td>21.11</td>\n",
       "      <td>1</td>\n",
       "      <td>...</td>\n",
       "      <td>997.02</td>\n",
       "      <td>1260.08</td>\n",
       "      <td>0</td>\n",
       "      <td>10</td>\n",
       "      <td>13</td>\n",
       "      <td>21</td>\n",
       "      <td>0.00</td>\n",
       "      <td>1908.99</td>\n",
       "      <td>2025.05</td>\n",
       "      <td>3058.23</td>\n",
       "    </tr>\n",
       "    <tr>\n",
       "      <th>4</th>\n",
       "      <td>124</td>\n",
       "      <td>55</td>\n",
       "      <td>6263.44</td>\n",
       "      <td>113.88</td>\n",
       "      <td>179.04</td>\n",
       "      <td>3.26</td>\n",
       "      <td>2020-10-23</td>\n",
       "      <td>2021-10-24</td>\n",
       "      <td>6.65</td>\n",
       "      <td>1</td>\n",
       "      <td>...</td>\n",
       "      <td>2725.66</td>\n",
       "      <td>768.46</td>\n",
       "      <td>6</td>\n",
       "      <td>9</td>\n",
       "      <td>27</td>\n",
       "      <td>13</td>\n",
       "      <td>501.34</td>\n",
       "      <td>1197.83</td>\n",
       "      <td>3004.77</td>\n",
       "      <td>1559.50</td>\n",
       "    </tr>\n",
       "  </tbody>\n",
       "</table>\n",
       "<p>5 rows × 40 columns</p>\n",
       "</div>"
      ],
      "text/plain": [
       "   CustomerID  Frequency  Monetary  AVERAGE_ORDER_VALUE  CARRIAGE_REVENUE  \\\n",
       "0          22        124  11986.54                96.67            529.59   \n",
       "1          29         82  11025.96               134.46             97.92   \n",
       "2          83         43   7259.69               168.83            171.69   \n",
       "3          95         44   6992.27               158.92             92.82   \n",
       "4         124         55   6263.44               113.88            179.04   \n",
       "\n",
       "   AVERAGESHIPPING FIRST_ORDER_DATE LATEST_ORDER_DATE  AVGDAYSBETWEENORDERS  \\\n",
       "0             4.27       2016-12-30        2021-10-24                 14.19   \n",
       "1             1.19       2018-03-31        2021-10-24                 15.89   \n",
       "2             3.99       2017-11-30        2021-10-24                 33.12   \n",
       "3             2.11       2019-04-09        2021-10-24                 21.11   \n",
       "4             3.26       2020-10-23        2021-10-24                  6.65   \n",
       "\n",
       "   Recency  ...  WEEK3_DAY16_DAY23_REVENUE  WEEK4_DAY24_DAY31_REVENUE  \\\n",
       "0        1  ...                    2592.18                    2409.71   \n",
       "1        1  ...                    2807.66                    4106.19   \n",
       "2        1  ...                     713.94                    2861.90   \n",
       "3        1  ...                     997.02                    1260.08   \n",
       "4        1  ...                    2725.66                     768.46   \n",
       "\n",
       "   TIME_0000_0600_ORDERS  TIME_0601_1200_ORDERS  TIME_1200_1800_ORDERS  \\\n",
       "0                     12                     61                     37   \n",
       "1                      1                     13                     24   \n",
       "2                      0                      6                     12   \n",
       "3                      0                     10                     13   \n",
       "4                      6                      9                     27   \n",
       "\n",
       "   TIME_1801_2359_ORDERS  TIME_0000_0600_REVENUE  TIME_0601_1200_REVENUE  \\\n",
       "0                     14                 1067.92                 5674.65   \n",
       "1                     44                   30.25                 3143.69   \n",
       "2                     25                    0.00                  707.98   \n",
       "3                     21                    0.00                 1908.99   \n",
       "4                     13                  501.34                 1197.83   \n",
       "\n",
       "   TIME_1200_1800_REVENUE  TIME_1801_2359_REVENUE  \n",
       "0                 3916.53                 1327.44  \n",
       "1                 2205.47                 5646.55  \n",
       "2                 2560.91                 3990.80  \n",
       "3                 2025.05                 3058.23  \n",
       "4                 3004.77                 1559.50  \n",
       "\n",
       "[5 rows x 40 columns]"
      ]
     },
     "execution_count": 11,
     "metadata": {},
     "output_type": "execute_result"
    }
   ],
   "source": [
    "#RFM factors calculation:\n",
    "#converting the names of the columns\n",
    "RFM_data = data.rename(columns = {'DAYSSINCELASTORDER' : 'Recency',\n",
    "                          'TOTAL_ORDERS' : \"Frequency\",\n",
    "                          'REVENUE' : \"Monetary\"},inplace = False)\n",
    "RFM_data.head()"
   ]
  },
  {
   "cell_type": "code",
   "execution_count": 12,
   "id": "07d678a0",
   "metadata": {
    "execution": {
     "iopub.execute_input": "2023-02-02T07:30:35.689012Z",
     "iopub.status.busy": "2023-02-02T07:30:35.688566Z",
     "iopub.status.idle": "2023-02-02T07:30:35.694594Z",
     "shell.execute_reply": "2023-02-02T07:30:35.693659Z"
    },
    "papermill": {
     "duration": 0.024069,
     "end_time": "2023-02-02T07:30:35.697268",
     "exception": false,
     "start_time": "2023-02-02T07:30:35.673199",
     "status": "completed"
    },
    "tags": []
   },
   "outputs": [],
   "source": [
    "RFM_data_1 = RFM_data[['CustomerID','Recency','Frequency','Monetary']]"
   ]
  },
  {
   "cell_type": "code",
   "execution_count": 13,
   "id": "0842ce52",
   "metadata": {
    "execution": {
     "iopub.execute_input": "2023-02-02T07:30:35.727554Z",
     "iopub.status.busy": "2023-02-02T07:30:35.727185Z",
     "iopub.status.idle": "2023-02-02T07:30:35.738346Z",
     "shell.execute_reply": "2023-02-02T07:30:35.737099Z"
    },
    "papermill": {
     "duration": 0.028793,
     "end_time": "2023-02-02T07:30:35.740464",
     "exception": false,
     "start_time": "2023-02-02T07:30:35.711671",
     "status": "completed"
    },
    "tags": []
   },
   "outputs": [
    {
     "data": {
      "text/html": [
       "<div>\n",
       "<style scoped>\n",
       "    .dataframe tbody tr th:only-of-type {\n",
       "        vertical-align: middle;\n",
       "    }\n",
       "\n",
       "    .dataframe tbody tr th {\n",
       "        vertical-align: top;\n",
       "    }\n",
       "\n",
       "    .dataframe thead th {\n",
       "        text-align: right;\n",
       "    }\n",
       "</style>\n",
       "<table border=\"1\" class=\"dataframe\">\n",
       "  <thead>\n",
       "    <tr style=\"text-align: right;\">\n",
       "      <th></th>\n",
       "      <th>CustomerID</th>\n",
       "      <th>Recency</th>\n",
       "      <th>Frequency</th>\n",
       "      <th>Monetary</th>\n",
       "    </tr>\n",
       "  </thead>\n",
       "  <tbody>\n",
       "    <tr>\n",
       "      <th>0</th>\n",
       "      <td>22</td>\n",
       "      <td>1</td>\n",
       "      <td>124</td>\n",
       "      <td>11986.54</td>\n",
       "    </tr>\n",
       "    <tr>\n",
       "      <th>1</th>\n",
       "      <td>29</td>\n",
       "      <td>1</td>\n",
       "      <td>82</td>\n",
       "      <td>11025.96</td>\n",
       "    </tr>\n",
       "    <tr>\n",
       "      <th>2</th>\n",
       "      <td>83</td>\n",
       "      <td>1</td>\n",
       "      <td>43</td>\n",
       "      <td>7259.69</td>\n",
       "    </tr>\n",
       "    <tr>\n",
       "      <th>3</th>\n",
       "      <td>95</td>\n",
       "      <td>1</td>\n",
       "      <td>44</td>\n",
       "      <td>6992.27</td>\n",
       "    </tr>\n",
       "    <tr>\n",
       "      <th>4</th>\n",
       "      <td>124</td>\n",
       "      <td>1</td>\n",
       "      <td>55</td>\n",
       "      <td>6263.44</td>\n",
       "    </tr>\n",
       "  </tbody>\n",
       "</table>\n",
       "</div>"
      ],
      "text/plain": [
       "   CustomerID  Recency  Frequency  Monetary\n",
       "0          22        1        124  11986.54\n",
       "1          29        1         82  11025.96\n",
       "2          83        1         43   7259.69\n",
       "3          95        1         44   6992.27\n",
       "4         124        1         55   6263.44"
      ]
     },
     "execution_count": 13,
     "metadata": {},
     "output_type": "execute_result"
    }
   ],
   "source": [
    "RFM_data_1.head()"
   ]
  },
  {
   "cell_type": "code",
   "execution_count": 14,
   "id": "45f772bd",
   "metadata": {
    "execution": {
     "iopub.execute_input": "2023-02-02T07:30:35.770828Z",
     "iopub.status.busy": "2023-02-02T07:30:35.770477Z",
     "iopub.status.idle": "2023-02-02T07:30:35.793754Z",
     "shell.execute_reply": "2023-02-02T07:30:35.792249Z"
    },
    "papermill": {
     "duration": 0.040846,
     "end_time": "2023-02-02T07:30:35.795763",
     "exception": false,
     "start_time": "2023-02-02T07:30:35.754917",
     "status": "completed"
    },
    "tags": []
   },
   "outputs": [
    {
     "data": {
      "text/html": [
       "<div>\n",
       "<style scoped>\n",
       "    .dataframe tbody tr th:only-of-type {\n",
       "        vertical-align: middle;\n",
       "    }\n",
       "\n",
       "    .dataframe tbody tr th {\n",
       "        vertical-align: top;\n",
       "    }\n",
       "\n",
       "    .dataframe thead th {\n",
       "        text-align: right;\n",
       "    }\n",
       "</style>\n",
       "<table border=\"1\" class=\"dataframe\">\n",
       "  <thead>\n",
       "    <tr style=\"text-align: right;\">\n",
       "      <th></th>\n",
       "      <th>Recency</th>\n",
       "      <th>Frequency</th>\n",
       "      <th>Monetary</th>\n",
       "    </tr>\n",
       "  </thead>\n",
       "  <tbody>\n",
       "    <tr>\n",
       "      <th>count</th>\n",
       "      <td>5000.000000</td>\n",
       "      <td>5000.00000</td>\n",
       "      <td>5000.000000</td>\n",
       "    </tr>\n",
       "    <tr>\n",
       "      <th>mean</th>\n",
       "      <td>87.420000</td>\n",
       "      <td>12.87040</td>\n",
       "      <td>1681.523840</td>\n",
       "    </tr>\n",
       "    <tr>\n",
       "      <th>std</th>\n",
       "      <td>80.156513</td>\n",
       "      <td>12.67988</td>\n",
       "      <td>1998.618678</td>\n",
       "    </tr>\n",
       "    <tr>\n",
       "      <th>min</th>\n",
       "      <td>1.000000</td>\n",
       "      <td>1.00000</td>\n",
       "      <td>38.500000</td>\n",
       "    </tr>\n",
       "    <tr>\n",
       "      <th>25%</th>\n",
       "      <td>7.000000</td>\n",
       "      <td>3.00000</td>\n",
       "      <td>315.097500</td>\n",
       "    </tr>\n",
       "    <tr>\n",
       "      <th>50%</th>\n",
       "      <td>68.000000</td>\n",
       "      <td>8.00000</td>\n",
       "      <td>966.725000</td>\n",
       "    </tr>\n",
       "    <tr>\n",
       "      <th>75%</th>\n",
       "      <td>171.250000</td>\n",
       "      <td>20.00000</td>\n",
       "      <td>2493.072500</td>\n",
       "    </tr>\n",
       "    <tr>\n",
       "      <th>max</th>\n",
       "      <td>207.000000</td>\n",
       "      <td>156.00000</td>\n",
       "      <td>34847.400000</td>\n",
       "    </tr>\n",
       "  </tbody>\n",
       "</table>\n",
       "</div>"
      ],
      "text/plain": [
       "           Recency   Frequency      Monetary\n",
       "count  5000.000000  5000.00000   5000.000000\n",
       "mean     87.420000    12.87040   1681.523840\n",
       "std      80.156513    12.67988   1998.618678\n",
       "min       1.000000     1.00000     38.500000\n",
       "25%       7.000000     3.00000    315.097500\n",
       "50%      68.000000     8.00000    966.725000\n",
       "75%     171.250000    20.00000   2493.072500\n",
       "max     207.000000   156.00000  34847.400000"
      ]
     },
     "execution_count": 14,
     "metadata": {},
     "output_type": "execute_result"
    }
   ],
   "source": [
    "# RFM_data Description/ Summary\n",
    "RFM_data_1.iloc[:,1:4].describe()"
   ]
  },
  {
   "cell_type": "markdown",
   "id": "09729115",
   "metadata": {
    "papermill": {
     "duration": 0.01407,
     "end_time": "2023-02-02T07:30:35.824147",
     "exception": false,
     "start_time": "2023-02-02T07:30:35.810077",
     "status": "completed"
    },
    "tags": []
   },
   "source": [
    "##### *__From above result, we can observe that average recency of the  customers are 87 days (approx), an average customer are purchasing the product 13 times and spending an average 1681.52 unitprice.__*"
   ]
  },
  {
   "cell_type": "code",
   "execution_count": 15,
   "id": "49bb3cc5",
   "metadata": {
    "execution": {
     "iopub.execute_input": "2023-02-02T07:30:35.856758Z",
     "iopub.status.busy": "2023-02-02T07:30:35.856259Z",
     "iopub.status.idle": "2023-02-02T07:30:36.653901Z",
     "shell.execute_reply": "2023-02-02T07:30:36.652195Z"
    },
    "papermill": {
     "duration": 0.817436,
     "end_time": "2023-02-02T07:30:36.656652",
     "exception": false,
     "start_time": "2023-02-02T07:30:35.839216",
     "status": "completed"
    },
    "tags": []
   },
   "outputs": [
    {
     "name": "stderr",
     "output_type": "stream",
     "text": [
      "/opt/conda/lib/python3.7/site-packages/seaborn/distributions.py:2619: FutureWarning: `distplot` is a deprecated function and will be removed in a future version. Please adapt your code to use either `displot` (a figure-level function with similar flexibility) or `histplot` (an axes-level function for histograms).\n",
      "  warnings.warn(msg, FutureWarning)\n",
      "/opt/conda/lib/python3.7/site-packages/seaborn/distributions.py:2619: FutureWarning: `distplot` is a deprecated function and will be removed in a future version. Please adapt your code to use either `displot` (a figure-level function with similar flexibility) or `histplot` (an axes-level function for histograms).\n",
      "  warnings.warn(msg, FutureWarning)\n",
      "/opt/conda/lib/python3.7/site-packages/seaborn/distributions.py:2619: FutureWarning: `distplot` is a deprecated function and will be removed in a future version. Please adapt your code to use either `displot` (a figure-level function with similar flexibility) or `histplot` (an axes-level function for histograms).\n",
      "  warnings.warn(msg, FutureWarning)\n"
     ]
    },
    {
     "data": {
      "image/png": "[encoded data removed]",
      "text/plain": [
       "<Figure size 1440x360 with 3 Axes>"
      ]
     },
     "metadata": {
      "needs_background": "light"
     },
     "output_type": "display_data"
    }
   ],
   "source": [
    "#Visualizing the Recency, Frequency and Monetary distributions.\n",
    "i = 0\n",
    "fig = plt.figure(constrained_layout = True,figsize = (20,5))\n",
    "gs = GridSpec(1, 3, figure=fig)    \n",
    "\n",
    "col = ['red','blue','green']\n",
    "for var in list(RFM_data_1.columns[1:4]):\n",
    "    plt.subplot(gs[0,i])\n",
    "    sns.distplot(RFM_data_1[var],color= col[i])\n",
    "    plt.title('Skewness ' + ': ' + round(RFM_data_1[var].skew(),2).astype(str))\n",
    "    i= i+1"
   ]
  },
  {
   "cell_type": "markdown",
   "id": "7a8c20b1",
   "metadata": {
    "papermill": {
     "duration": 0.014726,
     "end_time": "2023-02-02T07:30:36.686875",
     "exception": false,
     "start_time": "2023-02-02T07:30:36.672149",
     "status": "completed"
    },
    "tags": []
   },
   "source": [
    "##### *__From above distribution plots we can observe that all of these three metrics are positively skewed or right skewed. And also as per skewness coefficient values indicating same.__*"
   ]
  },
  {
   "cell_type": "markdown",
   "id": "0172469e",
   "metadata": {
    "papermill": {
     "duration": 0.01514,
     "end_time": "2023-02-02T07:30:36.717416",
     "exception": false,
     "start_time": "2023-02-02T07:30:36.702276",
     "status": "completed"
    },
    "tags": []
   },
   "source": [
    "### __Segmentation :__"
   ]
  },
  {
   "cell_type": "code",
   "execution_count": 16,
   "id": "688f750d",
   "metadata": {
    "execution": {
     "iopub.execute_input": "2023-02-02T07:30:36.750534Z",
     "iopub.status.busy": "2023-02-02T07:30:36.750145Z",
     "iopub.status.idle": "2023-02-02T07:30:36.762660Z",
     "shell.execute_reply": "2023-02-02T07:30:36.760913Z"
    },
    "papermill": {
     "duration": 0.032844,
     "end_time": "2023-02-02T07:30:36.765579",
     "exception": false,
     "start_time": "2023-02-02T07:30:36.732735",
     "status": "completed"
    },
    "tags": []
   },
   "outputs": [
    {
     "data": {
      "text/plain": [
       "{'Recency': {0.33: 19.0, 0.67: 128.0},\n",
       " 'Frequency': {0.33: 4.0, 0.67: 17.0},\n",
       " 'Monetary': {0.33: 427.09400000000005, 0.67: 1905.1959}}"
      ]
     },
     "execution_count": 16,
     "metadata": {},
     "output_type": "execute_result"
    }
   ],
   "source": [
    "#Here, we will divide the data set into 4 parts based on the quantiles.\n",
    "quantiles = RFM_data_1.drop('CustomerID',axis = 1).quantile(q = [0.33,0.67])\n",
    "quantiles.to_dict()"
   ]
  },
  {
   "cell_type": "code",
   "execution_count": 17,
   "id": "f98c823e",
   "metadata": {
    "execution": {
     "iopub.execute_input": "2023-02-02T07:30:36.799562Z",
     "iopub.status.busy": "2023-02-02T07:30:36.798177Z",
     "iopub.status.idle": "2023-02-02T07:30:36.981631Z",
     "shell.execute_reply": "2023-02-02T07:30:36.978827Z"
    },
    "papermill": {
     "duration": 0.203743,
     "end_time": "2023-02-02T07:30:36.984644",
     "exception": false,
     "start_time": "2023-02-02T07:30:36.780901",
     "status": "completed"
    },
    "tags": []
   },
   "outputs": [
    {
     "name": "stderr",
     "output_type": "stream",
     "text": [
      "/opt/conda/lib/python3.7/site-packages/ipykernel_launcher.py:21: SettingWithCopyWarning: \n",
      "A value is trying to be set on a copy of a slice from a DataFrame.\n",
      "Try using .loc[row_indexer,col_indexer] = value instead\n",
      "\n",
      "See the caveats in the documentation: https://pandas.pydata.org/pandas-docs/stable/user_guide/indexing.html#returning-a-view-versus-a-copy\n",
      "/opt/conda/lib/python3.7/site-packages/ipykernel_launcher.py:22: SettingWithCopyWarning: \n",
      "A value is trying to be set on a copy of a slice from a DataFrame.\n",
      "Try using .loc[row_indexer,col_indexer] = value instead\n",
      "\n",
      "See the caveats in the documentation: https://pandas.pydata.org/pandas-docs/stable/user_guide/indexing.html#returning-a-view-versus-a-copy\n",
      "/opt/conda/lib/python3.7/site-packages/ipykernel_launcher.py:23: SettingWithCopyWarning: \n",
      "A value is trying to be set on a copy of a slice from a DataFrame.\n",
      "Try using .loc[row_indexer,col_indexer] = value instead\n",
      "\n",
      "See the caveats in the documentation: https://pandas.pydata.org/pandas-docs/stable/user_guide/indexing.html#returning-a-view-versus-a-copy\n"
     ]
    },
    {
     "data": {
      "text/html": [
       "<div>\n",
       "<style scoped>\n",
       "    .dataframe tbody tr th:only-of-type {\n",
       "        vertical-align: middle;\n",
       "    }\n",
       "\n",
       "    .dataframe tbody tr th {\n",
       "        vertical-align: top;\n",
       "    }\n",
       "\n",
       "    .dataframe thead th {\n",
       "        text-align: right;\n",
       "    }\n",
       "</style>\n",
       "<table border=\"1\" class=\"dataframe\">\n",
       "  <thead>\n",
       "    <tr style=\"text-align: right;\">\n",
       "      <th></th>\n",
       "      <th>CustomerID</th>\n",
       "      <th>Recency</th>\n",
       "      <th>Frequency</th>\n",
       "      <th>Monetary</th>\n",
       "      <th>R_score</th>\n",
       "      <th>F_score</th>\n",
       "      <th>M_score</th>\n",
       "    </tr>\n",
       "  </thead>\n",
       "  <tbody>\n",
       "    <tr>\n",
       "      <th>0</th>\n",
       "      <td>22</td>\n",
       "      <td>1</td>\n",
       "      <td>124</td>\n",
       "      <td>11986.54</td>\n",
       "      <td>1</td>\n",
       "      <td>1</td>\n",
       "      <td>1</td>\n",
       "    </tr>\n",
       "    <tr>\n",
       "      <th>1</th>\n",
       "      <td>29</td>\n",
       "      <td>1</td>\n",
       "      <td>82</td>\n",
       "      <td>11025.96</td>\n",
       "      <td>1</td>\n",
       "      <td>1</td>\n",
       "      <td>1</td>\n",
       "    </tr>\n",
       "    <tr>\n",
       "      <th>2</th>\n",
       "      <td>83</td>\n",
       "      <td>1</td>\n",
       "      <td>43</td>\n",
       "      <td>7259.69</td>\n",
       "      <td>1</td>\n",
       "      <td>1</td>\n",
       "      <td>1</td>\n",
       "    </tr>\n",
       "    <tr>\n",
       "      <th>3</th>\n",
       "      <td>95</td>\n",
       "      <td>1</td>\n",
       "      <td>44</td>\n",
       "      <td>6992.27</td>\n",
       "      <td>1</td>\n",
       "      <td>1</td>\n",
       "      <td>1</td>\n",
       "    </tr>\n",
       "    <tr>\n",
       "      <th>4</th>\n",
       "      <td>124</td>\n",
       "      <td>1</td>\n",
       "      <td>55</td>\n",
       "      <td>6263.44</td>\n",
       "      <td>1</td>\n",
       "      <td>1</td>\n",
       "      <td>1</td>\n",
       "    </tr>\n",
       "  </tbody>\n",
       "</table>\n",
       "</div>"
      ],
      "text/plain": [
       "   CustomerID  Recency  Frequency  Monetary  R_score  F_score  M_score\n",
       "0          22        1        124  11986.54        1        1        1\n",
       "1          29        1         82  11025.96        1        1        1\n",
       "2          83        1         43   7259.69        1        1        1\n",
       "3          95        1         44   6992.27        1        1        1\n",
       "4         124        1         55   6263.44        1        1        1"
      ]
     },
     "execution_count": 17,
     "metadata": {},
     "output_type": "execute_result"
    }
   ],
   "source": [
    "#Creating the R,F and M scoring/segement function\n",
    "#[1] Recency scoring (Negative Impact : Higher the value, less valuable)\n",
    "def R_score(var,p,d):\n",
    "    if var <= d[p][0.33]:\n",
    "        return 1\n",
    "    elif var <= d[p][0.67]:\n",
    "        return 2\n",
    "    else:\n",
    "        return 3\n",
    "#[2] Frequency and Monetary (Positive Impact : Higher the value, better the customer)\n",
    "def FM_score(var,p,d):\n",
    "    if var <= d[p][0.33]:\n",
    "        return 3\n",
    "    elif var <= d[p][0.67]:\n",
    "        return 2\n",
    "    else:\n",
    "        return 1\n",
    "\n",
    "\n",
    "#Scoring:\n",
    "RFM_data_1['R_score'] = RFM_data_1['Recency'].apply(R_score,args = ('Recency',quantiles,))\n",
    "RFM_data_1['F_score'] = RFM_data_1['Frequency'].apply(FM_score,args = ('Frequency',quantiles,))\n",
    "RFM_data_1['M_score'] = RFM_data_1['Monetary'].apply(FM_score,args = ('Monetary',quantiles,))\n",
    "RFM_data_1.head()"
   ]
  },
  {
   "cell_type": "code",
   "execution_count": 18,
   "id": "822d41e0",
   "metadata": {
    "execution": {
     "iopub.execute_input": "2023-02-02T07:30:37.019000Z",
     "iopub.status.busy": "2023-02-02T07:30:37.018452Z",
     "iopub.status.idle": "2023-02-02T07:30:37.042602Z",
     "shell.execute_reply": "2023-02-02T07:30:37.041671Z"
    },
    "papermill": {
     "duration": 0.044087,
     "end_time": "2023-02-02T07:30:37.044731",
     "exception": false,
     "start_time": "2023-02-02T07:30:37.000644",
     "status": "completed"
    },
    "tags": []
   },
   "outputs": [
    {
     "name": "stderr",
     "output_type": "stream",
     "text": [
      "/opt/conda/lib/python3.7/site-packages/ipykernel_launcher.py:2: SettingWithCopyWarning: \n",
      "A value is trying to be set on a copy of a slice from a DataFrame.\n",
      "Try using .loc[row_indexer,col_indexer] = value instead\n",
      "\n",
      "See the caveats in the documentation: https://pandas.pydata.org/pandas-docs/stable/user_guide/indexing.html#returning-a-view-versus-a-copy\n",
      "  \n",
      "/opt/conda/lib/python3.7/site-packages/ipykernel_launcher.py:5: SettingWithCopyWarning: \n",
      "A value is trying to be set on a copy of a slice from a DataFrame.\n",
      "Try using .loc[row_indexer,col_indexer] = value instead\n",
      "\n",
      "See the caveats in the documentation: https://pandas.pydata.org/pandas-docs/stable/user_guide/indexing.html#returning-a-view-versus-a-copy\n",
      "  \"\"\"\n"
     ]
    },
    {
     "data": {
      "text/html": [
       "<div>\n",
       "<style scoped>\n",
       "    .dataframe tbody tr th:only-of-type {\n",
       "        vertical-align: middle;\n",
       "    }\n",
       "\n",
       "    .dataframe tbody tr th {\n",
       "        vertical-align: top;\n",
       "    }\n",
       "\n",
       "    .dataframe thead th {\n",
       "        text-align: right;\n",
       "    }\n",
       "</style>\n",
       "<table border=\"1\" class=\"dataframe\">\n",
       "  <thead>\n",
       "    <tr style=\"text-align: right;\">\n",
       "      <th></th>\n",
       "      <th>CustomerID</th>\n",
       "      <th>Recency</th>\n",
       "      <th>Frequency</th>\n",
       "      <th>Monetary</th>\n",
       "      <th>R_score</th>\n",
       "      <th>F_score</th>\n",
       "      <th>M_score</th>\n",
       "      <th>RFM_Group</th>\n",
       "      <th>RFM_Score</th>\n",
       "    </tr>\n",
       "  </thead>\n",
       "  <tbody>\n",
       "    <tr>\n",
       "      <th>0</th>\n",
       "      <td>22</td>\n",
       "      <td>1</td>\n",
       "      <td>124</td>\n",
       "      <td>11986.54</td>\n",
       "      <td>1</td>\n",
       "      <td>1</td>\n",
       "      <td>1</td>\n",
       "      <td>111</td>\n",
       "      <td>3</td>\n",
       "    </tr>\n",
       "    <tr>\n",
       "      <th>1</th>\n",
       "      <td>29</td>\n",
       "      <td>1</td>\n",
       "      <td>82</td>\n",
       "      <td>11025.96</td>\n",
       "      <td>1</td>\n",
       "      <td>1</td>\n",
       "      <td>1</td>\n",
       "      <td>111</td>\n",
       "      <td>3</td>\n",
       "    </tr>\n",
       "    <tr>\n",
       "      <th>2</th>\n",
       "      <td>83</td>\n",
       "      <td>1</td>\n",
       "      <td>43</td>\n",
       "      <td>7259.69</td>\n",
       "      <td>1</td>\n",
       "      <td>1</td>\n",
       "      <td>1</td>\n",
       "      <td>111</td>\n",
       "      <td>3</td>\n",
       "    </tr>\n",
       "    <tr>\n",
       "      <th>3</th>\n",
       "      <td>95</td>\n",
       "      <td>1</td>\n",
       "      <td>44</td>\n",
       "      <td>6992.27</td>\n",
       "      <td>1</td>\n",
       "      <td>1</td>\n",
       "      <td>1</td>\n",
       "      <td>111</td>\n",
       "      <td>3</td>\n",
       "    </tr>\n",
       "    <tr>\n",
       "      <th>4</th>\n",
       "      <td>124</td>\n",
       "      <td>1</td>\n",
       "      <td>55</td>\n",
       "      <td>6263.44</td>\n",
       "      <td>1</td>\n",
       "      <td>1</td>\n",
       "      <td>1</td>\n",
       "      <td>111</td>\n",
       "      <td>3</td>\n",
       "    </tr>\n",
       "  </tbody>\n",
       "</table>\n",
       "</div>"
      ],
      "text/plain": [
       "   CustomerID  Recency  Frequency  Monetary  R_score  F_score  M_score  \\\n",
       "0          22        1        124  11986.54        1        1        1   \n",
       "1          29        1         82  11025.96        1        1        1   \n",
       "2          83        1         43   7259.69        1        1        1   \n",
       "3          95        1         44   6992.27        1        1        1   \n",
       "4         124        1         55   6263.44        1        1        1   \n",
       "\n",
       "  RFM_Group  RFM_Score  \n",
       "0       111          3  \n",
       "1       111          3  \n",
       "2       111          3  \n",
       "3       111          3  \n",
       "4       111          3  "
      ]
     },
     "execution_count": 18,
     "metadata": {},
     "output_type": "execute_result"
    }
   ],
   "source": [
    "#Now we will create : RFMGroup and RFMScore\n",
    "RFM_data_1['RFM_Group'] = RFM_data_1['R_score'].astype(str) + RFM_data_1['F_score'].astype(str) + RFM_data_1['M_score'].astype(str)\n",
    "\n",
    "#Score\n",
    "RFM_data_1['RFM_Score'] = RFM_data_1[['R_score','F_score','M_score']].sum(axis = 1)\n",
    "RFM_data_1.head()"
   ]
  },
  {
   "cell_type": "markdown",
   "id": "953140e7",
   "metadata": {
    "papermill": {
     "duration": 0.016667,
     "end_time": "2023-02-02T07:30:37.078757",
     "exception": false,
     "start_time": "2023-02-02T07:30:37.062090",
     "status": "completed"
    },
    "tags": []
   },
   "source": [
    "*__RFM Scores have been calculated now we will use this score to make segments of the customers and define level of loyality.__*"
   ]
  },
  {
   "cell_type": "markdown",
   "id": "c51be574",
   "metadata": {
    "papermill": {
     "duration": 0.015654,
     "end_time": "2023-02-02T07:30:37.110504",
     "exception": false,
     "start_time": "2023-02-02T07:30:37.094850",
     "status": "completed"
    },
    "tags": []
   },
   "source": [
    "## __Step 5: find out the customers who are 'champions', 'Potential customers' and 'need attention'__"
   ]
  },
  {
   "cell_type": "code",
   "execution_count": 19,
   "id": "dbc14c3f",
   "metadata": {
    "execution": {
     "iopub.execute_input": "2023-02-02T07:30:37.144864Z",
     "iopub.status.busy": "2023-02-02T07:30:37.143782Z",
     "iopub.status.idle": "2023-02-02T07:30:37.165337Z",
     "shell.execute_reply": "2023-02-02T07:30:37.163364Z"
    },
    "papermill": {
     "duration": 0.041318,
     "end_time": "2023-02-02T07:30:37.168034",
     "exception": false,
     "start_time": "2023-02-02T07:30:37.126716",
     "status": "completed"
    },
    "tags": []
   },
   "outputs": [
    {
     "name": "stderr",
     "output_type": "stream",
     "text": [
      "/opt/conda/lib/python3.7/site-packages/ipykernel_launcher.py:4: SettingWithCopyWarning: \n",
      "A value is trying to be set on a copy of a slice from a DataFrame.\n",
      "Try using .loc[row_indexer,col_indexer] = value instead\n",
      "\n",
      "See the caveats in the documentation: https://pandas.pydata.org/pandas-docs/stable/user_guide/indexing.html#returning-a-view-versus-a-copy\n",
      "  after removing the cwd from sys.path.\n"
     ]
    },
    {
     "data": {
      "text/html": [
       "<div>\n",
       "<style scoped>\n",
       "    .dataframe tbody tr th:only-of-type {\n",
       "        vertical-align: middle;\n",
       "    }\n",
       "\n",
       "    .dataframe tbody tr th {\n",
       "        vertical-align: top;\n",
       "    }\n",
       "\n",
       "    .dataframe thead th {\n",
       "        text-align: right;\n",
       "    }\n",
       "</style>\n",
       "<table border=\"1\" class=\"dataframe\">\n",
       "  <thead>\n",
       "    <tr style=\"text-align: right;\">\n",
       "      <th></th>\n",
       "      <th>CustomerID</th>\n",
       "      <th>Recency</th>\n",
       "      <th>Frequency</th>\n",
       "      <th>Monetary</th>\n",
       "      <th>R_score</th>\n",
       "      <th>F_score</th>\n",
       "      <th>M_score</th>\n",
       "      <th>RFM_Group</th>\n",
       "      <th>RFM_Score</th>\n",
       "      <th>Segment</th>\n",
       "    </tr>\n",
       "  </thead>\n",
       "  <tbody>\n",
       "    <tr>\n",
       "      <th>4985</th>\n",
       "      <td>173166</td>\n",
       "      <td>207</td>\n",
       "      <td>3</td>\n",
       "      <td>118.68</td>\n",
       "      <td>3</td>\n",
       "      <td>3</td>\n",
       "      <td>3</td>\n",
       "      <td>333</td>\n",
       "      <td>9</td>\n",
       "      <td>need attention</td>\n",
       "    </tr>\n",
       "    <tr>\n",
       "      <th>4986</th>\n",
       "      <td>173176</td>\n",
       "      <td>207</td>\n",
       "      <td>4</td>\n",
       "      <td>118.59</td>\n",
       "      <td>3</td>\n",
       "      <td>3</td>\n",
       "      <td>3</td>\n",
       "      <td>333</td>\n",
       "      <td>9</td>\n",
       "      <td>need attention</td>\n",
       "    </tr>\n",
       "    <tr>\n",
       "      <th>4987</th>\n",
       "      <td>173219</td>\n",
       "      <td>207</td>\n",
       "      <td>1</td>\n",
       "      <td>118.49</td>\n",
       "      <td>3</td>\n",
       "      <td>3</td>\n",
       "      <td>3</td>\n",
       "      <td>333</td>\n",
       "      <td>9</td>\n",
       "      <td>need attention</td>\n",
       "    </tr>\n",
       "    <tr>\n",
       "      <th>4988</th>\n",
       "      <td>173315</td>\n",
       "      <td>207</td>\n",
       "      <td>1</td>\n",
       "      <td>118.49</td>\n",
       "      <td>3</td>\n",
       "      <td>3</td>\n",
       "      <td>3</td>\n",
       "      <td>333</td>\n",
       "      <td>9</td>\n",
       "      <td>need attention</td>\n",
       "    </tr>\n",
       "    <tr>\n",
       "      <th>4989</th>\n",
       "      <td>173503</td>\n",
       "      <td>207</td>\n",
       "      <td>2</td>\n",
       "      <td>118.08</td>\n",
       "      <td>3</td>\n",
       "      <td>3</td>\n",
       "      <td>3</td>\n",
       "      <td>333</td>\n",
       "      <td>9</td>\n",
       "      <td>need attention</td>\n",
       "    </tr>\n",
       "    <tr>\n",
       "      <th>4990</th>\n",
       "      <td>173766</td>\n",
       "      <td>207</td>\n",
       "      <td>4</td>\n",
       "      <td>117.79</td>\n",
       "      <td>3</td>\n",
       "      <td>3</td>\n",
       "      <td>3</td>\n",
       "      <td>333</td>\n",
       "      <td>9</td>\n",
       "      <td>need attention</td>\n",
       "    </tr>\n",
       "    <tr>\n",
       "      <th>4991</th>\n",
       "      <td>173792</td>\n",
       "      <td>207</td>\n",
       "      <td>1</td>\n",
       "      <td>117.59</td>\n",
       "      <td>3</td>\n",
       "      <td>3</td>\n",
       "      <td>3</td>\n",
       "      <td>333</td>\n",
       "      <td>9</td>\n",
       "      <td>need attention</td>\n",
       "    </tr>\n",
       "    <tr>\n",
       "      <th>4992</th>\n",
       "      <td>173842</td>\n",
       "      <td>207</td>\n",
       "      <td>1</td>\n",
       "      <td>117.49</td>\n",
       "      <td>3</td>\n",
       "      <td>3</td>\n",
       "      <td>3</td>\n",
       "      <td>333</td>\n",
       "      <td>9</td>\n",
       "      <td>need attention</td>\n",
       "    </tr>\n",
       "    <tr>\n",
       "      <th>4993</th>\n",
       "      <td>173857</td>\n",
       "      <td>207</td>\n",
       "      <td>1</td>\n",
       "      <td>117.49</td>\n",
       "      <td>3</td>\n",
       "      <td>3</td>\n",
       "      <td>3</td>\n",
       "      <td>333</td>\n",
       "      <td>9</td>\n",
       "      <td>need attention</td>\n",
       "    </tr>\n",
       "    <tr>\n",
       "      <th>4994</th>\n",
       "      <td>173944</td>\n",
       "      <td>207</td>\n",
       "      <td>1</td>\n",
       "      <td>117.49</td>\n",
       "      <td>3</td>\n",
       "      <td>3</td>\n",
       "      <td>3</td>\n",
       "      <td>333</td>\n",
       "      <td>9</td>\n",
       "      <td>need attention</td>\n",
       "    </tr>\n",
       "    <tr>\n",
       "      <th>4995</th>\n",
       "      <td>173946</td>\n",
       "      <td>207</td>\n",
       "      <td>1</td>\n",
       "      <td>117.49</td>\n",
       "      <td>3</td>\n",
       "      <td>3</td>\n",
       "      <td>3</td>\n",
       "      <td>333</td>\n",
       "      <td>9</td>\n",
       "      <td>need attention</td>\n",
       "    </tr>\n",
       "    <tr>\n",
       "      <th>4996</th>\n",
       "      <td>173987</td>\n",
       "      <td>207</td>\n",
       "      <td>1</td>\n",
       "      <td>117.49</td>\n",
       "      <td>3</td>\n",
       "      <td>3</td>\n",
       "      <td>3</td>\n",
       "      <td>333</td>\n",
       "      <td>9</td>\n",
       "      <td>need attention</td>\n",
       "    </tr>\n",
       "    <tr>\n",
       "      <th>4997</th>\n",
       "      <td>174004</td>\n",
       "      <td>207</td>\n",
       "      <td>1</td>\n",
       "      <td>117.49</td>\n",
       "      <td>3</td>\n",
       "      <td>3</td>\n",
       "      <td>3</td>\n",
       "      <td>333</td>\n",
       "      <td>9</td>\n",
       "      <td>need attention</td>\n",
       "    </tr>\n",
       "    <tr>\n",
       "      <th>4998</th>\n",
       "      <td>174038</td>\n",
       "      <td>207</td>\n",
       "      <td>1</td>\n",
       "      <td>117.49</td>\n",
       "      <td>3</td>\n",
       "      <td>3</td>\n",
       "      <td>3</td>\n",
       "      <td>333</td>\n",
       "      <td>9</td>\n",
       "      <td>need attention</td>\n",
       "    </tr>\n",
       "    <tr>\n",
       "      <th>4999</th>\n",
       "      <td>200783</td>\n",
       "      <td>207</td>\n",
       "      <td>2</td>\n",
       "      <td>94.14</td>\n",
       "      <td>3</td>\n",
       "      <td>3</td>\n",
       "      <td>3</td>\n",
       "      <td>333</td>\n",
       "      <td>9</td>\n",
       "      <td>need attention</td>\n",
       "    </tr>\n",
       "  </tbody>\n",
       "</table>\n",
       "</div>"
      ],
      "text/plain": [
       "      CustomerID  Recency  Frequency  Monetary  R_score  F_score  M_score  \\\n",
       "4985      173166      207          3    118.68        3        3        3   \n",
       "4986      173176      207          4    118.59        3        3        3   \n",
       "4987      173219      207          1    118.49        3        3        3   \n",
       "4988      173315      207          1    118.49        3        3        3   \n",
       "4989      173503      207          2    118.08        3        3        3   \n",
       "4990      173766      207          4    117.79        3        3        3   \n",
       "4991      173792      207          1    117.59        3        3        3   \n",
       "4992      173842      207          1    117.49        3        3        3   \n",
       "4993      173857      207          1    117.49        3        3        3   \n",
       "4994      173944      207          1    117.49        3        3        3   \n",
       "4995      173946      207          1    117.49        3        3        3   \n",
       "4996      173987      207          1    117.49        3        3        3   \n",
       "4997      174004      207          1    117.49        3        3        3   \n",
       "4998      174038      207          1    117.49        3        3        3   \n",
       "4999      200783      207          2     94.14        3        3        3   \n",
       "\n",
       "     RFM_Group  RFM_Score         Segment  \n",
       "4985       333          9  need attention  \n",
       "4986       333          9  need attention  \n",
       "4987       333          9  need attention  \n",
       "4988       333          9  need attention  \n",
       "4989       333          9  need attention  \n",
       "4990       333          9  need attention  \n",
       "4991       333          9  need attention  \n",
       "4992       333          9  need attention  \n",
       "4993       333          9  need attention  \n",
       "4994       333          9  need attention  \n",
       "4995       333          9  need attention  \n",
       "4996       333          9  need attention  \n",
       "4997       333          9  need attention  \n",
       "4998       333          9  need attention  \n",
       "4999       333          9  need attention  "
      ]
     },
     "execution_count": 19,
     "metadata": {},
     "output_type": "execute_result"
    }
   ],
   "source": [
    "#Creating the Customer segments/ Loyality_level\n",
    "Segment = ['champions','Potential customers','need attention']\n",
    "cuts = pd.qcut(RFM_data_1['RFM_Score'],q = 3,labels=Segment)\n",
    "RFM_data_1['Segment'] = cuts.values\n",
    "RFM_data_1.tail(15)"
   ]
  },
  {
   "cell_type": "markdown",
   "id": "ed891a00",
   "metadata": {
    "papermill": {
     "duration": 0.015986,
     "end_time": "2023-02-02T07:30:37.200413",
     "exception": false,
     "start_time": "2023-02-02T07:30:37.184427",
     "status": "completed"
    },
    "tags": []
   },
   "source": [
    "*__We have classified our customer into four segments based on their R,F and M scores.__*"
   ]
  },
  {
   "cell_type": "markdown",
   "id": "553feb2f",
   "metadata": {
    "papermill": {
     "duration": 0.016508,
     "end_time": "2023-02-02T07:30:37.233142",
     "exception": false,
     "start_time": "2023-02-02T07:30:37.216634",
     "status": "completed"
    },
    "tags": []
   },
   "source": [
    "## __Step 6: Exploratory Data Analysis__"
   ]
  },
  {
   "cell_type": "markdown",
   "id": "535e19d3",
   "metadata": {
    "papermill": {
     "duration": 0.031527,
     "end_time": "2023-02-02T07:30:37.286657",
     "exception": false,
     "start_time": "2023-02-02T07:30:37.255130",
     "status": "completed"
    },
    "tags": []
   },
   "source": [
    "#### *__Visualization for Recency, Frequency and Monetory : RFM_Segment__*"
   ]
  },
  {
   "cell_type": "markdown",
   "id": "0ec0a451",
   "metadata": {
    "papermill": {
     "duration": 0.03786,
     "end_time": "2023-02-02T07:30:37.361470",
     "exception": false,
     "start_time": "2023-02-02T07:30:37.323610",
     "status": "completed"
    },
    "tags": []
   },
   "source": [
    "#### __1.Recency V/s Frequency__"
   ]
  },
  {
   "cell_type": "code",
   "execution_count": 20,
   "id": "c82acbdd",
   "metadata": {
    "execution": {
     "iopub.execute_input": "2023-02-02T07:30:37.423576Z",
     "iopub.status.busy": "2023-02-02T07:30:37.422867Z",
     "iopub.status.idle": "2023-02-02T07:30:39.530807Z",
     "shell.execute_reply": "2023-02-02T07:30:39.528775Z"
    },
    "papermill": {
     "duration": 2.146444,
     "end_time": "2023-02-02T07:30:39.533360",
     "exception": false,
     "start_time": "2023-02-02T07:30:37.386916",
     "status": "completed"
    },
    "tags": []
   },
   "outputs": [
    {
     "data": {
      "text/html": [
       "        <script type=\"text/javascript\">\n",
       "        window.PlotlyConfig = {MathJaxConfig: 'local'};\n",
       "        if (window.MathJax && window.MathJax.Hub && window.MathJax.Hub.Config) {window.MathJax.Hub.Config({SVG: {font: \"STIX-Web\"}});}\n",
       "        if (typeof require !== 'undefined') {\n",
       "        require.undef(\"plotly\");\n",
       "        requirejs.config({\n",
       "            paths: {\n",
       "                'plotly': ['https://cdn.plot.ly/plotly-2.12.1.min']\n",
       "            }\n",
       "        });\n",
       "        require(['plotly'], function(Plotly) {\n",
       "            window._Plotly = Plotly;\n",
       "        });\n",
       "        }\n",
       "        </script>\n",
       "        "
      ]
     },
     "metadata": {},
     "output_type": "display_data"
    },
    {
     "data": {
      "text/html": [
       "<div>                            <div id=\"6028290c-c96e-436b-a2ff-48a4ca4f8f40\" class=\"plotly-graph-div\" style=\"height:525px; width:100%;\"></div>            <script type=\"text/javascript\">                require([\"plotly\"], function(Plotly) {                    window.PLOTLYENV=window.PLOTLYENV || {};                                    if (document.getElementById(\"6028290c-c96e-436b-a2ff-48a4ca4f8f40\")) {                    Plotly.newPlot(                        \"6028290c-c96e-436b-a2ff-48a4ca4f8f40\",                        [{\"hovertemplate\":\"Segment=champions<br>Recency=%{x}<br>Frequency=%{y}<extra></extra>\",\"legendgroup\":\"champions\",\"marker\":{\"color\":\"#636efa\",\"symbol\":\"circle\"},\"mode\":\"markers\",\"name\":\"champions\",\"showlegend\":true,\"x\":[1,1,1,1,1,1,1,1,1,1,1,1,1,1,1,1,1,1,1,1,1,1,1,1,1,1,1,1,1,1,1,1,1,1,1,1,1,1,1,1,1,1,1,1,1,1,1,1,1,1,1,1,1,1,1,1,1,1,1,1,1,1,1,1,1,1,1,1,1,1,1,1,1,1,1,1,1,1,1,1,1,1,1,1,1,1,1,1,1,1,1,1,1,1,1,1,1,1,1,1,1,1,1,1,1,1,1,1,1,1,1,1,1,1,1,1,1,1,1,1,1,1,1,1,1,1,1,1,1,1,1,1,1,1,1,1,1,1,1,1,1,1,1,1,1,1,1,1,1,1,1,1,1,1,1,1,1,1,1,1,1,1,1,1,1,1,1,1,1,1,1,1,1,1,1,1,1,1,1,1,1,1,1,1,1,1,1,1,1,1,1,1,1,1,1,1,1,1,1,1,1,1,1,1,1,1,1,1,1,1,1,1,1,1,1,1,1,1,1,1,1,1,1,1,1,1,1,1,1,1,1,1,1,1,1,1,1,1,1,1,1,1,1,1,1,1,1,1,1,1,1,1,1,1,1,1,1,1,1,1,1,1,1,1,1,1,1,1,1,1,1,1,1,1,1,1,1,1,1,1,1,1,1,1,1,1,1,1,1,1,1,1,1,1,1,1,1,1,1,1,1,1,1,1,1,1,1,1,1,1,1,1,1,1,1,1,1,1,1,1,1,1,1,1,1,1,1,1,1,1,1,1,1,1,1,1,1,1,1,1,1,1,1,1,1,1,1,1,1,1,1,1,1,1,1,1,1,1,1,1,1,1,1,1,1,1,1,1,1,1,1,1,1,1,1,1,1,2,2,2,2,2,2,2,2,2,2,2,2,2,2,2,2,2,2,2,2,2,2,2,2,2,2,2,2,2,2,2,2,2,2,2,2,2,2,2,2,2,2,3,3,3,3,3,3,3,3,3,3,3,3,3,3,3,3,3,3,3,3,3,3,3,3,3,3,3,3,3,3,3,3,3,3,3,3,3,3,4,4,4,4,4,4,4,4,4,4,4,4,4,4,4,4,4,4,4,4,4,4,4,4,4,4,4,4,4,4,4,4,4,4,4,4,5,5,5,5,5,5,5,5,5,5,5,5,5,5,5,5,5,5,5,5,5,5,5,5,5,5,5,5,5,5,5,5,5,5,5,5,5,5,6,6,6,6,6,6,6,6,6,6,6,6,6,6,6,6,6,6,6,6,6,6,6,6,6,6,6,6,6,6,6,6,6,6,6,6,6,6,6,6,6,6,6,6,6,6,6,6,7,7,7,7,7,7,7,7,7,7,7,7,7,7,7,7,7,7,7,7,7,7,7,7,7,7,7,7,7,7,7,7,8,8,8,8,8,8,8,8,8,8,8,8,8,8,8,8,8,8,8,8,8,8,8,8,8,8,9,9,9,9,9,9,9,9,9,9,9,9,9,9,9,9,9,9,9,9,9,9,9,9,9,9,9,9,9,9,9,9,10,10,10,10,10,10,10,10,10,10,10,10,10,10,10,10,10,10,10,10,10,10,10,10,10,10,10,10,10,10,10,10,10,10,10,10,10,10,10,11,11,11,11,11,11,11,11,11,11,11,11,11,11,11,11,11,11,11,11,11,11,11,11,11,12,12,12,12,12,12,12,12,12,12,12,12,12,12,12,12,12,12,12,12,12,12,12,12,12,12,12,12,12,12,12,12,12,12,12,12,12,12,12,12,12,12,12,13,13,13,13,13,13,13,13,13,13,13,13,13,13,13,13,13,13,13,13,13,13,13,13,13,13,13,13,13,13,13,13,13,13,13,13,14,14,14,14,14,14,14,14,14,14,14,14,14,14,14,14,14,14,14,14,14,14,14,14,14,14,14,14,14,14,14,14,14,14,14,14,14,14,14,14,14,14,14,14,15,15,15,15,15,15,15,15,15,15,15,15,15,15,15,15,15,15,15,16,16,16,16,16,16,16,16,16,16,16,16,16,16,16,16,16,17,17,17,17,17,17,17,17,17,17,17,17,17,17,17,17,17,17,18,18,18,18,18,18,18,18,18,18,18,18,18,18,18,18,18,18,18,18,18,18,18,18,19,19,19,19,19,19,19,19,19,19,19,19,19,19,19,19,19,19,19,19,19,19,19,19,19,19,20,20,20,20,20,20,20,20,21,21,21,21,21,21,21,21,21,21,21,21,21,21,21,21,21,21,21,22,22,22,22,22,22,22,22,22,22,22,22,22,22,22,22,22,22,22,23,23,23,23,23,23,23,23,23,23,23,23,23,23,23,24,24,24,24,24,24,24,24,24,24,24,24,24,24,24,24,24,25,25,25,25,25,25,25,25,25,25,25,25,25,25,25,25,25,25,25,26,26,26,26,26,26,26,26,26,26,26,26,26,26,26,26,26,26,26,27,27,27,27,27,27,27,27,27,27,27,27,27,27,27,27,28,28,28,28,28,28,28,28,28,28,28,28,28,28,28,29,29,29,29,29,29,29,29,29,29,29,29,29,30,30,30,30,30,30,30,30,30,30,30,31,31,31,31,31,31,31,31,31,31,31,31,31,31,31,31,31,31,31,31,31,31,31,31,31,32,32,32,32,32,32,32,32,32,32,32,32,32,32,32,33,33,33,33,33,33,33,33,33,33,33,33,33,33,33,34,34,34,34,34,34,34,34,34,34,34,34,34,35,35,35,35,35,35,35,35,35,35,35,35,35,35,35,35,35,35,36,36,36,36,36,36,36,36,36,36,36,36,36,36,36,36,36,36,37,37,37,37,37,37,37,37,37,37,37,37,37,37,38,38,38,38,38,38,38,38,38,38,38,38,39,39,39,39,39,39,39,39,39,39,39,39,40,40,40,40,40,40,40,40,40,40,40,40,40,40,40,40,40,41,41,41,41,41,41,41,41,41,41,41,41,41,41,41,41,42,42,42,42,42,42,42,42,43,43,43,43,43,43,43,43,43,43,44,44,44,44,44,44,44,44,44,44,45,45,45,45,45,45,45,45,45,45,45,46,46,46,46,46,46,46,46,46,47,47,47,47,47,47,47,47,48,48,48,48,48,49,49,49,49,49,49,49,49,49,50,50,50,50,50,50,50,50,50,50,50,50,51,51,51,51,51,51,51,51,52,52,52,52,52,52,52,52,53,53,53,53,53,53,53,53,54,54,54,54,54,54,54,54,54,54,54,54,54,55,55,55,55,55,55,55,55,55,55,55,56,56,56,56,56,56,56,56,56,56,56,56,56,56,56,57,57,57,57,57,57,58,58,58,58,58,58,58,58,58,59,59,59,59,59,59,59,59,59,59,59,60,60,60,60,60,61,61,61,61,61,61,61,61,61,61,62,62,62,62,62,62,62,62,62,62,62,63,63,63,63,63,63,63,63,63,63,64,64,64,64,64,64,64,64,65,65,65,65,65,65,65,65,65,65,66,66,66,66,66,66,66,66,66,66,66,67,67,67,67,67,67,67,67,67,67,67,67,67,67,67,68,68,68,68,68,68,68,68,68,68,68,68,68,69,69,69,69,69,69,69,69,69,69,70,70,70,70,70,70,71,71,71,71,71,71,71,71,71,71,71,71,72,72,72,72,72,72,72,72,72,72,72,72,72,73,73,73,74,74,74,74,74,74,74,74,74,74,75,75,75,75,75,75,75,75,75,75,75,76,76,76,76,76,76,76,76,76,76,76,76,76,76,76,77,77,77,77,77,77,77,77,77,78,78,78,78,78,78,79,79,79,79,79,80,80,80,80,80,80,80,80,80,81,81,81,81,81,81,81,82,82,82,82,82,82,82,83,83,83,83,83,83,83,83,83,84,84,84,84,84,84,84,85,85,85,85,85,85,85,85,85,86,86,86,86,86,86,87,87,87,87,87,87,87,87,87,87,88,88,88,88,88,88,88,88,89,89,89,89,89,89,89,89,89,89,90,90,90,90,90,90,90,91,91,91,91,91,91,91,92,92,92,92,92,92,92,92,93,93,93,93,93,93,93,93,93,93,94,94,94,94,94,94,95,95,95,95,95,95,96,96,96,96,96,96,97,97,97,98,98,98,98,98,98,98,98,99,99,99,99,99,99,99,99,99,100,100,100,100,100,100,100,100,100,100,101,101,101,101,101,101,101,101,102,102,102,102,103,103,103,103,103,103,103,103,103,104,104,104,104,105,105,105,105,105,105,106,106,106,106,106,106,106,106,106,106,106,107,107,107,107,107,107,107,107,108,108,108,108,108,108,108,108,108,108,108,109,109,109,109,109,109,109,110,110,110,110,110,110,110,110,110,110,110,111,111,111,111,111,111,111,111,111,112,112,112,112,112,112,112,112,112,112,112,112,113,113,113,113,113,113,114,114,114,114,114,114,114,114,114,115,115,115,115,115,115,115,116,116,116,116,116,116,116,117,117,117,117,117,117,118,118,118,118,119,119,119,119,119,120,120,120,120,121,121,121,121,121,121,121,121,121,121,121,121,122,122,122,122,122,122,123,123,123,123,123,123,124,124,124,124,124,124,124,124,125,125,125,125,125,125,125,126,126,126,127,127,127,127,128,128,128,128,128,128,128,129,129,129,129,129,129,129,129,130,130,130,130,130,130,130,130,130,130,131,131,131,131,131,131,131,131,132,132,132,133,133,133,133,134,135,136,136,136,137,138,139,139,140,140,140,140,141,141,141,141,143,143,144,144,145,146,146,147,147,147,147,147,148,148,149,150,150,150,150,151,152,152,152,152,152,153,153,154,154,155,156,157,157,157,158,160,160,160,160,161,162,162,163,163,164,165,166,166,166,167,167,167,167,167,167,168,168,169,169,169,169,170,170,171,171,172,172,172,172,173,174,174,174,175,175,175,176,176,176,177,177,178,178,179,179,179,180,180,180,180,180,180,181,181,182,182,182,183,183,185,185,186,186,187,188,188,189,190,192,192,193,194,196,197,197,197,198,198,198,199,201,201,201,201,202,202,203,204,204,205,205,206,207],\"xaxis\":\"x\",\"y\":[124,82,43,44,55,49,43,54,19,21,37,20,21,34,31,28,31,11,20,15,29,13,13,19,14,18,18,24,22,24,28,31,13,19,11,23,18,22,21,27,29,26,20,13,18,24,9,20,40,25,22,13,25,8,10,15,28,17,17,9,15,18,9,18,13,12,19,21,10,17,13,15,8,10,25,13,11,21,18,10,18,16,10,9,8,12,6,20,14,14,21,11,9,14,17,16,17,8,12,5,11,9,22,16,8,5,25,18,9,15,7,15,8,12,12,12,5,15,7,17,8,17,14,13,12,6,18,8,9,6,14,10,12,10,14,11,6,18,13,12,8,8,7,9,15,6,8,7,10,6,6,13,6,11,8,9,8,5,10,11,7,7,13,14,12,11,14,7,13,9,9,8,8,11,13,5,20,10,7,12,10,10,9,7,8,9,9,11,8,6,12,10,11,5,10,14,14,13,13,5,5,5,10,13,6,11,10,9,9,11,7,10,8,9,7,14,5,8,9,7,9,11,6,5,5,8,8,11,9,6,10,6,8,17,7,12,13,12,6,10,16,9,7,8,8,10,6,8,5,7,13,7,5,8,13,5,5,8,10,8,9,6,15,6,5,6,9,6,7,8,7,8,5,7,7,5,6,7,5,6,12,7,11,6,8,10,13,5,12,6,8,8,7,5,5,6,10,9,6,5,5,10,5,5,6,8,6,7,6,6,6,10,7,5,6,6,6,7,7,12,5,6,7,6,6,6,6,5,7,6,6,5,5,6,7,7,8,6,6,10,7,7,5,5,5,12,9,7,5,7,6,7,8,5,6,5,5,7,5,11,5,5,5,6,5,7,6,8,6,6,7,7,5,5,7,8,8,44,47,41,22,56,45,24,35,28,18,34,34,33,25,35,30,6,12,29,20,22,29,21,21,23,38,21,25,16,29,22,26,17,18,21,26,23,9,23,21,8,6,40,54,25,17,48,48,76,42,28,15,22,29,34,7,29,23,19,17,29,29,23,24,25,23,17,16,8,25,16,22,24,28,27,16,19,15,17,7,54,43,51,27,41,43,20,31,30,34,49,31,49,16,18,15,15,23,19,28,38,15,25,25,21,17,18,14,19,12,18,20,10,16,16,7,84,32,20,109,47,50,42,67,22,34,30,28,18,19,15,25,16,30,23,17,34,25,29,20,18,19,14,17,23,18,5,15,16,18,16,13,5,10,36,26,43,107,18,63,55,49,32,15,24,38,41,28,38,48,51,7,11,19,25,11,25,26,24,31,35,31,30,19,19,22,18,19,15,26,22,19,8,24,29,13,11,16,11,5,7,5,42,39,27,20,17,46,62,21,20,32,27,17,30,31,26,19,20,18,18,28,23,21,26,17,17,34,18,14,15,21,6,14,28,34,31,32,26,39,40,21,28,35,20,17,26,23,20,21,18,16,14,24,23,22,8,9,9,7,24,17,18,19,22,42,27,68,16,14,18,22,21,7,35,23,18,28,25,21,19,25,19,26,21,20,25,18,23,16,9,10,39,54,51,21,22,23,20,21,18,28,16,24,39,22,16,30,27,20,24,19,11,28,26,16,20,21,21,17,15,23,26,24,19,7,17,13,8,10,7,32,33,32,35,27,23,42,22,26,18,36,27,17,22,21,18,9,21,11,26,19,15,14,5,5,20,16,48,61,10,43,24,18,21,17,29,13,27,28,24,21,29,21,25,21,27,20,25,17,16,27,22,17,16,23,18,19,23,16,23,29,26,15,18,16,21,7,7,47,48,37,60,33,52,34,51,20,15,50,14,40,21,27,22,19,39,24,45,17,18,28,26,31,20,29,19,20,13,17,17,15,12,18,7,50,41,24,20,21,19,12,35,24,59,32,21,7,20,31,14,40,4,15,26,29,25,35,19,37,19,44,23,27,23,25,24,21,15,20,9,22,9,17,16,17,9,6,6,101,55,36,17,27,16,11,22,12,29,17,9,27,21,25,18,15,25,23,79,49,13,13,11,9,19,20,23,34,22,25,19,19,28,17,23,41,47,40,17,38,19,31,22,34,21,23,21,21,19,13,15,57,6,38,29,35,36,25,35,46,34,31,18,15,16,20,22,25,24,23,17,20,17,19,17,16,18,22,28,22,39,27,36,10,19,19,20,29,21,24,24,27,22,17,16,28,21,19,17,15,6,5,11,25,23,23,13,19,20,26,9,33,39,16,18,34,11,24,7,17,18,28,37,27,20,19,21,26,22,21,37,12,23,33,33,49,24,40,18,23,25,14,30,14,26,22,28,20,24,36,25,25,16,18,38,44,24,15,18,26,24,29,18,19,41,49,20,24,27,32,28,22,15,17,23,33,15,24,27,24,18,37,28,28,9,34,22,34,17,26,34,16,29,26,21,14,18,20,18,19,65,68,51,36,20,34,23,36,29,17,21,28,7,21,28,18,15,19,21,60,29,47,22,13,63,28,30,24,24,24,19,20,22,26,22,8,16,40,26,49,14,10,46,26,21,15,30,28,17,18,30,79,7,19,19,16,27,10,11,17,18,26,22,40,30,11,35,15,9,29,25,32,26,21,52,26,27,60,8,10,18,8,23,25,22,10,13,30,28,18,25,19,26,23,16,24,27,18,18,66,16,85,16,28,31,19,47,36,18,19,18,19,26,19,21,34,13,18,21,19,22,21,21,21,11,21,24,18,30,39,55,31,22,17,11,28,22,18,19,18,21,19,74,41,71,51,32,13,20,45,14,19,27,30,22,21,12,22,20,18,11,15,28,26,35,32,18,24,31,18,18,24,21,26,20,21,28,25,25,30,28,40,20,20,24,20,21,21,17,18,17,19,21,36,27,22,24,27,15,31,23,18,19,26,32,37,27,22,23,29,18,12,12,23,20,19,41,15,7,5,35,15,35,21,23,29,22,18,24,21,20,18,20,25,34,32,20,15,16,22,20,29,38,19,16,21,19,25,21,69,33,30,18,32,26,25,34,18,29,22,18,19,21,19,21,18,21,35,23,16,25,21,18,30,24,19,19,47,25,33,28,23,30,20,21,20,19,20,22,20,19,32,23,22,24,18,21,83,10,22,21,14,31,33,23,15,23,27,21,22,28,26,35,44,28,25,29,20,20,31,50,37,15,23,25,30,16,32,33,18,24,30,28,24,43,35,21,23,17,17,24,30,16,28,16,27,27,61,53,27,17,11,35,21,25,41,57,31,27,21,8,19,29,17,18,24,21,19,35,26,19,9,21,31,21,15,13,21,22,28,23,22,13,26,23,18,9,12,44,16,25,38,21,20,9,41,23,33,22,17,156,21,23,39,27,12,21,18,15,20,25,44,18,12,19,36,21,33,18,19,23,18,24,33,19,27,45,17,15,23,23,19,14,22,20,19,43,22,20,31,22,19,26,22,16,20,30,40,22,13,18,28,24,21,21,25,47,40,21,21,12,35,30,24,28,54,34,38,19,29,21,17,27,17,60,62,26,8,18,23,28,18,19,19,21,41,12,23,16,25,21,20,30,19,30,17,24,26,23,18,21,29,30,27,15,14,30,36,14,12,20,21,22,15,46,13,16,24,20,21,19,29,21,19,35,26,25,30,55,28,39,16,27,19,13,25,22,19,18,19,20,28,20,30,31,32,16,20,7,20,11,15,18,40,111,7,22,49,29,21,26,22,20,22,22,20,26,37,20,18,15,22,16,18,21,16,18,18,25,24,15,22,18,21,20,32,32,19,18,26,18,32,20,34,26,28,18,21,21,17,24,25,62,29,22,26,22,20,30,13,20,19,21,46,59,21,24,13,20,22,15,23,25,32,12,30,19,17,18,41,9,33,20,18,19,20,88,43,48,23,15,7,17,18,18,18,36,18,21,21,18,19,30,51,19,22,19,27,21,27,18,42,12,28,5,19,21,10,18,44,37,17,17,19,31,18,19,24,28,16,21,23,19,21,19,32,18,31,19,11,18,18,23,20,19,15,14,41,23,21,12,25,17,40,26,31,21,18,19,30,13,18,21,22,28,23,18,10,28,5,30,28,20,24,19,18,24,59,35,13,18,16,9,43,32,14,16,18,19,23,9,39,29,22,21,22,18,17,128,24,34,12,20,19,33,21,44,10,42,38,9,32,18,19,25,35,12,31,23,23,13,16,19,19,18,26,61,43,20,29,26,10,19,29,27,36,16,23,32,28,24,19,23,40,23,8,31,23,7,23,34,25,16,19,12,39,29,34,50,30,11,37,23,16,30,24,19,25,15,34,28,15,21,35,25,22,14,23,20,19,11,20,20,21,20,19,46,33,23,24,16,18,18,51,19,19,16,22,20,20,13,24,19,22,40,42,24,19,28,23,21,20,19,75,32,22,27,22,35,28,16,11,18,18,23,30,14,36,25,24,9,32,27,26,22,21,19,29,22,30,14,41,32,23,15,20,18,81,14,11,19,34,18,19,17,48,17,18,21,19,61,13,27,24,7,16,22,24,20,45,12,16,16,24,33,23,13,20,17,30,12,20,27,29,20,48,13,15,20,16,19,21,27,17,30,15,23,37,44,28,11,9,16,17,19,9,20,23,19,16,19,19,20,24,13,21,22,17,24,59,31,17,14,21,23,19,44,40,25,27,20,19,26,20,26,31,37,49,18,29,19,21,48,19,24,54,18,31,29,29,22,21,22,21,26,34,21,21,23,19,46,26,23,20,22,18,44,47,26,24,37,19,35,40,18,24,31,20,22,19,18,18,21,30,26,21,26,18,50,20,18,24,29,20,32,19,45,37,29,19,24,34,26,22,25,57,29,19,18,18,33,25,21,19,24,24,29,26,30,23,27,20,28,25,26,23,19,23,20,23,20,24,22,29,28,23,21,19,32,24,30,18,20,26,21,19,45,22,20,27,20,26,19,23,20,24,19,47,24,22,24,19,57,22,19,22,20,21,23,29,26,31,26,18,19,66,20,31,27,20,24,19,21,38,23,24,30,27,18,27,34,23,27,19,20,19,30,21,19,19,24,18,27,37,32,32,21,22,25],\"yaxis\":\"y\",\"type\":\"scattergl\"},{\"hovertemplate\":\"Segment=Potential customers<br>Recency=%{x}<br>Frequency=%{y}<extra></extra>\",\"legendgroup\":\"Potential customers\",\"marker\":{\"color\":\"#EF553B\",\"symbol\":\"circle\"},\"mode\":\"markers\",\"name\":\"Potential customers\",\"showlegend\":true,\"x\":[1,1,1,1,1,1,1,1,1,1,1,1,1,1,1,1,1,1,1,1,1,1,1,1,1,1,1,1,1,1,1,1,1,1,1,1,1,1,1,1,1,1,1,1,1,1,1,1,1,1,1,1,1,1,1,1,1,1,1,1,1,1,1,1,1,1,1,1,1,1,1,1,1,1,1,1,1,1,1,1,1,1,1,1,1,1,1,1,1,1,1,1,1,1,1,1,1,1,1,1,1,1,1,1,1,1,1,1,1,1,1,1,1,1,1,1,1,1,1,1,1,1,1,1,1,1,1,1,1,1,1,1,1,1,1,1,1,1,1,1,1,1,1,1,1,1,1,1,1,1,1,1,1,1,1,1,1,1,1,1,1,1,1,1,1,1,1,1,1,1,1,1,1,1,1,1,1,1,1,1,1,1,1,1,1,1,1,1,1,1,1,1,1,1,1,1,1,1,1,1,1,1,1,1,1,1,1,1,1,1,1,1,1,1,1,1,1,1,1,1,1,1,1,1,1,1,1,1,1,1,1,1,1,1,1,1,1,1,1,1,1,1,1,1,1,1,1,1,1,1,1,1,1,1,1,1,1,1,1,1,1,1,1,1,1,1,1,1,1,1,1,1,1,1,1,1,1,1,1,1,1,1,1,1,1,1,1,1,1,1,1,1,1,1,1,1,1,1,1,1,1,1,1,1,1,1,1,1,1,1,1,1,1,1,1,1,1,1,1,1,1,1,1,1,1,1,1,1,1,1,1,1,1,1,1,1,1,1,1,1,1,1,1,1,1,1,1,1,1,1,1,1,1,1,1,1,1,1,1,1,1,1,1,1,1,1,1,1,1,1,1,1,1,1,1,1,1,1,1,1,1,1,1,1,1,1,1,1,1,1,1,1,1,1,1,1,1,1,1,1,1,1,1,1,1,1,1,1,1,1,1,1,1,1,1,1,1,1,1,1,1,1,1,1,1,1,1,1,1,1,1,1,1,1,1,1,1,1,1,1,1,1,1,1,1,1,1,1,1,1,1,1,1,1,1,1,1,1,1,1,1,1,1,1,1,1,1,1,1,1,1,1,1,1,1,1,1,1,1,1,1,1,1,1,1,1,1,1,1,1,1,1,1,1,1,1,1,1,1,1,1,1,1,1,1,1,1,1,1,1,1,1,1,1,1,1,1,1,1,1,1,1,1,1,1,1,1,1,1,1,1,1,1,1,1,1,1,1,1,1,1,1,1,1,1,1,1,1,1,1,1,1,1,1,1,1,1,1,1,1,1,1,1,1,1,1,1,1,1,1,1,1,1,1,1,1,1,1,1,1,1,1,1,1,1,1,1,1,1,1,1,1,1,1,1,1,1,1,1,1,1,1,1,1,1,1,1,1,1,1,1,1,1,1,1,1,1,1,1,1,1,1,1,1,1,1,1,1,1,1,1,1,1,1,1,1,1,1,1,1,1,1,1,1,1,1,1,1,1,1,1,1,1,2,2,2,3,3,4,4,5,5,5,6,6,7,7,7,8,8,8,8,9,9,10,11,11,12,12,12,12,12,13,13,13,13,14,14,15,15,15,15,16,16,17,17,18,19,19,19,19,19,20,20,20,20,20,21,21,22,22,22,22,22,23,23,23,23,24,24,24,24,25,25,25,25,25,25,25,25,25,25,26,26,26,26,27,27,27,27,28,28,28,28,28,29,29,29,29,29,30,30,31,31,31,31,31,32,32,32,32,32,33,33,33,34,34,34,34,36,37,37,37,38,38,38,39,39,39,39,39,39,39,40,40,40,40,40,40,40,41,41,41,41,42,42,43,43,43,43,43,43,43,45,45,45,45,45,46,46,46,47,47,47,47,48,48,48,48,48,49,50,51,51,51,52,52,52,53,53,54,54,54,55,55,55,55,56,56,57,58,58,58,58,59,59,59,60,60,60,60,60,61,61,61,61,61,61,62,63,63,63,63,63,64,64,64,64,64,64,64,64,65,65,65,65,66,66,66,67,68,68,68,68,69,69,69,69,69,70,70,70,71,71,71,71,71,71,72,72,72,72,72,72,73,73,73,73,73,73,73,74,74,74,74,74,75,75,75,75,75,75,76,76,76,77,77,77,78,78,78,78,78,79,79,79,79,80,80,80,81,81,81,83,83,83,83,83,84,84,84,84,84,84,84,85,85,85,85,86,86,86,86,86,86,87,87,87,87,88,88,89,89,89,89,89,89,89,90,90,90,90,90,90,91,91,91,91,91,91,91,91,92,92,93,93,93,93,94,94,94,94,94,94,94,95,95,95,96,97,97,97,97,97,97,97,98,98,98,98,98,99,99,99,99,100,100,100,100,100,101,101,101,101,102,102,102,102,103,103,103,103,103,103,104,104,104,104,104,104,105,105,105,105,106,106,107,107,107,107,107,107,107,107,107,109,109,109,109,109,109,109,109,110,110,110,110,111,111,111,111,111,111,111,111,111,111,112,112,112,113,113,113,113,113,114,114,114,114,114,114,114,115,115,115,116,116,116,116,117,117,117,117,117,117,117,118,118,118,118,118,119,119,119,120,120,120,120,120,121,121,121,122,122,122,122,123,123,123,123,123,124,124,124,124,124,124,125,125,125,126,126,126,126,127,127,127,127,127,128,128,128,128,128,129,129,129,129,129,129,129,130,130,130,130,130,130,131,131,131,131,131,131,131,131,131,131,131,131,131,131,131,132,132,132,132,132,132,133,134,134,134,135,135,135,135,135,135,135,136,136,136,136,136,136,136,137,137,137,137,137,137,138,138,138,139,140,140,140,140,140,140,141,141,141,141,142,142,142,143,143,144,144,144,144,144,144,145,145,145,145,146,146,146,146,146,146,146,147,148,148,149,149,149,149,149,149,150,150,150,150,150,150,150,150,150,151,151,151,152,152,152,152,152,152,152,153,153,153,154,154,154,155,155,155,156,156,156,156,157,157,157,157,157,158,158,158,159,159,159,159,160,160,160,160,161,161,161,161,162,162,163,163,164,165,165,165,165,165,165,166,166,166,167,167,167,167,167,168,168,168,168,169,169,169,171,171,171,171,171,172,172,172,172,173,173,173,173,173,174,174,174,175,175,175,176,176,176,176,176,177,177,177,177,177,178,178,178,178,178,178,178,178,179,179,179,179,180,180,181,181,181,181,181,181,182,182,182,183,183,183,183,184,184,184,185,185,185,185,186,186,186,186,187,187,187,187,188,189,189,189,190,191,191,191,192,193,193,194,194,195,196,197,197,197,197,197,197,197,197,197,198,198,198,199,200,200,200,201,201,203,203,204,204,204,204,204,205,205,205,205,205,206,206,206,206,207,207,207,207,207,207,207,207,207,207,207,207,207,207,207,207,207,207,207,207,207,207,207,207,207,207,207,207,207,207,207,207,207,207,207,207,207,207,207,207,207,207,207,207,207,207,207,207,207,207,207,207,207,207,207,207,207,207,207,207,207,207,207,207,207,207,207,207,207,207,207,207,207,207,207,207,207,207,207,207,207,207,207,207,207,207,207,207,207,207,207,207,207,207,207,207,207,207,207,207,207,207,207,207,207,207,207,207,207,207,207,207,207,207,207,207,207,207,207,207,207,207,207,207,207,207,207,207,207,207,207,207,207,207],\"xaxis\":\"x\",\"y\":[4,4,4,2,3,3,4,3,2,4,3,4,2,4,3,2,4,2,4,4,3,3,3,3,4,2,4,4,4,4,2,3,3,3,3,1,4,2,4,4,4,3,3,4,3,3,4,2,3,3,4,2,4,3,4,4,4,4,2,2,2,4,4,1,2,4,4,3,1,3,1,4,3,4,4,4,4,4,3,4,2,4,3,3,3,3,3,4,1,4,3,2,4,3,3,3,4,4,4,4,4,2,3,4,4,4,1,2,3,4,2,4,2,3,4,4,2,3,4,1,1,4,4,3,2,1,3,4,3,1,4,2,3,3,3,3,2,3,2,1,4,5,11,8,2,4,2,5,2,1,2,4,5,5,4,4,4,1,3,4,3,3,8,3,3,1,1,9,4,6,4,3,5,3,7,2,2,4,1,1,6,3,6,6,3,1,4,7,8,4,2,6,5,3,4,4,3,6,3,1,1,1,3,3,2,5,4,4,2,5,5,4,6,3,4,5,3,6,6,1,3,6,1,2,3,3,3,3,2,2,6,2,2,1,3,3,3,4,2,2,4,6,3,3,5,2,4,4,3,6,3,8,8,2,2,3,1,2,4,1,1,1,3,4,2,2,3,2,3,3,5,3,2,3,2,1,2,3,3,4,1,2,4,5,1,3,2,4,3,2,2,5,3,1,1,3,3,5,3,4,3,1,2,2,4,6,4,3,4,6,1,2,2,3,3,6,3,2,2,2,4,4,4,5,3,6,2,4,3,4,2,3,2,2,3,1,2,4,2,3,2,1,5,1,1,1,1,5,3,4,1,3,2,3,3,2,2,6,3,2,4,1,3,2,3,8,1,2,4,1,3,1,2,1,3,2,1,2,6,4,4,3,10,3,3,2,4,1,1,1,2,5,2,1,2,1,3,2,3,2,3,3,3,3,4,2,2,3,4,2,3,2,2,2,2,2,2,3,3,2,2,4,3,2,1,1,3,3,3,3,1,3,3,4,3,3,3,3,2,4,7,2,2,3,3,2,4,3,6,3,1,2,2,2,2,2,2,3,3,3,1,1,3,3,2,1,2,2,2,3,3,4,1,2,2,4,2,1,1,1,2,2,1,5,4,2,4,2,1,2,2,3,4,4,3,2,1,3,5,3,2,3,4,2,1,2,2,3,1,2,2,3,3,2,1,2,4,3,4,2,3,3,1,3,4,1,1,2,2,2,1,1,1,2,2,3,1,1,3,3,4,1,2,2,1,1,1,3,1,1,2,2,2,1,2,5,1,1,2,2,1,1,1,1,1,1,1,2,4,1,2,1,4,2,1,2,1,2,1,1,1,2,3,4,2,1,3,4,1,1,1,1,2,3,3,1,2,2,1,2,1,2,1,2,2,3,3,3,3,3,1,1,1,3,3,2,1,3,2,2,3,2,2,2,3,1,3,2,1,2,3,3,1,1,1,2,2,2,3,1,1,3,1,1,1,1,1,4,1,1,1,1,2,7,3,3,3,4,4,2,3,4,3,3,7,4,3,2,4,4,4,2,3,5,4,5,3,4,3,4,3,2,6,2,2,3,3,5,3,2,4,5,4,3,3,3,3,3,3,4,2,3,15,17,16,16,12,17,6,2,13,12,15,5,11,9,6,5,13,9,5,3,16,15,15,8,15,8,6,6,3,5,6,15,5,3,17,17,6,6,17,17,8,8,3,4,5,17,6,8,14,4,13,4,3,3,6,16,8,10,10,7,16,16,6,16,8,8,9,6,17,6,8,17,16,9,12,13,13,16,16,11,5,5,7,6,7,4,7,5,11,12,13,6,17,14,14,15,8,5,6,4,8,17,3,10,5,6,13,4,6,15,7,3,6,10,14,17,16,6,4,15,13,15,15,15,11,8,17,15,9,9,5,15,7,6,9,6,5,11,9,10,9,12,14,16,7,7,13,5,6,5,12,16,12,17,7,9,2,17,6,10,5,9,12,14,16,5,7,9,3,5,17,6,7,7,16,17,2,14,17,14,6,8,16,16,4,6,4,14,14,12,15,16,17,15,15,4,17,17,8,9,11,4,17,15,7,16,10,8,6,5,7,17,8,3,16,10,9,7,3,5,6,17,13,12,4,5,10,8,6,3,8,16,13,15,7,13,8,6,10,8,15,15,15,17,5,6,14,5,7,3,5,6,5,15,13,6,3,17,16,17,7,6,6,9,9,6,5,15,17,16,16,16,9,11,11,4,10,15,15,14,4,7,8,12,16,5,6,3,3,5,15,9,13,9,5,5,13,16,10,17,16,4,5,15,7,12,10,9,7,7,6,10,7,6,14,10,11,5,6,11,16,16,5,13,15,9,8,5,16,14,10,12,12,16,13,16,10,14,16,10,7,7,17,17,17,14,9,5,17,15,11,22,8,6,10,10,14,13,8,3,5,5,6,15,7,6,17,13,5,9,5,14,10,14,3,11,14,16,8,4,9,3,10,5,5,10,13,7,17,7,13,15,10,15,5,7,16,7,5,5,17,9,5,11,5,12,6,17,9,12,14,4,10,7,9,8,6,8,5,12,5,9,15,7,8,8,6,11,5,6,13,14,10,6,13,9,6,5,2,7,13,8,5,4,5,13,6,5,11,9,8,5,14,17,5,11,16,8,8,3,6,6,17,11,15,8,5,12,6,17,26,14,6,6,5,17,13,14,42,18,16,21,12,22,19,8,11,7,12,6,16,14,8,9,16,13,13,5,5,6,15,11,16,14,26,5,7,14,15,17,7,17,14,7,13,10,17,16,15,8,17,14,5,17,17,17,14,18,22,15,12,17,14,19,5,15,9,11,16,4,14,18,13,16,23,15,17,17,12,11,10,17,19,7,8,5,10,14,13,12,8,15,7,16,7,7,16,15,14,5,6,12,7,10,14,6,16,5,17,11,16,10,5,5,13,9,7,5,15,11,7,9,8,15,8,6,5,17,13,17,14,16,10,8,10,9,7,12,8,6,16,14,5,9,17,9,8,12,6,18,8,11,17,11,19,9,9,5,10,7,6,10,7,17,15,6,9,21,14,15,15,9,5,12,11,6,6,6,15,15,6,7,8,17,15,13,5,14,6,5,9,6,8,12,19,7,11,8,14,17,7,9,6,6,16,18,7,13,15,8,8,14,20,6,6,11,7,13,12,14,13,7,5,16,7,12,14,5,5,5,16,13,6,11,23,15,5,6,24,13,10,22,27,18,6,10,13,17,10,7,10,8,5,13,11,17,15,8,11,9,16,16,15,9,9,9,13,7,9,16,4,10,17,10,13,8,13,14,7,11,12,15,11,20,6,13,7,14,14,11,16,6,17,5,16,14,14,11,9,8,12,27,8,5,11,5,15,13,8,21,13,16,6,5,23,6,5,12,5,13,5,9,7,6,11,11,12,5,6,10,6,7,6,5,7,8,12,6,7,5,9,9,12,14,6,6,6,6,11,6,7,5,8,10,9,6,9,7,9,7,12,7,8,6,8,9,9,5,5,8,5,7,5,10,8,8,6,10,7,7,10,5,6,9,6,5,5,6,5,7,5,9,7,5,10,5,5,5,9,9,9,5,7,7,9,5,5,5,7,5,6,5,5,6,7,5,5,6,6,6,7,5,6,6,6,6,9,8],\"yaxis\":\"y\",\"type\":\"scattergl\"},{\"hovertemplate\":\"Segment=need attention<br>Recency=%{x}<br>Frequency=%{y}<extra></extra>\",\"legendgroup\":\"need attention\",\"marker\":{\"color\":\"#00cc96\",\"symbol\":\"circle\"},\"mode\":\"markers\",\"name\":\"need attention\",\"showlegend\":true,\"x\":[20,20,21,21,22,24,25,25,26,26,27,27,28,28,29,30,33,34,34,35,35,36,38,39,43,45,45,46,46,47,47,49,50,50,53,53,53,54,54,54,55,55,55,57,57,58,58,60,61,64,64,64,67,68,68,68,70,71,71,71,72,73,73,73,74,75,75,75,76,76,76,76,76,76,77,77,79,79,79,79,81,81,82,85,85,85,86,88,88,88,89,90,92,92,94,95,96,97,98,98,98,99,99,100,101,101,101,101,102,102,102,103,103,103,103,104,105,106,106,106,107,107,108,111,112,113,115,116,116,116,116,116,116,117,117,117,118,119,119,119,119,121,121,122,122,122,122,123,123,124,124,124,125,125,126,127,127,127,127,127,128,128,128,128,129,130,130,130,130,130,130,131,131,131,131,131,131,132,132,132,132,133,133,134,135,137,137,137,137,138,138,140,140,140,141,142,143,143,144,144,145,145,146,146,147,148,148,150,150,152,152,152,152,153,153,153,154,154,154,154,156,156,156,157,157,157,158,158,158,158,159,159,161,163,163,164,166,166,166,166,167,168,169,170,170,170,170,171,171,171,171,171,172,172,172,172,172,173,173,173,173,173,173,174,174,175,177,177,177,178,178,178,178,178,181,181,181,181,181,183,183,183,184,185,186,188,188,188,189,190,191,191,192,192,192,193,193,194,195,196,197,197,199,200,201,201,201,201,202,202,203,203,203,204,204,205,205,205,207,207,207,207,207,207,207,207,207,207,207,207,207,207,207,207,207,207,207,207,207,207,207,207,207,207,207,207,207,207,207,207,207,207,207,207,207,207,207,207,207,207,207,207,207,207,207,207,207,207,207,207,207,207,207,207,207,207,207,207,207,207,207,207,207,207,207,207,207,207,207,207,207,207,207,207,207,207,207,207,207,207,207,207,207,207,207,207,207,207,207,207,207,207,207,207,207,207,207,207,207,207,207,207,207,207,207,207,207,207,207,207,207,207,207,207,207,207,207,207,207,207,207,207,207,207,207,207,207,207,207,207,207,207,207,207,207,207,207,207,207,207,207,207,207,207,207,207,207,207,207,207,207,207,207,207,207,207,207,207,207,207,207,207,207,207,207,207,207,207,207,207,207,207,207,207,207,207,207,207,207,207,207,207,207,207,207,207,207,207,207,207,207,207,207,207,207,207,207,207,207,207,207,207,207,207,207,207,207,207,207,207,207,207,207,207,207,207,207,207,207,207,207,207,207,207,207,207,207,207,207,207,207,207,207,207,207,207,207,207,207,207,207,207,207,207,207,207,207,207,207,207,207,207,207,207,207,207,207,207,207,207,207,207,207,207,207,207,207,207,207,207,207,207,207,207,207,207,207,207,207,207,207,207,207,207,207,207,207,207,207,207,207,207,207,207,207,207,207,207,207,207,207,207,207,207,207,207,207,207,207,207,207,207,207,207,207,207,207,207,207,207,207,207,207,207,207,207,207,207,207,207,207,207,207,207,207,207,207,207,207,207,207,207,207,207,207,207,207,207,207,207,207,207,207,207,207,207,207,207,207,207,207,207,207,207,207,207,207,207,207,207,207,207,207,207,207,207,207,207,207,207,207,207,207,207,207,207,207,207,207,207,207,207,207,207,207,207,207,207,207,207,207,207,207,207,207,207,207,207,207,207,207,207,207,207,207,207,207,207,207,207,207,207,207,207,207,207,207,207,207,207,207,207,207,207,207,207,207,207,207,207,207,207,207,207,207,207,207,207,207,207,207,207,207,207,207,207,207,207,207,207,207,207,207,207,207,207,207,207,207,207,207,207,207,207,207,207,207,207,207,207,207,207,207,207,207,207,207,207,207,207,207,207,207,207,207,207,207,207,207,207,207,207,207,207,207,207,207,207,207,207,207,207,207,207,207,207,207,207,207,207,207,207,207,207,207,207,207,207,207,207,207,207,207,207,207,207,207,207,207,207,207,207,207,207,207,207,207,207,207,207,207,207,207,207,207,207,207,207,207,207,207,207,207,207,207,207,207,207,207,207,207,207,207,207,207,207,207,207,207,207,207,207,207,207,207,207,207,207,207,207,207,207,207,207,207,207,207,207,207,207,207,207,207,207,207,207,207,207,207,207,207,207,207,207,207,207,207,207,207,207,207,207,207,207,207,207,207,207,207,207,207,207,207,207,207,207,207,207,207,207,207,207,207,207,207,207,207,207,207,207,207,207,207,207,207,207,207,207,207,207,207,207,207,207,207,207,207,207,207,207,207,207,207,207,207,207,207,207,207,207,207,207,207,207,207,207,207,207,207,207,207,207,207,207,207,207,207,207,207,207,207,207,207,207,207,207,207,207,207,207,207,207,207,207,207,207,207,207,207,207,207,207,207,207,207,207,207,207,207,207,207,207,207,207,207,207,207,207,207,207,207,207,207,207,207,207,207,207,207,207,207,207,207,207,207,207,207,207,207,207,207,207,207,207,207,207,207,207,207,207,207,207,207,207,207,207,207,207,207,207,207,207,207,207,207,207,207,207,207,207,207,207,207,207,207,207,207,207,207,207,207,207,207,207,207,207,207,207,207,207,207,207,207,207,207,207,207,207,207,207,207,207,207,207,207,207,207,207,207,207,207,207,207,207,207,207,207,207,207,207,207,207,207,207,207,207,207,207,207,207,207,207,207,207,207,207,207,207,207,207,207,207,207,207],\"xaxis\":\"x\",\"y\":[2,2,4,2,2,2,2,2,3,2,4,2,4,3,3,2,2,4,2,3,4,3,4,3,2,4,3,2,2,2,2,2,2,2,4,3,3,2,2,2,2,2,2,2,3,3,3,4,2,3,3,2,4,4,2,2,2,3,3,2,3,3,3,3,4,2,3,3,4,3,3,2,3,2,3,3,3,2,4,2,4,3,3,4,2,2,3,4,2,4,2,3,4,2,3,2,2,2,3,2,3,4,3,2,2,4,2,2,3,3,2,2,2,4,2,4,3,3,2,2,4,2,4,3,3,2,4,2,4,3,2,2,4,2,2,3,3,3,4,2,2,3,3,3,4,3,2,2,4,3,3,2,3,3,3,4,4,4,2,2,3,4,4,2,2,4,4,3,5,2,3,3,3,2,4,3,2,5,2,3,2,3,6,4,5,4,2,2,2,4,2,2,4,3,4,3,4,4,4,2,3,2,3,5,3,2,2,3,4,3,5,6,2,4,4,3,4,3,2,3,3,6,3,4,2,2,2,2,4,2,4,2,3,4,2,6,4,2,3,2,4,4,4,2,2,2,3,3,4,6,2,3,4,4,2,2,4,3,4,4,3,2,3,4,2,6,4,3,3,4,8,5,3,4,4,4,4,3,2,4,2,2,7,2,4,3,5,3,2,4,4,3,3,4,2,3,6,3,3,7,2,2,3,3,3,4,2,2,2,2,3,3,2,3,4,4,2,3,3,4,4,4,2,4,2,4,2,4,4,3,4,3,4,1,4,4,4,4,4,4,4,1,4,3,3,2,4,2,4,4,4,2,3,2,2,4,4,4,2,4,4,2,4,1,2,3,3,3,4,4,4,3,3,2,1,4,1,4,1,4,3,4,2,2,2,3,4,1,4,3,3,1,3,2,2,3,4,2,2,2,2,4,4,6,2,5,3,4,6,6,4,1,6,4,4,5,3,1,1,3,4,4,4,2,3,3,2,5,4,1,3,3,4,13,6,3,3,3,2,6,3,3,3,5,3,3,4,1,6,4,3,5,2,2,2,6,5,3,8,4,3,3,4,4,5,5,3,7,4,9,4,4,4,5,3,3,2,2,3,1,3,6,4,7,3,4,5,2,2,4,2,4,3,2,5,5,5,3,3,3,5,2,4,5,1,3,2,4,2,2,1,1,2,1,1,2,5,6,2,3,3,7,2,3,4,3,5,3,3,3,1,4,3,3,3,2,5,4,2,2,4,3,1,3,2,1,3,3,5,1,5,3,2,2,3,4,2,2,2,3,4,4,2,3,4,3,3,3,2,4,2,5,2,3,4,3,4,5,2,4,3,4,5,1,4,3,2,1,2,2,3,2,2,2,4,1,8,2,4,3,2,5,2,3,3,3,4,4,3,3,3,4,1,4,5,3,3,2,2,4,4,3,2,2,1,3,3,4,2,2,3,2,3,1,3,2,2,2,1,3,1,1,1,4,2,2,2,2,4,2,2,5,4,4,2,3,2,1,4,3,2,1,1,2,2,2,2,4,2,3,6,3,2,3,6,2,3,1,4,4,1,3,1,3,5,3,1,2,2,2,3,3,2,1,3,2,2,4,2,6,3,2,6,1,2,2,2,3,3,4,2,4,2,4,2,1,2,4,2,2,3,2,2,4,2,2,2,3,1,1,3,2,1,3,3,2,3,2,6,1,2,2,1,2,2,3,3,5,2,2,1,2,3,2,3,3,4,1,2,2,2,2,2,3,1,1,1,2,3,2,3,3,2,1,1,1,2,2,6,2,1,2,4,2,1,2,1,2,1,2,1,2,4,5,2,3,3,3,3,2,1,1,1,2,2,4,3,2,2,2,2,4,3,1,1,2,1,1,1,1,3,1,1,1,2,4,3,4,2,3,5,2,1,2,1,1,1,1,1,1,1,2,2,4,4,2,1,1,1,1,1,1,2,3,4,3,3,3,2,2,4,3,1,3,2,4,1,1,1,1,1,1,1,1,1,2,3,2,3,2,3,3,2,3,2,1,3,1,2,3,2,2,3,2,3,4,2,3,1,3,3,4,1,2,1,2,1,4,2,1,2,2,2,1,1,2,1,1,1,1,2,1,1,5,2,1,2,2,3,4,2,1,1,2,2,1,3,1,2,3,3,2,2,1,1,2,2,1,4,1,2,2,1,1,4,1,1,1,1,2,2,3,1,5,3,3,3,2,1,2,3,2,1,1,1,2,3,2,3,2,2,2,1,2,2,2,2,2,3,1,1,2,1,2,3,2,2,1,1,3,1,1,1,3,2,2,1,1,1,1,1,1,1,1,1,1,1,1,3,1,1,1,1,2,2,2,2,2,5,1,2,1,1,2,1,1,1,1,3,2,3,2,1,3,2,3,3,2,2,2,3,1,1,1,3,1,3,2,1,2,2,1,1,3,3,2,4,2,3,2,3,1,2,1,3,1,1,1,5,2,3,1,3,1,2,1,2,3,1,1,1,1,1,3,2,2,3,1,1,2,4,3,1,3,1,1,1,1,1,3,1,1,1,1,2,2,2,1,1,1,1,1,1,2,1,1,1,1,2,1,2,2,1,1,1,3,1,3,2,2,1,1,1,1,1,3,2,5,2,1,2,1,1,1,3,2,3,3,2,2,2,1,2,1,1,1,1,2,2,3,4,1,1,2,4,1,1,1,1,1,1,1,1,2],\"yaxis\":\"y\",\"type\":\"scattergl\"}],                        {\"template\":{\"data\":{\"histogram2dcontour\":[{\"type\":\"histogram2dcontour\",\"colorbar\":{\"outlinewidth\":0,\"ticks\":\"\"},\"colorscale\":[[0.0,\"#0d0887\"],[0.1111111111111111,\"#46039f\"],[0.2222222222222222,\"#7201a8\"],[0.3333333333333333,\"#9c179e\"],[0.4444444444444444,\"#bd3786\"],[0.5555555555555556,\"#d8576b\"],[0.6666666666666666,\"#ed7953\"],[0.7777777777777778,\"#fb9f3a\"],[0.8888888888888888,\"#fdca26\"],[1.0,\"#f0f921\"]]}],\"choropleth\":[{\"type\":\"choropleth\",\"colorbar\":{\"outlinewidth\":0,\"ticks\":\"\"}}],\"histogram2d\":[{\"type\":\"histogram2d\",\"colorbar\":{\"outlinewidth\":0,\"ticks\":\"\"},\"colorscale\":[[0.0,\"#0d0887\"],[0.1111111111111111,\"#46039f\"],[0.2222222222222222,\"#7201a8\"],[0.3333333333333333,\"#9c179e\"],[0.4444444444444444,\"#bd3786\"],[0.5555555555555556,\"#d8576b\"],[0.6666666666666666,\"#ed7953\"],[0.7777777777777778,\"#fb9f3a\"],[0.8888888888888888,\"#fdca26\"],[1.0,\"#f0f921\"]]}],\"heatmap\":[{\"type\":\"heatmap\",\"colorbar\":{\"outlinewidth\":0,\"ticks\":\"\"},\"colorscale\":[[0.0,\"#0d0887\"],[0.1111111111111111,\"#46039f\"],[0.2222222222222222,\"#7201a8\"],[0.3333333333333333,\"#9c179e\"],[0.4444444444444444,\"#bd3786\"],[0.5555555555555556,\"#d8576b\"],[0.6666666666666666,\"#ed7953\"],[0.7777777777777778,\"#fb9f3a\"],[0.8888888888888888,\"#fdca26\"],[1.0,\"#f0f921\"]]}],\"heatmapgl\":[{\"type\":\"heatmapgl\",\"colorbar\":{\"outlinewidth\":0,\"ticks\":\"\"},\"colorscale\":[[0.0,\"#0d0887\"],[0.1111111111111111,\"#46039f\"],[0.2222222222222222,\"#7201a8\"],[0.3333333333333333,\"#9c179e\"],[0.4444444444444444,\"#bd3786\"],[0.5555555555555556,\"#d8576b\"],[0.6666666666666666,\"#ed7953\"],[0.7777777777777778,\"#fb9f3a\"],[0.8888888888888888,\"#fdca26\"],[1.0,\"#f0f921\"]]}],\"contourcarpet\":[{\"type\":\"contourcarpet\",\"colorbar\":{\"outlinewidth\":0,\"ticks\":\"\"}}],\"contour\":[{\"type\":\"contour\",\"colorbar\":{\"outlinewidth\":0,\"ticks\":\"\"},\"colorscale\":[[0.0,\"#0d0887\"],[0.1111111111111111,\"#46039f\"],[0.2222222222222222,\"#7201a8\"],[0.3333333333333333,\"#9c179e\"],[0.4444444444444444,\"#bd3786\"],[0.5555555555555556,\"#d8576b\"],[0.6666666666666666,\"#ed7953\"],[0.7777777777777778,\"#fb9f3a\"],[0.8888888888888888,\"#fdca26\"],[1.0,\"#f0f921\"]]}],\"surface\":[{\"type\":\"surface\",\"colorbar\":{\"outlinewidth\":0,\"ticks\":\"\"},\"colorscale\":[[0.0,\"#0d0887\"],[0.1111111111111111,\"#46039f\"],[0.2222222222222222,\"#7201a8\"],[0.3333333333333333,\"#9c179e\"],[0.4444444444444444,\"#bd3786\"],[0.5555555555555556,\"#d8576b\"],[0.6666666666666666,\"#ed7953\"],[0.7777777777777778,\"#fb9f3a\"],[0.8888888888888888,\"#fdca26\"],[1.0,\"#f0f921\"]]}],\"mesh3d\":[{\"type\":\"mesh3d\",\"colorbar\":{\"outlinewidth\":0,\"ticks\":\"\"}}],\"scatter\":[{\"fillpattern\":{\"fillmode\":\"overlay\",\"size\":10,\"solidity\":0.2},\"type\":\"scatter\"}],\"parcoords\":[{\"type\":\"parcoords\",\"line\":{\"colorbar\":{\"outlinewidth\":0,\"ticks\":\"\"}}}],\"scatterpolargl\":[{\"type\":\"scatterpolargl\",\"marker\":{\"colorbar\":{\"outlinewidth\":0,\"ticks\":\"\"}}}],\"bar\":[{\"error_x\":{\"color\":\"#2a3f5f\"},\"error_y\":{\"color\":\"#2a3f5f\"},\"marker\":{\"line\":{\"color\":\"#E5ECF6\",\"width\":0.5},\"pattern\":{\"fillmode\":\"overlay\",\"size\":10,\"solidity\":0.2}},\"type\":\"bar\"}],\"scattergeo\":[{\"type\":\"scattergeo\",\"marker\":{\"colorbar\":{\"outlinewidth\":0,\"ticks\":\"\"}}}],\"scatterpolar\":[{\"type\":\"scatterpolar\",\"marker\":{\"colorbar\":{\"outlinewidth\":0,\"ticks\":\"\"}}}],\"histogram\":[{\"marker\":{\"pattern\":{\"fillmode\":\"overlay\",\"size\":10,\"solidity\":0.2}},\"type\":\"histogram\"}],\"scattergl\":[{\"type\":\"scattergl\",\"marker\":{\"colorbar\":{\"outlinewidth\":0,\"ticks\":\"\"}}}],\"scatter3d\":[{\"type\":\"scatter3d\",\"line\":{\"colorbar\":{\"outlinewidth\":0,\"ticks\":\"\"}},\"marker\":{\"colorbar\":{\"outlinewidth\":0,\"ticks\":\"\"}}}],\"scattermapbox\":[{\"type\":\"scattermapbox\",\"marker\":{\"colorbar\":{\"outlinewidth\":0,\"ticks\":\"\"}}}],\"scatterternary\":[{\"type\":\"scatterternary\",\"marker\":{\"colorbar\":{\"outlinewidth\":0,\"ticks\":\"\"}}}],\"scattercarpet\":[{\"type\":\"scattercarpet\",\"marker\":{\"colorbar\":{\"outlinewidth\":0,\"ticks\":\"\"}}}],\"carpet\":[{\"aaxis\":{\"endlinecolor\":\"#2a3f5f\",\"gridcolor\":\"white\",\"linecolor\":\"white\",\"minorgridcolor\":\"white\",\"startlinecolor\":\"#2a3f5f\"},\"baxis\":{\"endlinecolor\":\"#2a3f5f\",\"gridcolor\":\"white\",\"linecolor\":\"white\",\"minorgridcolor\":\"white\",\"startlinecolor\":\"#2a3f5f\"},\"type\":\"carpet\"}],\"table\":[{\"cells\":{\"fill\":{\"color\":\"#EBF0F8\"},\"line\":{\"color\":\"white\"}},\"header\":{\"fill\":{\"color\":\"#C8D4E3\"},\"line\":{\"color\":\"white\"}},\"type\":\"table\"}],\"barpolar\":[{\"marker\":{\"line\":{\"color\":\"#E5ECF6\",\"width\":0.5},\"pattern\":{\"fillmode\":\"overlay\",\"size\":10,\"solidity\":0.2}},\"type\":\"barpolar\"}],\"pie\":[{\"automargin\":true,\"type\":\"pie\"}]},\"layout\":{\"autotypenumbers\":\"strict\",\"colorway\":[\"#636efa\",\"#EF553B\",\"#00cc96\",\"#ab63fa\",\"#FFA15A\",\"#19d3f3\",\"#FF6692\",\"#B6E880\",\"#FF97FF\",\"#FECB52\"],\"font\":{\"color\":\"#2a3f5f\"},\"hovermode\":\"closest\",\"hoverlabel\":{\"align\":\"left\"},\"paper_bgcolor\":\"white\",\"plot_bgcolor\":\"#E5ECF6\",\"polar\":{\"bgcolor\":\"#E5ECF6\",\"angularaxis\":{\"gridcolor\":\"white\",\"linecolor\":\"white\",\"ticks\":\"\"},\"radialaxis\":{\"gridcolor\":\"white\",\"linecolor\":\"white\",\"ticks\":\"\"}},\"ternary\":{\"bgcolor\":\"#E5ECF6\",\"aaxis\":{\"gridcolor\":\"white\",\"linecolor\":\"white\",\"ticks\":\"\"},\"baxis\":{\"gridcolor\":\"white\",\"linecolor\":\"white\",\"ticks\":\"\"},\"caxis\":{\"gridcolor\":\"white\",\"linecolor\":\"white\",\"ticks\":\"\"}},\"coloraxis\":{\"colorbar\":{\"outlinewidth\":0,\"ticks\":\"\"}},\"colorscale\":{\"sequential\":[[0.0,\"#0d0887\"],[0.1111111111111111,\"#46039f\"],[0.2222222222222222,\"#7201a8\"],[0.3333333333333333,\"#9c179e\"],[0.4444444444444444,\"#bd3786\"],[0.5555555555555556,\"#d8576b\"],[0.6666666666666666,\"#ed7953\"],[0.7777777777777778,\"#fb9f3a\"],[0.8888888888888888,\"#fdca26\"],[1.0,\"#f0f921\"]],\"sequentialminus\":[[0.0,\"#0d0887\"],[0.1111111111111111,\"#46039f\"],[0.2222222222222222,\"#7201a8\"],[0.3333333333333333,\"#9c179e\"],[0.4444444444444444,\"#bd3786\"],[0.5555555555555556,\"#d8576b\"],[0.6666666666666666,\"#ed7953\"],[0.7777777777777778,\"#fb9f3a\"],[0.8888888888888888,\"#fdca26\"],[1.0,\"#f0f921\"]],\"diverging\":[[0,\"#8e0152\"],[0.1,\"#c51b7d\"],[0.2,\"#de77ae\"],[0.3,\"#f1b6da\"],[0.4,\"#fde0ef\"],[0.5,\"#f7f7f7\"],[0.6,\"#e6f5d0\"],[0.7,\"#b8e186\"],[0.8,\"#7fbc41\"],[0.9,\"#4d9221\"],[1,\"#276419\"]]},\"xaxis\":{\"gridcolor\":\"white\",\"linecolor\":\"white\",\"ticks\":\"\",\"title\":{\"standoff\":15},\"zerolinecolor\":\"white\",\"automargin\":true,\"zerolinewidth\":2},\"yaxis\":{\"gridcolor\":\"white\",\"linecolor\":\"white\",\"ticks\":\"\",\"title\":{\"standoff\":15},\"zerolinecolor\":\"white\",\"automargin\":true,\"zerolinewidth\":2},\"scene\":{\"xaxis\":{\"backgroundcolor\":\"#E5ECF6\",\"gridcolor\":\"white\",\"linecolor\":\"white\",\"showbackground\":true,\"ticks\":\"\",\"zerolinecolor\":\"white\",\"gridwidth\":2},\"yaxis\":{\"backgroundcolor\":\"#E5ECF6\",\"gridcolor\":\"white\",\"linecolor\":\"white\",\"showbackground\":true,\"ticks\":\"\",\"zerolinecolor\":\"white\",\"gridwidth\":2},\"zaxis\":{\"backgroundcolor\":\"#E5ECF6\",\"gridcolor\":\"white\",\"linecolor\":\"white\",\"showbackground\":true,\"ticks\":\"\",\"zerolinecolor\":\"white\",\"gridwidth\":2}},\"shapedefaults\":{\"line\":{\"color\":\"#2a3f5f\"}},\"annotationdefaults\":{\"arrowcolor\":\"#2a3f5f\",\"arrowhead\":0,\"arrowwidth\":1},\"geo\":{\"bgcolor\":\"white\",\"landcolor\":\"#E5ECF6\",\"subunitcolor\":\"white\",\"showland\":true,\"showlakes\":true,\"lakecolor\":\"white\"},\"title\":{\"x\":0.05},\"mapbox\":{\"style\":\"light\"}}},\"xaxis\":{\"anchor\":\"y\",\"domain\":[0.0,1.0],\"title\":{\"text\":\"Recency\"}},\"yaxis\":{\"anchor\":\"x\",\"domain\":[0.0,1.0],\"title\":{\"text\":\"Frequency\"}},\"legend\":{\"title\":{\"text\":\"Segment\"},\"tracegroupgap\":0},\"margin\":{\"t\":60}},                        {\"responsive\": true}                    ).then(function(){\n",
       "                            \n",
       "var gd = document.getElementById('6028290c-c96e-436b-a2ff-48a4ca4f8f40');\n",
       "var x = new MutationObserver(function (mutations, observer) {{\n",
       "        var display = window.getComputedStyle(gd).display;\n",
       "        if (!display || display === 'none') {{\n",
       "            console.log([gd, 'removed!']);\n",
       "            Plotly.purge(gd);\n",
       "            observer.disconnect();\n",
       "        }}\n",
       "}});\n",
       "\n",
       "// Listen for the removal of the full notebook cells\n",
       "var notebookContainer = gd.closest('#notebook-container');\n",
       "if (notebookContainer) {{\n",
       "    x.observe(notebookContainer, {childList: true});\n",
       "}}\n",
       "\n",
       "// Listen for the clearing of the current output cell\n",
       "var outputEl = gd.closest('.output');\n",
       "if (outputEl) {{\n",
       "    x.observe(outputEl, {childList: true});\n",
       "}}\n",
       "\n",
       "                        })                };                });            </script>        </div>"
      ]
     },
     "metadata": {},
     "output_type": "display_data"
    }
   ],
   "source": [
    "\n",
    "fig = px.scatter(RFM_data_1,x = \"Recency\", y = \"Frequency\",color = \"Segment\")\n",
    "fig.show()"
   ]
  },
  {
   "cell_type": "markdown",
   "id": "ab8a406f",
   "metadata": {
    "papermill": {
     "duration": 0.016527,
     "end_time": "2023-02-02T07:30:39.567377",
     "exception": false,
     "start_time": "2023-02-02T07:30:39.550850",
     "status": "completed"
    },
    "tags": []
   },
   "source": [
    "#### *__We can see the customers whose Recency is less than two month have high Frequency i.e the customers buying more when their recency is less.__*"
   ]
  },
  {
   "cell_type": "markdown",
   "id": "9e29e071",
   "metadata": {
    "papermill": {
     "duration": 0.016928,
     "end_time": "2023-02-02T07:30:39.601591",
     "exception": false,
     "start_time": "2023-02-02T07:30:39.584663",
     "status": "completed"
    },
    "tags": []
   },
   "source": [
    "#### __2.Frequency V/s Monetary__"
   ]
  },
  {
   "cell_type": "code",
   "execution_count": 21,
   "id": "39d48942",
   "metadata": {
    "execution": {
     "iopub.execute_input": "2023-02-02T07:30:39.639646Z",
     "iopub.status.busy": "2023-02-02T07:30:39.639281Z",
     "iopub.status.idle": "2023-02-02T07:30:39.721219Z",
     "shell.execute_reply": "2023-02-02T07:30:39.719367Z"
    },
    "papermill": {
     "duration": 0.105652,
     "end_time": "2023-02-02T07:30:39.724269",
     "exception": false,
     "start_time": "2023-02-02T07:30:39.618617",
     "status": "completed"
    },
    "tags": []
   },
   "outputs": [
    {
     "data": {
      "text/html": [
       "<div>                            <div id=\"130f217e-6056-4472-a065-8d17b334df08\" class=\"plotly-graph-div\" style=\"height:525px; width:100%;\"></div>            <script type=\"text/javascript\">                require([\"plotly\"], function(Plotly) {                    window.PLOTLYENV=window.PLOTLYENV || {};                                    if (document.getElementById(\"130f217e-6056-4472-a065-8d17b334df08\")) {                    Plotly.newPlot(                        \"130f217e-6056-4472-a065-8d17b334df08\",                        [{\"hovertemplate\":\"Segment=champions<br>Monetary=%{x}<br>Frequency=%{y}<extra></extra>\",\"legendgroup\":\"champions\",\"marker\":{\"color\":\"#636efa\",\"symbol\":\"circle\"},\"mode\":\"markers\",\"name\":\"champions\",\"showlegend\":true,\"x\":[11986.54,11025.96,7259.69,6992.27,6263.44,5841.24,5470.27,5200.53,4967.06,4726.38,3934.05,3933.82,3778.07,3725.48,3660.12,3547.93,3547.7,3401.97,3391.09,3322.83,3305.8,3287.77,3224.55,3211.35,3149.69,3113.08,3088.26,3060.53,3027.11,2944.71,2865.89,2659.31,2612.35,2609.0,2604.78,2555.27,2544.48,2534.23,2530.55,2475.84,2469.36,2432.01,2416.13,2402.91,2390.84,2386.87,2327.53,2277.34,2274.19,2234.03,2144.1,2125.67,2120.69,2024.43,2004.09,1999.14,1993.5,1957.14,1931.17,1924.96,1924.86,1924.45,1905.12,1890.12,1886.04,1879.72,1876.65,1868.29,1858.95,1857.86,1813.31,1796.57,1790.97,1757.96,1756.37,1748.81,1744.81,1739.11,1726.06,1718.92,1718.6,1699.95,1697.25,1692.57,1682.96,1681.8,1672.6,1641.58,1640.34,1633.95,1633.65,1626.43,1625.12,1623.52,1622.99,1614.57,1613.09,1594.25,1586.89,1581.2,1576.93,1572.48,1567.96,1565.06,1562.71,1545.98,1536.78,1535.92,1512.28,1510.61,1509.56,1507.0,1493.69,1488.12,1487.25,1486.75,1481.97,1480.13,1478.94,1473.48,1472.99,1462.66,1460.55,1452.6,1445.88,1432.95,1401.03,1399.86,1386.05,1377.96,1377.61,1371.45,1361.93,1335.87,1329.08,1320.93,1313.77,1296.68,1282.94,1277.51,1264.93,1259.07,1247.96,1246.96,1245.2,1234.98,1216.0,1208.48,1207.05,1203.19,1198.84,1193.14,1188.96,1178.44,1177.95,1177.76,1177.76,1175.98,1167.64,1166.0,1158.13,1155.97,1137.39,1134.88,1132.77,1130.88,1123.4,1121.43,1115.04,1107.34,1106.97,1083.97,1082.93,1068.37,1061.03,1060.45,1039.48,1032.7,1031.98,1029.83,1026.03,1017.52,1013.95,1009.43,1005.33,1002.8,991.74,991.01,982.45,975.37,975.37,970.94,968.07,964.9,959.91,959.87,957.1,945.7,941.39,935.99,931.97,925.0,923.4,919.49,912.74,909.75,908.93,906.41,905.99,901.87,898.07,896.09,895.67,893.76,892.97,888.82,887.99,880.96,878.58,878.36,875.8,875.25,874.96,873.99,873.48,867.96,862.42,851.68,849.54,846.75,845.37,844.64,836.0,829.25,824.97,821.78,821.26,820.99,820.96,819.98,816.88,816.78,809.1,799.18,795.95,792.08,789.91,784.69,783.21,769.6,764.39,763.95,759.98,756.37,752.97,748.98,743.93,742.21,741.98,739.61,731.65,731.06,722.24,716.0,714.96,713.96,711.16,710.66,708.46,707.28,693.58,683.63,680.95,679.96,678.52,674.98,674.96,672.65,671.72,667.45,666.34,665.62,663.92,662.32,658.13,656.74,656.01,655.0,652.38,648.94,648.93,643.94,640.04,639.3,639.03,636.65,635.4,634.93,630.46,623.99,609.97,606.91,604.55,604.24,600.51,598.95,597.46,595.4,594.06,593.97,589.71,589.05,586.15,585.28,584.95,579.95,578.44,577.53,572.93,571.08,570.97,566.82,559.13,558.46,556.45,549.82,548.97,548.97,547.97,547.49,544.92,543.48,539.09,533.95,530.0,527.99,527.81,524.08,523.9,519.24,517.27,517.17,516.99,516.96,516.49,513.73,513.43,509.63,508.67,502.96,501.57,499.07,498.24,495.73,493.49,491.51,490.22,483.59,480.0,479.59,477.38,476.98,473.96,462.97,459.97,456.12,449.47,448.42,445.98,445.95,443.55,443.21,439.62,434.95,434.11,428.86,428.45,9006.15,8711.5,5932.66,5797.99,5340.53,5279.99,4771.53,4254.66,4194.19,4154.86,4102.14,4005.15,3589.66,3510.45,3444.56,3427.29,3412.0,3079.95,2944.74,2863.93,2810.35,2708.35,2668.65,2655.51,2513.52,2426.32,2412.25,2402.37,2387.1,2345.13,2324.04,2287.82,2194.86,2015.35,1969.37,1927.85,1918.88,1532.16,1351.8,1108.98,756.45,427.83,7390.98,6812.43,6117.52,5907.81,5331.67,4969.08,4888.02,4762.26,4475.79,4270.99,3546.66,3544.36,3104.16,3030.94,2893.59,2887.88,2842.75,2697.57,2673.29,2617.74,2501.88,2434.87,2422.5,2301.63,2246.06,2085.37,1974.47,1879.59,1679.9,1544.75,1533.84,1517.4,1466.2,1362.86,1299.65,1245.46,1186.84,538.41,7649.71,7173.63,5729.75,5021.83,4763.72,4674.99,4611.88,3987.96,3854.9,3788.24,3763.62,3443.22,3436.28,3412.36,3332.66,3176.64,3121.86,3078.84,3071.84,2784.67,2655.96,2428.36,2198.66,2169.17,2085.7,1975.49,1972.87,1637.97,1515.65,1503.94,1460.23,1441.04,1437.7,1329.76,1184.07,433.37,18554.49,9685.37,7721.85,7148.66,6657.88,6024.65,5693.21,5431.7,4932.31,4915.07,4834.79,3391.1,3131.58,3045.3,2877.88,2853.36,2760.87,2644.95,2642.53,2501.72,2447.67,2159.9,2042.67,1961.24,1795.96,1678.7,1651.57,1577.77,1533.86,1240.46,1212.67,1204.06,1173.95,1041.2,1034.48,892.4,771.49,469.01,12969.98,9099.36,8854.3,8774.63,8163.52,6821.37,6076.36,5985.21,5230.33,5218.89,5197.83,5068.47,4429.23,4261.02,4237.43,4180.29,3749.79,3497.15,3494.81,3392.95,3352.45,3315.92,3184.86,3099.76,2619.95,2391.6,2361.14,2334.57,2249.64,2227.37,2191.76,2158.95,2113.44,2085.42,2014.86,1838.16,1834.58,1776.97,1715.98,1633.58,1609.63,1402.41,1281.03,945.87,756.41,722.95,592.9,521.2,9516.9,7518.0,5313.31,5151.19,5118.83,4930.83,4590.49,4224.3,3821.33,3296.18,3229.64,3212.85,3100.76,2983.44,2525.7,2364.05,2301.67,2011.57,1886.65,1839.43,1828.02,1689.96,1659.66,1647.77,1643.43,1515.62,1328.35,1298.54,1130.1,1065.25,712.64,645.63,5499.24,3914.31,3896.81,3850.84,3824.43,3788.62,3719.4,3370.71,3160.05,3142.79,3137.15,3133.94,3107.86,2274.44,2090.55,1947.19,1846.87,1718.66,1627.72,1570.21,1450.88,1291.92,823.96,765.19,713.17,499.15,5228.03,4521.4,4513.75,3843.86,3805.24,3773.02,3623.01,3578.99,3540.02,3331.88,3323.09,3283.75,3257.17,3146.99,3078.65,3037.14,2806.77,2733.34,2380.5,2343.98,2098.22,2072.41,2066.83,2015.83,1908.84,1893.75,1847.3,1761.35,1693.3,1348.46,1214.32,966.75,8319.0,7961.37,5126.79,5115.94,4260.84,4250.32,4075.93,3567.95,3549.48,3434.27,3327.85,3241.21,3073.83,2974.94,2694.84,2568.72,2405.23,2364.63,2179.26,2151.83,2023.17,1965.17,1875.33,1846.62,1715.29,1703.1,1639.46,1558.29,1557.16,1540.02,1514.43,1465.4,1442.46,1334.95,1291.51,1251.27,973.01,888.58,717.45,5635.22,5149.71,4368.42,3864.0,3746.82,3545.81,3246.87,3139.78,2942.41,2903.88,2765.67,2523.14,2163.91,2137.4,1994.79,1956.83,1776.65,1737.8,1686.32,1539.11,1448.44,1254.26,1204.87,540.26,439.76,6022.45,5360.83,5333.74,4152.11,4114.97,3972.87,3906.84,3863.88,3759.97,3666.45,3649.27,3404.46,3372.21,3349.69,3326.49,3283.87,3283.03,3165.91,2947.9,2689.34,2570.55,2564.5,2539.58,2533.86,2467.64,2448.0,2373.47,2268.59,2157.07,2118.2,2076.98,1879.57,1868.53,1793.86,1791.12,1777.63,1638.72,1517.63,1352.56,1129.35,824.92,581.94,536.95,14309.92,12237.79,7953.91,7875.48,6911.51,6404.57,6357.05,4888.13,4720.72,4385.06,4370.23,4171.91,3788.45,3426.39,3287.59,3140.89,3080.56,3071.38,2980.84,2809.12,2663.02,2636.48,2382.62,2128.19,2118.33,2059.73,1988.67,1858.31,1680.08,1607.62,1501.36,1372.66,1327.15,1253.92,1237.15,949.47,13180.85,5996.21,5560.69,5372.93,4383.45,4325.45,4235.91,3960.29,3887.22,3844.97,3766.54,3633.45,3572.96,3423.78,3391.92,3215.94,3152.79,3074.98,3042.22,2929.34,2757.96,2602.49,2578.74,2541.07,2479.64,2378.04,2357.57,2269.26,2267.37,2259.8,2196.48,2020.53,1811.73,1686.71,1241.41,1096.04,1091.74,1063.44,957.44,933.34,852.86,746.34,596.2,521.16,11828.92,8698.43,7477.36,6164.75,4873.54,4353.0,4259.12,3489.86,3282.46,3276.04,3095.7,3033.75,2789.03,2559.85,2389.61,1997.83,1924.13,1809.32,1241.73,13775.96,7368.47,4428.62,4373.75,3858.6,3316.96,2571.84,2487.61,2306.56,2032.74,1890.55,1884.05,1773.84,1773.32,1636.6,1579.41,1294.01,10210.14,9378.67,4403.07,4221.44,4032.08,3710.8,3515.76,3301.84,3278.52,3080.59,2156.93,2006.51,1959.16,1810.55,1421.48,751.64,639.68,457.87,6295.59,5790.7,4804.68,4557.18,4340.85,4339.42,4304.76,4042.72,3622.23,3561.63,3514.19,3507.54,3444.33,3376.73,3310.88,2876.79,2361.4,2154.99,2027.55,1749.25,1694.8,1560.45,966.26,929.66,5645.94,5568.11,4940.29,4761.04,4753.25,4301.37,4274.19,4100.07,3366.33,3207.94,3013.36,2793.38,2586.86,2399.03,2330.31,2244.81,2147.9,2128.07,1956.04,1809.75,1803.16,1615.05,1450.11,1103.56,1021.38,598.75,3944.56,3656.91,3322.18,3237.26,2941.68,2228.87,2009.12,1934.89,5303.4,4984.75,4040.14,3743.23,3633.03,3422.77,3237.3,3101.97,3085.94,3010.97,2995.61,2693.28,2678.47,2648.16,2352.9,2099.02,1974.15,1867.68,1270.92,6604.96,5135.93,4321.04,4082.68,3878.38,3774.76,3179.43,2865.46,2843.71,2781.18,2657.02,2333.86,2184.98,1913.06,1912.7,1686.06,1625.96,1527.37,1308.53,6461.65,5310.49,4874.34,3741.95,3645.34,3391.52,3380.72,3239.65,2676.55,2622.16,2275.19,1962.96,1787.49,1706.37,1692.35,4773.66,4540.07,4073.87,4069.65,3632.9,3610.93,3391.57,3180.46,3081.88,2410.96,2358.01,2350.47,2268.17,2224.84,2221.87,1718.22,1590.83,7122.43,5482.87,4785.24,4384.04,3801.49,3772.46,3649.97,3488.94,3431.96,3367.9,3187.52,3040.08,2971.58,2210.38,2046.87,1825.58,1338.87,1292.83,936.0,9000.31,6927.84,5566.18,4971.71,4527.53,4234.0,4230.95,3954.79,3947.67,3571.26,3500.33,3441.31,3335.75,2859.17,2286.77,2170.5,1924.86,1757.57,1456.63,8610.58,4814.37,4663.6,4396.02,4007.37,3924.8,3641.11,3583.43,3179.37,2742.85,2230.41,2154.81,1964.47,1715.12,1505.34,1293.44,4745.01,3994.89,3982.66,3934.88,3932.29,3583.55,3401.32,3320.78,3288.76,2616.82,2290.81,2116.69,2110.72,2007.97,1389.53,6685.19,5549.67,5297.44,5289.72,3709.85,3411.88,3084.03,3058.15,3036.4,2088.81,2067.83,1779.05,1315.09,8087.61,5430.03,4784.2,4149.89,3602.95,3190.54,2389.13,2282.97,1877.76,1804.31,1477.27,6996.83,6483.53,6128.95,5045.39,4835.83,4541.16,3945.29,3522.44,3438.47,3393.47,3267.96,3140.78,3045.55,2965.6,2835.98,2692.94,2660.75,2520.09,2275.09,2010.27,1961.75,1878.82,1874.63,1497.13,1367.22,16693.78,6287.51,5552.51,4229.0,3924.79,3632.08,3596.96,3018.95,2851.94,2580.27,1851.28,1832.85,1762.81,1549.79,1440.66,3844.6,3794.7,3699.73,3666.75,3414.26,3348.89,3220.96,2898.14,2407.14,2182.56,2097.01,2077.33,2058.85,1952.48,1900.24,7064.83,4196.87,4176.19,3867.4,3613.27,3235.7,2509.8,1926.78,1724.24,1695.02,1548.21,1240.77,754.14,12898.64,5237.16,5194.48,5151.87,3494.38,3472.72,3261.83,3249.59,3090.78,2969.46,2594.5,2490.35,2225.57,2133.45,2130.96,2079.04,2034.09,1878.85,5975.13,4357.52,3623.15,3154.47,3095.16,2854.55,2783.17,2489.29,2288.78,2015.65,1985.94,1877.88,1750.31,1667.74,1551.94,1386.8,1223.7,1085.79,5886.08,5001.17,4218.76,3789.19,3536.42,3235.95,3028.05,2370.96,2152.28,2033.94,2006.86,1965.86,1923.96,1800.11,4426.34,4353.02,4032.03,3616.59,3257.62,3146.9,3001.64,2958.21,2338.69,1905.35,1483.82,1459.25,8423.38,3899.27,3803.36,3543.28,3375.05,3128.71,2668.99,2026.88,2016.91,2005.8,1810.15,1121.25,5672.74,5142.93,4882.45,4258.97,4179.81,4156.76,3895.08,3837.42,2577.95,2450.3,2197.45,1983.86,1641.3,1457.66,1444.36,1359.67,1151.24,8292.66,5160.77,4958.04,4456.87,4435.34,3502.05,3187.01,3145.87,3134.79,3021.89,2176.8,2167.76,1906.76,1890.66,1342.99,1269.22,5057.07,4861.62,4405.22,3778.95,3478.81,3453.1,3220.27,2809.53,4898.17,4766.36,4144.42,3569.46,2918.86,2661.01,2607.54,2112.36,1924.44,1392.81,4846.96,4723.75,4373.9,3138.76,3124.4,2684.16,2445.41,2398.77,1604.17,1461.53,14153.58,4498.26,3881.89,2735.52,2667.52,1769.91,1726.92,1682.03,1501.36,1481.43,720.73,6505.59,3796.64,3407.86,3215.13,3082.34,2527.69,2137.1,2083.83,1462.85,12230.55,5027.98,4420.37,3889.59,3843.93,3112.0,3063.84,1295.63,5142.95,5096.45,3778.02,2679.43,2199.71,6962.8,6206.7,3859.91,2936.97,2854.15,2069.46,2014.81,1631.84,1389.85,5885.94,5252.83,4322.21,4268.78,3522.99,2679.35,2592.07,2494.67,2451.38,2134.7,1680.83,1219.98,8874.28,6796.33,4014.06,3184.83,2809.83,2327.75,2284.78,1944.15,4030.9,3529.86,3340.87,3095.27,3093.37,2511.07,2386.61,2382.69,34847.4,24178.97,4273.8,3908.63,3362.11,3293.14,2697.94,1681.32,4920.85,4895.9,4258.86,3992.53,3782.38,3576.73,3157.75,3147.23,2739.86,2329.36,2270.29,1825.32,1401.61,4696.36,3754.5,3248.02,3218.15,3093.67,2604.37,2552.35,2084.26,2027.57,1892.09,1886.11,4982.03,4496.84,3870.5,3697.58,3672.51,3658.73,3586.91,3180.31,3071.65,3068.29,2763.94,2117.37,1895.71,1776.42,1013.18,7096.76,5123.76,3099.59,3037.2,2815.43,2442.37,11349.58,4278.98,3615.0,2887.53,2592.31,2434.5,2212.93,2013.84,1979.11,4851.06,3901.01,3380.98,3257.01,3188.92,3074.91,2754.75,2105.25,1867.74,1788.69,1486.35,7163.0,3809.96,3805.47,2112.97,1428.15,5786.92,4165.65,3632.77,3527.89,2909.83,2588.97,2445.95,2107.34,2104.72,1775.8,15840.36,5922.88,5090.73,3768.22,3386.43,3128.46,3044.29,2912.01,2682.75,1960.08,1741.2,6137.82,5490.75,4557.89,3614.05,3086.19,2892.48,2747.8,2540.77,2446.51,2387.04,7874.51,5949.74,3638.58,3342.95,3072.14,2850.87,2776.41,1183.83,6317.17,4081.49,3578.94,3332.26,3315.21,3026.71,2652.48,2564.39,2547.46,2012.43,6022.3,4465.42,4005.69,3746.01,3604.93,3257.84,2605.64,1679.56,1484.02,1398.35,1003.32,5508.12,4228.92,3516.61,3411.37,3327.96,3281.03,3254.05,2992.8,2981.19,2819.95,2540.56,2417.04,1763.15,1617.74,1437.26,5245.81,4172.93,4031.1,3679.62,3643.01,3346.94,2990.45,2552.8,2130.07,1984.3,1956.25,1646.13,1390.43,5162.92,4261.88,3163.49,2690.05,2614.42,2055.51,2036.66,1945.86,1925.43,939.15,4960.41,4788.41,3423.09,2979.05,2579.08,2430.41,6265.99,4735.86,4592.1,4165.86,4097.22,3744.11,2185.62,2183.87,2162.76,2066.39,1457.32,1300.07,4856.92,4215.18,4009.41,3993.66,3815.16,3764.5,3322.88,3271.97,3220.88,3167.16,3166.94,3041.83,2526.73,8821.84,1979.92,1288.22,10364.66,4052.63,2718.89,2588.43,1825.24,1819.46,1758.78,1545.89,1480.83,1428.85,5840.36,3992.89,3802.62,3670.47,3284.44,2586.85,2354.04,2298.68,2186.71,1270.32,1034.8,8649.29,3964.49,3502.73,3427.02,3363.87,3258.52,3227.07,3092.24,2883.05,2515.6,2285.8,2207.57,1594.73,1432.92,1403.4,4966.92,4329.89,4168.01,4123.53,3986.97,3621.37,3295.47,2132.86,1656.95,8530.77,3252.47,3015.81,2066.04,1249.1,1219.23,7664.16,3072.21,2441.96,2238.56,2178.33,6016.91,5931.42,3815.21,3474.12,3217.91,2659.43,2615.31,2476.3,2223.1,4571.49,4178.61,3038.94,2454.2,2184.87,2126.35,1564.36,3840.17,3578.72,3398.3,2576.83,2233.56,2072.18,1715.8,6683.75,6061.5,4902.56,4112.21,3445.19,3095.83,2896.7,1901.25,1348.85,5396.85,4133.73,2441.16,2120.24,1735.03,1695.37,1680.26,4740.99,3818.25,3672.75,2781.78,2291.27,2220.33,2053.81,1989.39,1513.85,5718.78,5139.45,3413.67,3208.98,2341.17,2235.5,10242.0,8261.65,7827.92,3172.14,3036.87,2459.35,2366.8,2250.5,1989.83,1883.14,3298.85,2622.71,2262.11,2247.82,1800.18,1747.06,1635.65,1187.91,5138.59,3832.92,2998.79,2257.33,2023.85,1891.79,1886.19,1756.03,1591.66,1017.64,5219.97,3640.1,3626.26,2922.55,2111.84,2106.86,1497.21,6217.61,5578.74,3469.06,2837.73,2491.86,2333.65,1614.78,5819.09,4915.13,3884.55,3778.87,3509.32,2264.69,1999.49,1870.95,12940.0,3614.23,3488.19,3457.05,3137.67,2717.28,2120.22,1519.51,1443.84,932.76,32486.98,5439.47,3176.45,3125.86,2062.43,1958.0,8924.16,7420.83,3830.11,3701.87,2852.06,1869.34,8088.62,4242.67,3360.92,2702.14,1961.4,1434.9,4395.67,3048.57,2725.56,11127.82,5399.94,3880.3,3354.91,3321.09,2727.51,2630.37,2564.11,5667.4,4920.05,4841.68,4224.12,4150.17,3797.83,3495.65,2530.55,1507.87,7066.32,4034.96,4005.16,3967.02,3431.25,3307.93,3206.01,2581.88,1849.76,1587.8,8485.4,6786.96,6086.25,4466.88,3496.03,2982.98,2041.74,1450.14,4222.77,2785.51,2663.3,2423.79,5833.92,5083.12,5056.45,3378.51,3216.33,2556.79,2516.09,2370.58,2245.18,5130.41,3978.67,3207.96,2460.46,5013.97,4783.34,4417.95,4038.58,3030.74,532.69,5506.03,5000.97,4639.01,4060.84,3804.94,3623.29,2805.2,2638.56,2514.59,2444.02,1498.24,7185.17,3244.22,2672.06,2160.07,2037.91,1988.48,1771.75,1392.67,6981.68,3271.48,3143.81,2941.92,2411.52,2407.02,2340.82,2164.85,1880.42,1777.8,1510.96,7361.44,6346.36,2673.86,2578.78,1922.27,1867.1,1619.84,4675.87,3857.2,3688.68,3126.47,3065.36,2808.83,2760.0,2620.27,1920.96,1681.21,1406.2,9281.38,6163.77,3279.01,3004.44,2666.67,1990.44,1969.95,1909.42,1372.49,14526.72,13653.62,5599.75,3986.23,3722.74,3304.76,3190.6,2837.88,2608.91,2378.43,1878.4,1873.43,5309.67,4317.75,2764.31,2034.37,1988.86,1953.45,13155.89,4285.9,4208.82,4195.87,3813.88,3282.55,2583.35,2559.82,2491.24,6125.76,4852.21,4104.62,3407.86,2383.72,2063.86,1658.46,15999.94,4151.28,3884.86,2206.37,2032.56,1868.14,1425.72,3937.16,3679.65,2146.04,1837.15,1800.05,1211.03,11402.66,4329.94,3459.83,2478.07,3347.63,3043.7,2266.02,2217.64,1573.81,5764.56,3804.46,2848.56,2627.84,5797.76,5358.28,4604.26,4055.97,3991.36,3780.39,3609.33,3346.16,2495.48,2287.42,1994.05,1098.7,5716.13,3647.9,3409.38,2293.65,2185.66,1394.81,5707.53,3872.33,3327.4,3134.29,3128.88,1701.01,7041.4,5157.79,3861.1,3199.37,3132.64,2620.4,2217.35,2073.76,3673.94,3547.9,3312.91,3237.85,2274.96,1106.56,1069.04,6634.07,2660.03,2635.94,3032.95,2670.68,2099.06,1772.2,8548.18,2580.78,2492.54,2201.17,2143.24,2114.41,1151.05,8668.14,5169.2,4981.15,4589.92,3288.87,2438.56,2307.96,2038.56,16884.99,6241.98,5331.63,4126.06,3473.12,2850.73,2131.67,2112.64,2086.62,2060.51,9823.94,9172.22,6314.83,5089.87,4444.72,3796.62,2624.99,2506.85,5225.49,3243.01,1927.77,5746.05,3277.57,2772.17,2132.39,2151.2,4927.35,7895.44,2438.96,2093.0,3104.51,2169.85,10254.36,5838.1,3204.19,3002.7,2913.36,2801.34,4993.54,4519.27,2804.37,2797.49,7438.61,1987.82,3230.43,2765.65,4605.97,4048.07,2470.43,11661.81,3603.35,2429.56,2338.81,1962.22,5458.29,2324.84,2372.62,5557.64,4659.65,4338.84,3836.51,2116.63,8605.24,6324.41,4274.77,2405.84,1978.87,2627.49,2117.2,4267.64,3531.05,13355.0,2438.28,4495.04,3197.14,2791.36,4624.81,4802.86,4209.33,2881.45,2225.07,2058.81,3872.15,2521.21,3637.1,2044.94,8046.41,2460.26,3571.96,2397.42,2222.74,8215.9,4755.26,4351.48,4045.18,3411.59,2388.15,2872.27,2595.41,4838.73,3893.24,3618.84,3078.86,3926.38,3232.75,3574.68,3034.24,3077.01,2777.44,2538.22,2165.72,2524.83,3879.26,3048.46,2198.47,4629.98,2897.37,2471.66,5279.61,3763.3,3757.02,3011.86,2405.76,5455.86,4142.87,3462.34,2469.27,2137.25,3860.69,3796.33,3253.89,3130.85,2792.55,2316.8,3760.89,2952.23,6055.55,5815.31,2779.22,3894.12,3047.74,5842.3,1964.78,11225.6,3624.75,2496.89,3257.24,2121.84,2329.12,8969.73,6461.05,4077.06,3766.73,2609.37,3840.4,4738.49,3406.45,2690.89,4685.89,2770.87,2142.07,2536.35,4337.32,3167.16,2758.07,2248.69,2873.0,2145.45,4449.84,7160.0,2929.21,6753.17,2955.23,2684.78,2335.18],\"xaxis\":\"x\",\"y\":[124,82,43,44,55,49,43,54,19,21,37,20,21,34,31,28,31,11,20,15,29,13,13,19,14,18,18,24,22,24,28,31,13,19,11,23,18,22,21,27,29,26,20,13,18,24,9,20,40,25,22,13,25,8,10,15,28,17,17,9,15,18,9,18,13,12,19,21,10,17,13,15,8,10,25,13,11,21,18,10,18,16,10,9,8,12,6,20,14,14,21,11,9,14,17,16,17,8,12,5,11,9,22,16,8,5,25,18,9,15,7,15,8,12,12,12,5,15,7,17,8,17,14,13,12,6,18,8,9,6,14,10,12,10,14,11,6,18,13,12,8,8,7,9,15,6,8,7,10,6,6,13,6,11,8,9,8,5,10,11,7,7,13,14,12,11,14,7,13,9,9,8,8,11,13,5,20,10,7,12,10,10,9,7,8,9,9,11,8,6,12,10,11,5,10,14,14,13,13,5,5,5,10,13,6,11,10,9,9,11,7,10,8,9,7,14,5,8,9,7,9,11,6,5,5,8,8,11,9,6,10,6,8,17,7,12,13,12,6,10,16,9,7,8,8,10,6,8,5,7,13,7,5,8,13,5,5,8,10,8,9,6,15,6,5,6,9,6,7,8,7,8,5,7,7,5,6,7,5,6,12,7,11,6,8,10,13,5,12,6,8,8,7,5,5,6,10,9,6,5,5,10,5,5,6,8,6,7,6,6,6,10,7,5,6,6,6,7,7,12,5,6,7,6,6,6,6,5,7,6,6,5,5,6,7,7,8,6,6,10,7,7,5,5,5,12,9,7,5,7,6,7,8,5,6,5,5,7,5,11,5,5,5,6,5,7,6,8,6,6,7,7,5,5,7,8,8,44,47,41,22,56,45,24,35,28,18,34,34,33,25,35,30,6,12,29,20,22,29,21,21,23,38,21,25,16,29,22,26,17,18,21,26,23,9,23,21,8,6,40,54,25,17,48,48,76,42,28,15,22,29,34,7,29,23,19,17,29,29,23,24,25,23,17,16,8,25,16,22,24,28,27,16,19,15,17,7,54,43,51,27,41,43,20,31,30,34,49,31,49,16,18,15,15,23,19,28,38,15,25,25,21,17,18,14,19,12,18,20,10,16,16,7,84,32,20,109,47,50,42,67,22,34,30,28,18,19,15,25,16,30,23,17,34,25,29,20,18,19,14,17,23,18,5,15,16,18,16,13,5,10,36,26,43,107,18,63,55,49,32,15,24,38,41,28,38,48,51,7,11,19,25,11,25,26,24,31,35,31,30,19,19,22,18,19,15,26,22,19,8,24,29,13,11,16,11,5,7,5,42,39,27,20,17,46,62,21,20,32,27,17,30,31,26,19,20,18,18,28,23,21,26,17,17,34,18,14,15,21,6,14,28,34,31,32,26,39,40,21,28,35,20,17,26,23,20,21,18,16,14,24,23,22,8,9,9,7,24,17,18,19,22,42,27,68,16,14,18,22,21,7,35,23,18,28,25,21,19,25,19,26,21,20,25,18,23,16,9,10,39,54,51,21,22,23,20,21,18,28,16,24,39,22,16,30,27,20,24,19,11,28,26,16,20,21,21,17,15,23,26,24,19,7,17,13,8,10,7,32,33,32,35,27,23,42,22,26,18,36,27,17,22,21,18,9,21,11,26,19,15,14,5,5,20,16,48,61,10,43,24,18,21,17,29,13,27,28,24,21,29,21,25,21,27,20,25,17,16,27,22,17,16,23,18,19,23,16,23,29,26,15,18,16,21,7,7,47,48,37,60,33,52,34,51,20,15,50,14,40,21,27,22,19,39,24,45,17,18,28,26,31,20,29,19,20,13,17,17,15,12,18,7,50,41,24,20,21,19,12,35,24,59,32,21,7,20,31,14,40,4,15,26,29,25,35,19,37,19,44,23,27,23,25,24,21,15,20,9,22,9,17,16,17,9,6,6,101,55,36,17,27,16,11,22,12,29,17,9,27,21,25,18,15,25,23,79,49,13,13,11,9,19,20,23,34,22,25,19,19,28,17,23,41,47,40,17,38,19,31,22,34,21,23,21,21,19,13,15,57,6,38,29,35,36,25,35,46,34,31,18,15,16,20,22,25,24,23,17,20,17,19,17,16,18,22,28,22,39,27,36,10,19,19,20,29,21,24,24,27,22,17,16,28,21,19,17,15,6,5,11,25,23,23,13,19,20,26,9,33,39,16,18,34,11,24,7,17,18,28,37,27,20,19,21,26,22,21,37,12,23,33,33,49,24,40,18,23,25,14,30,14,26,22,28,20,24,36,25,25,16,18,38,44,24,15,18,26,24,29,18,19,41,49,20,24,27,32,28,22,15,17,23,33,15,24,27,24,18,37,28,28,9,34,22,34,17,26,34,16,29,26,21,14,18,20,18,19,65,68,51,36,20,34,23,36,29,17,21,28,7,21,28,18,15,19,21,60,29,47,22,13,63,28,30,24,24,24,19,20,22,26,22,8,16,40,26,49,14,10,46,26,21,15,30,28,17,18,30,79,7,19,19,16,27,10,11,17,18,26,22,40,30,11,35,15,9,29,25,32,26,21,52,26,27,60,8,10,18,8,23,25,22,10,13,30,28,18,25,19,26,23,16,24,27,18,18,66,16,85,16,28,31,19,47,36,18,19,18,19,26,19,21,34,13,18,21,19,22,21,21,21,11,21,24,18,30,39,55,31,22,17,11,28,22,18,19,18,21,19,74,41,71,51,32,13,20,45,14,19,27,30,22,21,12,22,20,18,11,15,28,26,35,32,18,24,31,18,18,24,21,26,20,21,28,25,25,30,28,40,20,20,24,20,21,21,17,18,17,19,21,36,27,22,24,27,15,31,23,18,19,26,32,37,27,22,23,29,18,12,12,23,20,19,41,15,7,5,35,15,35,21,23,29,22,18,24,21,20,18,20,25,34,32,20,15,16,22,20,29,38,19,16,21,19,25,21,69,33,30,18,32,26,25,34,18,29,22,18,19,21,19,21,18,21,35,23,16,25,21,18,30,24,19,19,47,25,33,28,23,30,20,21,20,19,20,22,20,19,32,23,22,24,18,21,83,10,22,21,14,31,33,23,15,23,27,21,22,28,26,35,44,28,25,29,20,20,31,50,37,15,23,25,30,16,32,33,18,24,30,28,24,43,35,21,23,17,17,24,30,16,28,16,27,27,61,53,27,17,11,35,21,25,41,57,31,27,21,8,19,29,17,18,24,21,19,35,26,19,9,21,31,21,15,13,21,22,28,23,22,13,26,23,18,9,12,44,16,25,38,21,20,9,41,23,33,22,17,156,21,23,39,27,12,21,18,15,20,25,44,18,12,19,36,21,33,18,19,23,18,24,33,19,27,45,17,15,23,23,19,14,22,20,19,43,22,20,31,22,19,26,22,16,20,30,40,22,13,18,28,24,21,21,25,47,40,21,21,12,35,30,24,28,54,34,38,19,29,21,17,27,17,60,62,26,8,18,23,28,18,19,19,21,41,12,23,16,25,21,20,30,19,30,17,24,26,23,18,21,29,30,27,15,14,30,36,14,12,20,21,22,15,46,13,16,24,20,21,19,29,21,19,35,26,25,30,55,28,39,16,27,19,13,25,22,19,18,19,20,28,20,30,31,32,16,20,7,20,11,15,18,40,111,7,22,49,29,21,26,22,20,22,22,20,26,37,20,18,15,22,16,18,21,16,18,18,25,24,15,22,18,21,20,32,32,19,18,26,18,32,20,34,26,28,18,21,21,17,24,25,62,29,22,26,22,20,30,13,20,19,21,46,59,21,24,13,20,22,15,23,25,32,12,30,19,17,18,41,9,33,20,18,19,20,88,43,48,23,15,7,17,18,18,18,36,18,21,21,18,19,30,51,19,22,19,27,21,27,18,42,12,28,5,19,21,10,18,44,37,17,17,19,31,18,19,24,28,16,21,23,19,21,19,32,18,31,19,11,18,18,23,20,19,15,14,41,23,21,12,25,17,40,26,31,21,18,19,30,13,18,21,22,28,23,18,10,28,5,30,28,20,24,19,18,24,59,35,13,18,16,9,43,32,14,16,18,19,23,9,39,29,22,21,22,18,17,128,24,34,12,20,19,33,21,44,10,42,38,9,32,18,19,25,35,12,31,23,23,13,16,19,19,18,26,61,43,20,29,26,10,19,29,27,36,16,23,32,28,24,19,23,40,23,8,31,23,7,23,34,25,16,19,12,39,29,34,50,30,11,37,23,16,30,24,19,25,15,34,28,15,21,35,25,22,14,23,20,19,11,20,20,21,20,19,46,33,23,24,16,18,18,51,19,19,16,22,20,20,13,24,19,22,40,42,24,19,28,23,21,20,19,75,32,22,27,22,35,28,16,11,18,18,23,30,14,36,25,24,9,32,27,26,22,21,19,29,22,30,14,41,32,23,15,20,18,81,14,11,19,34,18,19,17,48,17,18,21,19,61,13,27,24,7,16,22,24,20,45,12,16,16,24,33,23,13,20,17,30,12,20,27,29,20,48,13,15,20,16,19,21,27,17,30,15,23,37,44,28,11,9,16,17,19,9,20,23,19,16,19,19,20,24,13,21,22,17,24,59,31,17,14,21,23,19,44,40,25,27,20,19,26,20,26,31,37,49,18,29,19,21,48,19,24,54,18,31,29,29,22,21,22,21,26,34,21,21,23,19,46,26,23,20,22,18,44,47,26,24,37,19,35,40,18,24,31,20,22,19,18,18,21,30,26,21,26,18,50,20,18,24,29,20,32,19,45,37,29,19,24,34,26,22,25,57,29,19,18,18,33,25,21,19,24,24,29,26,30,23,27,20,28,25,26,23,19,23,20,23,20,24,22,29,28,23,21,19,32,24,30,18,20,26,21,19,45,22,20,27,20,26,19,23,20,24,19,47,24,22,24,19,57,22,19,22,20,21,23,29,26,31,26,18,19,66,20,31,27,20,24,19,21,38,23,24,30,27,18,27,34,23,27,19,20,19,30,21,19,19,24,18,27,37,32,32,21,22,25],\"yaxis\":\"y\",\"type\":\"scattergl\"},{\"hovertemplate\":\"Segment=Potential customers<br>Monetary=%{x}<br>Frequency=%{y}<extra></extra>\",\"legendgroup\":\"Potential customers\",\"marker\":{\"color\":\"#EF553B\",\"symbol\":\"circle\"},\"mode\":\"markers\",\"name\":\"Potential customers\",\"showlegend\":true,\"x\":[1596.22,1436.5,1376.5,1344.09,1253.25,1250.0,1179.83,1172.97,1169.14,1087.21,1056.0,1049.22,1039.5,1029.0,1020.97,1016.99,986.58,945.0,928.77,910.99,905.99,892.09,877.57,856.75,849.58,838.25,832.98,819.47,810.98,804.18,797.99,797.32,795.0,791.0,790.5,776.99,771.86,734.99,732.22,731.97,726.49,719.67,710.83,706.83,690.0,690.0,683.53,663.75,660.99,659.97,642.97,642.21,638.98,631.97,631.76,622.97,617.96,617.13,616.99,613.74,612.0,606.65,591.96,581.5,579.75,578.74,576.97,573.97,573.05,570.47,570.0,557.97,557.6,556.63,556.12,555.98,555.96,554.66,553.9,550.49,549.99,544.22,543.23,539.97,538.99,537.97,535.98,535.97,533.79,533.35,532.25,531.25,525.99,525.87,522.23,519.97,519.96,519.96,518.99,517.48,512.02,502.24,496.47,496.26,495.23,488.99,486.99,483.99,482.97,482.8,481.75,480.98,479.0,478.99,477.63,474.96,473.99,464.99,463.73,463.25,463.25,462.07,458.19,455.97,455.24,455.0,453.98,451.92,451.89,448.25,443.99,443.09,440.78,436.5,435.08,430.59,429.8,428.97,426.5,425.13,424.73,424.06,423.69,421.79,420.69,419.96,418.98,418.95,418.49,415.65,413.99,412.34,411.07,410.36,408.39,408.18,407.88,407.49,407.38,407.06,406.6,406.0,404.26,401.98,401.37,401.0,400.99,399.92,398.47,398.3,397.87,395.99,395.48,394.98,394.97,394.49,393.73,392.06,391.99,391.0,390.78,389.99,389.21,388.96,388.74,388.49,386.99,386.64,383.18,381.17,380.99,379.39,378.31,377.98,377.74,377.27,376.97,376.62,376.25,375.0,375.0,374.99,374.0,374.0,373.99,373.88,373.28,372.99,372.98,371.97,371.57,371.23,370.98,370.97,369.99,369.99,369.98,369.32,367.51,367.24,366.97,365.95,365.0,364.59,364.0,363.98,363.5,363.18,362.74,359.98,359.0,358.75,357.48,357.0,356.78,356.47,355.98,354.98,354.98,354.98,354.49,352.57,352.49,351.98,351.97,351.09,351.08,350.96,350.23,349.31,349.2,349.13,349.01,348.5,348.27,347.48,345.99,345.5,344.97,344.29,344.25,344.25,340.98,340.28,339.99,339.99,339.97,339.45,338.97,337.97,337.63,337.07,336.98,336.5,336.48,336.0,335.99,335.75,335.73,334.96,334.9,334.0,332.62,332.29,329.99,329.94,328.75,327.98,326.98,326.83,326.47,325.97,325.84,325.5,325.0,324.99,324.99,323.98,321.99,321.8,320.48,319.75,318.99,318.98,317.99,317.78,316.87,316.49,315.42,315.15,315.0,314.98,314.48,314.19,313.67,312.14,311.98,311.48,311.1,310.98,309.97,309.12,308.45,308.18,307.97,307.38,306.98,305.18,305.18,304.98,304.13,304.07,303.99,303.99,302.8,302.64,301.98,301.87,300.98,300.98,299.73,299.0,298.95,297.99,297.5,297.5,297.5,297.46,297.24,296.46,296.0,295.38,294.99,294.98,293.97,293.75,293.74,293.44,292.99,292.99,292.08,291.99,291.98,291.98,291.48,290.43,290.0,289.98,289.0,289.0,286.89,285.99,285.99,284.99,284.98,284.98,283.99,283.99,283.71,282.99,281.96,281.78,280.29,280.24,280.14,280.0,279.98,279.8,279.65,279.0,278.98,278.46,278.24,278.0,277.98,276.25,275.74,275.48,275.27,274.9,273.93,273.7,272.99,272.98,272.72,271.99,271.98,271.67,271.48,271.48,270.93,270.59,270.0,269.99,268.74,268.48,267.75,267.68,267.24,266.98,266.64,266.29,266.13,266.09,265.99,265.0,264.98,264.07,262.98,262.65,261.99,261.98,261.72,261.53,261.0,260.73,260.64,259.98,259.98,259.97,259.96,259.78,258.1,258.08,257.97,257.8,256.98,256.47,255.94,255.3,255.0,255.0,254.98,254.15,253.98,253.43,253.15,251.57,250.97,250.63,250.0,250.0,249.97,248.08,247.99,247.5,247.48,246.98,245.98,244.98,244.97,243.38,243.0,242.25,241.98,241.53,239.98,239.0,239.0,239.0,238.99,238.98,238.89,238.67,238.0,237.15,237.08,235.99,235.99,235.99,235.74,235.73,235.49,234.6,232.99,232.9,231.99,231.97,231.76,231.07,230.99,230.98,230.27,230.0,230.0,229.99,229.14,228.97,228.0,227.98,227.8,227.07,225.97,225.49,225.0,224.98,224.19,223.48,223.22,222.65,222.38,222.24,221.89,221.82,221.46,221.0,220.99,220.98,220.89,220.74,220.15,220.0,220.0,219.99,219.99,219.98,219.0,219.0,218.97,218.49,218.45,218.0,217.99,217.94,216.99,216.99,215.99,215.88,215.0,215.0,214.99,214.99,214.5,214.0,213.79,212.96,212.5,212.5,212.5,211.49,210.0,210.0,210.0,210.0,210.0,210.0,209.99,209.5,209.48,207.99,207.98,207.15,207.09,206.94,205.99,205.24,205.0,205.0,204.99,204.0,204.0,204.0,203.65,203.19,203.0,202.64,202.48,202.12,201.99,201.99,201.99,201.99,201.56,201.08,201.0,200.0,200.0,200.0,199.99,199.98,199.75,198.99,198.99,198.98,198.9,198.17,197.48,196.97,196.75,195.99,195.99,195.99,195.99,195.98,195.97,195.5,194.99,194.97,193.99,193.99,192.95,192.74,192.0,191.98,191.47,191.25,191.25,191.13,190.99,190.98,190.97,190.62,190.0,190.0,189.99,189.99,189.89,189.0,188.37,188.0,188.0,187.98,187.0,187.0,187.0,186.99,186.99,186.17,185.49,185.3,185.3,184.99,93.1,372.58,336.68,250.75,465.33,343.93,206.45,124.94,539.94,387.73,339.65,370.84,359.55,1018.94,323.94,320.5,1036.69,653.74,267.52,85.05,903.99,207.35,551.02,418.34,230.02,1126.4,256.84,253.48,175.1,158.95,368.77,187.44,182.6,149.88,1183.0,400.46,522.5,519.98,511.44,408.89,261.94,225.45,633.95,210.99,467.74,597.99,471.94,406.71,270.99,173.95,1803.16,1522.46,1162.37,858.97,793.15,1169.26,604.18,3157.75,1710.87,877.1,848.95,646.0,1310.53,916.89,900.99,633.98,1305.87,1026.9,679.17,532.99,1755.94,1450.95,1439.85,1421.27,1212.51,786.91,542.64,455.92,433.15,329.01,1709.45,1609.33,906.54,615.03,1773.85,947.36,738.92,460.36,1572.06,1319.75,1021.0,628.75,447.14,3275.0,1668.0,1360.52,987.68,608.69,1444.37,439.39,1306.98,1156.49,552.0,454.99,445.58,1881.87,1469.94,959.66,819.52,405.2,1569.45,733.04,694.78,1680.12,1431.02,883.8,787.96,273.54,1857.31,1123.36,734.95,1260.84,988.97,957.4,1826.78,1490.94,1478.51,1475.64,975.36,503.89,466.07,1163.98,869.96,734.92,671.89,608.5,590.2,279.64,1762.95,1631.36,1314.08,789.29,1386.88,1192.87,1754.47,1065.96,911.99,650.48,629.32,549.03,356.1,1686.78,1064.0,817.94,492.55,476.9,1478.18,613.96,444.4,1550.61,1004.89,494.89,491.28,1579.85,1545.11,1401.35,1248.39,969.14,644.93,1412.07,1840.92,1825.96,1461.16,1335.05,1248.62,845.89,1336.55,1179.05,1094.95,752.33,441.95,1443.79,1239.98,938.02,758.94,598.84,333.49,1180.21,1283.99,878.86,717.67,678.3,1229.36,1176.37,1019.92,1281.94,906.37,466.18,419.56,342.17,1849.22,1609.47,1417.0,1271.34,1172.75,605.07,653.08,1804.14,1080.95,880.02,518.75,348.47,1740.34,1291.86,809.18,731.49,653.17,645.99,515.99,288.88,1650.15,1639.22,649.79,535.64,1462.46,758.71,478.99,1053.16,1699.96,1411.08,1263.98,852.93,1500.34,1055.46,664.99,589.99,454.08,1458.8,1394.26,809.84,1890.8,1727.76,1724.95,1682.96,962.87,430.24,1582.46,1131.54,1079.08,1061.95,900.29,448.04,1510.86,1296.65,1205.93,1024.2,603.37,600.96,596.86,1186.98,1072.56,908.58,726.2,453.48,1900.35,1510.49,1271.46,977.77,457.9,162.51,1748.19,1651.34,891.87,1201.48,1094.95,452.54,1311.46,897.86,683.45,640.98,539.95,1605.89,1274.88,1068.86,966.7,1109.87,1027.89,281.31,1217.14,1058.16,1051.88,1867.85,1390.87,1067.85,830.44,410.76,1465.97,833.95,756.41,547.98,391.91,338.77,158.99,1557.87,1150.49,670.89,501.93,1750.79,1515.46,1108.26,957.34,867.38,646.92,1792.0,1103.97,631.65,321.97,1436.86,1425.83,1676.7,1576.07,1546.84,1016.9,863.87,623.11,515.98,1639.02,1578.95,1365.35,1190.36,587.97,410.36,1408.84,1397.36,1327.46,717.67,531.0,492.99,458.19,353.83,1133.86,1114.78,1017.39,1003.79,627.98,448.18,1815.41,1588.05,1411.54,1112.11,829.54,597.98,450.86,1611.46,1290.37,1164.88,1620.91,1069.5,995.47,814.16,526.38,502.6,473.63,343.96,1402.23,1102.79,915.98,591.91,471.4,1447.4,1356.16,943.2,461.92,1661.22,1625.75,1118.38,851.82,277.96,1420.96,1329.86,1018.81,926.83,1648.58,1637.56,1396.87,1326.41,1035.23,995.52,884.58,757.36,574.03,518.95,1742.86,1393.85,1384.82,1123.08,958.93,466.38,1270.05,1076.55,859.91,234.87,1263.62,311.93,1659.89,1534.32,1207.96,1207.35,998.97,595.69,471.42,324.98,252.87,1890.85,1433.46,1176.06,1041.67,931.81,696.07,580.43,417.48,1549.85,1155.29,1011.9,593.98,1746.09,1655.88,1423.85,829.19,754.24,565.43,547.98,467.01,377.32,221.08,1079.12,784.48,459.44,1760.94,1735.47,1316.57,1153.55,559.18,1569.05,1386.07,929.0,621.34,603.91,539.02,113.95,1319.85,618.97,565.98,1549.02,1314.99,1131.73,549.46,1718.86,1600.63,1355.88,1190.98,718.18,637.9,619.94,1567.87,1211.41,940.94,784.95,502.94,1614.48,1309.12,1049.38,1337.36,770.38,729.37,623.95,259.82,1360.72,560.03,503.69,1606.47,1131.78,714.32,645.93,1235.81,1107.43,665.96,473.03,466.99,1097.46,1056.55,852.91,660.51,432.99,332.19,1738.76,601.72,461.98,1230.14,741.29,512.35,378.52,1656.57,1629.36,1296.47,924.54,916.14,1429.55,691.26,496.18,437.86,421.26,1448.1,1229.53,832.08,762.94,744.69,714.99,428.66,2067.86,1757.82,1090.57,590.93,567.37,560.92,4648.68,3896.27,2318.24,1876.94,1868.84,1706.04,1514.3,1401.3,1358.67,1312.66,1259.04,1255.78,887.45,728.05,482.94,4667.37,1494.52,1211.8,1172.31,1153.42,1065.3,1519.08,2099.52,504.94,466.97,3760.85,1866.45,1645.87,1214.12,1109.31,526.95,491.63,3181.86,1946.28,1892.66,1400.06,1390.86,793.87,793.58,3614.92,3483.11,3297.86,2939.87,1771.07,525.19,2696.87,1340.75,968.93,799.46,6977.93,3844.88,3044.81,1715.05,1673.22,1330.0,3953.92,3566.69,3060.25,1044.96,2677.28,2269.57,999.31,1918.05,1893.84,3191.18,2005.67,1500.12,1232.13,1130.66,250.82,3851.88,2663.44,1588.56,1408.87,4735.66,3977.64,2255.07,1160.94,1144.85,933.85,657.09,747.43,1851.86,1348.1,3719.98,1711.64,1544.36,1524.75,1274.56,451.87,3065.07,2167.25,1788.85,1185.69,995.48,760.9,718.93,694.88,688.9,1873.37,1513.93,1423.97,3811.97,2349.48,2251.16,1454.95,1371.81,699.68,450.77,2354.89,1881.53,461.39,3338.99,2551.77,1314.98,1055.93,778.9,714.47,5328.9,1165.92,541.18,474.96,4685.59,2625.06,2608.84,2121.87,1177.97,1950.95,932.51,840.32,1453.64,1160.91,739.15,718.84,3818.15,1062.08,952.87,518.88,3099.13,2192.84,1092.94,566.78,2690.0,665.53,1571.34,652.1,1525.77,4161.93,3177.95,1727.05,1158.57,649.6,635.93,3276.96,1723.64,530.69,4000.98,1839.75,1274.44,1228.35,555.39,3090.94,1582.84,1344.16,762.16,3861.49,779.17,463.92,3746.04,3262.21,471.65,464.43,437.06,1876.25,1611.16,740.52,456.15,3415.08,2125.89,1664.32,1227.57,457.23,821.87,635.47,536.07,3656.98,641.12,434.81,3236.79,1513.1,745.48,630.26,524.22,4685.73,2200.87,1054.07,898.61,842.38,4926.14,2036.95,1465.61,1402.47,1224.57,1099.76,927.46,694.7,2105.9,1688.32,1148.49,869.92,2037.44,544.4,3480.3,3295.1,2026.86,1442.06,1390.99,1013.97,3197.73,988.97,740.87,2015.25,676.43,562.97,459.9,1743.85,998.07,468.88,3396.95,1406.01,977.45,464.97,3802.72,1866.76,1178.35,1079.39,1656.24,1520.68,1266.15,521.47,923.34,1823.12,1678.03,886.97,854.98,3791.96,1164.92,667.98,1716.88,3047.94,1895.83,2104.86,444.82,4189.0,3279.83,2203.19,1846.84,1567.47,1525.47,1168.95,994.21,789.43,717.15,585.33,3572.86,3246.0,951.14,1628.84,3186.96,3180.91,895.85,1719.97,1183.33,1346.86,925.98,1651.85,1310.33,978.93,803.91,732.37,3360.93,3048.76,3029.62,1662.86,1197.36,2590.87,1372.03,1357.57,432.13,2576.87,2495.51,2346.88,1981.59,1903.73,1824.44,1748.68,1748.65,1601.96,1586.17,1581.01,1541.18,1537.86,1533.78,1490.92,1485.48,1413.05,1326.33,1303.26,1237.98,1205.86,1191.99,1173.96,1169.43,1163.47,1151.14,1142.7,1100.41,1098.97,1085.97,1054.94,1049.35,1045.84,1042.97,1015.57,994.72,963.65,960.13,958.44,941.19,935.96,927.74,901.3,900.94,897.97,892.95,882.52,857.14,855.62,844.54,841.95,835.95,829.97,826.56,823.82,811.96,810.16,806.06,793.18,791.47,791.03,785.69,781.74,767.04,765.95,765.38,763.09,741.44,731.39,717.97,715.2,707.93,707.92,707.28,704.08,698.24,691.77,688.33,677.15,674.56,674.07,668.03,665.14,656.07,655.95,652.97,645.94,638.98,637.06,630.92,628.95,621.96,620.99,616.29,609.97,609.56,601.96,598.55,594.38,584.55,583.85,581.96,579.72,563.91,558.8,556.83,549.83,544.05,540.74,539.65,538.93,528.58,524.67,516.17,512.37,512.05,510.45,494.08,488.25,483.77,476.15,475.05,461.95,456.96,455.37,452.9,448.14,439.97,437.97,434.96,432.98,430.36,429.73,427.16],\"xaxis\":\"x\",\"y\":[4,4,4,2,3,3,4,3,2,4,3,4,2,4,3,2,4,2,4,4,3,3,3,3,4,2,4,4,4,4,2,3,3,3,3,1,4,2,4,4,4,3,3,4,3,3,4,2,3,3,4,2,4,3,4,4,4,4,2,2,2,4,4,1,2,4,4,3,1,3,1,4,3,4,4,4,4,4,3,4,2,4,3,3,3,3,3,4,1,4,3,2,4,3,3,3,4,4,4,4,4,2,3,4,4,4,1,2,3,4,2,4,2,3,4,4,2,3,4,1,1,4,4,3,2,1,3,4,3,1,4,2,3,3,3,3,2,3,2,1,4,5,11,8,2,4,2,5,2,1,2,4,5,5,4,4,4,1,3,4,3,3,8,3,3,1,1,9,4,6,4,3,5,3,7,2,2,4,1,1,6,3,6,6,3,1,4,7,8,4,2,6,5,3,4,4,3,6,3,1,1,1,3,3,2,5,4,4,2,5,5,4,6,3,4,5,3,6,6,1,3,6,1,2,3,3,3,3,2,2,6,2,2,1,3,3,3,4,2,2,4,6,3,3,5,2,4,4,3,6,3,8,8,2,2,3,1,2,4,1,1,1,3,4,2,2,3,2,3,3,5,3,2,3,2,1,2,3,3,4,1,2,4,5,1,3,2,4,3,2,2,5,3,1,1,3,3,5,3,4,3,1,2,2,4,6,4,3,4,6,1,2,2,3,3,6,3,2,2,2,4,4,4,5,3,6,2,4,3,4,2,3,2,2,3,1,2,4,2,3,2,1,5,1,1,1,1,5,3,4,1,3,2,3,3,2,2,6,3,2,4,1,3,2,3,8,1,2,4,1,3,1,2,1,3,2,1,2,6,4,4,3,10,3,3,2,4,1,1,1,2,5,2,1,2,1,3,2,3,2,3,3,3,3,4,2,2,3,4,2,3,2,2,2,2,2,2,3,3,2,2,4,3,2,1,1,3,3,3,3,1,3,3,4,3,3,3,3,2,4,7,2,2,3,3,2,4,3,6,3,1,2,2,2,2,2,2,3,3,3,1,1,3,3,2,1,2,2,2,3,3,4,1,2,2,4,2,1,1,1,2,2,1,5,4,2,4,2,1,2,2,3,4,4,3,2,1,3,5,3,2,3,4,2,1,2,2,3,1,2,2,3,3,2,1,2,4,3,4,2,3,3,1,3,4,1,1,2,2,2,1,1,1,2,2,3,1,1,3,3,4,1,2,2,1,1,1,3,1,1,2,2,2,1,2,5,1,1,2,2,1,1,1,1,1,1,1,2,4,1,2,1,4,2,1,2,1,2,1,1,1,2,3,4,2,1,3,4,1,1,1,1,2,3,3,1,2,2,1,2,1,2,1,2,2,3,3,3,3,3,1,1,1,3,3,2,1,3,2,2,3,2,2,2,3,1,3,2,1,2,3,3,1,1,1,2,2,2,3,1,1,3,1,1,1,1,1,4,1,1,1,1,2,7,3,3,3,4,4,2,3,4,3,3,7,4,3,2,4,4,4,2,3,5,4,5,3,4,3,4,3,2,6,2,2,3,3,5,3,2,4,5,4,3,3,3,3,3,3,4,2,3,15,17,16,16,12,17,6,2,13,12,15,5,11,9,6,5,13,9,5,3,16,15,15,8,15,8,6,6,3,5,6,15,5,3,17,17,6,6,17,17,8,8,3,4,5,17,6,8,14,4,13,4,3,3,6,16,8,10,10,7,16,16,6,16,8,8,9,6,17,6,8,17,16,9,12,13,13,16,16,11,5,5,7,6,7,4,7,5,11,12,13,6,17,14,14,15,8,5,6,4,8,17,3,10,5,6,13,4,6,15,7,3,6,10,14,17,16,6,4,15,13,15,15,15,11,8,17,15,9,9,5,15,7,6,9,6,5,11,9,10,9,12,14,16,7,7,13,5,6,5,12,16,12,17,7,9,2,17,6,10,5,9,12,14,16,5,7,9,3,5,17,6,7,7,16,17,2,14,17,14,6,8,16,16,4,6,4,14,14,12,15,16,17,15,15,4,17,17,8,9,11,4,17,15,7,16,10,8,6,5,7,17,8,3,16,10,9,7,3,5,6,17,13,12,4,5,10,8,6,3,8,16,13,15,7,13,8,6,10,8,15,15,15,17,5,6,14,5,7,3,5,6,5,15,13,6,3,17,16,17,7,6,6,9,9,6,5,15,17,16,16,16,9,11,11,4,10,15,15,14,4,7,8,12,16,5,6,3,3,5,15,9,13,9,5,5,13,16,10,17,16,4,5,15,7,12,10,9,7,7,6,10,7,6,14,10,11,5,6,11,16,16,5,13,15,9,8,5,16,14,10,12,12,16,13,16,10,14,16,10,7,7,17,17,17,14,9,5,17,15,11,22,8,6,10,10,14,13,8,3,5,5,6,15,7,6,17,13,5,9,5,14,10,14,3,11,14,16,8,4,9,3,10,5,5,10,13,7,17,7,13,15,10,15,5,7,16,7,5,5,17,9,5,11,5,12,6,17,9,12,14,4,10,7,9,8,6,8,5,12,5,9,15,7,8,8,6,11,5,6,13,14,10,6,13,9,6,5,2,7,13,8,5,4,5,13,6,5,11,9,8,5,14,17,5,11,16,8,8,3,6,6,17,11,15,8,5,12,6,17,26,14,6,6,5,17,13,14,42,18,16,21,12,22,19,8,11,7,12,6,16,14,8,9,16,13,13,5,5,6,15,11,16,14,26,5,7,14,15,17,7,17,14,7,13,10,17,16,15,8,17,14,5,17,17,17,14,18,22,15,12,17,14,19,5,15,9,11,16,4,14,18,13,16,23,15,17,17,12,11,10,17,19,7,8,5,10,14,13,12,8,15,7,16,7,7,16,15,14,5,6,12,7,10,14,6,16,5,17,11,16,10,5,5,13,9,7,5,15,11,7,9,8,15,8,6,5,17,13,17,14,16,10,8,10,9,7,12,8,6,16,14,5,9,17,9,8,12,6,18,8,11,17,11,19,9,9,5,10,7,6,10,7,17,15,6,9,21,14,15,15,9,5,12,11,6,6,6,15,15,6,7,8,17,15,13,5,14,6,5,9,6,8,12,19,7,11,8,14,17,7,9,6,6,16,18,7,13,15,8,8,14,20,6,6,11,7,13,12,14,13,7,5,16,7,12,14,5,5,5,16,13,6,11,23,15,5,6,24,13,10,22,27,18,6,10,13,17,10,7,10,8,5,13,11,17,15,8,11,9,16,16,15,9,9,9,13,7,9,16,4,10,17,10,13,8,13,14,7,11,12,15,11,20,6,13,7,14,14,11,16,6,17,5,16,14,14,11,9,8,12,27,8,5,11,5,15,13,8,21,13,16,6,5,23,6,5,12,5,13,5,9,7,6,11,11,12,5,6,10,6,7,6,5,7,8,12,6,7,5,9,9,12,14,6,6,6,6,11,6,7,5,8,10,9,6,9,7,9,7,12,7,8,6,8,9,9,5,5,8,5,7,5,10,8,8,6,10,7,7,10,5,6,9,6,5,5,6,5,7,5,9,7,5,10,5,5,5,9,9,9,5,7,7,9,5,5,5,7,5,6,5,5,6,7,5,5,6,6,6,7,5,6,6,6,6,9,8],\"yaxis\":\"y\",\"type\":\"scattergl\"},{\"hovertemplate\":\"Segment=need attention<br>Monetary=%{x}<br>Frequency=%{y}<extra></extra>\",\"legendgroup\":\"need attention\",\"marker\":{\"color\":\"#00cc96\",\"symbol\":\"circle\"},\"mode\":\"markers\",\"name\":\"need attention\",\"showlegend\":true,\"x\":[299.95,198.09,322.67,236.65,270.95,149.15,235.95,166.99,283.95,202.99,334.18,186.14,348.0,263.98,402.94,72.7,232.7,343.69,175.0,313.39,294.95,358.93,365.59,241.44,135.0,395.93,370.5,222.09,111.19,157.74,72.94,239.94,244.14,112.99,272.3,235.5,232.09,141.04,133.09,59.95,239.0,159.95,98.95,92.44,38.5,336.94,318.59,240.49,99.0,210.0,138.95,138.95,252.18,381.03,329.19,265.94,270.99,301.53,178.68,94.04,320.08,203.08,194.44,151.94,315.13,361.99,351.95,214.09,364.98,326.68,193.94,181.69,173.85,139.5,206.93,174.94,350.94,273.99,227.83,222.99,417.99,360.48,319.93,284.89,239.99,179.94,132.99,235.97,233.95,191.18,217.94,402.48,283.13,215.99,234.03,117.94,212.49,159.69,303.08,156.44,144.0,283.0,252.5,124.99,310.74,304.12,194.94,166.44,349.93,307.54,306.99,365.99,236.69,208.28,172.99,287.29,273.13,171.1,135.0,135.0,182.04,63.04,361.57,295.53,182.03,321.98,206.95,354.99,287.93,175.59,168.99,144.94,143.89,329.49,328.99,213.94,354.99,317.08,311.88,84.99,59.94,239.0,148.13,297.73,174.89,158.94,104.94,242.35,241.17,267.93,252.98,99.99,331.99,79.93,65.34,412.59,364.87,307.93,193.94,128.99,365.95,227.63,204.14,51.94,85.94,676.99,437.4,353.88,337.37,181.49,132.0,332.34,288.44,260.0,200.89,133.89,108.14,403.14,299.95,140.99,45.94,266.93,137.12,674.97,350.08,498.98,252.44,244.95,109.44,220.24,213.99,540.99,361.38,194.99,530.98,341.99,342.92,252.97,384.48,153.54,511.0,147.95,425.99,300.95,423.98,498.94,160.0,925.14,581.98,424.98,372.89,292.06,162.49,657.97,318.09,173.89,973.97,458.94,389.94,253.08,399.95,344.86,316.95,385.28,282.09,233.19,417.99,255.14,228.8,144.15,296.17,276.98,117.38,396.89,177.94,405.97,272.42,259.84,120.29,106.04,373.08,466.93,316.47,374.49,282.19,272.99,259.48,848.93,493.97,405.09,374.95,263.93,599.89,554.07,235.19,194.44,172.53,537.99,440.53,316.47,288.98,283.99,265.93,438.58,137.94,421.11,669.08,324.94,219.23,492.98,422.95,316.03,245.03,193.54,1275.99,529.43,352.97,176.89,115.34,309.42,209.69,167.99,344.83,205.99,339.94,779.04,257.91,218.94,202.09,287.39,523.97,312.98,367.99,276.79,152.94,1285.94,395.82,253.89,521.98,394.99,329.59,175.94,127.93,1247.04,487.38,325.33,274.09,133.94,288.49,247.09,227.18,180.93,172.04,782.19,192.84,359.99,153.94,69.89,1466.98,1422.27,1173.68,1090.99,929.98,893.07,813.99,810.98,801.99,779.59,775.29,770.27,755.99,726.97,717.18,708.39,693.77,692.98,681.37,680.09,666.18,661.06,653.07,645.99,644.97,644.09,641.98,630.18,629.97,624.49,618.07,603.98,589.58,581.99,578.17,576.98,569.18,563.19,562.97,553.98,552.78,551.09,548.97,535.09,531.96,531.49,526.59,524.98,522.72,512.49,503.06,500.48,499.96,498.48,497.59,494.99,494.0,492.99,492.99,488.96,486.09,483.08,480.48,479.99,475.49,474.08,472.19,464.99,464.96,463.99,459.06,450.97,446.98,445.0,443.07,441.69,439.99,439.97,438.0,437.99,435.99,435.29,434.98,433.97,426.96,426.57,424.98,424.26,423.99,423.28,422.37,419.46,417.03,416.19,415.37,413.57,412.57,411.96,411.09,410.99,410.09,409.48,408.99,406.17,406.09,405.99,405.97,397.97,397.49,394.95,392.96,391.09,390.98,389.28,388.46,387.39,387.17,384.99,384.99,380.0,379.0,377.47,375.97,374.48,373.58,372.99,371.47,370.97,370.96,370.0,369.98,369.97,369.17,368.46,368.38,367.99,366.98,365.85,365.47,363.58,361.97,361.38,361.0,360.99,360.37,358.18,356.15,356.08,355.98,355.18,355.0,354.54,353.98,352.96,352.76,351.58,350.97,349.07,348.99,348.58,348.18,348.0,347.97,345.86,344.6,344.44,341.98,339.99,339.35,338.99,338.98,338.97,338.49,337.98,337.49,336.98,333.17,333.08,333.06,332.57,331.17,331.08,330.99,329.99,328.81,326.78,325.99,325.87,324.99,322.97,321.99,320.99,320.0,320.0,320.0,320.0,319.09,317.98,317.38,316.67,314.98,314.47,313.98,313.46,312.98,312.47,312.36,312.17,311.18,310.0,309.98,309.97,309.79,309.37,308.17,307.98,306.99,305.38,305.37,305.09,302.49,302.08,301.97,300.98,299.99,299.09,297.98,297.49,297.08,296.98,296.98,295.99,295.98,295.37,294.99,294.98,293.98,291.67,289.99,288.48,288.0,287.98,286.57,286.36,285.98,285.98,285.98,285.97,285.97,283.98,283.98,283.98,283.58,282.56,281.98,281.97,281.29,281.08,280.98,280.56,279.98,279.27,278.97,278.97,278.55,276.99,276.97,276.09,275.98,275.09,275.0,274.99,274.98,274.58,274.08,274.08,273.57,272.99,272.97,272.49,272.19,272.02,270.18,269.97,268.98,268.97,268.37,267.99,267.47,267.46,266.48,264.97,264.68,264.16,264.0,263.67,263.06,263.0,262.09,261.98,261.49,259.58,258.19,255.99,253.18,253.09,252.49,252.47,252.47,252.46,251.98,250.98,250.18,249.98,249.19,248.99,248.98,248.48,247.98,247.48,246.99,246.68,245.99,245.99,245.0,244.99,244.48,244.08,244.08,243.98,243.57,243.08,242.98,242.09,242.08,242.07,241.99,241.98,241.48,240.99,240.48,240.39,240.08,240.0,240.0,239.99,239.99,239.18,239.08,238.98,238.98,238.98,237.77,237.59,237.08,236.58,235.77,235.08,235.08,235.0,234.56,233.17,232.69,232.47,230.99,230.97,230.58,230.18,230.09,229.99,229.98,229.98,229.97,229.58,229.48,229.19,228.99,228.98,228.98,228.52,228.0,226.99,226.78,226.09,226.08,225.99,225.98,224.18,224.18,224.08,223.98,222.97,222.58,222.17,221.98,221.98,221.98,221.19,220.99,220.98,220.98,220.48,220.09,220.08,219.19,218.46,217.98,217.08,217.08,215.98,215.0,215.0,213.98,213.48,212.99,212.99,212.97,212.49,212.37,211.48,211.46,211.19,211.18,210.99,210.99,210.98,210.98,209.98,209.0,208.98,208.49,208.18,207.49,207.18,206.98,206.59,206.58,206.18,206.08,205.99,205.98,205.98,205.0,205.0,205.0,204.49,203.99,203.59,202.99,202.08,201.07,200.99,200.99,200.98,200.0,199.99,199.99,199.59,199.48,198.99,197.98,197.59,195.99,195.98,195.97,195.48,195.0,194.99,193.99,193.99,193.99,193.99,193.99,193.98,193.57,193.18,192.98,192.78,192.18,192.17,192.08,191.99,191.49,190.99,190.99,190.98,189.99,189.88,189.28,189.08,188.98,188.0,187.08,185.97,185.97,185.09,185.09,185.08,185.0,185.0,184.99,184.99,184.98,183.99,183.99,183.99,183.69,183.39,182.99,182.78,182.48,181.37,181.17,180.99,180.99,180.99,180.99,180.99,180.99,180.99,180.99,180.99,180.99,180.98,180.98,180.69,180.57,180.08,179.99,179.99,179.99,179.99,179.99,179.99,179.98,179.97,179.58,179.18,178.0,177.97,176.99,176.99,176.57,176.18,175.99,175.98,175.98,175.37,175.0,175.0,175.0,175.0,175.0,175.0,175.0,175.0,175.0,174.98,174.48,173.08,172.99,172.49,172.18,171.98,171.59,170.99,170.98,170.0,169.99,169.99,168.98,168.98,168.58,168.19,167.99,167.08,166.73,166.19,165.99,165.99,165.99,165.58,165.18,165.08,165.0,164.99,164.99,164.99,164.99,164.99,164.98,164.19,163.98,163.98,163.98,163.49,162.99,162.59,162.49,162.49,162.49,162.49,162.18,161.99,161.59,161.18,161.08,160.99,160.98,159.98,159.98,159.8,159.09,159.0,158.99,158.98,157.99,157.99,157.68,156.99,156.99,156.58,156.17,156.09,155.98,155.0,155.0,155.0,154.99,154.99,154.99,154.99,154.98,154.58,154.49,154.49,154.49,153.99,153.99,153.59,153.59,153.49,153.48,153.18,152.99,152.57,152.47,152.19,152.18,151.18,150.99,150.98,150.97,150.48,150.0,149.99,149.99,149.99,149.87,149.48,149.38,149.0,148.99,148.99,148.99,148.99,148.98,148.98,148.98,148.94,148.19,148.09,148.09,148.09,148.09,147.98,147.68,147.39,147.19,147.09,146.99,146.88,145.99,145.99,145.99,145.98,145.49,145.08,145.0,145.0,144.99,144.99,144.99,144.99,144.99,144.99,144.99,144.99,144.59,144.59,144.28,143.99,143.99,143.99,143.99,143.98,142.48,142.19,142.19,141.98,141.98,140.99,140.99,140.99,140.99,140.49,140.09,140.0,139.99,139.09,139.09,138.98,138.48,138.0,137.99,137.48,137.48,137.4,137.37,137.29,137.08,136.49,136.39,135.99,135.99,135.49,135.49,135.49,135.38,135.08,135.0,134.99,134.59,133.99,133.99,133.69,133.69,133.48,133.46,133.09,132.98,132.48,132.08,131.99,131.39,130.99,130.99,130.99,130.99,130.99,130.78,130.49,130.38,130.19,130.09,130.0,129.99,129.99,129.99,129.99,129.99,129.99,129.99,129.99,129.99,129.98,129.08,128.98,127.98,127.49,127.49,127.48,127.39,127.18,126.59,126.58,126.49,126.49,126.49,126.49,126.49,126.08,125.99,125.99,125.99,125.99,125.98,125.98,125.38,125.0,125.0,125.0,125.0,125.0,124.99,124.99,124.99,124.99,124.99,124.99,124.99,124.99,124.98,124.98,124.19,123.99,123.99,123.99,123.99,123.97,123.88,123.39,123.09,123.09,122.99,122.09,121.99,121.98,121.58,121.56,121.19,121.09,121.09,120.99,120.99,120.99,120.97,120.48,120.38,120.27,120.19,120.18,120.0,119.99,119.99,119.99,119.99,119.99,119.99,119.08,118.98,118.68,118.59,118.49,118.49,118.08,117.79,117.59,117.49,117.49,117.49,117.49,117.49,117.49,117.49,94.14],\"xaxis\":\"x\",\"y\":[2,2,4,2,2,2,2,2,3,2,4,2,4,3,3,2,2,4,2,3,4,3,4,3,2,4,3,2,2,2,2,2,2,2,4,3,3,2,2,2,2,2,2,2,3,3,3,4,2,3,3,2,4,4,2,2,2,3,3,2,3,3,3,3,4,2,3,3,4,3,3,2,3,2,3,3,3,2,4,2,4,3,3,4,2,2,3,4,2,4,2,3,4,2,3,2,2,2,3,2,3,4,3,2,2,4,2,2,3,3,2,2,2,4,2,4,3,3,2,2,4,2,4,3,3,2,4,2,4,3,2,2,4,2,2,3,3,3,4,2,2,3,3,3,4,3,2,2,4,3,3,2,3,3,3,4,4,4,2,2,3,4,4,2,2,4,4,3,5,2,3,3,3,2,4,3,2,5,2,3,2,3,6,4,5,4,2,2,2,4,2,2,4,3,4,3,4,4,4,2,3,2,3,5,3,2,2,3,4,3,5,6,2,4,4,3,4,3,2,3,3,6,3,4,2,2,2,2,4,2,4,2,3,4,2,6,4,2,3,2,4,4,4,2,2,2,3,3,4,6,2,3,4,4,2,2,4,3,4,4,3,2,3,4,2,6,4,3,3,4,8,5,3,4,4,4,4,3,2,4,2,2,7,2,4,3,5,3,2,4,4,3,3,4,2,3,6,3,3,7,2,2,3,3,3,4,2,2,2,2,3,3,2,3,4,4,2,3,3,4,4,4,2,4,2,4,2,4,4,3,4,3,4,1,4,4,4,4,4,4,4,1,4,3,3,2,4,2,4,4,4,2,3,2,2,4,4,4,2,4,4,2,4,1,2,3,3,3,4,4,4,3,3,2,1,4,1,4,1,4,3,4,2,2,2,3,4,1,4,3,3,1,3,2,2,3,4,2,2,2,2,4,4,6,2,5,3,4,6,6,4,1,6,4,4,5,3,1,1,3,4,4,4,2,3,3,2,5,4,1,3,3,4,13,6,3,3,3,2,6,3,3,3,5,3,3,4,1,6,4,3,5,2,2,2,6,5,3,8,4,3,3,4,4,5,5,3,7,4,9,4,4,4,5,3,3,2,2,3,1,3,6,4,7,3,4,5,2,2,4,2,4,3,2,5,5,5,3,3,3,5,2,4,5,1,3,2,4,2,2,1,1,2,1,1,2,5,6,2,3,3,7,2,3,4,3,5,3,3,3,1,4,3,3,3,2,5,4,2,2,4,3,1,3,2,1,3,3,5,1,5,3,2,2,3,4,2,2,2,3,4,4,2,3,4,3,3,3,2,4,2,5,2,3,4,3,4,5,2,4,3,4,5,1,4,3,2,1,2,2,3,2,2,2,4,1,8,2,4,3,2,5,2,3,3,3,4,4,3,3,3,4,1,4,5,3,3,2,2,4,4,3,2,2,1,3,3,4,2,2,3,2,3,1,3,2,2,2,1,3,1,1,1,4,2,2,2,2,4,2,2,5,4,4,2,3,2,1,4,3,2,1,1,2,2,2,2,4,2,3,6,3,2,3,6,2,3,1,4,4,1,3,1,3,5,3,1,2,2,2,3,3,2,1,3,2,2,4,2,6,3,2,6,1,2,2,2,3,3,4,2,4,2,4,2,1,2,4,2,2,3,2,2,4,2,2,2,3,1,1,3,2,1,3,3,2,3,2,6,1,2,2,1,2,2,3,3,5,2,2,1,2,3,2,3,3,4,1,2,2,2,2,2,3,1,1,1,2,3,2,3,3,2,1,1,1,2,2,6,2,1,2,4,2,1,2,1,2,1,2,1,2,4,5,2,3,3,3,3,2,1,1,1,2,2,4,3,2,2,2,2,4,3,1,1,2,1,1,1,1,3,1,1,1,2,4,3,4,2,3,5,2,1,2,1,1,1,1,1,1,1,2,2,4,4,2,1,1,1,1,1,1,2,3,4,3,3,3,2,2,4,3,1,3,2,4,1,1,1,1,1,1,1,1,1,2,3,2,3,2,3,3,2,3,2,1,3,1,2,3,2,2,3,2,3,4,2,3,1,3,3,4,1,2,1,2,1,4,2,1,2,2,2,1,1,2,1,1,1,1,2,1,1,5,2,1,2,2,3,4,2,1,1,2,2,1,3,1,2,3,3,2,2,1,1,2,2,1,4,1,2,2,1,1,4,1,1,1,1,2,2,3,1,5,3,3,3,2,1,2,3,2,1,1,1,2,3,2,3,2,2,2,1,2,2,2,2,2,3,1,1,2,1,2,3,2,2,1,1,3,1,1,1,3,2,2,1,1,1,1,1,1,1,1,1,1,1,1,3,1,1,1,1,2,2,2,2,2,5,1,2,1,1,2,1,1,1,1,3,2,3,2,1,3,2,3,3,2,2,2,3,1,1,1,3,1,3,2,1,2,2,1,1,3,3,2,4,2,3,2,3,1,2,1,3,1,1,1,5,2,3,1,3,1,2,1,2,3,1,1,1,1,1,3,2,2,3,1,1,2,4,3,1,3,1,1,1,1,1,3,1,1,1,1,2,2,2,1,1,1,1,1,1,2,1,1,1,1,2,1,2,2,1,1,1,3,1,3,2,2,1,1,1,1,1,3,2,5,2,1,2,1,1,1,3,2,3,3,2,2,2,1,2,1,1,1,1,2,2,3,4,1,1,2,4,1,1,1,1,1,1,1,1,2],\"yaxis\":\"y\",\"type\":\"scattergl\"}],                        {\"template\":{\"data\":{\"histogram2dcontour\":[{\"type\":\"histogram2dcontour\",\"colorbar\":{\"outlinewidth\":0,\"ticks\":\"\"},\"colorscale\":[[0.0,\"#0d0887\"],[0.1111111111111111,\"#46039f\"],[0.2222222222222222,\"#7201a8\"],[0.3333333333333333,\"#9c179e\"],[0.4444444444444444,\"#bd3786\"],[0.5555555555555556,\"#d8576b\"],[0.6666666666666666,\"#ed7953\"],[0.7777777777777778,\"#fb9f3a\"],[0.8888888888888888,\"#fdca26\"],[1.0,\"#f0f921\"]]}],\"choropleth\":[{\"type\":\"choropleth\",\"colorbar\":{\"outlinewidth\":0,\"ticks\":\"\"}}],\"histogram2d\":[{\"type\":\"histogram2d\",\"colorbar\":{\"outlinewidth\":0,\"ticks\":\"\"},\"colorscale\":[[0.0,\"#0d0887\"],[0.1111111111111111,\"#46039f\"],[0.2222222222222222,\"#7201a8\"],[0.3333333333333333,\"#9c179e\"],[0.4444444444444444,\"#bd3786\"],[0.5555555555555556,\"#d8576b\"],[0.6666666666666666,\"#ed7953\"],[0.7777777777777778,\"#fb9f3a\"],[0.8888888888888888,\"#fdca26\"],[1.0,\"#f0f921\"]]}],\"heatmap\":[{\"type\":\"heatmap\",\"colorbar\":{\"outlinewidth\":0,\"ticks\":\"\"},\"colorscale\":[[0.0,\"#0d0887\"],[0.1111111111111111,\"#46039f\"],[0.2222222222222222,\"#7201a8\"],[0.3333333333333333,\"#9c179e\"],[0.4444444444444444,\"#bd3786\"],[0.5555555555555556,\"#d8576b\"],[0.6666666666666666,\"#ed7953\"],[0.7777777777777778,\"#fb9f3a\"],[0.8888888888888888,\"#fdca26\"],[1.0,\"#f0f921\"]]}],\"heatmapgl\":[{\"type\":\"heatmapgl\",\"colorbar\":{\"outlinewidth\":0,\"ticks\":\"\"},\"colorscale\":[[0.0,\"#0d0887\"],[0.1111111111111111,\"#46039f\"],[0.2222222222222222,\"#7201a8\"],[0.3333333333333333,\"#9c179e\"],[0.4444444444444444,\"#bd3786\"],[0.5555555555555556,\"#d8576b\"],[0.6666666666666666,\"#ed7953\"],[0.7777777777777778,\"#fb9f3a\"],[0.8888888888888888,\"#fdca26\"],[1.0,\"#f0f921\"]]}],\"contourcarpet\":[{\"type\":\"contourcarpet\",\"colorbar\":{\"outlinewidth\":0,\"ticks\":\"\"}}],\"contour\":[{\"type\":\"contour\",\"colorbar\":{\"outlinewidth\":0,\"ticks\":\"\"},\"colorscale\":[[0.0,\"#0d0887\"],[0.1111111111111111,\"#46039f\"],[0.2222222222222222,\"#7201a8\"],[0.3333333333333333,\"#9c179e\"],[0.4444444444444444,\"#bd3786\"],[0.5555555555555556,\"#d8576b\"],[0.6666666666666666,\"#ed7953\"],[0.7777777777777778,\"#fb9f3a\"],[0.8888888888888888,\"#fdca26\"],[1.0,\"#f0f921\"]]}],\"surface\":[{\"type\":\"surface\",\"colorbar\":{\"outlinewidth\":0,\"ticks\":\"\"},\"colorscale\":[[0.0,\"#0d0887\"],[0.1111111111111111,\"#46039f\"],[0.2222222222222222,\"#7201a8\"],[0.3333333333333333,\"#9c179e\"],[0.4444444444444444,\"#bd3786\"],[0.5555555555555556,\"#d8576b\"],[0.6666666666666666,\"#ed7953\"],[0.7777777777777778,\"#fb9f3a\"],[0.8888888888888888,\"#fdca26\"],[1.0,\"#f0f921\"]]}],\"mesh3d\":[{\"type\":\"mesh3d\",\"colorbar\":{\"outlinewidth\":0,\"ticks\":\"\"}}],\"scatter\":[{\"fillpattern\":{\"fillmode\":\"overlay\",\"size\":10,\"solidity\":0.2},\"type\":\"scatter\"}],\"parcoords\":[{\"type\":\"parcoords\",\"line\":{\"colorbar\":{\"outlinewidth\":0,\"ticks\":\"\"}}}],\"scatterpolargl\":[{\"type\":\"scatterpolargl\",\"marker\":{\"colorbar\":{\"outlinewidth\":0,\"ticks\":\"\"}}}],\"bar\":[{\"error_x\":{\"color\":\"#2a3f5f\"},\"error_y\":{\"color\":\"#2a3f5f\"},\"marker\":{\"line\":{\"color\":\"#E5ECF6\",\"width\":0.5},\"pattern\":{\"fillmode\":\"overlay\",\"size\":10,\"solidity\":0.2}},\"type\":\"bar\"}],\"scattergeo\":[{\"type\":\"scattergeo\",\"marker\":{\"colorbar\":{\"outlinewidth\":0,\"ticks\":\"\"}}}],\"scatterpolar\":[{\"type\":\"scatterpolar\",\"marker\":{\"colorbar\":{\"outlinewidth\":0,\"ticks\":\"\"}}}],\"histogram\":[{\"marker\":{\"pattern\":{\"fillmode\":\"overlay\",\"size\":10,\"solidity\":0.2}},\"type\":\"histogram\"}],\"scattergl\":[{\"type\":\"scattergl\",\"marker\":{\"colorbar\":{\"outlinewidth\":0,\"ticks\":\"\"}}}],\"scatter3d\":[{\"type\":\"scatter3d\",\"line\":{\"colorbar\":{\"outlinewidth\":0,\"ticks\":\"\"}},\"marker\":{\"colorbar\":{\"outlinewidth\":0,\"ticks\":\"\"}}}],\"scattermapbox\":[{\"type\":\"scattermapbox\",\"marker\":{\"colorbar\":{\"outlinewidth\":0,\"ticks\":\"\"}}}],\"scatterternary\":[{\"type\":\"scatterternary\",\"marker\":{\"colorbar\":{\"outlinewidth\":0,\"ticks\":\"\"}}}],\"scattercarpet\":[{\"type\":\"scattercarpet\",\"marker\":{\"colorbar\":{\"outlinewidth\":0,\"ticks\":\"\"}}}],\"carpet\":[{\"aaxis\":{\"endlinecolor\":\"#2a3f5f\",\"gridcolor\":\"white\",\"linecolor\":\"white\",\"minorgridcolor\":\"white\",\"startlinecolor\":\"#2a3f5f\"},\"baxis\":{\"endlinecolor\":\"#2a3f5f\",\"gridcolor\":\"white\",\"linecolor\":\"white\",\"minorgridcolor\":\"white\",\"startlinecolor\":\"#2a3f5f\"},\"type\":\"carpet\"}],\"table\":[{\"cells\":{\"fill\":{\"color\":\"#EBF0F8\"},\"line\":{\"color\":\"white\"}},\"header\":{\"fill\":{\"color\":\"#C8D4E3\"},\"line\":{\"color\":\"white\"}},\"type\":\"table\"}],\"barpolar\":[{\"marker\":{\"line\":{\"color\":\"#E5ECF6\",\"width\":0.5},\"pattern\":{\"fillmode\":\"overlay\",\"size\":10,\"solidity\":0.2}},\"type\":\"barpolar\"}],\"pie\":[{\"automargin\":true,\"type\":\"pie\"}]},\"layout\":{\"autotypenumbers\":\"strict\",\"colorway\":[\"#636efa\",\"#EF553B\",\"#00cc96\",\"#ab63fa\",\"#FFA15A\",\"#19d3f3\",\"#FF6692\",\"#B6E880\",\"#FF97FF\",\"#FECB52\"],\"font\":{\"color\":\"#2a3f5f\"},\"hovermode\":\"closest\",\"hoverlabel\":{\"align\":\"left\"},\"paper_bgcolor\":\"white\",\"plot_bgcolor\":\"#E5ECF6\",\"polar\":{\"bgcolor\":\"#E5ECF6\",\"angularaxis\":{\"gridcolor\":\"white\",\"linecolor\":\"white\",\"ticks\":\"\"},\"radialaxis\":{\"gridcolor\":\"white\",\"linecolor\":\"white\",\"ticks\":\"\"}},\"ternary\":{\"bgcolor\":\"#E5ECF6\",\"aaxis\":{\"gridcolor\":\"white\",\"linecolor\":\"white\",\"ticks\":\"\"},\"baxis\":{\"gridcolor\":\"white\",\"linecolor\":\"white\",\"ticks\":\"\"},\"caxis\":{\"gridcolor\":\"white\",\"linecolor\":\"white\",\"ticks\":\"\"}},\"coloraxis\":{\"colorbar\":{\"outlinewidth\":0,\"ticks\":\"\"}},\"colorscale\":{\"sequential\":[[0.0,\"#0d0887\"],[0.1111111111111111,\"#46039f\"],[0.2222222222222222,\"#7201a8\"],[0.3333333333333333,\"#9c179e\"],[0.4444444444444444,\"#bd3786\"],[0.5555555555555556,\"#d8576b\"],[0.6666666666666666,\"#ed7953\"],[0.7777777777777778,\"#fb9f3a\"],[0.8888888888888888,\"#fdca26\"],[1.0,\"#f0f921\"]],\"sequentialminus\":[[0.0,\"#0d0887\"],[0.1111111111111111,\"#46039f\"],[0.2222222222222222,\"#7201a8\"],[0.3333333333333333,\"#9c179e\"],[0.4444444444444444,\"#bd3786\"],[0.5555555555555556,\"#d8576b\"],[0.6666666666666666,\"#ed7953\"],[0.7777777777777778,\"#fb9f3a\"],[0.8888888888888888,\"#fdca26\"],[1.0,\"#f0f921\"]],\"diverging\":[[0,\"#8e0152\"],[0.1,\"#c51b7d\"],[0.2,\"#de77ae\"],[0.3,\"#f1b6da\"],[0.4,\"#fde0ef\"],[0.5,\"#f7f7f7\"],[0.6,\"#e6f5d0\"],[0.7,\"#b8e186\"],[0.8,\"#7fbc41\"],[0.9,\"#4d9221\"],[1,\"#276419\"]]},\"xaxis\":{\"gridcolor\":\"white\",\"linecolor\":\"white\",\"ticks\":\"\",\"title\":{\"standoff\":15},\"zerolinecolor\":\"white\",\"automargin\":true,\"zerolinewidth\":2},\"yaxis\":{\"gridcolor\":\"white\",\"linecolor\":\"white\",\"ticks\":\"\",\"title\":{\"standoff\":15},\"zerolinecolor\":\"white\",\"automargin\":true,\"zerolinewidth\":2},\"scene\":{\"xaxis\":{\"backgroundcolor\":\"#E5ECF6\",\"gridcolor\":\"white\",\"linecolor\":\"white\",\"showbackground\":true,\"ticks\":\"\",\"zerolinecolor\":\"white\",\"gridwidth\":2},\"yaxis\":{\"backgroundcolor\":\"#E5ECF6\",\"gridcolor\":\"white\",\"linecolor\":\"white\",\"showbackground\":true,\"ticks\":\"\",\"zerolinecolor\":\"white\",\"gridwidth\":2},\"zaxis\":{\"backgroundcolor\":\"#E5ECF6\",\"gridcolor\":\"white\",\"linecolor\":\"white\",\"showbackground\":true,\"ticks\":\"\",\"zerolinecolor\":\"white\",\"gridwidth\":2}},\"shapedefaults\":{\"line\":{\"color\":\"#2a3f5f\"}},\"annotationdefaults\":{\"arrowcolor\":\"#2a3f5f\",\"arrowhead\":0,\"arrowwidth\":1},\"geo\":{\"bgcolor\":\"white\",\"landcolor\":\"#E5ECF6\",\"subunitcolor\":\"white\",\"showland\":true,\"showlakes\":true,\"lakecolor\":\"white\"},\"title\":{\"x\":0.05},\"mapbox\":{\"style\":\"light\"}}},\"xaxis\":{\"anchor\":\"y\",\"domain\":[0.0,1.0],\"title\":{\"text\":\"Monetary\"}},\"yaxis\":{\"anchor\":\"x\",\"domain\":[0.0,1.0],\"title\":{\"text\":\"Frequency\"}},\"legend\":{\"title\":{\"text\":\"Segment\"},\"tracegroupgap\":0},\"margin\":{\"t\":60}},                        {\"responsive\": true}                    ).then(function(){\n",
       "                            \n",
       "var gd = document.getElementById('130f217e-6056-4472-a065-8d17b334df08');\n",
       "var x = new MutationObserver(function (mutations, observer) {{\n",
       "        var display = window.getComputedStyle(gd).display;\n",
       "        if (!display || display === 'none') {{\n",
       "            console.log([gd, 'removed!']);\n",
       "            Plotly.purge(gd);\n",
       "            observer.disconnect();\n",
       "        }}\n",
       "}});\n",
       "\n",
       "// Listen for the removal of the full notebook cells\n",
       "var notebookContainer = gd.closest('#notebook-container');\n",
       "if (notebookContainer) {{\n",
       "    x.observe(notebookContainer, {childList: true});\n",
       "}}\n",
       "\n",
       "// Listen for the clearing of the current output cell\n",
       "var outputEl = gd.closest('.output');\n",
       "if (outputEl) {{\n",
       "    x.observe(outputEl, {childList: true});\n",
       "}}\n",
       "\n",
       "                        })                };                });            </script>        </div>"
      ]
     },
     "metadata": {},
     "output_type": "display_data"
    }
   ],
   "source": [
    "\n",
    "fig = px.scatter(RFM_data_1,x = \"Monetary\", y = \"Frequency\",color = \"Segment\")\n",
    "fig.show()"
   ]
  },
  {
   "cell_type": "markdown",
   "id": "7f5955b1",
   "metadata": {
    "papermill": {
     "duration": 0.016705,
     "end_time": "2023-02-02T07:30:39.758171",
     "exception": false,
     "start_time": "2023-02-02T07:30:39.741466",
     "status": "completed"
    },
    "tags": []
   },
   "source": [
    "#### *__We can see, customers buying frequently are spending less amount.__*"
   ]
  },
  {
   "cell_type": "markdown",
   "id": "0ba3ed8b",
   "metadata": {
    "papermill": {
     "duration": 0.017668,
     "end_time": "2023-02-02T07:30:39.793596",
     "exception": false,
     "start_time": "2023-02-02T07:30:39.775928",
     "status": "completed"
    },
    "tags": []
   },
   "source": [
    "#### __3. Recency V/s Monetary__ "
   ]
  },
  {
   "cell_type": "code",
   "execution_count": 22,
   "id": "3df9eecb",
   "metadata": {
    "execution": {
     "iopub.execute_input": "2023-02-02T07:30:39.830922Z",
     "iopub.status.busy": "2023-02-02T07:30:39.830077Z",
     "iopub.status.idle": "2023-02-02T07:30:39.903307Z",
     "shell.execute_reply": "2023-02-02T07:30:39.901277Z"
    },
    "papermill": {
     "duration": 0.094776,
     "end_time": "2023-02-02T07:30:39.905922",
     "exception": false,
     "start_time": "2023-02-02T07:30:39.811146",
     "status": "completed"
    },
    "tags": []
   },
   "outputs": [
    {
     "data": {
      "text/html": [
       "<div>                            <div id=\"8b246d35-a4e6-45d1-b7a7-7e91e8d9fb8a\" class=\"plotly-graph-div\" style=\"height:525px; width:100%;\"></div>            <script type=\"text/javascript\">                require([\"plotly\"], function(Plotly) {                    window.PLOTLYENV=window.PLOTLYENV || {};                                    if (document.getElementById(\"8b246d35-a4e6-45d1-b7a7-7e91e8d9fb8a\")) {                    Plotly.newPlot(                        \"8b246d35-a4e6-45d1-b7a7-7e91e8d9fb8a\",                        [{\"hovertemplate\":\"Segment=champions<br>Recency=%{x}<br>Monetary=%{y}<extra></extra>\",\"legendgroup\":\"champions\",\"marker\":{\"color\":\"#636efa\",\"symbol\":\"circle\"},\"mode\":\"markers\",\"name\":\"champions\",\"showlegend\":true,\"x\":[1,1,1,1,1,1,1,1,1,1,1,1,1,1,1,1,1,1,1,1,1,1,1,1,1,1,1,1,1,1,1,1,1,1,1,1,1,1,1,1,1,1,1,1,1,1,1,1,1,1,1,1,1,1,1,1,1,1,1,1,1,1,1,1,1,1,1,1,1,1,1,1,1,1,1,1,1,1,1,1,1,1,1,1,1,1,1,1,1,1,1,1,1,1,1,1,1,1,1,1,1,1,1,1,1,1,1,1,1,1,1,1,1,1,1,1,1,1,1,1,1,1,1,1,1,1,1,1,1,1,1,1,1,1,1,1,1,1,1,1,1,1,1,1,1,1,1,1,1,1,1,1,1,1,1,1,1,1,1,1,1,1,1,1,1,1,1,1,1,1,1,1,1,1,1,1,1,1,1,1,1,1,1,1,1,1,1,1,1,1,1,1,1,1,1,1,1,1,1,1,1,1,1,1,1,1,1,1,1,1,1,1,1,1,1,1,1,1,1,1,1,1,1,1,1,1,1,1,1,1,1,1,1,1,1,1,1,1,1,1,1,1,1,1,1,1,1,1,1,1,1,1,1,1,1,1,1,1,1,1,1,1,1,1,1,1,1,1,1,1,1,1,1,1,1,1,1,1,1,1,1,1,1,1,1,1,1,1,1,1,1,1,1,1,1,1,1,1,1,1,1,1,1,1,1,1,1,1,1,1,1,1,1,1,1,1,1,1,1,1,1,1,1,1,1,1,1,1,1,1,1,1,1,1,1,1,1,1,1,1,1,1,1,1,1,1,1,1,1,1,1,1,1,1,1,1,1,1,1,1,1,1,1,1,1,1,1,1,1,1,1,1,1,1,1,1,1,2,2,2,2,2,2,2,2,2,2,2,2,2,2,2,2,2,2,2,2,2,2,2,2,2,2,2,2,2,2,2,2,2,2,2,2,2,2,2,2,2,2,3,3,3,3,3,3,3,3,3,3,3,3,3,3,3,3,3,3,3,3,3,3,3,3,3,3,3,3,3,3,3,3,3,3,3,3,3,3,4,4,4,4,4,4,4,4,4,4,4,4,4,4,4,4,4,4,4,4,4,4,4,4,4,4,4,4,4,4,4,4,4,4,4,4,5,5,5,5,5,5,5,5,5,5,5,5,5,5,5,5,5,5,5,5,5,5,5,5,5,5,5,5,5,5,5,5,5,5,5,5,5,5,6,6,6,6,6,6,6,6,6,6,6,6,6,6,6,6,6,6,6,6,6,6,6,6,6,6,6,6,6,6,6,6,6,6,6,6,6,6,6,6,6,6,6,6,6,6,6,6,7,7,7,7,7,7,7,7,7,7,7,7,7,7,7,7,7,7,7,7,7,7,7,7,7,7,7,7,7,7,7,7,8,8,8,8,8,8,8,8,8,8,8,8,8,8,8,8,8,8,8,8,8,8,8,8,8,8,9,9,9,9,9,9,9,9,9,9,9,9,9,9,9,9,9,9,9,9,9,9,9,9,9,9,9,9,9,9,9,9,10,10,10,10,10,10,10,10,10,10,10,10,10,10,10,10,10,10,10,10,10,10,10,10,10,10,10,10,10,10,10,10,10,10,10,10,10,10,10,11,11,11,11,11,11,11,11,11,11,11,11,11,11,11,11,11,11,11,11,11,11,11,11,11,12,12,12,12,12,12,12,12,12,12,12,12,12,12,12,12,12,12,12,12,12,12,12,12,12,12,12,12,12,12,12,12,12,12,12,12,12,12,12,12,12,12,12,13,13,13,13,13,13,13,13,13,13,13,13,13,13,13,13,13,13,13,13,13,13,13,13,13,13,13,13,13,13,13,13,13,13,13,13,14,14,14,14,14,14,14,14,14,14,14,14,14,14,14,14,14,14,14,14,14,14,14,14,14,14,14,14,14,14,14,14,14,14,14,14,14,14,14,14,14,14,14,14,15,15,15,15,15,15,15,15,15,15,15,15,15,15,15,15,15,15,15,16,16,16,16,16,16,16,16,16,16,16,16,16,16,16,16,16,17,17,17,17,17,17,17,17,17,17,17,17,17,17,17,17,17,17,18,18,18,18,18,18,18,18,18,18,18,18,18,18,18,18,18,18,18,18,18,18,18,18,19,19,19,19,19,19,19,19,19,19,19,19,19,19,19,19,19,19,19,19,19,19,19,19,19,19,20,20,20,20,20,20,20,20,21,21,21,21,21,21,21,21,21,21,21,21,21,21,21,21,21,21,21,22,22,22,22,22,22,22,22,22,22,22,22,22,22,22,22,22,22,22,23,23,23,23,23,23,23,23,23,23,23,23,23,23,23,24,24,24,24,24,24,24,24,24,24,24,24,24,24,24,24,24,25,25,25,25,25,25,25,25,25,25,25,25,25,25,25,25,25,25,25,26,26,26,26,26,26,26,26,26,26,26,26,26,26,26,26,26,26,26,27,27,27,27,27,27,27,27,27,27,27,27,27,27,27,27,28,28,28,28,28,28,28,28,28,28,28,28,28,28,28,29,29,29,29,29,29,29,29,29,29,29,29,29,30,30,30,30,30,30,30,30,30,30,30,31,31,31,31,31,31,31,31,31,31,31,31,31,31,31,31,31,31,31,31,31,31,31,31,31,32,32,32,32,32,32,32,32,32,32,32,32,32,32,32,33,33,33,33,33,33,33,33,33,33,33,33,33,33,33,34,34,34,34,34,34,34,34,34,34,34,34,34,35,35,35,35,35,35,35,35,35,35,35,35,35,35,35,35,35,35,36,36,36,36,36,36,36,36,36,36,36,36,36,36,36,36,36,36,37,37,37,37,37,37,37,37,37,37,37,37,37,37,38,38,38,38,38,38,38,38,38,38,38,38,39,39,39,39,39,39,39,39,39,39,39,39,40,40,40,40,40,40,40,40,40,40,40,40,40,40,40,40,40,41,41,41,41,41,41,41,41,41,41,41,41,41,41,41,41,42,42,42,42,42,42,42,42,43,43,43,43,43,43,43,43,43,43,44,44,44,44,44,44,44,44,44,44,45,45,45,45,45,45,45,45,45,45,45,46,46,46,46,46,46,46,46,46,47,47,47,47,47,47,47,47,48,48,48,48,48,49,49,49,49,49,49,49,49,49,50,50,50,50,50,50,50,50,50,50,50,50,51,51,51,51,51,51,51,51,52,52,52,52,52,52,52,52,53,53,53,53,53,53,53,53,54,54,54,54,54,54,54,54,54,54,54,54,54,55,55,55,55,55,55,55,55,55,55,55,56,56,56,56,56,56,56,56,56,56,56,56,56,56,56,57,57,57,57,57,57,58,58,58,58,58,58,58,58,58,59,59,59,59,59,59,59,59,59,59,59,60,60,60,60,60,61,61,61,61,61,61,61,61,61,61,62,62,62,62,62,62,62,62,62,62,62,63,63,63,63,63,63,63,63,63,63,64,64,64,64,64,64,64,64,65,65,65,65,65,65,65,65,65,65,66,66,66,66,66,66,66,66,66,66,66,67,67,67,67,67,67,67,67,67,67,67,67,67,67,67,68,68,68,68,68,68,68,68,68,68,68,68,68,69,69,69,69,69,69,69,69,69,69,70,70,70,70,70,70,71,71,71,71,71,71,71,71,71,71,71,71,72,72,72,72,72,72,72,72,72,72,72,72,72,73,73,73,74,74,74,74,74,74,74,74,74,74,75,75,75,75,75,75,75,75,75,75,75,76,76,76,76,76,76,76,76,76,76,76,76,76,76,76,77,77,77,77,77,77,77,77,77,78,78,78,78,78,78,79,79,79,79,79,80,80,80,80,80,80,80,80,80,81,81,81,81,81,81,81,82,82,82,82,82,82,82,83,83,83,83,83,83,83,83,83,84,84,84,84,84,84,84,85,85,85,85,85,85,85,85,85,86,86,86,86,86,86,87,87,87,87,87,87,87,87,87,87,88,88,88,88,88,88,88,88,89,89,89,89,89,89,89,89,89,89,90,90,90,90,90,90,90,91,91,91,91,91,91,91,92,92,92,92,92,92,92,92,93,93,93,93,93,93,93,93,93,93,94,94,94,94,94,94,95,95,95,95,95,95,96,96,96,96,96,96,97,97,97,98,98,98,98,98,98,98,98,99,99,99,99,99,99,99,99,99,100,100,100,100,100,100,100,100,100,100,101,101,101,101,101,101,101,101,102,102,102,102,103,103,103,103,103,103,103,103,103,104,104,104,104,105,105,105,105,105,105,106,106,106,106,106,106,106,106,106,106,106,107,107,107,107,107,107,107,107,108,108,108,108,108,108,108,108,108,108,108,109,109,109,109,109,109,109,110,110,110,110,110,110,110,110,110,110,110,111,111,111,111,111,111,111,111,111,112,112,112,112,112,112,112,112,112,112,112,112,113,113,113,113,113,113,114,114,114,114,114,114,114,114,114,115,115,115,115,115,115,115,116,116,116,116,116,116,116,117,117,117,117,117,117,118,118,118,118,119,119,119,119,119,120,120,120,120,121,121,121,121,121,121,121,121,121,121,121,121,122,122,122,122,122,122,123,123,123,123,123,123,124,124,124,124,124,124,124,124,125,125,125,125,125,125,125,126,126,126,127,127,127,127,128,128,128,128,128,128,128,129,129,129,129,129,129,129,129,130,130,130,130,130,130,130,130,130,130,131,131,131,131,131,131,131,131,132,132,132,133,133,133,133,134,135,136,136,136,137,138,139,139,140,140,140,140,141,141,141,141,143,143,144,144,145,146,146,147,147,147,147,147,148,148,149,150,150,150,150,151,152,152,152,152,152,153,153,154,154,155,156,157,157,157,158,160,160,160,160,161,162,162,163,163,164,165,166,166,166,167,167,167,167,167,167,168,168,169,169,169,169,170,170,171,171,172,172,172,172,173,174,174,174,175,175,175,176,176,176,177,177,178,178,179,179,179,180,180,180,180,180,180,181,181,182,182,182,183,183,185,185,186,186,187,188,188,189,190,192,192,193,194,196,197,197,197,198,198,198,199,201,201,201,201,202,202,203,204,204,205,205,206,207],\"xaxis\":\"x\",\"y\":[11986.54,11025.96,7259.69,6992.27,6263.44,5841.24,5470.27,5200.53,4967.06,4726.38,3934.05,3933.82,3778.07,3725.48,3660.12,3547.93,3547.7,3401.97,3391.09,3322.83,3305.8,3287.77,3224.55,3211.35,3149.69,3113.08,3088.26,3060.53,3027.11,2944.71,2865.89,2659.31,2612.35,2609.0,2604.78,2555.27,2544.48,2534.23,2530.55,2475.84,2469.36,2432.01,2416.13,2402.91,2390.84,2386.87,2327.53,2277.34,2274.19,2234.03,2144.1,2125.67,2120.69,2024.43,2004.09,1999.14,1993.5,1957.14,1931.17,1924.96,1924.86,1924.45,1905.12,1890.12,1886.04,1879.72,1876.65,1868.29,1858.95,1857.86,1813.31,1796.57,1790.97,1757.96,1756.37,1748.81,1744.81,1739.11,1726.06,1718.92,1718.6,1699.95,1697.25,1692.57,1682.96,1681.8,1672.6,1641.58,1640.34,1633.95,1633.65,1626.43,1625.12,1623.52,1622.99,1614.57,1613.09,1594.25,1586.89,1581.2,1576.93,1572.48,1567.96,1565.06,1562.71,1545.98,1536.78,1535.92,1512.28,1510.61,1509.56,1507.0,1493.69,1488.12,1487.25,1486.75,1481.97,1480.13,1478.94,1473.48,1472.99,1462.66,1460.55,1452.6,1445.88,1432.95,1401.03,1399.86,1386.05,1377.96,1377.61,1371.45,1361.93,1335.87,1329.08,1320.93,1313.77,1296.68,1282.94,1277.51,1264.93,1259.07,1247.96,1246.96,1245.2,1234.98,1216.0,1208.48,1207.05,1203.19,1198.84,1193.14,1188.96,1178.44,1177.95,1177.76,1177.76,1175.98,1167.64,1166.0,1158.13,1155.97,1137.39,1134.88,1132.77,1130.88,1123.4,1121.43,1115.04,1107.34,1106.97,1083.97,1082.93,1068.37,1061.03,1060.45,1039.48,1032.7,1031.98,1029.83,1026.03,1017.52,1013.95,1009.43,1005.33,1002.8,991.74,991.01,982.45,975.37,975.37,970.94,968.07,964.9,959.91,959.87,957.1,945.7,941.39,935.99,931.97,925.0,923.4,919.49,912.74,909.75,908.93,906.41,905.99,901.87,898.07,896.09,895.67,893.76,892.97,888.82,887.99,880.96,878.58,878.36,875.8,875.25,874.96,873.99,873.48,867.96,862.42,851.68,849.54,846.75,845.37,844.64,836.0,829.25,824.97,821.78,821.26,820.99,820.96,819.98,816.88,816.78,809.1,799.18,795.95,792.08,789.91,784.69,783.21,769.6,764.39,763.95,759.98,756.37,752.97,748.98,743.93,742.21,741.98,739.61,731.65,731.06,722.24,716.0,714.96,713.96,711.16,710.66,708.46,707.28,693.58,683.63,680.95,679.96,678.52,674.98,674.96,672.65,671.72,667.45,666.34,665.62,663.92,662.32,658.13,656.74,656.01,655.0,652.38,648.94,648.93,643.94,640.04,639.3,639.03,636.65,635.4,634.93,630.46,623.99,609.97,606.91,604.55,604.24,600.51,598.95,597.46,595.4,594.06,593.97,589.71,589.05,586.15,585.28,584.95,579.95,578.44,577.53,572.93,571.08,570.97,566.82,559.13,558.46,556.45,549.82,548.97,548.97,547.97,547.49,544.92,543.48,539.09,533.95,530.0,527.99,527.81,524.08,523.9,519.24,517.27,517.17,516.99,516.96,516.49,513.73,513.43,509.63,508.67,502.96,501.57,499.07,498.24,495.73,493.49,491.51,490.22,483.59,480.0,479.59,477.38,476.98,473.96,462.97,459.97,456.12,449.47,448.42,445.98,445.95,443.55,443.21,439.62,434.95,434.11,428.86,428.45,9006.15,8711.5,5932.66,5797.99,5340.53,5279.99,4771.53,4254.66,4194.19,4154.86,4102.14,4005.15,3589.66,3510.45,3444.56,3427.29,3412.0,3079.95,2944.74,2863.93,2810.35,2708.35,2668.65,2655.51,2513.52,2426.32,2412.25,2402.37,2387.1,2345.13,2324.04,2287.82,2194.86,2015.35,1969.37,1927.85,1918.88,1532.16,1351.8,1108.98,756.45,427.83,7390.98,6812.43,6117.52,5907.81,5331.67,4969.08,4888.02,4762.26,4475.79,4270.99,3546.66,3544.36,3104.16,3030.94,2893.59,2887.88,2842.75,2697.57,2673.29,2617.74,2501.88,2434.87,2422.5,2301.63,2246.06,2085.37,1974.47,1879.59,1679.9,1544.75,1533.84,1517.4,1466.2,1362.86,1299.65,1245.46,1186.84,538.41,7649.71,7173.63,5729.75,5021.83,4763.72,4674.99,4611.88,3987.96,3854.9,3788.24,3763.62,3443.22,3436.28,3412.36,3332.66,3176.64,3121.86,3078.84,3071.84,2784.67,2655.96,2428.36,2198.66,2169.17,2085.7,1975.49,1972.87,1637.97,1515.65,1503.94,1460.23,1441.04,1437.7,1329.76,1184.07,433.37,18554.49,9685.37,7721.85,7148.66,6657.88,6024.65,5693.21,5431.7,4932.31,4915.07,4834.79,3391.1,3131.58,3045.3,2877.88,2853.36,2760.87,2644.95,2642.53,2501.72,2447.67,2159.9,2042.67,1961.24,1795.96,1678.7,1651.57,1577.77,1533.86,1240.46,1212.67,1204.06,1173.95,1041.2,1034.48,892.4,771.49,469.01,12969.98,9099.36,8854.3,8774.63,8163.52,6821.37,6076.36,5985.21,5230.33,5218.89,5197.83,5068.47,4429.23,4261.02,4237.43,4180.29,3749.79,3497.15,3494.81,3392.95,3352.45,3315.92,3184.86,3099.76,2619.95,2391.6,2361.14,2334.57,2249.64,2227.37,2191.76,2158.95,2113.44,2085.42,2014.86,1838.16,1834.58,1776.97,1715.98,1633.58,1609.63,1402.41,1281.03,945.87,756.41,722.95,592.9,521.2,9516.9,7518.0,5313.31,5151.19,5118.83,4930.83,4590.49,4224.3,3821.33,3296.18,3229.64,3212.85,3100.76,2983.44,2525.7,2364.05,2301.67,2011.57,1886.65,1839.43,1828.02,1689.96,1659.66,1647.77,1643.43,1515.62,1328.35,1298.54,1130.1,1065.25,712.64,645.63,5499.24,3914.31,3896.81,3850.84,3824.43,3788.62,3719.4,3370.71,3160.05,3142.79,3137.15,3133.94,3107.86,2274.44,2090.55,1947.19,1846.87,1718.66,1627.72,1570.21,1450.88,1291.92,823.96,765.19,713.17,499.15,5228.03,4521.4,4513.75,3843.86,3805.24,3773.02,3623.01,3578.99,3540.02,3331.88,3323.09,3283.75,3257.17,3146.99,3078.65,3037.14,2806.77,2733.34,2380.5,2343.98,2098.22,2072.41,2066.83,2015.83,1908.84,1893.75,1847.3,1761.35,1693.3,1348.46,1214.32,966.75,8319.0,7961.37,5126.79,5115.94,4260.84,4250.32,4075.93,3567.95,3549.48,3434.27,3327.85,3241.21,3073.83,2974.94,2694.84,2568.72,2405.23,2364.63,2179.26,2151.83,2023.17,1965.17,1875.33,1846.62,1715.29,1703.1,1639.46,1558.29,1557.16,1540.02,1514.43,1465.4,1442.46,1334.95,1291.51,1251.27,973.01,888.58,717.45,5635.22,5149.71,4368.42,3864.0,3746.82,3545.81,3246.87,3139.78,2942.41,2903.88,2765.67,2523.14,2163.91,2137.4,1994.79,1956.83,1776.65,1737.8,1686.32,1539.11,1448.44,1254.26,1204.87,540.26,439.76,6022.45,5360.83,5333.74,4152.11,4114.97,3972.87,3906.84,3863.88,3759.97,3666.45,3649.27,3404.46,3372.21,3349.69,3326.49,3283.87,3283.03,3165.91,2947.9,2689.34,2570.55,2564.5,2539.58,2533.86,2467.64,2448.0,2373.47,2268.59,2157.07,2118.2,2076.98,1879.57,1868.53,1793.86,1791.12,1777.63,1638.72,1517.63,1352.56,1129.35,824.92,581.94,536.95,14309.92,12237.79,7953.91,7875.48,6911.51,6404.57,6357.05,4888.13,4720.72,4385.06,4370.23,4171.91,3788.45,3426.39,3287.59,3140.89,3080.56,3071.38,2980.84,2809.12,2663.02,2636.48,2382.62,2128.19,2118.33,2059.73,1988.67,1858.31,1680.08,1607.62,1501.36,1372.66,1327.15,1253.92,1237.15,949.47,13180.85,5996.21,5560.69,5372.93,4383.45,4325.45,4235.91,3960.29,3887.22,3844.97,3766.54,3633.45,3572.96,3423.78,3391.92,3215.94,3152.79,3074.98,3042.22,2929.34,2757.96,2602.49,2578.74,2541.07,2479.64,2378.04,2357.57,2269.26,2267.37,2259.8,2196.48,2020.53,1811.73,1686.71,1241.41,1096.04,1091.74,1063.44,957.44,933.34,852.86,746.34,596.2,521.16,11828.92,8698.43,7477.36,6164.75,4873.54,4353.0,4259.12,3489.86,3282.46,3276.04,3095.7,3033.75,2789.03,2559.85,2389.61,1997.83,1924.13,1809.32,1241.73,13775.96,7368.47,4428.62,4373.75,3858.6,3316.96,2571.84,2487.61,2306.56,2032.74,1890.55,1884.05,1773.84,1773.32,1636.6,1579.41,1294.01,10210.14,9378.67,4403.07,4221.44,4032.08,3710.8,3515.76,3301.84,3278.52,3080.59,2156.93,2006.51,1959.16,1810.55,1421.48,751.64,639.68,457.87,6295.59,5790.7,4804.68,4557.18,4340.85,4339.42,4304.76,4042.72,3622.23,3561.63,3514.19,3507.54,3444.33,3376.73,3310.88,2876.79,2361.4,2154.99,2027.55,1749.25,1694.8,1560.45,966.26,929.66,5645.94,5568.11,4940.29,4761.04,4753.25,4301.37,4274.19,4100.07,3366.33,3207.94,3013.36,2793.38,2586.86,2399.03,2330.31,2244.81,2147.9,2128.07,1956.04,1809.75,1803.16,1615.05,1450.11,1103.56,1021.38,598.75,3944.56,3656.91,3322.18,3237.26,2941.68,2228.87,2009.12,1934.89,5303.4,4984.75,4040.14,3743.23,3633.03,3422.77,3237.3,3101.97,3085.94,3010.97,2995.61,2693.28,2678.47,2648.16,2352.9,2099.02,1974.15,1867.68,1270.92,6604.96,5135.93,4321.04,4082.68,3878.38,3774.76,3179.43,2865.46,2843.71,2781.18,2657.02,2333.86,2184.98,1913.06,1912.7,1686.06,1625.96,1527.37,1308.53,6461.65,5310.49,4874.34,3741.95,3645.34,3391.52,3380.72,3239.65,2676.55,2622.16,2275.19,1962.96,1787.49,1706.37,1692.35,4773.66,4540.07,4073.87,4069.65,3632.9,3610.93,3391.57,3180.46,3081.88,2410.96,2358.01,2350.47,2268.17,2224.84,2221.87,1718.22,1590.83,7122.43,5482.87,4785.24,4384.04,3801.49,3772.46,3649.97,3488.94,3431.96,3367.9,3187.52,3040.08,2971.58,2210.38,2046.87,1825.58,1338.87,1292.83,936.0,9000.31,6927.84,5566.18,4971.71,4527.53,4234.0,4230.95,3954.79,3947.67,3571.26,3500.33,3441.31,3335.75,2859.17,2286.77,2170.5,1924.86,1757.57,1456.63,8610.58,4814.37,4663.6,4396.02,4007.37,3924.8,3641.11,3583.43,3179.37,2742.85,2230.41,2154.81,1964.47,1715.12,1505.34,1293.44,4745.01,3994.89,3982.66,3934.88,3932.29,3583.55,3401.32,3320.78,3288.76,2616.82,2290.81,2116.69,2110.72,2007.97,1389.53,6685.19,5549.67,5297.44,5289.72,3709.85,3411.88,3084.03,3058.15,3036.4,2088.81,2067.83,1779.05,1315.09,8087.61,5430.03,4784.2,4149.89,3602.95,3190.54,2389.13,2282.97,1877.76,1804.31,1477.27,6996.83,6483.53,6128.95,5045.39,4835.83,4541.16,3945.29,3522.44,3438.47,3393.47,3267.96,3140.78,3045.55,2965.6,2835.98,2692.94,2660.75,2520.09,2275.09,2010.27,1961.75,1878.82,1874.63,1497.13,1367.22,16693.78,6287.51,5552.51,4229.0,3924.79,3632.08,3596.96,3018.95,2851.94,2580.27,1851.28,1832.85,1762.81,1549.79,1440.66,3844.6,3794.7,3699.73,3666.75,3414.26,3348.89,3220.96,2898.14,2407.14,2182.56,2097.01,2077.33,2058.85,1952.48,1900.24,7064.83,4196.87,4176.19,3867.4,3613.27,3235.7,2509.8,1926.78,1724.24,1695.02,1548.21,1240.77,754.14,12898.64,5237.16,5194.48,5151.87,3494.38,3472.72,3261.83,3249.59,3090.78,2969.46,2594.5,2490.35,2225.57,2133.45,2130.96,2079.04,2034.09,1878.85,5975.13,4357.52,3623.15,3154.47,3095.16,2854.55,2783.17,2489.29,2288.78,2015.65,1985.94,1877.88,1750.31,1667.74,1551.94,1386.8,1223.7,1085.79,5886.08,5001.17,4218.76,3789.19,3536.42,3235.95,3028.05,2370.96,2152.28,2033.94,2006.86,1965.86,1923.96,1800.11,4426.34,4353.02,4032.03,3616.59,3257.62,3146.9,3001.64,2958.21,2338.69,1905.35,1483.82,1459.25,8423.38,3899.27,3803.36,3543.28,3375.05,3128.71,2668.99,2026.88,2016.91,2005.8,1810.15,1121.25,5672.74,5142.93,4882.45,4258.97,4179.81,4156.76,3895.08,3837.42,2577.95,2450.3,2197.45,1983.86,1641.3,1457.66,1444.36,1359.67,1151.24,8292.66,5160.77,4958.04,4456.87,4435.34,3502.05,3187.01,3145.87,3134.79,3021.89,2176.8,2167.76,1906.76,1890.66,1342.99,1269.22,5057.07,4861.62,4405.22,3778.95,3478.81,3453.1,3220.27,2809.53,4898.17,4766.36,4144.42,3569.46,2918.86,2661.01,2607.54,2112.36,1924.44,1392.81,4846.96,4723.75,4373.9,3138.76,3124.4,2684.16,2445.41,2398.77,1604.17,1461.53,14153.58,4498.26,3881.89,2735.52,2667.52,1769.91,1726.92,1682.03,1501.36,1481.43,720.73,6505.59,3796.64,3407.86,3215.13,3082.34,2527.69,2137.1,2083.83,1462.85,12230.55,5027.98,4420.37,3889.59,3843.93,3112.0,3063.84,1295.63,5142.95,5096.45,3778.02,2679.43,2199.71,6962.8,6206.7,3859.91,2936.97,2854.15,2069.46,2014.81,1631.84,1389.85,5885.94,5252.83,4322.21,4268.78,3522.99,2679.35,2592.07,2494.67,2451.38,2134.7,1680.83,1219.98,8874.28,6796.33,4014.06,3184.83,2809.83,2327.75,2284.78,1944.15,4030.9,3529.86,3340.87,3095.27,3093.37,2511.07,2386.61,2382.69,34847.4,24178.97,4273.8,3908.63,3362.11,3293.14,2697.94,1681.32,4920.85,4895.9,4258.86,3992.53,3782.38,3576.73,3157.75,3147.23,2739.86,2329.36,2270.29,1825.32,1401.61,4696.36,3754.5,3248.02,3218.15,3093.67,2604.37,2552.35,2084.26,2027.57,1892.09,1886.11,4982.03,4496.84,3870.5,3697.58,3672.51,3658.73,3586.91,3180.31,3071.65,3068.29,2763.94,2117.37,1895.71,1776.42,1013.18,7096.76,5123.76,3099.59,3037.2,2815.43,2442.37,11349.58,4278.98,3615.0,2887.53,2592.31,2434.5,2212.93,2013.84,1979.11,4851.06,3901.01,3380.98,3257.01,3188.92,3074.91,2754.75,2105.25,1867.74,1788.69,1486.35,7163.0,3809.96,3805.47,2112.97,1428.15,5786.92,4165.65,3632.77,3527.89,2909.83,2588.97,2445.95,2107.34,2104.72,1775.8,15840.36,5922.88,5090.73,3768.22,3386.43,3128.46,3044.29,2912.01,2682.75,1960.08,1741.2,6137.82,5490.75,4557.89,3614.05,3086.19,2892.48,2747.8,2540.77,2446.51,2387.04,7874.51,5949.74,3638.58,3342.95,3072.14,2850.87,2776.41,1183.83,6317.17,4081.49,3578.94,3332.26,3315.21,3026.71,2652.48,2564.39,2547.46,2012.43,6022.3,4465.42,4005.69,3746.01,3604.93,3257.84,2605.64,1679.56,1484.02,1398.35,1003.32,5508.12,4228.92,3516.61,3411.37,3327.96,3281.03,3254.05,2992.8,2981.19,2819.95,2540.56,2417.04,1763.15,1617.74,1437.26,5245.81,4172.93,4031.1,3679.62,3643.01,3346.94,2990.45,2552.8,2130.07,1984.3,1956.25,1646.13,1390.43,5162.92,4261.88,3163.49,2690.05,2614.42,2055.51,2036.66,1945.86,1925.43,939.15,4960.41,4788.41,3423.09,2979.05,2579.08,2430.41,6265.99,4735.86,4592.1,4165.86,4097.22,3744.11,2185.62,2183.87,2162.76,2066.39,1457.32,1300.07,4856.92,4215.18,4009.41,3993.66,3815.16,3764.5,3322.88,3271.97,3220.88,3167.16,3166.94,3041.83,2526.73,8821.84,1979.92,1288.22,10364.66,4052.63,2718.89,2588.43,1825.24,1819.46,1758.78,1545.89,1480.83,1428.85,5840.36,3992.89,3802.62,3670.47,3284.44,2586.85,2354.04,2298.68,2186.71,1270.32,1034.8,8649.29,3964.49,3502.73,3427.02,3363.87,3258.52,3227.07,3092.24,2883.05,2515.6,2285.8,2207.57,1594.73,1432.92,1403.4,4966.92,4329.89,4168.01,4123.53,3986.97,3621.37,3295.47,2132.86,1656.95,8530.77,3252.47,3015.81,2066.04,1249.1,1219.23,7664.16,3072.21,2441.96,2238.56,2178.33,6016.91,5931.42,3815.21,3474.12,3217.91,2659.43,2615.31,2476.3,2223.1,4571.49,4178.61,3038.94,2454.2,2184.87,2126.35,1564.36,3840.17,3578.72,3398.3,2576.83,2233.56,2072.18,1715.8,6683.75,6061.5,4902.56,4112.21,3445.19,3095.83,2896.7,1901.25,1348.85,5396.85,4133.73,2441.16,2120.24,1735.03,1695.37,1680.26,4740.99,3818.25,3672.75,2781.78,2291.27,2220.33,2053.81,1989.39,1513.85,5718.78,5139.45,3413.67,3208.98,2341.17,2235.5,10242.0,8261.65,7827.92,3172.14,3036.87,2459.35,2366.8,2250.5,1989.83,1883.14,3298.85,2622.71,2262.11,2247.82,1800.18,1747.06,1635.65,1187.91,5138.59,3832.92,2998.79,2257.33,2023.85,1891.79,1886.19,1756.03,1591.66,1017.64,5219.97,3640.1,3626.26,2922.55,2111.84,2106.86,1497.21,6217.61,5578.74,3469.06,2837.73,2491.86,2333.65,1614.78,5819.09,4915.13,3884.55,3778.87,3509.32,2264.69,1999.49,1870.95,12940.0,3614.23,3488.19,3457.05,3137.67,2717.28,2120.22,1519.51,1443.84,932.76,32486.98,5439.47,3176.45,3125.86,2062.43,1958.0,8924.16,7420.83,3830.11,3701.87,2852.06,1869.34,8088.62,4242.67,3360.92,2702.14,1961.4,1434.9,4395.67,3048.57,2725.56,11127.82,5399.94,3880.3,3354.91,3321.09,2727.51,2630.37,2564.11,5667.4,4920.05,4841.68,4224.12,4150.17,3797.83,3495.65,2530.55,1507.87,7066.32,4034.96,4005.16,3967.02,3431.25,3307.93,3206.01,2581.88,1849.76,1587.8,8485.4,6786.96,6086.25,4466.88,3496.03,2982.98,2041.74,1450.14,4222.77,2785.51,2663.3,2423.79,5833.92,5083.12,5056.45,3378.51,3216.33,2556.79,2516.09,2370.58,2245.18,5130.41,3978.67,3207.96,2460.46,5013.97,4783.34,4417.95,4038.58,3030.74,532.69,5506.03,5000.97,4639.01,4060.84,3804.94,3623.29,2805.2,2638.56,2514.59,2444.02,1498.24,7185.17,3244.22,2672.06,2160.07,2037.91,1988.48,1771.75,1392.67,6981.68,3271.48,3143.81,2941.92,2411.52,2407.02,2340.82,2164.85,1880.42,1777.8,1510.96,7361.44,6346.36,2673.86,2578.78,1922.27,1867.1,1619.84,4675.87,3857.2,3688.68,3126.47,3065.36,2808.83,2760.0,2620.27,1920.96,1681.21,1406.2,9281.38,6163.77,3279.01,3004.44,2666.67,1990.44,1969.95,1909.42,1372.49,14526.72,13653.62,5599.75,3986.23,3722.74,3304.76,3190.6,2837.88,2608.91,2378.43,1878.4,1873.43,5309.67,4317.75,2764.31,2034.37,1988.86,1953.45,13155.89,4285.9,4208.82,4195.87,3813.88,3282.55,2583.35,2559.82,2491.24,6125.76,4852.21,4104.62,3407.86,2383.72,2063.86,1658.46,15999.94,4151.28,3884.86,2206.37,2032.56,1868.14,1425.72,3937.16,3679.65,2146.04,1837.15,1800.05,1211.03,11402.66,4329.94,3459.83,2478.07,3347.63,3043.7,2266.02,2217.64,1573.81,5764.56,3804.46,2848.56,2627.84,5797.76,5358.28,4604.26,4055.97,3991.36,3780.39,3609.33,3346.16,2495.48,2287.42,1994.05,1098.7,5716.13,3647.9,3409.38,2293.65,2185.66,1394.81,5707.53,3872.33,3327.4,3134.29,3128.88,1701.01,7041.4,5157.79,3861.1,3199.37,3132.64,2620.4,2217.35,2073.76,3673.94,3547.9,3312.91,3237.85,2274.96,1106.56,1069.04,6634.07,2660.03,2635.94,3032.95,2670.68,2099.06,1772.2,8548.18,2580.78,2492.54,2201.17,2143.24,2114.41,1151.05,8668.14,5169.2,4981.15,4589.92,3288.87,2438.56,2307.96,2038.56,16884.99,6241.98,5331.63,4126.06,3473.12,2850.73,2131.67,2112.64,2086.62,2060.51,9823.94,9172.22,6314.83,5089.87,4444.72,3796.62,2624.99,2506.85,5225.49,3243.01,1927.77,5746.05,3277.57,2772.17,2132.39,2151.2,4927.35,7895.44,2438.96,2093.0,3104.51,2169.85,10254.36,5838.1,3204.19,3002.7,2913.36,2801.34,4993.54,4519.27,2804.37,2797.49,7438.61,1987.82,3230.43,2765.65,4605.97,4048.07,2470.43,11661.81,3603.35,2429.56,2338.81,1962.22,5458.29,2324.84,2372.62,5557.64,4659.65,4338.84,3836.51,2116.63,8605.24,6324.41,4274.77,2405.84,1978.87,2627.49,2117.2,4267.64,3531.05,13355.0,2438.28,4495.04,3197.14,2791.36,4624.81,4802.86,4209.33,2881.45,2225.07,2058.81,3872.15,2521.21,3637.1,2044.94,8046.41,2460.26,3571.96,2397.42,2222.74,8215.9,4755.26,4351.48,4045.18,3411.59,2388.15,2872.27,2595.41,4838.73,3893.24,3618.84,3078.86,3926.38,3232.75,3574.68,3034.24,3077.01,2777.44,2538.22,2165.72,2524.83,3879.26,3048.46,2198.47,4629.98,2897.37,2471.66,5279.61,3763.3,3757.02,3011.86,2405.76,5455.86,4142.87,3462.34,2469.27,2137.25,3860.69,3796.33,3253.89,3130.85,2792.55,2316.8,3760.89,2952.23,6055.55,5815.31,2779.22,3894.12,3047.74,5842.3,1964.78,11225.6,3624.75,2496.89,3257.24,2121.84,2329.12,8969.73,6461.05,4077.06,3766.73,2609.37,3840.4,4738.49,3406.45,2690.89,4685.89,2770.87,2142.07,2536.35,4337.32,3167.16,2758.07,2248.69,2873.0,2145.45,4449.84,7160.0,2929.21,6753.17,2955.23,2684.78,2335.18],\"yaxis\":\"y\",\"type\":\"scattergl\"},{\"hovertemplate\":\"Segment=Potential customers<br>Recency=%{x}<br>Monetary=%{y}<extra></extra>\",\"legendgroup\":\"Potential customers\",\"marker\":{\"color\":\"#EF553B\",\"symbol\":\"circle\"},\"mode\":\"markers\",\"name\":\"Potential customers\",\"showlegend\":true,\"x\":[1,1,1,1,1,1,1,1,1,1,1,1,1,1,1,1,1,1,1,1,1,1,1,1,1,1,1,1,1,1,1,1,1,1,1,1,1,1,1,1,1,1,1,1,1,1,1,1,1,1,1,1,1,1,1,1,1,1,1,1,1,1,1,1,1,1,1,1,1,1,1,1,1,1,1,1,1,1,1,1,1,1,1,1,1,1,1,1,1,1,1,1,1,1,1,1,1,1,1,1,1,1,1,1,1,1,1,1,1,1,1,1,1,1,1,1,1,1,1,1,1,1,1,1,1,1,1,1,1,1,1,1,1,1,1,1,1,1,1,1,1,1,1,1,1,1,1,1,1,1,1,1,1,1,1,1,1,1,1,1,1,1,1,1,1,1,1,1,1,1,1,1,1,1,1,1,1,1,1,1,1,1,1,1,1,1,1,1,1,1,1,1,1,1,1,1,1,1,1,1,1,1,1,1,1,1,1,1,1,1,1,1,1,1,1,1,1,1,1,1,1,1,1,1,1,1,1,1,1,1,1,1,1,1,1,1,1,1,1,1,1,1,1,1,1,1,1,1,1,1,1,1,1,1,1,1,1,1,1,1,1,1,1,1,1,1,1,1,1,1,1,1,1,1,1,1,1,1,1,1,1,1,1,1,1,1,1,1,1,1,1,1,1,1,1,1,1,1,1,1,1,1,1,1,1,1,1,1,1,1,1,1,1,1,1,1,1,1,1,1,1,1,1,1,1,1,1,1,1,1,1,1,1,1,1,1,1,1,1,1,1,1,1,1,1,1,1,1,1,1,1,1,1,1,1,1,1,1,1,1,1,1,1,1,1,1,1,1,1,1,1,1,1,1,1,1,1,1,1,1,1,1,1,1,1,1,1,1,1,1,1,1,1,1,1,1,1,1,1,1,1,1,1,1,1,1,1,1,1,1,1,1,1,1,1,1,1,1,1,1,1,1,1,1,1,1,1,1,1,1,1,1,1,1,1,1,1,1,1,1,1,1,1,1,1,1,1,1,1,1,1,1,1,1,1,1,1,1,1,1,1,1,1,1,1,1,1,1,1,1,1,1,1,1,1,1,1,1,1,1,1,1,1,1,1,1,1,1,1,1,1,1,1,1,1,1,1,1,1,1,1,1,1,1,1,1,1,1,1,1,1,1,1,1,1,1,1,1,1,1,1,1,1,1,1,1,1,1,1,1,1,1,1,1,1,1,1,1,1,1,1,1,1,1,1,1,1,1,1,1,1,1,1,1,1,1,1,1,1,1,1,1,1,1,1,1,1,1,1,1,1,1,1,1,1,1,1,1,1,1,1,1,1,1,1,1,1,1,1,1,1,1,1,1,1,1,1,1,1,1,1,1,1,1,1,1,1,1,1,1,1,1,1,1,1,1,1,1,1,1,1,1,1,1,1,1,1,1,1,1,1,1,1,1,1,1,1,1,1,1,1,1,1,1,1,1,1,1,1,1,1,1,1,2,2,2,3,3,4,4,5,5,5,6,6,7,7,7,8,8,8,8,9,9,10,11,11,12,12,12,12,12,13,13,13,13,14,14,15,15,15,15,16,16,17,17,18,19,19,19,19,19,20,20,20,20,20,21,21,22,22,22,22,22,23,23,23,23,24,24,24,24,25,25,25,25,25,25,25,25,25,25,26,26,26,26,27,27,27,27,28,28,28,28,28,29,29,29,29,29,30,30,31,31,31,31,31,32,32,32,32,32,33,33,33,34,34,34,34,36,37,37,37,38,38,38,39,39,39,39,39,39,39,40,40,40,40,40,40,40,41,41,41,41,42,42,43,43,43,43,43,43,43,45,45,45,45,45,46,46,46,47,47,47,47,48,48,48,48,48,49,50,51,51,51,52,52,52,53,53,54,54,54,55,55,55,55,56,56,57,58,58,58,58,59,59,59,60,60,60,60,60,61,61,61,61,61,61,62,63,63,63,63,63,64,64,64,64,64,64,64,64,65,65,65,65,66,66,66,67,68,68,68,68,69,69,69,69,69,70,70,70,71,71,71,71,71,71,72,72,72,72,72,72,73,73,73,73,73,73,73,74,74,74,74,74,75,75,75,75,75,75,76,76,76,77,77,77,78,78,78,78,78,79,79,79,79,80,80,80,81,81,81,83,83,83,83,83,84,84,84,84,84,84,84,85,85,85,85,86,86,86,86,86,86,87,87,87,87,88,88,89,89,89,89,89,89,89,90,90,90,90,90,90,91,91,91,91,91,91,91,91,92,92,93,93,93,93,94,94,94,94,94,94,94,95,95,95,96,97,97,97,97,97,97,97,98,98,98,98,98,99,99,99,99,100,100,100,100,100,101,101,101,101,102,102,102,102,103,103,103,103,103,103,104,104,104,104,104,104,105,105,105,105,106,106,107,107,107,107,107,107,107,107,107,109,109,109,109,109,109,109,109,110,110,110,110,111,111,111,111,111,111,111,111,111,111,112,112,112,113,113,113,113,113,114,114,114,114,114,114,114,115,115,115,116,116,116,116,117,117,117,117,117,117,117,118,118,118,118,118,119,119,119,120,120,120,120,120,121,121,121,122,122,122,122,123,123,123,123,123,124,124,124,124,124,124,125,125,125,126,126,126,126,127,127,127,127,127,128,128,128,128,128,129,129,129,129,129,129,129,130,130,130,130,130,130,131,131,131,131,131,131,131,131,131,131,131,131,131,131,131,132,132,132,132,132,132,133,134,134,134,135,135,135,135,135,135,135,136,136,136,136,136,136,136,137,137,137,137,137,137,138,138,138,139,140,140,140,140,140,140,141,141,141,141,142,142,142,143,143,144,144,144,144,144,144,145,145,145,145,146,146,146,146,146,146,146,147,148,148,149,149,149,149,149,149,150,150,150,150,150,150,150,150,150,151,151,151,152,152,152,152,152,152,152,153,153,153,154,154,154,155,155,155,156,156,156,156,157,157,157,157,157,158,158,158,159,159,159,159,160,160,160,160,161,161,161,161,162,162,163,163,164,165,165,165,165,165,165,166,166,166,167,167,167,167,167,168,168,168,168,169,169,169,171,171,171,171,171,172,172,172,172,173,173,173,173,173,174,174,174,175,175,175,176,176,176,176,176,177,177,177,177,177,178,178,178,178,178,178,178,178,179,179,179,179,180,180,181,181,181,181,181,181,182,182,182,183,183,183,183,184,184,184,185,185,185,185,186,186,186,186,187,187,187,187,188,189,189,189,190,191,191,191,192,193,193,194,194,195,196,197,197,197,197,197,197,197,197,197,198,198,198,199,200,200,200,201,201,203,203,204,204,204,204,204,205,205,205,205,205,206,206,206,206,207,207,207,207,207,207,207,207,207,207,207,207,207,207,207,207,207,207,207,207,207,207,207,207,207,207,207,207,207,207,207,207,207,207,207,207,207,207,207,207,207,207,207,207,207,207,207,207,207,207,207,207,207,207,207,207,207,207,207,207,207,207,207,207,207,207,207,207,207,207,207,207,207,207,207,207,207,207,207,207,207,207,207,207,207,207,207,207,207,207,207,207,207,207,207,207,207,207,207,207,207,207,207,207,207,207,207,207,207,207,207,207,207,207,207,207,207,207,207,207,207,207,207,207,207,207,207,207,207,207,207,207,207,207],\"xaxis\":\"x\",\"y\":[1596.22,1436.5,1376.5,1344.09,1253.25,1250.0,1179.83,1172.97,1169.14,1087.21,1056.0,1049.22,1039.5,1029.0,1020.97,1016.99,986.58,945.0,928.77,910.99,905.99,892.09,877.57,856.75,849.58,838.25,832.98,819.47,810.98,804.18,797.99,797.32,795.0,791.0,790.5,776.99,771.86,734.99,732.22,731.97,726.49,719.67,710.83,706.83,690.0,690.0,683.53,663.75,660.99,659.97,642.97,642.21,638.98,631.97,631.76,622.97,617.96,617.13,616.99,613.74,612.0,606.65,591.96,581.5,579.75,578.74,576.97,573.97,573.05,570.47,570.0,557.97,557.6,556.63,556.12,555.98,555.96,554.66,553.9,550.49,549.99,544.22,543.23,539.97,538.99,537.97,535.98,535.97,533.79,533.35,532.25,531.25,525.99,525.87,522.23,519.97,519.96,519.96,518.99,517.48,512.02,502.24,496.47,496.26,495.23,488.99,486.99,483.99,482.97,482.8,481.75,480.98,479.0,478.99,477.63,474.96,473.99,464.99,463.73,463.25,463.25,462.07,458.19,455.97,455.24,455.0,453.98,451.92,451.89,448.25,443.99,443.09,440.78,436.5,435.08,430.59,429.8,428.97,426.5,425.13,424.73,424.06,423.69,421.79,420.69,419.96,418.98,418.95,418.49,415.65,413.99,412.34,411.07,410.36,408.39,408.18,407.88,407.49,407.38,407.06,406.6,406.0,404.26,401.98,401.37,401.0,400.99,399.92,398.47,398.3,397.87,395.99,395.48,394.98,394.97,394.49,393.73,392.06,391.99,391.0,390.78,389.99,389.21,388.96,388.74,388.49,386.99,386.64,383.18,381.17,380.99,379.39,378.31,377.98,377.74,377.27,376.97,376.62,376.25,375.0,375.0,374.99,374.0,374.0,373.99,373.88,373.28,372.99,372.98,371.97,371.57,371.23,370.98,370.97,369.99,369.99,369.98,369.32,367.51,367.24,366.97,365.95,365.0,364.59,364.0,363.98,363.5,363.18,362.74,359.98,359.0,358.75,357.48,357.0,356.78,356.47,355.98,354.98,354.98,354.98,354.49,352.57,352.49,351.98,351.97,351.09,351.08,350.96,350.23,349.31,349.2,349.13,349.01,348.5,348.27,347.48,345.99,345.5,344.97,344.29,344.25,344.25,340.98,340.28,339.99,339.99,339.97,339.45,338.97,337.97,337.63,337.07,336.98,336.5,336.48,336.0,335.99,335.75,335.73,334.96,334.9,334.0,332.62,332.29,329.99,329.94,328.75,327.98,326.98,326.83,326.47,325.97,325.84,325.5,325.0,324.99,324.99,323.98,321.99,321.8,320.48,319.75,318.99,318.98,317.99,317.78,316.87,316.49,315.42,315.15,315.0,314.98,314.48,314.19,313.67,312.14,311.98,311.48,311.1,310.98,309.97,309.12,308.45,308.18,307.97,307.38,306.98,305.18,305.18,304.98,304.13,304.07,303.99,303.99,302.8,302.64,301.98,301.87,300.98,300.98,299.73,299.0,298.95,297.99,297.5,297.5,297.5,297.46,297.24,296.46,296.0,295.38,294.99,294.98,293.97,293.75,293.74,293.44,292.99,292.99,292.08,291.99,291.98,291.98,291.48,290.43,290.0,289.98,289.0,289.0,286.89,285.99,285.99,284.99,284.98,284.98,283.99,283.99,283.71,282.99,281.96,281.78,280.29,280.24,280.14,280.0,279.98,279.8,279.65,279.0,278.98,278.46,278.24,278.0,277.98,276.25,275.74,275.48,275.27,274.9,273.93,273.7,272.99,272.98,272.72,271.99,271.98,271.67,271.48,271.48,270.93,270.59,270.0,269.99,268.74,268.48,267.75,267.68,267.24,266.98,266.64,266.29,266.13,266.09,265.99,265.0,264.98,264.07,262.98,262.65,261.99,261.98,261.72,261.53,261.0,260.73,260.64,259.98,259.98,259.97,259.96,259.78,258.1,258.08,257.97,257.8,256.98,256.47,255.94,255.3,255.0,255.0,254.98,254.15,253.98,253.43,253.15,251.57,250.97,250.63,250.0,250.0,249.97,248.08,247.99,247.5,247.48,246.98,245.98,244.98,244.97,243.38,243.0,242.25,241.98,241.53,239.98,239.0,239.0,239.0,238.99,238.98,238.89,238.67,238.0,237.15,237.08,235.99,235.99,235.99,235.74,235.73,235.49,234.6,232.99,232.9,231.99,231.97,231.76,231.07,230.99,230.98,230.27,230.0,230.0,229.99,229.14,228.97,228.0,227.98,227.8,227.07,225.97,225.49,225.0,224.98,224.19,223.48,223.22,222.65,222.38,222.24,221.89,221.82,221.46,221.0,220.99,220.98,220.89,220.74,220.15,220.0,220.0,219.99,219.99,219.98,219.0,219.0,218.97,218.49,218.45,218.0,217.99,217.94,216.99,216.99,215.99,215.88,215.0,215.0,214.99,214.99,214.5,214.0,213.79,212.96,212.5,212.5,212.5,211.49,210.0,210.0,210.0,210.0,210.0,210.0,209.99,209.5,209.48,207.99,207.98,207.15,207.09,206.94,205.99,205.24,205.0,205.0,204.99,204.0,204.0,204.0,203.65,203.19,203.0,202.64,202.48,202.12,201.99,201.99,201.99,201.99,201.56,201.08,201.0,200.0,200.0,200.0,199.99,199.98,199.75,198.99,198.99,198.98,198.9,198.17,197.48,196.97,196.75,195.99,195.99,195.99,195.99,195.98,195.97,195.5,194.99,194.97,193.99,193.99,192.95,192.74,192.0,191.98,191.47,191.25,191.25,191.13,190.99,190.98,190.97,190.62,190.0,190.0,189.99,189.99,189.89,189.0,188.37,188.0,188.0,187.98,187.0,187.0,187.0,186.99,186.99,186.17,185.49,185.3,185.3,184.99,93.1,372.58,336.68,250.75,465.33,343.93,206.45,124.94,539.94,387.73,339.65,370.84,359.55,1018.94,323.94,320.5,1036.69,653.74,267.52,85.05,903.99,207.35,551.02,418.34,230.02,1126.4,256.84,253.48,175.1,158.95,368.77,187.44,182.6,149.88,1183.0,400.46,522.5,519.98,511.44,408.89,261.94,225.45,633.95,210.99,467.74,597.99,471.94,406.71,270.99,173.95,1803.16,1522.46,1162.37,858.97,793.15,1169.26,604.18,3157.75,1710.87,877.1,848.95,646.0,1310.53,916.89,900.99,633.98,1305.87,1026.9,679.17,532.99,1755.94,1450.95,1439.85,1421.27,1212.51,786.91,542.64,455.92,433.15,329.01,1709.45,1609.33,906.54,615.03,1773.85,947.36,738.92,460.36,1572.06,1319.75,1021.0,628.75,447.14,3275.0,1668.0,1360.52,987.68,608.69,1444.37,439.39,1306.98,1156.49,552.0,454.99,445.58,1881.87,1469.94,959.66,819.52,405.2,1569.45,733.04,694.78,1680.12,1431.02,883.8,787.96,273.54,1857.31,1123.36,734.95,1260.84,988.97,957.4,1826.78,1490.94,1478.51,1475.64,975.36,503.89,466.07,1163.98,869.96,734.92,671.89,608.5,590.2,279.64,1762.95,1631.36,1314.08,789.29,1386.88,1192.87,1754.47,1065.96,911.99,650.48,629.32,549.03,356.1,1686.78,1064.0,817.94,492.55,476.9,1478.18,613.96,444.4,1550.61,1004.89,494.89,491.28,1579.85,1545.11,1401.35,1248.39,969.14,644.93,1412.07,1840.92,1825.96,1461.16,1335.05,1248.62,845.89,1336.55,1179.05,1094.95,752.33,441.95,1443.79,1239.98,938.02,758.94,598.84,333.49,1180.21,1283.99,878.86,717.67,678.3,1229.36,1176.37,1019.92,1281.94,906.37,466.18,419.56,342.17,1849.22,1609.47,1417.0,1271.34,1172.75,605.07,653.08,1804.14,1080.95,880.02,518.75,348.47,1740.34,1291.86,809.18,731.49,653.17,645.99,515.99,288.88,1650.15,1639.22,649.79,535.64,1462.46,758.71,478.99,1053.16,1699.96,1411.08,1263.98,852.93,1500.34,1055.46,664.99,589.99,454.08,1458.8,1394.26,809.84,1890.8,1727.76,1724.95,1682.96,962.87,430.24,1582.46,1131.54,1079.08,1061.95,900.29,448.04,1510.86,1296.65,1205.93,1024.2,603.37,600.96,596.86,1186.98,1072.56,908.58,726.2,453.48,1900.35,1510.49,1271.46,977.77,457.9,162.51,1748.19,1651.34,891.87,1201.48,1094.95,452.54,1311.46,897.86,683.45,640.98,539.95,1605.89,1274.88,1068.86,966.7,1109.87,1027.89,281.31,1217.14,1058.16,1051.88,1867.85,1390.87,1067.85,830.44,410.76,1465.97,833.95,756.41,547.98,391.91,338.77,158.99,1557.87,1150.49,670.89,501.93,1750.79,1515.46,1108.26,957.34,867.38,646.92,1792.0,1103.97,631.65,321.97,1436.86,1425.83,1676.7,1576.07,1546.84,1016.9,863.87,623.11,515.98,1639.02,1578.95,1365.35,1190.36,587.97,410.36,1408.84,1397.36,1327.46,717.67,531.0,492.99,458.19,353.83,1133.86,1114.78,1017.39,1003.79,627.98,448.18,1815.41,1588.05,1411.54,1112.11,829.54,597.98,450.86,1611.46,1290.37,1164.88,1620.91,1069.5,995.47,814.16,526.38,502.6,473.63,343.96,1402.23,1102.79,915.98,591.91,471.4,1447.4,1356.16,943.2,461.92,1661.22,1625.75,1118.38,851.82,277.96,1420.96,1329.86,1018.81,926.83,1648.58,1637.56,1396.87,1326.41,1035.23,995.52,884.58,757.36,574.03,518.95,1742.86,1393.85,1384.82,1123.08,958.93,466.38,1270.05,1076.55,859.91,234.87,1263.62,311.93,1659.89,1534.32,1207.96,1207.35,998.97,595.69,471.42,324.98,252.87,1890.85,1433.46,1176.06,1041.67,931.81,696.07,580.43,417.48,1549.85,1155.29,1011.9,593.98,1746.09,1655.88,1423.85,829.19,754.24,565.43,547.98,467.01,377.32,221.08,1079.12,784.48,459.44,1760.94,1735.47,1316.57,1153.55,559.18,1569.05,1386.07,929.0,621.34,603.91,539.02,113.95,1319.85,618.97,565.98,1549.02,1314.99,1131.73,549.46,1718.86,1600.63,1355.88,1190.98,718.18,637.9,619.94,1567.87,1211.41,940.94,784.95,502.94,1614.48,1309.12,1049.38,1337.36,770.38,729.37,623.95,259.82,1360.72,560.03,503.69,1606.47,1131.78,714.32,645.93,1235.81,1107.43,665.96,473.03,466.99,1097.46,1056.55,852.91,660.51,432.99,332.19,1738.76,601.72,461.98,1230.14,741.29,512.35,378.52,1656.57,1629.36,1296.47,924.54,916.14,1429.55,691.26,496.18,437.86,421.26,1448.1,1229.53,832.08,762.94,744.69,714.99,428.66,2067.86,1757.82,1090.57,590.93,567.37,560.92,4648.68,3896.27,2318.24,1876.94,1868.84,1706.04,1514.3,1401.3,1358.67,1312.66,1259.04,1255.78,887.45,728.05,482.94,4667.37,1494.52,1211.8,1172.31,1153.42,1065.3,1519.08,2099.52,504.94,466.97,3760.85,1866.45,1645.87,1214.12,1109.31,526.95,491.63,3181.86,1946.28,1892.66,1400.06,1390.86,793.87,793.58,3614.92,3483.11,3297.86,2939.87,1771.07,525.19,2696.87,1340.75,968.93,799.46,6977.93,3844.88,3044.81,1715.05,1673.22,1330.0,3953.92,3566.69,3060.25,1044.96,2677.28,2269.57,999.31,1918.05,1893.84,3191.18,2005.67,1500.12,1232.13,1130.66,250.82,3851.88,2663.44,1588.56,1408.87,4735.66,3977.64,2255.07,1160.94,1144.85,933.85,657.09,747.43,1851.86,1348.1,3719.98,1711.64,1544.36,1524.75,1274.56,451.87,3065.07,2167.25,1788.85,1185.69,995.48,760.9,718.93,694.88,688.9,1873.37,1513.93,1423.97,3811.97,2349.48,2251.16,1454.95,1371.81,699.68,450.77,2354.89,1881.53,461.39,3338.99,2551.77,1314.98,1055.93,778.9,714.47,5328.9,1165.92,541.18,474.96,4685.59,2625.06,2608.84,2121.87,1177.97,1950.95,932.51,840.32,1453.64,1160.91,739.15,718.84,3818.15,1062.08,952.87,518.88,3099.13,2192.84,1092.94,566.78,2690.0,665.53,1571.34,652.1,1525.77,4161.93,3177.95,1727.05,1158.57,649.6,635.93,3276.96,1723.64,530.69,4000.98,1839.75,1274.44,1228.35,555.39,3090.94,1582.84,1344.16,762.16,3861.49,779.17,463.92,3746.04,3262.21,471.65,464.43,437.06,1876.25,1611.16,740.52,456.15,3415.08,2125.89,1664.32,1227.57,457.23,821.87,635.47,536.07,3656.98,641.12,434.81,3236.79,1513.1,745.48,630.26,524.22,4685.73,2200.87,1054.07,898.61,842.38,4926.14,2036.95,1465.61,1402.47,1224.57,1099.76,927.46,694.7,2105.9,1688.32,1148.49,869.92,2037.44,544.4,3480.3,3295.1,2026.86,1442.06,1390.99,1013.97,3197.73,988.97,740.87,2015.25,676.43,562.97,459.9,1743.85,998.07,468.88,3396.95,1406.01,977.45,464.97,3802.72,1866.76,1178.35,1079.39,1656.24,1520.68,1266.15,521.47,923.34,1823.12,1678.03,886.97,854.98,3791.96,1164.92,667.98,1716.88,3047.94,1895.83,2104.86,444.82,4189.0,3279.83,2203.19,1846.84,1567.47,1525.47,1168.95,994.21,789.43,717.15,585.33,3572.86,3246.0,951.14,1628.84,3186.96,3180.91,895.85,1719.97,1183.33,1346.86,925.98,1651.85,1310.33,978.93,803.91,732.37,3360.93,3048.76,3029.62,1662.86,1197.36,2590.87,1372.03,1357.57,432.13,2576.87,2495.51,2346.88,1981.59,1903.73,1824.44,1748.68,1748.65,1601.96,1586.17,1581.01,1541.18,1537.86,1533.78,1490.92,1485.48,1413.05,1326.33,1303.26,1237.98,1205.86,1191.99,1173.96,1169.43,1163.47,1151.14,1142.7,1100.41,1098.97,1085.97,1054.94,1049.35,1045.84,1042.97,1015.57,994.72,963.65,960.13,958.44,941.19,935.96,927.74,901.3,900.94,897.97,892.95,882.52,857.14,855.62,844.54,841.95,835.95,829.97,826.56,823.82,811.96,810.16,806.06,793.18,791.47,791.03,785.69,781.74,767.04,765.95,765.38,763.09,741.44,731.39,717.97,715.2,707.93,707.92,707.28,704.08,698.24,691.77,688.33,677.15,674.56,674.07,668.03,665.14,656.07,655.95,652.97,645.94,638.98,637.06,630.92,628.95,621.96,620.99,616.29,609.97,609.56,601.96,598.55,594.38,584.55,583.85,581.96,579.72,563.91,558.8,556.83,549.83,544.05,540.74,539.65,538.93,528.58,524.67,516.17,512.37,512.05,510.45,494.08,488.25,483.77,476.15,475.05,461.95,456.96,455.37,452.9,448.14,439.97,437.97,434.96,432.98,430.36,429.73,427.16],\"yaxis\":\"y\",\"type\":\"scattergl\"},{\"hovertemplate\":\"Segment=need attention<br>Recency=%{x}<br>Monetary=%{y}<extra></extra>\",\"legendgroup\":\"need attention\",\"marker\":{\"color\":\"#00cc96\",\"symbol\":\"circle\"},\"mode\":\"markers\",\"name\":\"need attention\",\"showlegend\":true,\"x\":[20,20,21,21,22,24,25,25,26,26,27,27,28,28,29,30,33,34,34,35,35,36,38,39,43,45,45,46,46,47,47,49,50,50,53,53,53,54,54,54,55,55,55,57,57,58,58,60,61,64,64,64,67,68,68,68,70,71,71,71,72,73,73,73,74,75,75,75,76,76,76,76,76,76,77,77,79,79,79,79,81,81,82,85,85,85,86,88,88,88,89,90,92,92,94,95,96,97,98,98,98,99,99,100,101,101,101,101,102,102,102,103,103,103,103,104,105,106,106,106,107,107,108,111,112,113,115,116,116,116,116,116,116,117,117,117,118,119,119,119,119,121,121,122,122,122,122,123,123,124,124,124,125,125,126,127,127,127,127,127,128,128,128,128,129,130,130,130,130,130,130,131,131,131,131,131,131,132,132,132,132,133,133,134,135,137,137,137,137,138,138,140,140,140,141,142,143,143,144,144,145,145,146,146,147,148,148,150,150,152,152,152,152,153,153,153,154,154,154,154,156,156,156,157,157,157,158,158,158,158,159,159,161,163,163,164,166,166,166,166,167,168,169,170,170,170,170,171,171,171,171,171,172,172,172,172,172,173,173,173,173,173,173,174,174,175,177,177,177,178,178,178,178,178,181,181,181,181,181,183,183,183,184,185,186,188,188,188,189,190,191,191,192,192,192,193,193,194,195,196,197,197,199,200,201,201,201,201,202,202,203,203,203,204,204,205,205,205,207,207,207,207,207,207,207,207,207,207,207,207,207,207,207,207,207,207,207,207,207,207,207,207,207,207,207,207,207,207,207,207,207,207,207,207,207,207,207,207,207,207,207,207,207,207,207,207,207,207,207,207,207,207,207,207,207,207,207,207,207,207,207,207,207,207,207,207,207,207,207,207,207,207,207,207,207,207,207,207,207,207,207,207,207,207,207,207,207,207,207,207,207,207,207,207,207,207,207,207,207,207,207,207,207,207,207,207,207,207,207,207,207,207,207,207,207,207,207,207,207,207,207,207,207,207,207,207,207,207,207,207,207,207,207,207,207,207,207,207,207,207,207,207,207,207,207,207,207,207,207,207,207,207,207,207,207,207,207,207,207,207,207,207,207,207,207,207,207,207,207,207,207,207,207,207,207,207,207,207,207,207,207,207,207,207,207,207,207,207,207,207,207,207,207,207,207,207,207,207,207,207,207,207,207,207,207,207,207,207,207,207,207,207,207,207,207,207,207,207,207,207,207,207,207,207,207,207,207,207,207,207,207,207,207,207,207,207,207,207,207,207,207,207,207,207,207,207,207,207,207,207,207,207,207,207,207,207,207,207,207,207,207,207,207,207,207,207,207,207,207,207,207,207,207,207,207,207,207,207,207,207,207,207,207,207,207,207,207,207,207,207,207,207,207,207,207,207,207,207,207,207,207,207,207,207,207,207,207,207,207,207,207,207,207,207,207,207,207,207,207,207,207,207,207,207,207,207,207,207,207,207,207,207,207,207,207,207,207,207,207,207,207,207,207,207,207,207,207,207,207,207,207,207,207,207,207,207,207,207,207,207,207,207,207,207,207,207,207,207,207,207,207,207,207,207,207,207,207,207,207,207,207,207,207,207,207,207,207,207,207,207,207,207,207,207,207,207,207,207,207,207,207,207,207,207,207,207,207,207,207,207,207,207,207,207,207,207,207,207,207,207,207,207,207,207,207,207,207,207,207,207,207,207,207,207,207,207,207,207,207,207,207,207,207,207,207,207,207,207,207,207,207,207,207,207,207,207,207,207,207,207,207,207,207,207,207,207,207,207,207,207,207,207,207,207,207,207,207,207,207,207,207,207,207,207,207,207,207,207,207,207,207,207,207,207,207,207,207,207,207,207,207,207,207,207,207,207,207,207,207,207,207,207,207,207,207,207,207,207,207,207,207,207,207,207,207,207,207,207,207,207,207,207,207,207,207,207,207,207,207,207,207,207,207,207,207,207,207,207,207,207,207,207,207,207,207,207,207,207,207,207,207,207,207,207,207,207,207,207,207,207,207,207,207,207,207,207,207,207,207,207,207,207,207,207,207,207,207,207,207,207,207,207,207,207,207,207,207,207,207,207,207,207,207,207,207,207,207,207,207,207,207,207,207,207,207,207,207,207,207,207,207,207,207,207,207,207,207,207,207,207,207,207,207,207,207,207,207,207,207,207,207,207,207,207,207,207,207,207,207,207,207,207,207,207,207,207,207,207,207,207,207,207,207,207,207,207,207,207,207,207,207,207,207,207,207,207,207,207,207,207,207,207,207,207,207,207,207,207,207,207,207,207,207,207,207,207,207,207,207,207,207,207,207,207,207,207,207,207,207,207,207,207,207,207,207,207,207,207,207,207,207,207,207,207,207,207,207,207,207,207,207,207,207,207,207,207,207,207,207,207,207,207,207,207,207,207,207,207,207,207,207,207,207,207,207,207,207,207,207,207,207,207,207,207,207,207,207,207,207,207,207,207,207,207,207,207,207,207,207,207,207,207,207,207,207,207,207,207,207,207,207,207,207,207,207,207,207,207,207,207,207,207,207,207,207,207,207,207,207,207,207,207,207,207,207,207,207,207,207,207,207,207,207,207,207,207,207,207,207,207,207,207,207,207,207,207,207,207,207,207,207,207,207,207,207,207,207,207,207,207,207,207,207,207,207,207,207,207,207,207,207,207,207,207],\"xaxis\":\"x\",\"y\":[299.95,198.09,322.67,236.65,270.95,149.15,235.95,166.99,283.95,202.99,334.18,186.14,348.0,263.98,402.94,72.7,232.7,343.69,175.0,313.39,294.95,358.93,365.59,241.44,135.0,395.93,370.5,222.09,111.19,157.74,72.94,239.94,244.14,112.99,272.3,235.5,232.09,141.04,133.09,59.95,239.0,159.95,98.95,92.44,38.5,336.94,318.59,240.49,99.0,210.0,138.95,138.95,252.18,381.03,329.19,265.94,270.99,301.53,178.68,94.04,320.08,203.08,194.44,151.94,315.13,361.99,351.95,214.09,364.98,326.68,193.94,181.69,173.85,139.5,206.93,174.94,350.94,273.99,227.83,222.99,417.99,360.48,319.93,284.89,239.99,179.94,132.99,235.97,233.95,191.18,217.94,402.48,283.13,215.99,234.03,117.94,212.49,159.69,303.08,156.44,144.0,283.0,252.5,124.99,310.74,304.12,194.94,166.44,349.93,307.54,306.99,365.99,236.69,208.28,172.99,287.29,273.13,171.1,135.0,135.0,182.04,63.04,361.57,295.53,182.03,321.98,206.95,354.99,287.93,175.59,168.99,144.94,143.89,329.49,328.99,213.94,354.99,317.08,311.88,84.99,59.94,239.0,148.13,297.73,174.89,158.94,104.94,242.35,241.17,267.93,252.98,99.99,331.99,79.93,65.34,412.59,364.87,307.93,193.94,128.99,365.95,227.63,204.14,51.94,85.94,676.99,437.4,353.88,337.37,181.49,132.0,332.34,288.44,260.0,200.89,133.89,108.14,403.14,299.95,140.99,45.94,266.93,137.12,674.97,350.08,498.98,252.44,244.95,109.44,220.24,213.99,540.99,361.38,194.99,530.98,341.99,342.92,252.97,384.48,153.54,511.0,147.95,425.99,300.95,423.98,498.94,160.0,925.14,581.98,424.98,372.89,292.06,162.49,657.97,318.09,173.89,973.97,458.94,389.94,253.08,399.95,344.86,316.95,385.28,282.09,233.19,417.99,255.14,228.8,144.15,296.17,276.98,117.38,396.89,177.94,405.97,272.42,259.84,120.29,106.04,373.08,466.93,316.47,374.49,282.19,272.99,259.48,848.93,493.97,405.09,374.95,263.93,599.89,554.07,235.19,194.44,172.53,537.99,440.53,316.47,288.98,283.99,265.93,438.58,137.94,421.11,669.08,324.94,219.23,492.98,422.95,316.03,245.03,193.54,1275.99,529.43,352.97,176.89,115.34,309.42,209.69,167.99,344.83,205.99,339.94,779.04,257.91,218.94,202.09,287.39,523.97,312.98,367.99,276.79,152.94,1285.94,395.82,253.89,521.98,394.99,329.59,175.94,127.93,1247.04,487.38,325.33,274.09,133.94,288.49,247.09,227.18,180.93,172.04,782.19,192.84,359.99,153.94,69.89,1466.98,1422.27,1173.68,1090.99,929.98,893.07,813.99,810.98,801.99,779.59,775.29,770.27,755.99,726.97,717.18,708.39,693.77,692.98,681.37,680.09,666.18,661.06,653.07,645.99,644.97,644.09,641.98,630.18,629.97,624.49,618.07,603.98,589.58,581.99,578.17,576.98,569.18,563.19,562.97,553.98,552.78,551.09,548.97,535.09,531.96,531.49,526.59,524.98,522.72,512.49,503.06,500.48,499.96,498.48,497.59,494.99,494.0,492.99,492.99,488.96,486.09,483.08,480.48,479.99,475.49,474.08,472.19,464.99,464.96,463.99,459.06,450.97,446.98,445.0,443.07,441.69,439.99,439.97,438.0,437.99,435.99,435.29,434.98,433.97,426.96,426.57,424.98,424.26,423.99,423.28,422.37,419.46,417.03,416.19,415.37,413.57,412.57,411.96,411.09,410.99,410.09,409.48,408.99,406.17,406.09,405.99,405.97,397.97,397.49,394.95,392.96,391.09,390.98,389.28,388.46,387.39,387.17,384.99,384.99,380.0,379.0,377.47,375.97,374.48,373.58,372.99,371.47,370.97,370.96,370.0,369.98,369.97,369.17,368.46,368.38,367.99,366.98,365.85,365.47,363.58,361.97,361.38,361.0,360.99,360.37,358.18,356.15,356.08,355.98,355.18,355.0,354.54,353.98,352.96,352.76,351.58,350.97,349.07,348.99,348.58,348.18,348.0,347.97,345.86,344.6,344.44,341.98,339.99,339.35,338.99,338.98,338.97,338.49,337.98,337.49,336.98,333.17,333.08,333.06,332.57,331.17,331.08,330.99,329.99,328.81,326.78,325.99,325.87,324.99,322.97,321.99,320.99,320.0,320.0,320.0,320.0,319.09,317.98,317.38,316.67,314.98,314.47,313.98,313.46,312.98,312.47,312.36,312.17,311.18,310.0,309.98,309.97,309.79,309.37,308.17,307.98,306.99,305.38,305.37,305.09,302.49,302.08,301.97,300.98,299.99,299.09,297.98,297.49,297.08,296.98,296.98,295.99,295.98,295.37,294.99,294.98,293.98,291.67,289.99,288.48,288.0,287.98,286.57,286.36,285.98,285.98,285.98,285.97,285.97,283.98,283.98,283.98,283.58,282.56,281.98,281.97,281.29,281.08,280.98,280.56,279.98,279.27,278.97,278.97,278.55,276.99,276.97,276.09,275.98,275.09,275.0,274.99,274.98,274.58,274.08,274.08,273.57,272.99,272.97,272.49,272.19,272.02,270.18,269.97,268.98,268.97,268.37,267.99,267.47,267.46,266.48,264.97,264.68,264.16,264.0,263.67,263.06,263.0,262.09,261.98,261.49,259.58,258.19,255.99,253.18,253.09,252.49,252.47,252.47,252.46,251.98,250.98,250.18,249.98,249.19,248.99,248.98,248.48,247.98,247.48,246.99,246.68,245.99,245.99,245.0,244.99,244.48,244.08,244.08,243.98,243.57,243.08,242.98,242.09,242.08,242.07,241.99,241.98,241.48,240.99,240.48,240.39,240.08,240.0,240.0,239.99,239.99,239.18,239.08,238.98,238.98,238.98,237.77,237.59,237.08,236.58,235.77,235.08,235.08,235.0,234.56,233.17,232.69,232.47,230.99,230.97,230.58,230.18,230.09,229.99,229.98,229.98,229.97,229.58,229.48,229.19,228.99,228.98,228.98,228.52,228.0,226.99,226.78,226.09,226.08,225.99,225.98,224.18,224.18,224.08,223.98,222.97,222.58,222.17,221.98,221.98,221.98,221.19,220.99,220.98,220.98,220.48,220.09,220.08,219.19,218.46,217.98,217.08,217.08,215.98,215.0,215.0,213.98,213.48,212.99,212.99,212.97,212.49,212.37,211.48,211.46,211.19,211.18,210.99,210.99,210.98,210.98,209.98,209.0,208.98,208.49,208.18,207.49,207.18,206.98,206.59,206.58,206.18,206.08,205.99,205.98,205.98,205.0,205.0,205.0,204.49,203.99,203.59,202.99,202.08,201.07,200.99,200.99,200.98,200.0,199.99,199.99,199.59,199.48,198.99,197.98,197.59,195.99,195.98,195.97,195.48,195.0,194.99,193.99,193.99,193.99,193.99,193.99,193.98,193.57,193.18,192.98,192.78,192.18,192.17,192.08,191.99,191.49,190.99,190.99,190.98,189.99,189.88,189.28,189.08,188.98,188.0,187.08,185.97,185.97,185.09,185.09,185.08,185.0,185.0,184.99,184.99,184.98,183.99,183.99,183.99,183.69,183.39,182.99,182.78,182.48,181.37,181.17,180.99,180.99,180.99,180.99,180.99,180.99,180.99,180.99,180.99,180.99,180.98,180.98,180.69,180.57,180.08,179.99,179.99,179.99,179.99,179.99,179.99,179.98,179.97,179.58,179.18,178.0,177.97,176.99,176.99,176.57,176.18,175.99,175.98,175.98,175.37,175.0,175.0,175.0,175.0,175.0,175.0,175.0,175.0,175.0,174.98,174.48,173.08,172.99,172.49,172.18,171.98,171.59,170.99,170.98,170.0,169.99,169.99,168.98,168.98,168.58,168.19,167.99,167.08,166.73,166.19,165.99,165.99,165.99,165.58,165.18,165.08,165.0,164.99,164.99,164.99,164.99,164.99,164.98,164.19,163.98,163.98,163.98,163.49,162.99,162.59,162.49,162.49,162.49,162.49,162.18,161.99,161.59,161.18,161.08,160.99,160.98,159.98,159.98,159.8,159.09,159.0,158.99,158.98,157.99,157.99,157.68,156.99,156.99,156.58,156.17,156.09,155.98,155.0,155.0,155.0,154.99,154.99,154.99,154.99,154.98,154.58,154.49,154.49,154.49,153.99,153.99,153.59,153.59,153.49,153.48,153.18,152.99,152.57,152.47,152.19,152.18,151.18,150.99,150.98,150.97,150.48,150.0,149.99,149.99,149.99,149.87,149.48,149.38,149.0,148.99,148.99,148.99,148.99,148.98,148.98,148.98,148.94,148.19,148.09,148.09,148.09,148.09,147.98,147.68,147.39,147.19,147.09,146.99,146.88,145.99,145.99,145.99,145.98,145.49,145.08,145.0,145.0,144.99,144.99,144.99,144.99,144.99,144.99,144.99,144.99,144.59,144.59,144.28,143.99,143.99,143.99,143.99,143.98,142.48,142.19,142.19,141.98,141.98,140.99,140.99,140.99,140.99,140.49,140.09,140.0,139.99,139.09,139.09,138.98,138.48,138.0,137.99,137.48,137.48,137.4,137.37,137.29,137.08,136.49,136.39,135.99,135.99,135.49,135.49,135.49,135.38,135.08,135.0,134.99,134.59,133.99,133.99,133.69,133.69,133.48,133.46,133.09,132.98,132.48,132.08,131.99,131.39,130.99,130.99,130.99,130.99,130.99,130.78,130.49,130.38,130.19,130.09,130.0,129.99,129.99,129.99,129.99,129.99,129.99,129.99,129.99,129.99,129.98,129.08,128.98,127.98,127.49,127.49,127.48,127.39,127.18,126.59,126.58,126.49,126.49,126.49,126.49,126.49,126.08,125.99,125.99,125.99,125.99,125.98,125.98,125.38,125.0,125.0,125.0,125.0,125.0,124.99,124.99,124.99,124.99,124.99,124.99,124.99,124.99,124.98,124.98,124.19,123.99,123.99,123.99,123.99,123.97,123.88,123.39,123.09,123.09,122.99,122.09,121.99,121.98,121.58,121.56,121.19,121.09,121.09,120.99,120.99,120.99,120.97,120.48,120.38,120.27,120.19,120.18,120.0,119.99,119.99,119.99,119.99,119.99,119.99,119.08,118.98,118.68,118.59,118.49,118.49,118.08,117.79,117.59,117.49,117.49,117.49,117.49,117.49,117.49,117.49,94.14],\"yaxis\":\"y\",\"type\":\"scattergl\"}],                        {\"template\":{\"data\":{\"histogram2dcontour\":[{\"type\":\"histogram2dcontour\",\"colorbar\":{\"outlinewidth\":0,\"ticks\":\"\"},\"colorscale\":[[0.0,\"#0d0887\"],[0.1111111111111111,\"#46039f\"],[0.2222222222222222,\"#7201a8\"],[0.3333333333333333,\"#9c179e\"],[0.4444444444444444,\"#bd3786\"],[0.5555555555555556,\"#d8576b\"],[0.6666666666666666,\"#ed7953\"],[0.7777777777777778,\"#fb9f3a\"],[0.8888888888888888,\"#fdca26\"],[1.0,\"#f0f921\"]]}],\"choropleth\":[{\"type\":\"choropleth\",\"colorbar\":{\"outlinewidth\":0,\"ticks\":\"\"}}],\"histogram2d\":[{\"type\":\"histogram2d\",\"colorbar\":{\"outlinewidth\":0,\"ticks\":\"\"},\"colorscale\":[[0.0,\"#0d0887\"],[0.1111111111111111,\"#46039f\"],[0.2222222222222222,\"#7201a8\"],[0.3333333333333333,\"#9c179e\"],[0.4444444444444444,\"#bd3786\"],[0.5555555555555556,\"#d8576b\"],[0.6666666666666666,\"#ed7953\"],[0.7777777777777778,\"#fb9f3a\"],[0.8888888888888888,\"#fdca26\"],[1.0,\"#f0f921\"]]}],\"heatmap\":[{\"type\":\"heatmap\",\"colorbar\":{\"outlinewidth\":0,\"ticks\":\"\"},\"colorscale\":[[0.0,\"#0d0887\"],[0.1111111111111111,\"#46039f\"],[0.2222222222222222,\"#7201a8\"],[0.3333333333333333,\"#9c179e\"],[0.4444444444444444,\"#bd3786\"],[0.5555555555555556,\"#d8576b\"],[0.6666666666666666,\"#ed7953\"],[0.7777777777777778,\"#fb9f3a\"],[0.8888888888888888,\"#fdca26\"],[1.0,\"#f0f921\"]]}],\"heatmapgl\":[{\"type\":\"heatmapgl\",\"colorbar\":{\"outlinewidth\":0,\"ticks\":\"\"},\"colorscale\":[[0.0,\"#0d0887\"],[0.1111111111111111,\"#46039f\"],[0.2222222222222222,\"#7201a8\"],[0.3333333333333333,\"#9c179e\"],[0.4444444444444444,\"#bd3786\"],[0.5555555555555556,\"#d8576b\"],[0.6666666666666666,\"#ed7953\"],[0.7777777777777778,\"#fb9f3a\"],[0.8888888888888888,\"#fdca26\"],[1.0,\"#f0f921\"]]}],\"contourcarpet\":[{\"type\":\"contourcarpet\",\"colorbar\":{\"outlinewidth\":0,\"ticks\":\"\"}}],\"contour\":[{\"type\":\"contour\",\"colorbar\":{\"outlinewidth\":0,\"ticks\":\"\"},\"colorscale\":[[0.0,\"#0d0887\"],[0.1111111111111111,\"#46039f\"],[0.2222222222222222,\"#7201a8\"],[0.3333333333333333,\"#9c179e\"],[0.4444444444444444,\"#bd3786\"],[0.5555555555555556,\"#d8576b\"],[0.6666666666666666,\"#ed7953\"],[0.7777777777777778,\"#fb9f3a\"],[0.8888888888888888,\"#fdca26\"],[1.0,\"#f0f921\"]]}],\"surface\":[{\"type\":\"surface\",\"colorbar\":{\"outlinewidth\":0,\"ticks\":\"\"},\"colorscale\":[[0.0,\"#0d0887\"],[0.1111111111111111,\"#46039f\"],[0.2222222222222222,\"#7201a8\"],[0.3333333333333333,\"#9c179e\"],[0.4444444444444444,\"#bd3786\"],[0.5555555555555556,\"#d8576b\"],[0.6666666666666666,\"#ed7953\"],[0.7777777777777778,\"#fb9f3a\"],[0.8888888888888888,\"#fdca26\"],[1.0,\"#f0f921\"]]}],\"mesh3d\":[{\"type\":\"mesh3d\",\"colorbar\":{\"outlinewidth\":0,\"ticks\":\"\"}}],\"scatter\":[{\"fillpattern\":{\"fillmode\":\"overlay\",\"size\":10,\"solidity\":0.2},\"type\":\"scatter\"}],\"parcoords\":[{\"type\":\"parcoords\",\"line\":{\"colorbar\":{\"outlinewidth\":0,\"ticks\":\"\"}}}],\"scatterpolargl\":[{\"type\":\"scatterpolargl\",\"marker\":{\"colorbar\":{\"outlinewidth\":0,\"ticks\":\"\"}}}],\"bar\":[{\"error_x\":{\"color\":\"#2a3f5f\"},\"error_y\":{\"color\":\"#2a3f5f\"},\"marker\":{\"line\":{\"color\":\"#E5ECF6\",\"width\":0.5},\"pattern\":{\"fillmode\":\"overlay\",\"size\":10,\"solidity\":0.2}},\"type\":\"bar\"}],\"scattergeo\":[{\"type\":\"scattergeo\",\"marker\":{\"colorbar\":{\"outlinewidth\":0,\"ticks\":\"\"}}}],\"scatterpolar\":[{\"type\":\"scatterpolar\",\"marker\":{\"colorbar\":{\"outlinewidth\":0,\"ticks\":\"\"}}}],\"histogram\":[{\"marker\":{\"pattern\":{\"fillmode\":\"overlay\",\"size\":10,\"solidity\":0.2}},\"type\":\"histogram\"}],\"scattergl\":[{\"type\":\"scattergl\",\"marker\":{\"colorbar\":{\"outlinewidth\":0,\"ticks\":\"\"}}}],\"scatter3d\":[{\"type\":\"scatter3d\",\"line\":{\"colorbar\":{\"outlinewidth\":0,\"ticks\":\"\"}},\"marker\":{\"colorbar\":{\"outlinewidth\":0,\"ticks\":\"\"}}}],\"scattermapbox\":[{\"type\":\"scattermapbox\",\"marker\":{\"colorbar\":{\"outlinewidth\":0,\"ticks\":\"\"}}}],\"scatterternary\":[{\"type\":\"scatterternary\",\"marker\":{\"colorbar\":{\"outlinewidth\":0,\"ticks\":\"\"}}}],\"scattercarpet\":[{\"type\":\"scattercarpet\",\"marker\":{\"colorbar\":{\"outlinewidth\":0,\"ticks\":\"\"}}}],\"carpet\":[{\"aaxis\":{\"endlinecolor\":\"#2a3f5f\",\"gridcolor\":\"white\",\"linecolor\":\"white\",\"minorgridcolor\":\"white\",\"startlinecolor\":\"#2a3f5f\"},\"baxis\":{\"endlinecolor\":\"#2a3f5f\",\"gridcolor\":\"white\",\"linecolor\":\"white\",\"minorgridcolor\":\"white\",\"startlinecolor\":\"#2a3f5f\"},\"type\":\"carpet\"}],\"table\":[{\"cells\":{\"fill\":{\"color\":\"#EBF0F8\"},\"line\":{\"color\":\"white\"}},\"header\":{\"fill\":{\"color\":\"#C8D4E3\"},\"line\":{\"color\":\"white\"}},\"type\":\"table\"}],\"barpolar\":[{\"marker\":{\"line\":{\"color\":\"#E5ECF6\",\"width\":0.5},\"pattern\":{\"fillmode\":\"overlay\",\"size\":10,\"solidity\":0.2}},\"type\":\"barpolar\"}],\"pie\":[{\"automargin\":true,\"type\":\"pie\"}]},\"layout\":{\"autotypenumbers\":\"strict\",\"colorway\":[\"#636efa\",\"#EF553B\",\"#00cc96\",\"#ab63fa\",\"#FFA15A\",\"#19d3f3\",\"#FF6692\",\"#B6E880\",\"#FF97FF\",\"#FECB52\"],\"font\":{\"color\":\"#2a3f5f\"},\"hovermode\":\"closest\",\"hoverlabel\":{\"align\":\"left\"},\"paper_bgcolor\":\"white\",\"plot_bgcolor\":\"#E5ECF6\",\"polar\":{\"bgcolor\":\"#E5ECF6\",\"angularaxis\":{\"gridcolor\":\"white\",\"linecolor\":\"white\",\"ticks\":\"\"},\"radialaxis\":{\"gridcolor\":\"white\",\"linecolor\":\"white\",\"ticks\":\"\"}},\"ternary\":{\"bgcolor\":\"#E5ECF6\",\"aaxis\":{\"gridcolor\":\"white\",\"linecolor\":\"white\",\"ticks\":\"\"},\"baxis\":{\"gridcolor\":\"white\",\"linecolor\":\"white\",\"ticks\":\"\"},\"caxis\":{\"gridcolor\":\"white\",\"linecolor\":\"white\",\"ticks\":\"\"}},\"coloraxis\":{\"colorbar\":{\"outlinewidth\":0,\"ticks\":\"\"}},\"colorscale\":{\"sequential\":[[0.0,\"#0d0887\"],[0.1111111111111111,\"#46039f\"],[0.2222222222222222,\"#7201a8\"],[0.3333333333333333,\"#9c179e\"],[0.4444444444444444,\"#bd3786\"],[0.5555555555555556,\"#d8576b\"],[0.6666666666666666,\"#ed7953\"],[0.7777777777777778,\"#fb9f3a\"],[0.8888888888888888,\"#fdca26\"],[1.0,\"#f0f921\"]],\"sequentialminus\":[[0.0,\"#0d0887\"],[0.1111111111111111,\"#46039f\"],[0.2222222222222222,\"#7201a8\"],[0.3333333333333333,\"#9c179e\"],[0.4444444444444444,\"#bd3786\"],[0.5555555555555556,\"#d8576b\"],[0.6666666666666666,\"#ed7953\"],[0.7777777777777778,\"#fb9f3a\"],[0.8888888888888888,\"#fdca26\"],[1.0,\"#f0f921\"]],\"diverging\":[[0,\"#8e0152\"],[0.1,\"#c51b7d\"],[0.2,\"#de77ae\"],[0.3,\"#f1b6da\"],[0.4,\"#fde0ef\"],[0.5,\"#f7f7f7\"],[0.6,\"#e6f5d0\"],[0.7,\"#b8e186\"],[0.8,\"#7fbc41\"],[0.9,\"#4d9221\"],[1,\"#276419\"]]},\"xaxis\":{\"gridcolor\":\"white\",\"linecolor\":\"white\",\"ticks\":\"\",\"title\":{\"standoff\":15},\"zerolinecolor\":\"white\",\"automargin\":true,\"zerolinewidth\":2},\"yaxis\":{\"gridcolor\":\"white\",\"linecolor\":\"white\",\"ticks\":\"\",\"title\":{\"standoff\":15},\"zerolinecolor\":\"white\",\"automargin\":true,\"zerolinewidth\":2},\"scene\":{\"xaxis\":{\"backgroundcolor\":\"#E5ECF6\",\"gridcolor\":\"white\",\"linecolor\":\"white\",\"showbackground\":true,\"ticks\":\"\",\"zerolinecolor\":\"white\",\"gridwidth\":2},\"yaxis\":{\"backgroundcolor\":\"#E5ECF6\",\"gridcolor\":\"white\",\"linecolor\":\"white\",\"showbackground\":true,\"ticks\":\"\",\"zerolinecolor\":\"white\",\"gridwidth\":2},\"zaxis\":{\"backgroundcolor\":\"#E5ECF6\",\"gridcolor\":\"white\",\"linecolor\":\"white\",\"showbackground\":true,\"ticks\":\"\",\"zerolinecolor\":\"white\",\"gridwidth\":2}},\"shapedefaults\":{\"line\":{\"color\":\"#2a3f5f\"}},\"annotationdefaults\":{\"arrowcolor\":\"#2a3f5f\",\"arrowhead\":0,\"arrowwidth\":1},\"geo\":{\"bgcolor\":\"white\",\"landcolor\":\"#E5ECF6\",\"subunitcolor\":\"white\",\"showland\":true,\"showlakes\":true,\"lakecolor\":\"white\"},\"title\":{\"x\":0.05},\"mapbox\":{\"style\":\"light\"}}},\"xaxis\":{\"anchor\":\"y\",\"domain\":[0.0,1.0],\"title\":{\"text\":\"Recency\"}},\"yaxis\":{\"anchor\":\"x\",\"domain\":[0.0,1.0],\"title\":{\"text\":\"Monetary\"}},\"legend\":{\"title\":{\"text\":\"Segment\"},\"tracegroupgap\":0},\"margin\":{\"t\":60}},                        {\"responsive\": true}                    ).then(function(){\n",
       "                            \n",
       "var gd = document.getElementById('8b246d35-a4e6-45d1-b7a7-7e91e8d9fb8a');\n",
       "var x = new MutationObserver(function (mutations, observer) {{\n",
       "        var display = window.getComputedStyle(gd).display;\n",
       "        if (!display || display === 'none') {{\n",
       "            console.log([gd, 'removed!']);\n",
       "            Plotly.purge(gd);\n",
       "            observer.disconnect();\n",
       "        }}\n",
       "}});\n",
       "\n",
       "// Listen for the removal of the full notebook cells\n",
       "var notebookContainer = gd.closest('#notebook-container');\n",
       "if (notebookContainer) {{\n",
       "    x.observe(notebookContainer, {childList: true});\n",
       "}}\n",
       "\n",
       "// Listen for the clearing of the current output cell\n",
       "var outputEl = gd.closest('.output');\n",
       "if (outputEl) {{\n",
       "    x.observe(outputEl, {childList: true});\n",
       "}}\n",
       "\n",
       "                        })                };                });            </script>        </div>"
      ]
     },
     "metadata": {},
     "output_type": "display_data"
    }
   ],
   "source": [
    "fig = px.scatter(RFM_data_1,x = \"Recency\", y = \"Monetary\",color = \"Segment\")\n",
    "fig.show()"
   ]
  },
  {
   "cell_type": "markdown",
   "id": "babb3b02",
   "metadata": {
    "papermill": {
     "duration": 0.017867,
     "end_time": "2023-02-02T07:30:39.941705",
     "exception": false,
     "start_time": "2023-02-02T07:30:39.923838",
     "status": "completed"
    },
    "tags": []
   },
   "source": [
    "#### *__We can see the customers whose Recency is less than two month have high Monetory i.e the customers spending more when their recency is less.__*"
   ]
  },
  {
   "cell_type": "markdown",
   "id": "6124463b",
   "metadata": {
    "papermill": {
     "duration": 0.017004,
     "end_time": "2023-02-02T07:30:39.976474",
     "exception": false,
     "start_time": "2023-02-02T07:30:39.959470",
     "status": "completed"
    },
    "tags": []
   },
   "source": [
    "#### __4. RFM_Segment__ "
   ]
  },
  {
   "cell_type": "code",
   "execution_count": 23,
   "id": "f5315907",
   "metadata": {
    "execution": {
     "iopub.execute_input": "2023-02-02T07:30:40.012987Z",
     "iopub.status.busy": "2023-02-02T07:30:40.012597Z",
     "iopub.status.idle": "2023-02-02T07:30:40.139032Z",
     "shell.execute_reply": "2023-02-02T07:30:40.137758Z"
    },
    "papermill": {
     "duration": 0.148255,
     "end_time": "2023-02-02T07:30:40.142126",
     "exception": false,
     "start_time": "2023-02-02T07:30:39.993871",
     "status": "completed"
    },
    "tags": []
   },
   "outputs": [
    {
     "name": "stderr",
     "output_type": "stream",
     "text": [
      "/opt/conda/lib/python3.7/site-packages/seaborn/_decorators.py:43: FutureWarning:\n",
      "\n",
      "Pass the following variable as a keyword arg: x. From version 0.12, the only valid positional argument will be `data`, and passing other arguments without an explicit keyword will result in an error or misinterpretation.\n",
      "\n"
     ]
    },
    {
     "data": {
      "text/plain": [
       "<AxesSubplot:xlabel='Segment', ylabel='count'>"
      ]
     },
     "execution_count": 23,
     "metadata": {},
     "output_type": "execute_result"
    },
    {
     "data": {
      "image/png": "[encoded data removed]",
      "text/plain": [
       "<Figure size 720x504 with 1 Axes>"
      ]
     },
     "metadata": {
      "needs_background": "light"
     },
     "output_type": "display_data"
    }
   ],
   "source": [
    "plt.figure(figsize=(10,7))\n",
    "sns.countplot('Segment',data=RFM_data_1,palette='ocean')"
   ]
  },
  {
   "cell_type": "markdown",
   "id": "b47d9313",
   "metadata": {
    "papermill": {
     "duration": 0.018959,
     "end_time": "2023-02-02T07:30:40.185152",
     "exception": false,
     "start_time": "2023-02-02T07:30:40.166193",
     "status": "completed"
    },
    "tags": []
   },
   "source": [
    "#### *__From Above chart It is clear that almost 50% customers are spend time and buy products and  around 25-30% customers are potential customers and 20-25% customers need attention.__*"
   ]
  },
  {
   "cell_type": "markdown",
   "id": "632efbc5",
   "metadata": {
    "papermill": {
     "duration": 0.017874,
     "end_time": "2023-02-02T07:30:40.221578",
     "exception": false,
     "start_time": "2023-02-02T07:30:40.203704",
     "status": "completed"
    },
    "tags": []
   },
   "source": [
    "## __Step 7: K-Means Clustering Technique :__"
   ]
  },
  {
   "cell_type": "markdown",
   "id": "59686d67",
   "metadata": {
    "papermill": {
     "duration": 0.018318,
     "end_time": "2023-02-02T07:30:40.258075",
     "exception": false,
     "start_time": "2023-02-02T07:30:40.239757",
     "status": "completed"
    },
    "tags": []
   },
   "source": [
    "### __How the K-means algorithm works ?__\n",
    "---\n",
    "__Clustering is the process of dividing the entire data into groups (also known as clusters) based on the patterns in the data.__  \n",
    "    \n",
    "__To process the learning data, the K-means algorithm in data mining starts with a first group of randomly selected centroids, which are used as the beginning points for every cluster, and then performs iterative (repetitive) calculations to optimize the positions of the centroids.__"
   ]
  },
  {
   "cell_type": "markdown",
   "id": "f552b938",
   "metadata": {
    "papermill": {
     "duration": 0.018677,
     "end_time": "2023-02-02T07:30:40.295852",
     "exception": false,
     "start_time": "2023-02-02T07:30:40.277175",
     "status": "completed"
    },
    "tags": []
   },
   "source": [
    "*__To create the customer segementation based on the K-Means Clustering based on the R, F, and M Scores:\n",
    "Before that we will bring them into same scale and normalise them.__*"
   ]
  },
  {
   "cell_type": "code",
   "execution_count": 24,
   "id": "a559c101",
   "metadata": {
    "execution": {
     "iopub.execute_input": "2023-02-02T07:30:40.335176Z",
     "iopub.status.busy": "2023-02-02T07:30:40.334808Z",
     "iopub.status.idle": "2023-02-02T07:30:40.366005Z",
     "shell.execute_reply": "2023-02-02T07:30:40.365150Z"
    },
    "papermill": {
     "duration": 0.052551,
     "end_time": "2023-02-02T07:30:40.367753",
     "exception": false,
     "start_time": "2023-02-02T07:30:40.315202",
     "status": "completed"
    },
    "tags": []
   },
   "outputs": [
    {
     "data": {
      "text/html": [
       "<div>\n",
       "<style scoped>\n",
       "    .dataframe tbody tr th:only-of-type {\n",
       "        vertical-align: middle;\n",
       "    }\n",
       "\n",
       "    .dataframe tbody tr th {\n",
       "        vertical-align: top;\n",
       "    }\n",
       "\n",
       "    .dataframe thead th {\n",
       "        text-align: right;\n",
       "    }\n",
       "</style>\n",
       "<table border=\"1\" class=\"dataframe\">\n",
       "  <thead>\n",
       "    <tr style=\"text-align: right;\">\n",
       "      <th></th>\n",
       "      <th>CustomerID</th>\n",
       "      <th>Recency</th>\n",
       "      <th>Frequency</th>\n",
       "      <th>Monetary</th>\n",
       "      <th>R_score</th>\n",
       "      <th>F_score</th>\n",
       "      <th>M_score</th>\n",
       "      <th>RFM_Score</th>\n",
       "    </tr>\n",
       "  </thead>\n",
       "  <tbody>\n",
       "    <tr>\n",
       "      <th>count</th>\n",
       "      <td>5000.000000</td>\n",
       "      <td>5000.000000</td>\n",
       "      <td>5000.00000</td>\n",
       "      <td>5000.000000</td>\n",
       "      <td>5000.000000</td>\n",
       "      <td>5000.000000</td>\n",
       "      <td>5000.000000</td>\n",
       "      <td>5000.000000</td>\n",
       "    </tr>\n",
       "    <tr>\n",
       "      <th>mean</th>\n",
       "      <td>40709.227800</td>\n",
       "      <td>87.420000</td>\n",
       "      <td>12.87040</td>\n",
       "      <td>1681.523840</td>\n",
       "      <td>1.995400</td>\n",
       "      <td>2.047200</td>\n",
       "      <td>2.000000</td>\n",
       "      <td>6.042600</td>\n",
       "    </tr>\n",
       "    <tr>\n",
       "      <th>std</th>\n",
       "      <td>49949.848017</td>\n",
       "      <td>80.156513</td>\n",
       "      <td>12.67988</td>\n",
       "      <td>1998.618678</td>\n",
       "      <td>0.812595</td>\n",
       "      <td>0.817744</td>\n",
       "      <td>0.812485</td>\n",
       "      <td>1.880929</td>\n",
       "    </tr>\n",
       "    <tr>\n",
       "      <th>min</th>\n",
       "      <td>1.000000</td>\n",
       "      <td>1.000000</td>\n",
       "      <td>1.00000</td>\n",
       "      <td>38.500000</td>\n",
       "      <td>1.000000</td>\n",
       "      <td>1.000000</td>\n",
       "      <td>1.000000</td>\n",
       "      <td>3.000000</td>\n",
       "    </tr>\n",
       "    <tr>\n",
       "      <th>25%</th>\n",
       "      <td>1687.500000</td>\n",
       "      <td>7.000000</td>\n",
       "      <td>3.00000</td>\n",
       "      <td>315.097500</td>\n",
       "      <td>1.000000</td>\n",
       "      <td>1.000000</td>\n",
       "      <td>1.000000</td>\n",
       "      <td>4.000000</td>\n",
       "    </tr>\n",
       "    <tr>\n",
       "      <th>50%</th>\n",
       "      <td>13765.000000</td>\n",
       "      <td>68.000000</td>\n",
       "      <td>8.00000</td>\n",
       "      <td>966.725000</td>\n",
       "      <td>2.000000</td>\n",
       "      <td>2.000000</td>\n",
       "      <td>2.000000</td>\n",
       "      <td>6.000000</td>\n",
       "    </tr>\n",
       "    <tr>\n",
       "      <th>75%</th>\n",
       "      <td>71891.500000</td>\n",
       "      <td>171.250000</td>\n",
       "      <td>20.00000</td>\n",
       "      <td>2493.072500</td>\n",
       "      <td>3.000000</td>\n",
       "      <td>3.000000</td>\n",
       "      <td>3.000000</td>\n",
       "      <td>7.000000</td>\n",
       "    </tr>\n",
       "    <tr>\n",
       "      <th>max</th>\n",
       "      <td>277160.000000</td>\n",
       "      <td>207.000000</td>\n",
       "      <td>156.00000</td>\n",
       "      <td>34847.400000</td>\n",
       "      <td>3.000000</td>\n",
       "      <td>3.000000</td>\n",
       "      <td>3.000000</td>\n",
       "      <td>9.000000</td>\n",
       "    </tr>\n",
       "  </tbody>\n",
       "</table>\n",
       "</div>"
      ],
      "text/plain": [
       "          CustomerID      Recency   Frequency      Monetary      R_score  \\\n",
       "count    5000.000000  5000.000000  5000.00000   5000.000000  5000.000000   \n",
       "mean    40709.227800    87.420000    12.87040   1681.523840     1.995400   \n",
       "std     49949.848017    80.156513    12.67988   1998.618678     0.812595   \n",
       "min         1.000000     1.000000     1.00000     38.500000     1.000000   \n",
       "25%      1687.500000     7.000000     3.00000    315.097500     1.000000   \n",
       "50%     13765.000000    68.000000     8.00000    966.725000     2.000000   \n",
       "75%     71891.500000   171.250000    20.00000   2493.072500     3.000000   \n",
       "max    277160.000000   207.000000   156.00000  34847.400000     3.000000   \n",
       "\n",
       "           F_score      M_score    RFM_Score  \n",
       "count  5000.000000  5000.000000  5000.000000  \n",
       "mean      2.047200     2.000000     6.042600  \n",
       "std       0.817744     0.812485     1.880929  \n",
       "min       1.000000     1.000000     3.000000  \n",
       "25%       1.000000     1.000000     4.000000  \n",
       "50%       2.000000     2.000000     6.000000  \n",
       "75%       3.000000     3.000000     7.000000  \n",
       "max       3.000000     3.000000     9.000000  "
      ]
     },
     "execution_count": 24,
     "metadata": {},
     "output_type": "execute_result"
    }
   ],
   "source": [
    "# First will focus on the negativ and zero before the transformation.\n",
    "def right_treat(var):\n",
    "    if var <= 0:\n",
    "        return 1\n",
    "    else:\n",
    "        return var\n",
    "\n",
    "# Describing the data\n",
    "RFM_data_1.describe()"
   ]
  },
  {
   "cell_type": "markdown",
   "id": "5a2c84c0",
   "metadata": {
    "papermill": {
     "duration": 0.017895,
     "end_time": "2023-02-02T07:30:40.403325",
     "exception": false,
     "start_time": "2023-02-02T07:30:40.385430",
     "status": "completed"
    },
    "tags": []
   },
   "source": [
    "*__From above we can see that there is no 0 values present in Frequency , Monetary and Recency.__*"
   ]
  },
  {
   "cell_type": "code",
   "execution_count": 25,
   "id": "2ccee735",
   "metadata": {
    "execution": {
     "iopub.execute_input": "2023-02-02T07:30:40.440897Z",
     "iopub.status.busy": "2023-02-02T07:30:40.440442Z",
     "iopub.status.idle": "2023-02-02T07:30:40.457870Z",
     "shell.execute_reply": "2023-02-02T07:30:40.457212Z"
    },
    "papermill": {
     "duration": 0.040302,
     "end_time": "2023-02-02T07:30:40.461474",
     "exception": false,
     "start_time": "2023-02-02T07:30:40.421172",
     "status": "completed"
    },
    "tags": []
   },
   "outputs": [
    {
     "name": "stdout",
     "output_type": "stream",
     "text": [
      "Recency Skewness : 0.390002913835805\n",
      "Frequency Skewness : 2.205765054664766\n",
      "Monetary Skewness : 3.9057746675131164\n"
     ]
    },
    {
     "name": "stderr",
     "output_type": "stream",
     "text": [
      "/opt/conda/lib/python3.7/site-packages/ipykernel_launcher.py:2: SettingWithCopyWarning:\n",
      "\n",
      "\n",
      "A value is trying to be set on a copy of a slice from a DataFrame.\n",
      "Try using .loc[row_indexer,col_indexer] = value instead\n",
      "\n",
      "See the caveats in the documentation: https://pandas.pydata.org/pandas-docs/stable/user_guide/indexing.html#returning-a-view-versus-a-copy\n",
      "\n",
      "/opt/conda/lib/python3.7/site-packages/ipykernel_launcher.py:3: SettingWithCopyWarning:\n",
      "\n",
      "\n",
      "A value is trying to be set on a copy of a slice from a DataFrame.\n",
      "Try using .loc[row_indexer,col_indexer] = value instead\n",
      "\n",
      "See the caveats in the documentation: https://pandas.pydata.org/pandas-docs/stable/user_guide/indexing.html#returning-a-view-versus-a-copy\n",
      "\n",
      "/opt/conda/lib/python3.7/site-packages/ipykernel_launcher.py:4: SettingWithCopyWarning:\n",
      "\n",
      "\n",
      "A value is trying to be set on a copy of a slice from a DataFrame.\n",
      "Try using .loc[row_indexer,col_indexer] = value instead\n",
      "\n",
      "See the caveats in the documentation: https://pandas.pydata.org/pandas-docs/stable/user_guide/indexing.html#returning-a-view-versus-a-copy\n",
      "\n"
     ]
    }
   ],
   "source": [
    "#Applying on the data.\n",
    "RFM_data_1['Recency'] = RFM_data_1['Recency'].apply(lambda x : right_treat(x))\n",
    "RFM_data_1['Frequency'] = RFM_data_1['Frequency'].apply(lambda x : right_treat(x))\n",
    "RFM_data_1['Monetary'] = RFM_data_1['Monetary'].apply(lambda x : right_treat(x))\n",
    "\n",
    "#Checking the Skewness of R, F and M\n",
    "print('Recency Skewness : ' + RFM_data_1['Recency'].skew().astype(str))\n",
    "print('Frequency Skewness : ' + RFM_data_1['Frequency'].skew().astype(str))\n",
    "print('Monetary Skewness : ' + RFM_data_1['Monetary'].skew().astype(str))"
   ]
  },
  {
   "cell_type": "markdown",
   "id": "8dcdbe6a",
   "metadata": {
    "papermill": {
     "duration": 0.019131,
     "end_time": "2023-02-02T07:30:40.499637",
     "exception": false,
     "start_time": "2023-02-02T07:30:40.480506",
     "status": "completed"
    },
    "tags": []
   },
   "source": [
    "*__All the variables are right skewed, so will make log transformation of it.__*"
   ]
  },
  {
   "cell_type": "code",
   "execution_count": 26,
   "id": "ff932bcf",
   "metadata": {
    "execution": {
     "iopub.execute_input": "2023-02-02T07:30:40.539541Z",
     "iopub.status.busy": "2023-02-02T07:30:40.538937Z",
     "iopub.status.idle": "2023-02-02T07:30:40.545698Z",
     "shell.execute_reply": "2023-02-02T07:30:40.544902Z"
    },
    "papermill": {
     "duration": 0.029413,
     "end_time": "2023-02-02T07:30:40.548058",
     "exception": false,
     "start_time": "2023-02-02T07:30:40.518645",
     "status": "completed"
    },
    "tags": []
   },
   "outputs": [],
   "source": [
    "#Log Transformation\n",
    "log_RFM_data = RFM_data_1[['Recency','Frequency','Monetary']].apply(np.log,axis = 1).round(3)"
   ]
  },
  {
   "cell_type": "code",
   "execution_count": 27,
   "id": "6da8012b",
   "metadata": {
    "execution": {
     "iopub.execute_input": "2023-02-02T07:30:40.587126Z",
     "iopub.status.busy": "2023-02-02T07:30:40.586500Z",
     "iopub.status.idle": "2023-02-02T07:30:41.230046Z",
     "shell.execute_reply": "2023-02-02T07:30:41.228582Z"
    },
    "papermill": {
     "duration": 0.665772,
     "end_time": "2023-02-02T07:30:41.232245",
     "exception": false,
     "start_time": "2023-02-02T07:30:40.566473",
     "status": "completed"
    },
    "tags": []
   },
   "outputs": [
    {
     "name": "stderr",
     "output_type": "stream",
     "text": [
      "/opt/conda/lib/python3.7/site-packages/seaborn/distributions.py:2619: FutureWarning:\n",
      "\n",
      "`distplot` is a deprecated function and will be removed in a future version. Please adapt your code to use either `displot` (a figure-level function with similar flexibility) or `histplot` (an axes-level function for histograms).\n",
      "\n",
      "/opt/conda/lib/python3.7/site-packages/seaborn/distributions.py:2619: FutureWarning:\n",
      "\n",
      "`distplot` is a deprecated function and will be removed in a future version. Please adapt your code to use either `displot` (a figure-level function with similar flexibility) or `histplot` (an axes-level function for histograms).\n",
      "\n",
      "/opt/conda/lib/python3.7/site-packages/seaborn/distributions.py:2619: FutureWarning:\n",
      "\n",
      "`distplot` is a deprecated function and will be removed in a future version. Please adapt your code to use either `displot` (a figure-level function with similar flexibility) or `histplot` (an axes-level function for histograms).\n",
      "\n"
     ]
    },
    {
     "data": {
      "text/html": [
       "<div>\n",
       "<style scoped>\n",
       "    .dataframe tbody tr th:only-of-type {\n",
       "        vertical-align: middle;\n",
       "    }\n",
       "\n",
       "    .dataframe tbody tr th {\n",
       "        vertical-align: top;\n",
       "    }\n",
       "\n",
       "    .dataframe thead th {\n",
       "        text-align: right;\n",
       "    }\n",
       "</style>\n",
       "<table border=\"1\" class=\"dataframe\">\n",
       "  <thead>\n",
       "    <tr style=\"text-align: right;\">\n",
       "      <th></th>\n",
       "      <th>Recency</th>\n",
       "      <th>Frequency</th>\n",
       "      <th>Monetary</th>\n",
       "    </tr>\n",
       "  </thead>\n",
       "  <tbody>\n",
       "    <tr>\n",
       "      <th>count</th>\n",
       "      <td>5000.000000</td>\n",
       "      <td>5000.000000</td>\n",
       "      <td>5000.000000</td>\n",
       "    </tr>\n",
       "    <tr>\n",
       "      <th>mean</th>\n",
       "      <td>3.380851</td>\n",
       "      <td>2.041230</td>\n",
       "      <td>6.807619</td>\n",
       "    </tr>\n",
       "    <tr>\n",
       "      <th>std</th>\n",
       "      <td>2.008518</td>\n",
       "      <td>1.093141</td>\n",
       "      <td>1.173694</td>\n",
       "    </tr>\n",
       "    <tr>\n",
       "      <th>min</th>\n",
       "      <td>0.000000</td>\n",
       "      <td>0.000000</td>\n",
       "      <td>3.651000</td>\n",
       "    </tr>\n",
       "    <tr>\n",
       "      <th>25%</th>\n",
       "      <td>1.946000</td>\n",
       "      <td>1.099000</td>\n",
       "      <td>5.753000</td>\n",
       "    </tr>\n",
       "    <tr>\n",
       "      <th>50%</th>\n",
       "      <td>4.220000</td>\n",
       "      <td>2.079000</td>\n",
       "      <td>6.874000</td>\n",
       "    </tr>\n",
       "    <tr>\n",
       "      <th>75%</th>\n",
       "      <td>5.143250</td>\n",
       "      <td>2.996000</td>\n",
       "      <td>7.821250</td>\n",
       "    </tr>\n",
       "    <tr>\n",
       "      <th>max</th>\n",
       "      <td>5.333000</td>\n",
       "      <td>5.050000</td>\n",
       "      <td>10.459000</td>\n",
       "    </tr>\n",
       "  </tbody>\n",
       "</table>\n",
       "</div>"
      ],
      "text/plain": [
       "           Recency    Frequency     Monetary\n",
       "count  5000.000000  5000.000000  5000.000000\n",
       "mean      3.380851     2.041230     6.807619\n",
       "std       2.008518     1.093141     1.173694\n",
       "min       0.000000     0.000000     3.651000\n",
       "25%       1.946000     1.099000     5.753000\n",
       "50%       4.220000     2.079000     6.874000\n",
       "75%       5.143250     2.996000     7.821250\n",
       "max       5.333000     5.050000    10.459000"
      ]
     },
     "execution_count": 27,
     "metadata": {},
     "output_type": "execute_result"
    },
    {
     "data": {
      "image/png": "[encoded data removed]",
      "text/plain": [
       "<Figure size 1440x360 with 3 Axes>"
      ]
     },
     "metadata": {
      "needs_background": "light"
     },
     "output_type": "display_data"
    }
   ],
   "source": [
    "i = 0\n",
    "fig = plt.figure(constrained_layout = True,figsize = (20,5))\n",
    "gs = GridSpec(1, 3, figure=fig)    \n",
    "\n",
    "col = ['red','blue','green']\n",
    "for var in list(log_RFM_data.columns[0:3]):\n",
    "    plt.subplot(gs[0,i])\n",
    "    sns.distplot(log_RFM_data[var],color= col[i])\n",
    "    plt.title('Skewness ' + ': ' + round(log_RFM_data[var].skew(),2).astype(str))\n",
    "    i= i+1\n",
    "log_RFM_data.describe()"
   ]
  },
  {
   "cell_type": "markdown",
   "id": "471ddedd",
   "metadata": {
    "papermill": {
     "duration": 0.019003,
     "end_time": "2023-02-02T07:30:41.270839",
     "exception": false,
     "start_time": "2023-02-02T07:30:41.251836",
     "status": "completed"
    },
    "tags": []
   },
   "source": [
    "*__Therefore all the variables are now approximately normally distributed. Will make all of them on the same scale as Monetary is little large in values.__*"
   ]
  },
  {
   "cell_type": "code",
   "execution_count": 28,
   "id": "0ae9b0c7",
   "metadata": {
    "execution": {
     "iopub.execute_input": "2023-02-02T07:30:41.312390Z",
     "iopub.status.busy": "2023-02-02T07:30:41.312002Z",
     "iopub.status.idle": "2023-02-02T07:30:41.324240Z",
     "shell.execute_reply": "2023-02-02T07:30:41.322231Z"
    },
    "papermill": {
     "duration": 0.036621,
     "end_time": "2023-02-02T07:30:41.327083",
     "exception": false,
     "start_time": "2023-02-02T07:30:41.290462",
     "status": "completed"
    },
    "tags": []
   },
   "outputs": [],
   "source": [
    "#Scaling the data\n",
    "from sklearn.preprocessing import StandardScaler\n",
    "ss = StandardScaler()\n",
    "Scaled_RFM_data = ss.fit_transform(log_RFM_data)\n",
    "Scaled_RFM_data = pd.DataFrame(Scaled_RFM_data,columns=log_RFM_data.columns,index=log_RFM_data.index)"
   ]
  },
  {
   "cell_type": "code",
   "execution_count": 29,
   "id": "2b53d76d",
   "metadata": {
    "execution": {
     "iopub.execute_input": "2023-02-02T07:30:41.367267Z",
     "iopub.status.busy": "2023-02-02T07:30:41.366891Z",
     "iopub.status.idle": "2023-02-02T07:31:09.235795Z",
     "shell.execute_reply": "2023-02-02T07:31:09.235035Z"
    },
    "papermill": {
     "duration": 27.891718,
     "end_time": "2023-02-02T07:31:09.238270",
     "exception": false,
     "start_time": "2023-02-02T07:30:41.346552",
     "status": "completed"
    },
    "tags": []
   },
   "outputs": [
    {
     "data": {
      "text/plain": [
       "Text(0.5, 1.0, 'Elbow Techinque to find the optimal cluster size')"
      ]
     },
     "execution_count": 29,
     "metadata": {},
     "output_type": "execute_result"
    },
    {
     "data": {
      "image/png": "[encoded data removed]",
      "text/plain": [
       "<Figure size 1080x360 with 1 Axes>"
      ]
     },
     "metadata": {
      "needs_background": "light"
     },
     "output_type": "display_data"
    }
   ],
   "source": [
    "# Will search the optimal number of cluster based on the Elbow Method as below:\n",
    "SS_distance = {}\n",
    "for k in range(1,20):\n",
    "    mod = KMeans(n_clusters= k, max_iter=1000,init = 'k-means++')\n",
    "    mod = mod.fit(Scaled_RFM_data)\n",
    "    SS_distance[k] = mod.inertia_\n",
    "\n",
    "#Plotting the sum of square distance values and numbers of clusters\n",
    "plt.figure(figsize = (15,5))\n",
    "sns.pointplot(x = list(SS_distance.keys()), y = list(SS_distance.values()))\n",
    "plt.xlabel(\"Number of clusters\")\n",
    "plt.ylabel(\"Sum of square Distances\")\n",
    "plt.title(\"Elbow Techinque to find the optimal cluster size\")"
   ]
  },
  {
   "cell_type": "markdown",
   "id": "f1bbdd7d",
   "metadata": {
    "papermill": {
     "duration": 0.020406,
     "end_time": "2023-02-02T07:31:09.279631",
     "exception": false,
     "start_time": "2023-02-02T07:31:09.259225",
     "status": "completed"
    },
    "tags": []
   },
   "source": [
    "*__We can observe that as the number of cluster increases the sum of square distance are becoming lesser. And will take the count of cluster where this elbow is bending. In our cases, sum of square distance is dramatically decreasing at K = 3, so this is optimal value to choose for no of clusters.__*"
   ]
  },
  {
   "cell_type": "code",
   "execution_count": 30,
   "id": "988ed200",
   "metadata": {
    "execution": {
     "iopub.execute_input": "2023-02-02T07:31:09.323907Z",
     "iopub.status.busy": "2023-02-02T07:31:09.323368Z",
     "iopub.status.idle": "2023-02-02T07:31:10.395187Z",
     "shell.execute_reply": "2023-02-02T07:31:10.393710Z"
    },
    "papermill": {
     "duration": 1.097311,
     "end_time": "2023-02-02T07:31:10.397875",
     "exception": false,
     "start_time": "2023-02-02T07:31:09.300564",
     "status": "completed"
    },
    "tags": []
   },
   "outputs": [
    {
     "name": "stderr",
     "output_type": "stream",
     "text": [
      "/opt/conda/lib/python3.7/site-packages/ipykernel_launcher.py:6: SettingWithCopyWarning:\n",
      "\n",
      "\n",
      "A value is trying to be set on a copy of a slice from a DataFrame.\n",
      "Try using .loc[row_indexer,col_indexer] = value instead\n",
      "\n",
      "See the caveats in the documentation: https://pandas.pydata.org/pandas-docs/stable/user_guide/indexing.html#returning-a-view-versus-a-copy\n",
      "\n",
      "/opt/conda/lib/python3.7/site-packages/ipykernel_launcher.py:7: SettingWithCopyWarning:\n",
      "\n",
      "\n",
      "A value is trying to be set on a copy of a slice from a DataFrame.\n",
      "Try using .loc[row_indexer,col_indexer] = value instead\n",
      "\n",
      "See the caveats in the documentation: https://pandas.pydata.org/pandas-docs/stable/user_guide/indexing.html#returning-a-view-versus-a-copy\n",
      "\n"
     ]
    },
    {
     "data": {
      "text/html": [
       "<div>\n",
       "<style scoped>\n",
       "    .dataframe tbody tr th:only-of-type {\n",
       "        vertical-align: middle;\n",
       "    }\n",
       "\n",
       "    .dataframe tbody tr th {\n",
       "        vertical-align: top;\n",
       "    }\n",
       "\n",
       "    .dataframe thead th {\n",
       "        text-align: right;\n",
       "    }\n",
       "</style>\n",
       "<table border=\"1\" class=\"dataframe\">\n",
       "  <thead>\n",
       "    <tr style=\"text-align: right;\">\n",
       "      <th></th>\n",
       "      <th>CustomerID</th>\n",
       "      <th>Recency</th>\n",
       "      <th>Frequency</th>\n",
       "      <th>Monetary</th>\n",
       "      <th>R_score</th>\n",
       "      <th>F_score</th>\n",
       "      <th>M_score</th>\n",
       "      <th>RFM_Group</th>\n",
       "      <th>RFM_Score</th>\n",
       "      <th>Segment</th>\n",
       "      <th>Cluster</th>\n",
       "    </tr>\n",
       "  </thead>\n",
       "  <tbody>\n",
       "    <tr>\n",
       "      <th>0</th>\n",
       "      <td>22</td>\n",
       "      <td>1</td>\n",
       "      <td>124</td>\n",
       "      <td>11986.54</td>\n",
       "      <td>1</td>\n",
       "      <td>1</td>\n",
       "      <td>1</td>\n",
       "      <td>111</td>\n",
       "      <td>3</td>\n",
       "      <td>champions</td>\n",
       "      <td>Cluster1</td>\n",
       "    </tr>\n",
       "    <tr>\n",
       "      <th>1</th>\n",
       "      <td>29</td>\n",
       "      <td>1</td>\n",
       "      <td>82</td>\n",
       "      <td>11025.96</td>\n",
       "      <td>1</td>\n",
       "      <td>1</td>\n",
       "      <td>1</td>\n",
       "      <td>111</td>\n",
       "      <td>3</td>\n",
       "      <td>champions</td>\n",
       "      <td>Cluster1</td>\n",
       "    </tr>\n",
       "    <tr>\n",
       "      <th>2</th>\n",
       "      <td>83</td>\n",
       "      <td>1</td>\n",
       "      <td>43</td>\n",
       "      <td>7259.69</td>\n",
       "      <td>1</td>\n",
       "      <td>1</td>\n",
       "      <td>1</td>\n",
       "      <td>111</td>\n",
       "      <td>3</td>\n",
       "      <td>champions</td>\n",
       "      <td>Cluster1</td>\n",
       "    </tr>\n",
       "    <tr>\n",
       "      <th>3</th>\n",
       "      <td>95</td>\n",
       "      <td>1</td>\n",
       "      <td>44</td>\n",
       "      <td>6992.27</td>\n",
       "      <td>1</td>\n",
       "      <td>1</td>\n",
       "      <td>1</td>\n",
       "      <td>111</td>\n",
       "      <td>3</td>\n",
       "      <td>champions</td>\n",
       "      <td>Cluster1</td>\n",
       "    </tr>\n",
       "    <tr>\n",
       "      <th>4</th>\n",
       "      <td>124</td>\n",
       "      <td>1</td>\n",
       "      <td>55</td>\n",
       "      <td>6263.44</td>\n",
       "      <td>1</td>\n",
       "      <td>1</td>\n",
       "      <td>1</td>\n",
       "      <td>111</td>\n",
       "      <td>3</td>\n",
       "      <td>champions</td>\n",
       "      <td>Cluster1</td>\n",
       "    </tr>\n",
       "  </tbody>\n",
       "</table>\n",
       "</div>"
      ],
      "text/plain": [
       "   CustomerID  Recency  Frequency  Monetary  R_score  F_score  M_score  \\\n",
       "0          22        1        124  11986.54        1        1        1   \n",
       "1          29        1         82  11025.96        1        1        1   \n",
       "2          83        1         43   7259.69        1        1        1   \n",
       "3          95        1         44   6992.27        1        1        1   \n",
       "4         124        1         55   6263.44        1        1        1   \n",
       "\n",
       "  RFM_Group  RFM_Score    Segment   Cluster  \n",
       "0       111          3  champions  Cluster1  \n",
       "1       111          3  champions  Cluster1  \n",
       "2       111          3  champions  Cluster1  \n",
       "3       111          3  champions  Cluster1  \n",
       "4       111          3  champions  Cluster1  "
      ]
     },
     "execution_count": 30,
     "metadata": {},
     "output_type": "execute_result"
    }
   ],
   "source": [
    "# Now we will perform K- means clustering on the data set.\n",
    "KM_clust = KMeans(n_clusters= 3, init = 'k-means++',max_iter = 1000)\n",
    "KM_clust.fit(Scaled_RFM_data)\n",
    "\n",
    "# Mapping on the data\n",
    "RFM_data_1['Cluster'] = KM_clust.labels_\n",
    "RFM_data_1['Cluster'] = 'Cluster' + RFM_data_1['Cluster'].astype(str)\n",
    "RFM_data_1.head()"
   ]
  },
  {
   "cell_type": "markdown",
   "id": "68395876",
   "metadata": {
    "papermill": {
     "duration": 0.020335,
     "end_time": "2023-02-02T07:31:10.439151",
     "exception": false,
     "start_time": "2023-02-02T07:31:10.418816",
     "status": "completed"
    },
    "tags": []
   },
   "source": [
    "*__Clusters have been created based on the values of recency, frequency and monetary with the help of K-Means Clustering.__*"
   ]
  },
  {
   "cell_type": "markdown",
   "id": "e6473692",
   "metadata": {
    "papermill": {
     "duration": 0.021372,
     "end_time": "2023-02-02T07:31:10.481679",
     "exception": false,
     "start_time": "2023-02-02T07:31:10.460307",
     "status": "completed"
    },
    "tags": []
   },
   "source": [
    "### *__Visualization for Recency, Frequency and Monetory : Cluster Groups__*"
   ]
  },
  {
   "cell_type": "code",
   "execution_count": 31,
   "id": "2fae079a",
   "metadata": {
    "execution": {
     "iopub.execute_input": "2023-02-02T07:31:10.526369Z",
     "iopub.status.busy": "2023-02-02T07:31:10.525974Z",
     "iopub.status.idle": "2023-02-02T07:31:10.748090Z",
     "shell.execute_reply": "2023-02-02T07:31:10.746785Z"
    },
    "papermill": {
     "duration": 0.247603,
     "end_time": "2023-02-02T07:31:10.751020",
     "exception": false,
     "start_time": "2023-02-02T07:31:10.503417",
     "status": "completed"
    },
    "tags": []
   },
   "outputs": [
    {
     "data": {
      "text/html": [
       "<div>                            <div id=\"e20cccc2-07c4-4702-b613-a7a4f4c0eb3b\" class=\"plotly-graph-div\" style=\"height:525px; width:100%;\"></div>            <script type=\"text/javascript\">                require([\"plotly\"], function(Plotly) {                    window.PLOTLYENV=window.PLOTLYENV || {};                                    if (document.getElementById(\"e20cccc2-07c4-4702-b613-a7a4f4c0eb3b\")) {                    Plotly.newPlot(                        \"e20cccc2-07c4-4702-b613-a7a4f4c0eb3b\",                        [{\"hovertemplate\":\"Cluster=Cluster1<br>Recency=%{x}<br>Frequency=%{y}<extra></extra>\",\"legendgroup\":\"Cluster1\",\"marker\":{\"color\":\"#636efa\",\"symbol\":\"circle\"},\"mode\":\"markers\",\"name\":\"Cluster1\",\"showlegend\":true,\"x\":[1,1,1,1,1,1,1,1,1,1,1,1,1,1,1,1,1,1,1,1,1,1,1,1,1,1,1,1,1,1,1,1,1,1,1,1,1,1,1,1,1,1,1,1,1,1,1,1,1,1,1,1,1,1,1,1,1,1,1,2,2,2,2,2,2,2,2,2,2,2,2,2,2,2,2,2,2,2,2,2,2,2,2,2,2,2,2,2,2,2,2,2,2,2,2,2,2,3,3,3,3,3,3,3,3,3,3,3,3,3,3,3,3,3,3,3,3,3,3,3,3,3,3,3,3,3,3,3,3,3,3,3,3,4,4,4,4,4,4,4,4,4,4,4,4,4,4,4,4,4,4,4,4,4,4,4,4,4,4,4,4,4,4,4,4,4,4,4,5,5,5,5,5,5,5,5,5,5,5,5,5,5,5,5,5,5,5,5,5,5,5,5,5,5,5,5,5,5,5,5,5,5,5,6,6,6,6,6,6,6,6,6,6,6,6,6,6,6,6,6,6,6,6,6,6,6,6,6,6,6,6,6,6,6,6,6,6,6,6,6,6,6,6,6,6,6,6,7,7,7,7,7,7,7,7,7,7,7,7,7,7,7,7,7,7,7,7,7,7,7,7,7,7,7,7,7,7,7,8,8,8,8,8,8,8,8,8,8,8,8,8,8,8,8,8,8,8,8,8,8,9,9,9,9,9,9,9,9,9,9,9,9,9,9,9,9,9,9,9,9,9,9,9,9,9,9,9,9,9,9,9,9,10,10,10,10,10,10,10,10,10,10,10,10,10,10,10,10,10,10,10,10,10,10,10,10,10,10,10,10,10,10,10,10,10,10,10,10,10,10,11,11,11,11,11,11,11,11,11,11,11,11,11,11,11,11,11,11,11,11,11,11,11,12,12,12,12,12,12,12,12,12,12,12,12,12,12,12,12,12,12,12,12,12,12,12,12,12,12,12,12,12,12,12,12,12,12,12,12,12,12,12,12,12,13,13,13,13,13,13,13,13,13,13,13,13,13,13,13,13,13,13,13,13,13,13,13,13,13,13,13,13,13,13,13,13,13,13,13,13,14,14,14,14,14,14,14,14,14,14,14,14,14,14,14,14,14,14,14,14,14,14,14,14,14,14,14,14,14,14,14,14,14,14,14,14,14,14,14,14,14,14,15,15,15,15,15,15,15,15,15,15,15,15,15,15,15,15,15,15,15,16,16,16,16,16,16,16,16,16,16,16,16,16,16,16,16,16,17,17,17,17,17,17,17,17,17,17,17,17,17,17,17,17,17,18,18,18,18,18,18,18,18,18,18,18,18,18,18,18,18,18,18,18,18,18,18,18,18,19,19,19,19,19,19,19,19,19,19,19,19,19,19,19,19,19,19,19,19,19,19,19,19,19,19,20,20,20,20,20,20,20,20,20,20,20,20,20,21,21,21,21,21,21,21,21,21,21,21,21,21,21,21,21,21,21,21,21,22,22,22,22,22,22,22,22,22,22,22,22,22,22,22,22,22,22,22,22,22,22,22,23,23,23,23,23,23,23,23,23,23,23,23,23,23,23,23,23,23,24,24,24,24,24,24,24,24,24,24,24,24,24,24,24,24,24,24,24,25,25,25,25,25,25,25,25,25,25,25,25,25,25,25,25,25,25,25,25,25,25,25,25,25,26,26,26,26,26,26,26,26,26,26,26,26,26,26,26,26,26,26,26,26,26,27,27,27,27,27,27,27,27,27,27,27,27,27,27,27,27,27,27,28,28,28,28,28,28,28,28,28,28,28,28,28,28,28,28,28,28,29,29,29,29,29,29,29,29,29,29,29,29,29,29,29,29,29,30,30,30,30,30,30,30,30,30,30,30,30,31,31,31,31,31,31,31,31,31,31,31,31,31,31,31,31,31,31,31,31,31,31,31,31,31,31,32,32,32,32,32,32,32,32,32,32,32,32,32,32,32,32,32,32,32,33,33,33,33,33,33,33,33,33,33,33,33,33,33,33,33,33,34,34,34,34,34,34,34,34,34,34,34,34,34,34,34,34,34,35,35,35,35,35,35,35,35,35,35,35,35,35,35,35,35,35,35,36,36,36,36,36,36,36,36,36,36,36,36,36,36,36,36,36,36,37,37,37,37,37,37,37,37,37,37,37,37,37,37,37,37,37,38,38,38,38,38,38,38,38,38,38,38,38,38,38,38,39,39,39,39,39,39,39,39,39,39,39,39,39,39,39,39,39,40,40,40,40,40,40,40,40,40,40,40,40,40,40,40,40,40,40,40,41,41,41,41,41,41,41,41,41,41,41,41,41,41,41,41,41,41,41,42,42,42,42,42,42,42,42,42,42,43,43,43,43,43,43,43,43,43,43,43,43,43,44,44,44,44,44,44,44,44,44,44,45,45,45,45,45,45,45,45,45,45,45,45,45,46,46,46,46,46,46,46,46,46,46,47,47,47,47,47,47,47,47,47,47,48,48,48,48,48,48,48,48,48,49,49,49,49,49,49,49,49,49,50,50,50,50,50,50,50,50,50,50,50,50,50,51,51,51,51,51,51,51,51,51,51,51,52,52,52,52,52,52,52,52,52,52,52,53,53,53,53,53,53,53,53,53,53,54,54,54,54,54,54,54,54,54,54,54,54,54,54,54,55,55,55,55,55,55,55,55,55,55,55,55,55,55,56,56,56,56,56,56,56,56,56,56,56,56,56,56,56,57,57,57,57,57,57,57,58,58,58,58,58,58,58,58,58,58,58,58,58,59,59,59,59,59,59,59,59,59,59,59,59,59,59,60,60,60,60,60,60,60,61,61,61,61,61,61,61,61,61,61,61,61,61,61,61,62,62,62,62,62,62,62,62,62,62,62,63,63,63,63,63,63,63,63,63,63,63,63,63,64,64,64,64,64,64,64,64,64,64,64,65,65,65,65,65,65,65,65,65,65,65,65,66,66,66,66,66,66,66,66,66,66,66,66,66,67,67,67,67,67,67,67,67,67,67,67,67,67,67,67,67,68,68,68,68,68,68,68,68,68,68,68,68,68,68,68,68,68,69,69,69,69,69,69,69,69,69,69,69,69,70,70,70,70,70,70,70,70,70,71,71,71,71,71,71,71,71,71,71,71,71,71,71,71,71,71,72,72,72,72,72,72,72,72,72,72,72,72,72,72,72,72,72,72,73,73,73,73,73,73,73,74,74,74,74,74,74,74,74,74,74,74,74,75,75,75,75,75,75,75,75,75,75,75,75,75,75,75,76,76,76,76,76,76,76,76,76,76,76,76,76,76,76,76,76,76,77,77,77,77,77,77,77,77,77,77,78,78,78,78,78,78,78,78,79,79,79,79,79,79,79,79,79,80,80,80,80,80,80,80,80,80,80,80,81,81,81,81,81,81,81,81,81,81,82,82,82,82,82,82,82,83,83,83,83,83,83,83,83,83,83,83,83,84,84,84,84,84,84,84,84,85,85,85,85,85,85,85,85,85,85,85,86,86,86,86,86,86,86,86,86,86,87,87,87,87,87,87,87,87,87,87,87,87,88,88,88,88,88,88,88,88,88,88,89,89,89,89,89,89,89,89,89,89,89,89,89,89,89,89,90,90,90,90,90,90,90,90,90,90,90,91,91,91,91,91,91,91,91,91,91,92,92,92,92,92,92,92,92,92,92,93,93,93,93,93,93,93,93,93,93,93,93,94,94,94,94,94,94,94,94,94,94,94,95,95,95,95,95,95,95,95,95,96,96,96,96,96,96,96,97,97,97,97,97,98,98,98,98,98,98,98,98,98,98,98,99,99,99,99,99,99,99,99,99,99,99,99,100,100,100,100,100,100,100,100,100,100,100,100,100,100,101,101,101,101,101,101,101,101,101,101,101,101,102,102,102,102,102,102,102,102,103,103,103,103,103,103,103,103,103,103,103,103,103,104,104,104,104,104,104,104,104,104,105,105,105,105,105,105,105,105,105,106,106,106,106,106,106,106,106,106,106,106,106,107,107,107,107,107,107,107,107,107,107,107,107,107,108,108,108,108,108,108,108,108,108,108,108,109,109,109,109,109,109,109,109,109,109,109,109,110,110,110,110,110,110,110,110,110,110,110,110,110,110,111,111,111,111,111,111,111,111,111,111,111,111,112,112,112,112,112,112,112,112,112,112,112,112,112,112,113,113,113,113,113,113,113,113,113,113,114,114,114,114,114,114,114,114,114,114,114,115,115,115,115,115,115,115,115,116,116,116,116,116,116,116,116,116,117,117,117,117,117,117,117,117,117,117,118,118,118,118,118,118,119,119,119,119,119,119,119,120,120,120,120,120,121,121,121,121,121,121,121,121,121,121,121,121,121,122,122,122,122,122,122,122,122,122,123,123,123,123,123,123,123,123,124,124,124,124,124,124,124,124,124,124,125,125,125,125,125,125,125,125,126,126,126,126,127,127,127,127,127,127,127,127,128,128,128,128,128,128,128,128,129,129,129,129,129,129,129,129,129,129,129,129,130,130,130,130,130,130,130,130,130,130,130,130,130,131,131,131,131,131,131,131,131,131,131,131,131,131,131,131,131,131,131,131,131,131,132,132,132,132,132,132,132,132,132,133,133,133,133,133,134,134,135,135,135,135,135,135,136,136,136,136,136,136,136,136,136,137,137,137,137,137,137,138,138,138,139,139,139,140,140,140,140,140,140,140,140,140,140,141,141,141,141,141,141,141,141,142,142,142,143,143,143,143,144,144,144,144,144,144,144,145,145,145,145,145,146,146,146,146,146,146,146,146,147,147,147,147,147,147,148,148,148,148,149,149,149,149,149,149,150,150,150,150,150,150,150,150,150,151,151,151,151,152,152,152,152,152,152,152,152,152,152,153,153,153,153,154,154,154,154,154,155,156,156,156,157,157,157,157,157,157,157,157,158,158,158,159,159,159,160,160,160,160,160,160,160,161,161,161,161,162,162,162,163,163,163,164,164,165,165,165,165,165,166,166,166,166,166,167,167,167,167,167,167,167,167,167,167,168,168,168,168,168,168,169,169,169,169,169,170,170,171,171,171,171,172,172,172,172,172,172,173,173,173,173,173,174,174,174,174,175,175,175,175,176,176,176,176,176,177,177,177,177,177,178,178,178,178,178,178,178,178,179,179,179,179,179,180,180,180,180,180,180,180,181,181,181,181,181,181,181,182,182,182,182,182,183,183,183,184,184,185,185,185,185,185,186,186,186,186,186,186,187,187,187,187,188,188,188,189,189,189,189,190,191,191,192,192,192,193,193,193,194,194,195,196,196,197,197,197,197,197,197,197,197,197,197,198,198,198,198,198,198,199,199,200,200,201,201,201,201,201,201,202,202,203,203,203,204,204,204,204,204,204,205,205,205,205,205,205,205,206,206,206,206,207,207,207,207,207,207,207,207,207,207,207,207,207,207,207,207,207,207,207,207,207,207,207,207,207,207,207,207,207,207,207,207],\"xaxis\":\"x\",\"y\":[124,82,43,44,55,49,43,54,19,21,37,20,21,34,31,28,31,11,20,15,29,13,13,19,14,18,18,24,22,24,28,31,19,23,18,22,21,27,29,26,20,18,24,20,40,25,22,25,28,18,18,19,21,25,21,20,21,22,25,44,47,41,22,56,45,24,35,28,18,34,34,33,25,35,30,12,29,20,22,29,21,21,23,38,21,25,16,29,22,26,17,18,21,26,23,23,21,40,54,25,17,48,48,76,42,28,15,22,29,34,7,29,23,19,17,29,29,23,24,25,23,17,16,25,16,22,24,28,27,16,19,15,17,54,43,51,27,41,43,20,31,30,34,49,31,49,16,18,15,15,23,19,28,38,15,25,25,21,17,18,14,19,12,18,20,10,16,16,84,32,20,109,47,50,42,67,22,34,30,28,18,19,15,25,16,30,23,17,34,25,29,20,18,19,14,17,23,18,15,16,18,16,13,36,26,43,107,18,63,55,49,32,15,24,38,41,28,38,48,51,7,11,19,25,11,25,26,24,31,35,31,30,19,19,22,18,19,15,26,22,19,8,24,29,13,11,16,42,39,27,20,17,46,62,21,20,32,27,17,30,31,26,19,20,18,18,28,23,21,26,17,17,34,18,14,15,21,14,28,34,31,32,26,39,40,21,28,35,20,17,26,23,20,21,18,16,14,24,23,22,24,17,18,19,22,42,27,68,16,14,18,22,21,7,35,23,18,28,25,21,19,25,19,26,21,20,25,18,23,16,9,10,39,54,51,21,22,23,20,21,18,28,16,24,39,22,16,30,27,20,24,19,11,28,26,16,20,21,21,17,15,23,26,24,19,7,17,13,8,10,32,33,32,35,27,23,42,22,26,18,36,27,17,22,21,18,9,21,11,26,19,15,14,20,16,48,61,10,43,24,18,21,17,29,13,27,28,24,21,29,21,25,21,27,20,25,17,16,27,22,17,16,23,18,19,23,16,23,29,26,15,18,16,21,47,48,37,60,33,52,34,51,20,15,50,14,40,21,27,22,19,39,24,45,17,18,28,26,31,20,29,19,20,13,17,17,15,12,18,7,50,41,24,20,21,19,12,35,24,59,32,21,7,20,31,14,40,4,15,26,29,25,35,19,37,19,44,23,27,23,25,24,21,15,20,9,22,9,17,16,17,9,101,55,36,17,27,16,11,22,12,29,17,9,27,21,25,18,15,25,23,79,49,13,13,11,9,19,20,23,34,22,25,19,19,28,17,23,41,47,40,17,38,19,31,22,34,21,23,21,21,19,13,15,57,38,29,35,36,25,35,46,34,31,18,15,16,20,22,25,24,23,17,20,17,19,17,16,18,22,28,22,39,27,36,10,19,19,20,29,21,24,24,27,22,17,16,28,21,19,17,15,6,5,11,25,23,23,13,19,20,26,9,15,17,16,16,12,33,39,16,18,34,11,24,7,17,18,28,37,27,20,19,21,26,22,21,17,37,12,23,33,33,49,24,2,40,18,23,25,14,30,14,26,13,22,28,20,24,12,15,36,25,25,16,18,38,44,24,15,18,26,24,29,18,19,11,9,6,41,49,20,24,27,32,28,22,15,17,23,33,15,24,27,24,18,13,9,37,28,28,9,34,22,34,17,26,34,16,29,26,21,14,18,16,15,15,8,20,18,15,19,8,65,68,51,36,20,34,23,36,29,17,21,28,7,21,28,18,15,19,6,15,21,60,29,47,22,13,63,28,30,24,24,24,19,20,17,22,26,22,17,8,16,40,26,49,14,10,46,26,21,15,30,28,17,17,18,17,8,30,79,7,19,19,16,4,27,10,11,17,18,26,5,17,22,6,40,30,11,35,15,9,29,25,32,26,21,14,52,26,27,60,8,10,18,8,23,25,22,10,13,30,28,18,25,19,26,23,16,24,27,18,18,13,66,16,85,16,28,31,19,47,36,18,16,19,18,19,26,8,19,10,10,21,34,13,18,21,19,22,21,21,21,11,21,24,18,30,16,16,39,55,31,22,17,11,28,22,18,19,16,18,8,21,8,9,19,74,41,71,51,32,13,20,45,14,19,27,30,22,21,12,22,20,18,11,15,28,26,35,32,18,24,31,18,18,24,21,26,20,21,28,25,25,30,28,40,20,20,24,20,21,21,17,18,17,17,19,6,8,21,36,27,22,24,27,15,31,23,18,19,26,17,16,9,32,37,27,22,23,29,18,12,12,23,12,20,13,13,16,19,16,41,15,7,5,35,15,35,21,23,29,22,18,24,21,20,18,5,20,7,25,34,32,20,15,16,22,20,29,38,19,16,21,19,11,12,25,13,21,69,33,30,18,32,26,25,34,17,14,18,29,22,18,19,21,19,21,18,14,21,15,8,35,23,16,25,21,18,30,24,19,19,47,25,33,28,23,30,20,17,21,20,19,10,20,22,20,19,32,23,22,24,18,13,21,83,10,22,21,14,31,33,15,23,7,15,23,27,21,22,10,14,17,16,28,26,35,44,28,25,29,20,20,31,50,37,15,23,25,30,16,32,33,18,15,24,30,28,24,43,35,21,23,17,13,15,15,17,24,30,16,28,16,27,27,15,11,8,61,53,27,17,11,35,21,25,17,15,41,57,31,27,21,8,19,29,17,18,24,21,19,9,9,35,26,19,9,21,31,21,15,13,21,22,15,7,9,28,23,22,13,26,23,18,9,12,44,16,25,38,21,20,9,41,23,33,22,17,11,156,21,23,39,27,12,21,18,15,9,10,9,12,20,25,44,18,12,19,36,21,33,18,19,14,16,7,23,18,24,33,19,7,13,27,45,17,15,23,23,19,14,22,12,20,16,12,17,7,19,43,22,20,31,22,19,26,22,16,20,30,40,22,13,18,28,24,21,21,25,17,6,10,47,40,21,21,12,35,30,12,14,24,16,28,54,34,38,19,29,21,17,27,17,17,6,60,62,26,8,18,23,28,18,19,16,19,21,17,41,12,23,16,25,21,20,30,19,30,17,24,26,23,18,14,21,29,30,27,15,14,30,36,14,12,20,17,21,14,22,6,8,15,46,13,16,24,20,21,19,29,16,16,21,19,35,26,25,30,55,14,14,12,28,39,16,27,19,13,25,22,19,18,15,16,17,15,19,20,15,28,20,30,31,32,16,20,7,20,11,15,18,40,17,17,8,9,11,111,7,17,15,22,7,16,49,29,21,26,22,20,22,22,20,26,7,17,37,20,18,15,22,16,18,21,16,16,10,9,18,18,7,25,24,15,22,18,21,20,32,32,19,18,26,6,17,18,32,20,13,34,26,28,18,21,21,17,24,25,12,62,29,22,26,10,22,20,8,30,13,20,19,21,16,13,15,7,46,59,21,24,13,20,22,15,23,13,8,25,32,12,30,19,17,18,10,8,15,41,9,33,20,18,19,20,88,43,48,23,15,7,17,18,15,15,18,17,18,36,18,21,21,18,19,14,30,51,19,22,19,27,21,27,15,18,13,42,12,28,5,19,21,17,16,17,7,10,18,44,37,17,17,19,31,18,19,9,9,24,28,16,21,23,19,21,15,17,19,32,18,31,19,11,18,18,23,16,20,16,16,19,9,11,11,15,14,41,23,21,12,10,15,25,15,14,17,40,26,31,21,18,19,8,12,16,30,13,18,21,22,28,23,18,15,9,10,28,5,30,28,20,24,19,18,13,9,24,59,35,13,18,16,9,13,16,10,17,16,43,32,14,16,18,19,15,7,12,23,9,39,29,22,10,21,22,18,17,9,7,128,24,34,12,20,19,33,21,14,10,11,44,10,42,38,9,32,18,19,25,11,16,16,35,12,31,23,23,13,16,19,19,13,15,18,9,8,26,61,43,20,29,26,10,19,16,14,10,12,29,27,36,16,12,16,13,16,23,32,28,24,19,23,40,23,8,10,14,16,10,31,23,7,23,17,17,17,14,9,34,25,16,19,12,17,15,11,39,29,34,50,30,11,37,23,16,30,24,19,8,25,15,34,28,15,21,35,10,10,25,14,13,8,22,14,23,20,19,11,20,20,21,20,19,46,33,23,24,16,15,18,18,7,6,17,13,51,19,19,16,22,20,20,13,24,19,14,22,10,14,40,42,24,19,28,23,21,20,11,14,16,19,75,32,22,27,22,35,28,16,11,18,18,23,10,13,30,14,36,25,24,9,17,7,13,15,32,27,26,22,21,19,29,22,30,15,16,14,41,32,23,15,20,18,17,81,14,11,19,34,18,11,19,12,17,48,17,18,21,17,9,12,19,14,61,13,27,24,9,8,7,16,22,24,12,20,9,45,12,16,16,15,24,33,23,13,20,17,30,12,20,27,29,11,20,48,13,15,20,16,13,19,14,10,21,27,17,30,15,23,13,9,37,44,28,11,9,16,17,19,7,13,9,20,23,19,16,13,19,19,20,24,13,11,21,22,17,24,14,17,11,16,59,31,17,14,21,23,8,19,44,40,25,27,20,19,26,20,17,11,15,12,26,31,37,49,18,29,19,21,48,17,19,26,14,24,54,18,31,17,29,13,29,22,21,14,42,18,16,21,12,22,19,8,11,12,22,16,21,26,14,8,9,16,13,34,21,21,23,13,19,5,46,15,11,16,14,26,26,14,23,20,15,17,7,17,14,13,10,17,22,16,15,17,18,14,44,47,17,17,17,26,14,24,37,19,18,22,15,35,40,12,17,14,18,24,19,5,15,9,31,20,11,16,22,4,19,14,18,13,16,18,15,17,17,12,11,18,10,21,17,19,7,8,30,26,21,26,18,10,50,20,14,13,12,18,8,15,7,16,24,29,20,32,7,16,15,14,12,19,14,6,16,45,37,29,5,19,17,11,24,16,10,34,13,26,9,22,25,5,15,11,57,15,29,8,17,19,18,18,13,17,14,16,33,10,10,9,7,12,25,21,6,19,24,16,14,9,17,24,9,29,12,26,30,23,18,27,11,17,11,20,19,9,28,10,25,26,7,23,19,23,20,10,23,20,7,17,15,9,24,22,21,14,15,29,28,15,23,21,19,32,12,24,11,30,18,20,26,21,15,15,8,19,17,15,13,45,22,20,14,27,9,20,26,19,23,20,12,19,14,24,19,17,9,47,6,24,16,18,7,13,15,22,24,19,14,20,57,22,19,22,20,21,11,23,13,12,29,14,13,7,26,31,16,26,12,18,19,14,16,13,66,11,20,23,15,31,6,27,24,13,10,20,22,27,18,24,19,10,21,13,17,10,38,10,8,23,24,13,30,11,17,27,15,11,18,9,27,34,23,16,16,15,9,9,9,13,27,16,4,19,20,10,19,17,10,13,30,21,19,19,13,14,24,18,27,7,11,37,32,12,15,11,20,32,13,7,14,21,14,11,22,16,6,17,16,14,14,25,11,9,8,12,27,8,11,15,13,8,21,13,16,23,12,13,9,11,11,12,10,12,9,12,14,11,10,12],\"yaxis\":\"y\",\"type\":\"scattergl\"},{\"hovertemplate\":\"Cluster=Cluster0<br>Recency=%{x}<br>Frequency=%{y}<extra></extra>\",\"legendgroup\":\"Cluster0\",\"marker\":{\"color\":\"#EF553B\",\"symbol\":\"circle\"},\"mode\":\"markers\",\"name\":\"Cluster0\",\"showlegend\":true,\"x\":[1,1,1,1,1,1,1,1,1,1,1,1,1,1,1,1,1,1,1,1,1,1,1,1,1,1,1,1,1,1,1,1,1,1,1,1,1,1,1,1,1,1,1,1,1,1,1,1,1,1,1,1,1,1,1,1,1,1,1,1,1,1,1,1,1,1,1,1,1,1,1,1,1,1,1,1,1,1,1,1,1,1,1,1,1,1,1,1,1,1,1,1,1,1,1,1,1,1,1,1,1,1,1,1,1,1,1,1,1,1,1,1,1,1,1,1,1,1,1,1,1,1,1,1,1,1,1,1,1,1,1,1,1,1,1,1,1,1,1,1,1,1,1,1,1,1,1,1,1,1,1,1,1,1,1,1,1,1,1,1,1,1,1,1,1,1,1,1,1,1,1,1,1,1,1,1,1,1,1,1,1,1,1,1,1,1,1,1,1,1,1,1,1,1,1,1,1,1,1,1,1,1,1,1,1,1,1,1,1,1,1,1,1,1,1,1,1,1,1,1,1,1,1,1,1,1,1,1,1,1,1,1,1,1,1,1,1,1,1,1,1,1,1,1,1,1,1,1,1,1,1,1,1,1,1,1,1,1,1,1,1,1,1,1,1,1,1,1,1,1,1,1,1,1,1,1,1,1,1,1,1,1,1,1,1,1,1,1,1,1,1,1,1,1,1,1,1,1,1,1,1,1,1,1,1,1,1,1,1,1,1,1,1,1,1,1,1,1,1,1,1,1,1,1,1,1,1,1,1,1,1,1,1,1,1,1,1,1,1,1,1,1,1,1,1,1,1,1,1,1,1,1,1,1,1,1,1,1,1,1,1,1,1,1,1,1,1,1,1,1,1,1,1,1,1,1,1,1,1,1,1,1,1,1,1,1,1,1,1,1,1,1,1,1,1,1,1,1,1,1,1,1,1,1,1,1,1,1,1,1,1,1,1,1,1,1,1,1,1,1,1,1,1,1,1,1,1,1,1,1,1,1,1,1,1,1,1,1,1,1,1,1,1,1,1,1,1,1,1,1,1,1,1,1,1,1,1,1,1,1,1,1,1,1,1,1,1,1,1,1,1,1,1,1,1,1,1,1,1,1,1,1,1,1,1,1,1,1,1,1,1,1,1,1,1,1,1,1,1,1,1,1,1,1,1,1,1,1,1,1,1,1,1,1,1,1,1,1,1,1,1,1,1,1,1,1,1,1,1,1,1,1,1,1,1,1,1,1,1,1,1,1,1,1,1,1,1,1,1,1,1,1,1,1,1,1,1,1,1,1,1,1,1,1,1,1,1,1,1,1,1,1,1,1,1,1,1,1,1,1,1,1,1,1,1,1,1,1,1,1,1,1,1,1,1,1,1,1,1,1,1,1,1,1,1,1,1,1,1,1,1,1,1,1,1,1,1,1,1,1,1,1,1,1,1,1,1,1,1,1,1,1,1,1,1,1,1,1,1,1,1,1,1,1,1,1,1,1,1,1,1,1,1,1,1,1,1,1,1,1,1,1,1,1,1,1,1,1,1,1,1,1,1,1,1,1,1,1,1,1,1,1,1,1,1,1,1,1,1,1,1,1,1,1,1,1,1,1,1,1,1,1,1,1,1,1,1,1,1,1,1,1,1,1,1,1,1,1,1,1,1,1,1,1,1,1,1,1,1,1,1,1,1,1,1,1,1,1,1,1,1,1,1,1,1,1,1,1,1,1,1,1,1,1,1,1,1,1,1,1,1,1,1,1,1,1,1,1,1,1,1,1,1,1,1,1,1,1,1,1,1,1,1,1,1,1,1,1,1,1,1,1,1,1,1,1,1,1,1,1,1,1,1,1,1,1,1,1,1,1,1,1,1,1,1,1,1,1,1,1,1,1,1,1,1,1,1,1,1,1,1,1,1,1,1,1,1,1,1,1,1,1,1,1,1,1,1,1,1,1,1,1,1,1,1,1,1,1,1,1,1,1,1,1,1,1,1,1,1,1,1,1,1,1,1,1,1,1,1,1,1,1,1,1,1,1,1,1,1,1,1,1,1,1,1,1,1,1,1,1,1,1,1,1,1,1,1,1,1,1,1,1,1,1,1,1,1,1,1,1,1,1,1,1,1,1,1,1,1,1,1,1,1,1,1,1,1,1,1,1,1,1,1,1,1,1,1,1,1,1,1,1,1,1,1,1,1,1,1,1,1,1,1,1,1,1,1,1,1,1,1,2,2,2,2,2,2,2,3,3,3,3,4,4,4,5,5,5,5,5,5,6,6,6,6,6,6,7,7,7,7,8,8,8,8,8,8,8,9,9,10,10,11,11,11,11,12,12,12,12,13,14,14,14,14],\"xaxis\":\"x\",\"y\":[13,11,13,9,13,8,10,15,17,17,9,15,9,13,12,10,17,13,15,8,10,13,11,18,10,18,16,10,9,8,12,6,14,14,11,9,14,17,16,17,4,8,12,5,11,9,16,8,5,18,9,15,7,15,8,12,12,12,5,15,7,17,8,17,14,13,12,4,6,18,8,9,6,14,4,10,12,2,10,14,11,6,18,13,12,8,8,3,3,7,9,15,6,8,7,10,6,6,13,6,4,11,8,9,8,5,3,2,10,11,7,7,13,14,12,11,14,7,13,9,9,4,8,8,11,13,5,3,4,2,20,10,7,12,4,10,3,10,2,9,7,8,9,9,11,4,8,6,12,10,11,5,10,14,14,13,2,13,5,5,4,5,10,13,6,4,11,10,9,9,3,11,7,10,8,9,7,3,14,5,8,9,7,3,9,11,6,5,5,8,8,3,11,4,9,6,10,6,2,8,4,17,7,12,13,12,6,10,4,16,9,4,7,4,8,2,3,8,3,10,3,3,6,8,5,1,4,7,13,7,5,8,13,5,5,8,10,8,2,4,4,9,6,4,15,3,6,5,6,9,3,6,7,8,4,7,3,3,8,4,5,7,7,5,6,7,5,6,12,7,11,2,6,3,3,8,10,13,5,12,6,8,8,4,2,7,5,5,4,6,10,9,3,4,6,5,4,4,4,2,2,2,5,10,4,5,5,6,8,6,7,6,6,4,6,10,7,5,6,1,6,2,4,6,7,4,3,1,7,12,5,3,1,6,7,6,4,3,4,6,4,4,4,4,3,4,2,6,6,5,7,6,6,4,5,3,3,5,3,3,3,4,6,1,4,3,2,7,7,8,4,3,6,6,3,3,4,4,10,4,4,7,7,5,5,5,12,9,4,7,5,7,2,6,7,8,3,4,5,4,6,5,5,4,1,2,7,3,4,2,4,5,11,2,3,4,5,5,4,2,5,3,4,1,1,6,4,5,4,7,3,2,1,3,4,3,6,8,1,6,6,4,7,7,2,3,5,3,3,5,7,3,2,3,8,8,2,1,4,5,11,8,2,4,2,5,2,1,2,4,5,5,4,4,4,1,3,4,3,3,8,3,3,1,1,9,4,6,4,3,5,3,7,2,2,4,1,1,6,3,6,6,3,1,4,7,8,4,2,6,5,3,4,4,3,6,3,1,1,1,3,3,2,5,4,4,2,5,5,4,6,3,4,5,3,6,6,1,3,6,1,2,3,3,3,3,2,2,6,2,2,1,3,3,3,4,2,2,4,6,3,3,5,2,4,4,3,6,3,8,8,2,2,3,1,2,4,1,1,1,3,4,2,2,3,2,3,3,5,3,2,3,2,1,2,3,3,4,1,2,4,5,1,3,2,4,3,2,2,5,3,1,1,3,3,5,3,4,3,1,2,2,4,6,4,3,4,6,1,2,2,3,3,6,3,2,2,2,4,4,4,5,3,6,2,4,3,4,2,3,2,2,3,1,2,4,2,3,2,1,5,1,1,1,1,5,3,4,1,3,2,3,3,2,2,6,3,2,4,1,3,2,3,8,1,2,4,1,3,1,2,1,3,2,1,2,6,4,4,3,10,3,3,2,4,1,1,1,2,5,2,1,2,1,3,2,3,2,3,3,3,3,4,2,2,3,4,2,3,2,2,2,2,2,2,3,3,2,2,4,3,2,1,1,3,3,3,3,1,3,3,4,3,3,3,3,2,4,7,2,2,3,3,2,4,3,6,3,1,2,2,2,2,2,2,3,3,3,1,1,3,3,2,1,2,2,2,3,3,4,1,2,2,4,2,1,1,1,2,2,1,5,4,2,4,2,1,2,2,3,4,4,3,2,1,3,5,3,2,3,4,2,1,2,2,3,1,2,2,3,3,2,1,2,4,3,4,2,3,3,1,3,4,1,1,2,2,2,1,1,1,2,2,3,1,1,3,3,4,1,2,2,1,1,1,3,1,1,2,2,2,1,2,5,1,1,2,2,1,1,1,1,1,1,1,2,4,1,2,1,4,2,1,2,1,2,1,1,1,2,3,4,2,1,3,4,1,1,1,1,2,3,3,1,2,2,1,2,1,2,1,2,2,3,3,3,3,3,1,1,1,3,3,2,1,3,2,2,3,2,2,2,3,1,3,2,1,2,3,3,1,1,1,2,2,2,3,1,1,3,1,1,1,1,1,4,1,1,1,1,2,6,9,8,6,7,3,3,8,7,3,4,7,4,2,5,5,3,10,4,3,11,5,7,5,3,7,4,6,3,2,4,8,9,9,4,7,4,3,5,7,4,5,5,5,3,4,7,7,4,6,3,6,6,5],\"yaxis\":\"y\",\"type\":\"scattergl\"},{\"hovertemplate\":\"Cluster=Cluster2<br>Recency=%{x}<br>Frequency=%{y}<extra></extra>\",\"legendgroup\":\"Cluster2\",\"marker\":{\"color\":\"#00cc96\",\"symbol\":\"circle\"},\"mode\":\"markers\",\"name\":\"Cluster2\",\"showlegend\":true,\"x\":[8,12,12,12,13,13,13,15,15,15,15,16,16,17,17,17,18,19,19,19,19,19,20,20,21,21,21,22,22,23,24,24,24,25,25,25,25,25,25,26,26,26,26,27,27,27,27,28,28,28,28,29,29,30,30,31,31,31,31,32,33,33,34,34,35,35,36,36,38,39,39,39,40,40,40,40,40,41,43,43,43,43,43,45,45,45,45,45,46,46,46,46,47,47,47,47,48,49,49,50,50,53,53,53,54,54,54,54,55,55,55,55,56,56,57,57,58,58,60,60,60,60,61,61,62,63,63,64,64,64,64,64,64,64,64,65,65,66,67,68,68,68,69,69,69,70,71,71,71,71,72,72,73,73,73,73,73,73,74,74,74,74,75,75,75,75,75,76,76,76,76,76,76,77,77,77,77,78,78,78,79,79,79,79,80,81,81,82,83,83,84,84,84,84,84,84,85,85,85,85,85,86,86,86,87,87,88,88,88,89,89,90,90,90,91,91,91,91,91,92,92,93,93,94,94,94,95,96,97,97,97,97,97,97,98,98,98,98,98,99,99,99,100,100,101,101,101,101,102,102,102,103,103,103,103,103,103,104,104,105,105,106,106,106,106,107,107,107,107,107,107,108,109,109,109,110,111,111,111,111,111,111,111,111,112,112,113,113,114,114,114,114,114,115,115,115,116,116,116,116,116,116,116,116,117,117,117,117,117,117,118,118,118,118,119,119,119,119,119,120,120,120,120,121,121,121,121,122,122,122,122,122,123,123,123,123,123,124,124,124,124,124,124,124,125,125,125,125,126,126,126,126,127,127,127,127,127,127,128,128,128,128,128,128,128,128,129,129,129,129,130,130,130,130,130,130,130,130,130,131,131,131,131,131,131,131,131,132,132,132,132,133,133,134,134,134,135,135,135,136,137,137,137,137,137,138,138,138,140,140,140,141,142,143,143,144,144,144,145,145,146,146,146,147,148,148,149,150,150,150,150,150,150,152,152,152,152,152,152,153,153,153,153,154,154,154,154,155,155,155,156,156,156,156,156,157,157,157,158,158,158,158,158,159,159,159,160,161,161,162,163,163,163,164,165,165,166,166,166,166,166,167,167,168,169,169,169,170,170,170,170,171,171,171,171,171,171,171,171,172,172,172,172,172,172,172,173,173,173,173,173,173,173,174,174,174,174,175,175,175,176,176,176,177,177,177,177,177,178,178,178,178,178,178,178,179,179,180,181,181,181,181,181,181,182,183,183,183,183,183,183,184,184,185,185,186,187,188,188,188,189,190,190,191,191,191,192,192,192,193,193,194,194,195,196,197,197,197,197,199,200,200,201,201,201,201,202,202,203,203,203,204,204,204,205,205,205,206,207,207,207,207,207,207,207,207,207,207,207,207,207,207,207,207,207,207,207,207,207,207,207,207,207,207,207,207,207,207,207,207,207,207,207,207,207,207,207,207,207,207,207,207,207,207,207,207,207,207,207,207,207,207,207,207,207,207,207,207,207,207,207,207,207,207,207,207,207,207,207,207,207,207,207,207,207,207,207,207,207,207,207,207,207,207,207,207,207,207,207,207,207,207,207,207,207,207,207,207,207,207,207,207,207,207,207,207,207,207,207,207,207,207,207,207,207,207,207,207,207,207,207,207,207,207,207,207,207,207,207,207,207,207,207,207,207,207,207,207,207,207,207,207,207,207,207,207,207,207,207,207,207,207,207,207,207,207,207,207,207,207,207,207,207,207,207,207,207,207,207,207,207,207,207,207,207,207,207,207,207,207,207,207,207,207,207,207,207,207,207,207,207,207,207,207,207,207,207,207,207,207,207,207,207,207,207,207,207,207,207,207,207,207,207,207,207,207,207,207,207,207,207,207,207,207,207,207,207,207,207,207,207,207,207,207,207,207,207,207,207,207,207,207,207,207,207,207,207,207,207,207,207,207,207,207,207,207,207,207,207,207,207,207,207,207,207,207,207,207,207,207,207,207,207,207,207,207,207,207,207,207,207,207,207,207,207,207,207,207,207,207,207,207,207,207,207,207,207,207,207,207,207,207,207,207,207,207,207,207,207,207,207,207,207,207,207,207,207,207,207,207,207,207,207,207,207,207,207,207,207,207,207,207,207,207,207,207,207,207,207,207,207,207,207,207,207,207,207,207,207,207,207,207,207,207,207,207,207,207,207,207,207,207,207,207,207,207,207,207,207,207,207,207,207,207,207,207,207,207,207,207,207,207,207,207,207,207,207,207,207,207,207,207,207,207,207,207,207,207,207,207,207,207,207,207,207,207,207,207,207,207,207,207,207,207,207,207,207,207,207,207,207,207,207,207,207,207,207,207,207,207,207,207,207,207,207,207,207,207,207,207,207,207,207,207,207,207,207,207,207,207,207,207,207,207,207,207,207,207,207,207,207,207,207,207,207,207,207,207,207,207,207,207,207,207,207,207,207,207,207,207,207,207,207,207,207,207,207,207,207,207,207,207,207,207,207,207,207,207,207,207,207,207,207,207,207,207,207,207,207,207,207,207,207,207,207,207,207,207,207,207,207,207,207,207,207,207,207,207,207,207,207,207,207,207,207,207,207,207,207,207,207,207,207,207,207,207,207,207,207,207,207,207,207,207,207,207,207,207,207,207,207,207,207,207,207,207,207,207,207,207,207,207,207,207,207,207,207,207,207,207,207,207,207,207,207,207,207,207,207,207,207,207,207,207,207,207,207,207,207,207,207,207,207,207,207,207,207,207,207,207,207,207,207,207,207,207,207,207,207,207,207,207,207,207,207,207,207,207,207,207,207,207,207,207,207,207,207,207,207,207,207,207,207,207,207,207,207,207,207,207,207,207,207,207,207,207,207,207,207,207,207,207,207,207,207,207,207,207,207,207,207,207,207,207,207,207,207,207,207,207,207,207,207,207,207,207,207,207,207,207,207,207,207,207,207,207,207,207,207,207,207,207,207,207,207,207,207,207,207,207,207,207,207,207,207,207,207,207,207,207,207,207,207,207,207,207,207,207,207,207,207,207,207,207,207,207,207,207,207,207,207,207,207,207,207,207,207,207,207,207,207,207,207,207,207,207,207,207,207,207,207,207,207,207,207,207,207,207,207,207,207,207,207,207,207,207,207,207,207,207,207,207,207,207,207,207,207,207,207,207,207,207,207,207,207,207,207,207,207,207,207,207,207,207,207,207,207,207,207,207,207,207,207,207,207,207,207,207,207,207,207,207,207,207,207,207,207,207,207,207,207,207,207,207,207,207,207,207,207,207,207,207,207,207,207,207,207,207,207,207,207,207,207,207,207,207,207,207,207,207,207,207,207,207,207,207,207,207,207,207,207,207,207,207,207,207,207,207,207,207,207,207,207,207,207,207,207,207,207,207,207,207,207,207,207,207,207,207,207,207,207,207,207,207,207,207,207,207,207,207,207,207,207,207,207,207,207,207,207,207,207,207,207,207,207,207,207,207,207,207,207,207,207,207,207,207,207,207,207,207,207,207,207,207,207,207,207,207,207,207,207,207,207,207,207,207,207,207,207,207,207,207,207,207,207,207,207],\"xaxis\":\"x\",\"y\":[2,3,3,2,2,2,3,3,2,4,5,4,3,3,6,3,3,3,3,4,2,3,2,2,6,4,2,5,2,5,5,3,2,6,6,3,5,2,2,5,3,3,2,6,6,4,2,8,3,4,3,8,3,4,2,4,3,3,6,7,6,2,4,2,3,4,3,6,4,11,5,3,6,7,4,7,5,6,5,6,4,8,2,3,5,6,4,3,4,6,2,2,3,6,2,2,6,4,2,2,2,4,3,3,5,2,2,2,6,2,2,2,6,5,2,3,3,3,5,6,5,4,9,2,2,5,9,5,7,9,3,5,3,3,2,7,7,2,4,4,2,2,4,6,4,2,4,3,3,2,4,3,10,8,6,3,3,3,5,8,3,4,3,2,3,3,5,4,3,3,2,3,2,4,5,3,3,6,3,8,3,2,4,2,6,4,3,3,5,6,5,7,3,5,6,5,6,3,4,2,2,6,6,3,6,5,4,2,4,4,2,4,7,3,5,6,3,3,5,4,2,5,5,4,5,3,2,2,7,6,10,7,6,2,5,6,3,2,3,5,4,3,5,2,2,4,2,2,3,3,2,7,7,2,2,4,2,5,4,3,22,6,3,2,2,3,5,5,6,4,2,4,5,9,5,3,8,4,9,3,10,5,3,5,7,3,10,2,5,7,7,5,5,9,5,4,5,6,2,4,3,2,2,4,4,10,7,2,2,3,6,8,5,3,5,3,4,2,2,7,8,8,6,5,6,3,3,6,3,4,3,2,6,5,2,2,4,8,5,4,5,3,3,2,6,5,3,3,9,8,5,3,5,4,4,4,2,2,8,3,6,6,3,4,4,2,8,5,6,2,4,6,6,5,4,3,5,2,3,7,6,3,3,2,4,3,2,5,2,3,2,3,6,4,5,6,5,7,5,7,8,4,2,2,2,5,4,2,2,4,3,4,3,4,4,4,23,2,3,2,5,3,5,3,2,2,7,5,3,6,7,10,4,5,5,3,5,6,2,4,7,4,3,4,3,2,3,7,9,8,6,5,3,6,3,4,2,2,8,2,2,4,2,8,4,2,5,8,3,6,8,4,2,6,9,5,6,4,2,3,2,6,4,4,9,5,4,2,2,2,3,3,4,6,6,6,6,2,3,6,4,4,7,2,2,4,3,5,4,4,3,2,3,6,5,4,2,6,8,6,7,11,8,7,6,4,3,3,8,8,4,8,5,3,4,6,6,7,4,5,4,4,3,2,7,5,5,5,4,2,2,6,7,5,2,4,6,3,5,3,2,7,4,5,4,3,3,4,2,3,6,8,3,3,7,7,9,2,2,3,3,8,3,4,2,2,2,2,3,3,2,3,6,4,4,2,3,5,5,5,3,4,6,5,6,5,4,5,5,7,4,6,5,6,6,7,6,5,7,2,8,6,7,4,5,9,6,6,6,6,2,6,4,7,5,2,8,9,6,9,4,4,3,7,9,7,4,7,8,3,6,4,8,1,9,9,5,5,8,4,4,5,7,4,4,5,10,8,8,4,6,4,10,7,4,7,1,10,4,3,3,5,6,9,2,4,6,2,5,5,4,6,5,7,4,5,9,7,4,5,10,2,5,5,3,2,2,5,4,4,9,9,4,2,4,9,4,5,7,7,9,2,4,1,5,2,3,5,3,5,3,7,5,6,4,4,4,3,3,2,5,1,4,1,4,5,1,6,4,3,4,7,2,5,2,2,3,4,1,5,4,6,6,6,3,7,3,1,3,2,2,5,3,4,2,6,2,2,2,6,4,6,6,9,8,4,6,2,5,3,4,6,6,4,1,6,4,4,5,3,1,1,3,4,4,4,2,3,3,2,5,4,1,3,3,4,13,6,3,3,3,2,6,3,3,3,5,3,3,4,1,6,4,3,5,2,2,2,6,5,3,8,4,3,3,4,4,5,5,3,7,4,9,4,4,4,5,3,3,2,2,3,1,3,6,4,7,3,4,5,2,2,4,2,4,3,2,5,5,5,3,3,3,5,2,4,5,1,3,2,4,2,2,1,1,2,1,1,2,5,6,2,3,3,7,2,3,4,3,5,3,3,3,1,4,3,3,3,2,5,4,2,2,4,3,1,3,2,1,3,3,5,1,5,3,2,2,3,4,2,2,2,3,4,4,2,3,4,3,3,3,2,4,2,5,2,3,4,3,4,5,2,4,3,4,5,1,4,3,2,1,2,2,3,2,2,2,4,1,8,2,4,3,2,5,2,3,3,3,4,4,3,3,3,4,1,4,5,3,3,2,2,4,4,3,2,2,1,3,3,4,2,2,3,2,3,1,3,2,2,2,1,3,1,1,1,4,2,2,2,2,4,2,2,5,4,4,2,3,2,1,4,3,2,1,1,2,2,2,2,4,2,3,6,3,2,3,6,2,3,1,4,4,1,3,1,3,5,3,1,2,2,2,3,3,2,1,3,2,2,4,2,6,3,2,6,1,2,2,2,3,3,4,2,4,2,4,2,1,2,4,2,2,3,2,2,4,2,2,2,3,1,1,3,2,1,3,3,2,3,2,6,1,2,2,1,2,2,3,3,5,2,2,1,2,3,2,3,3,4,1,2,2,2,2,2,3,1,1,1,2,3,2,3,3,2,1,1,1,2,2,6,2,1,2,4,2,1,2,1,2,1,2,1,2,4,5,2,3,3,3,3,2,1,1,1,2,2,4,3,2,2,2,2,4,3,1,1,2,1,1,1,1,3,1,1,1,2,4,3,4,2,3,5,2,1,2,1,1,1,1,1,1,1,2,2,4,4,2,1,1,1,1,1,1,2,3,4,3,3,3,2,2,4,3,1,3,2,4,1,1,1,1,1,1,1,1,1,2,3,2,3,2,3,3,2,3,2,1,3,1,2,3,2,2,3,2,3,4,2,3,1,3,3,4,1,2,1,2,1,4,2,1,2,2,2,1,1,2,1,1,1,1,2,1,1,5,2,1,2,2,3,4,2,1,1,2,2,1,3,1,2,3,3,2,2,1,1,2,2,1,4,1,2,2,1,1,4,1,1,1,1,2,2,3,1,5,3,3,3,2,1,2,3,2,1,1,1,2,3,2,3,2,2,2,1,2,2,2,2,2,3,1,1,2,1,2,3,2,2,1,1,3,1,1,1,3,2,2,1,1,1,1,1,1,1,1,1,1,1,1,3,1,1,1,1,2,2,2,2,2,5,1,2,1,1,2,1,1,1,1,3,2,3,2,1,3,2,3,3,2,2,2,3,1,1,1,3,1,3,2,1,2,2,1,1,3,3,2,4,2,3,2,3,1,2,1,3,1,1,1,5,2,3,1,3,1,2,1,2,3,1,1,1,1,1,3,2,2,3,1,1,2,4,3,1,3,1,1,1,1,1,3,1,1,1,1,2,2,2,1,1,1,1,1,1,2,1,1,1,1,2,1,2,2,1,1,1,3,1,3,2,2,1,1,1,1,1,3,2,5,2,1,2,1,1,1,3,2,3,3,2,2,2,1,2,1,1,1,1,2,2,3,4,1,1,2,4,1,1,1,1,1,1,1,1,2],\"yaxis\":\"y\",\"type\":\"scattergl\"}],                        {\"template\":{\"data\":{\"histogram2dcontour\":[{\"type\":\"histogram2dcontour\",\"colorbar\":{\"outlinewidth\":0,\"ticks\":\"\"},\"colorscale\":[[0.0,\"#0d0887\"],[0.1111111111111111,\"#46039f\"],[0.2222222222222222,\"#7201a8\"],[0.3333333333333333,\"#9c179e\"],[0.4444444444444444,\"#bd3786\"],[0.5555555555555556,\"#d8576b\"],[0.6666666666666666,\"#ed7953\"],[0.7777777777777778,\"#fb9f3a\"],[0.8888888888888888,\"#fdca26\"],[1.0,\"#f0f921\"]]}],\"choropleth\":[{\"type\":\"choropleth\",\"colorbar\":{\"outlinewidth\":0,\"ticks\":\"\"}}],\"histogram2d\":[{\"type\":\"histogram2d\",\"colorbar\":{\"outlinewidth\":0,\"ticks\":\"\"},\"colorscale\":[[0.0,\"#0d0887\"],[0.1111111111111111,\"#46039f\"],[0.2222222222222222,\"#7201a8\"],[0.3333333333333333,\"#9c179e\"],[0.4444444444444444,\"#bd3786\"],[0.5555555555555556,\"#d8576b\"],[0.6666666666666666,\"#ed7953\"],[0.7777777777777778,\"#fb9f3a\"],[0.8888888888888888,\"#fdca26\"],[1.0,\"#f0f921\"]]}],\"heatmap\":[{\"type\":\"heatmap\",\"colorbar\":{\"outlinewidth\":0,\"ticks\":\"\"},\"colorscale\":[[0.0,\"#0d0887\"],[0.1111111111111111,\"#46039f\"],[0.2222222222222222,\"#7201a8\"],[0.3333333333333333,\"#9c179e\"],[0.4444444444444444,\"#bd3786\"],[0.5555555555555556,\"#d8576b\"],[0.6666666666666666,\"#ed7953\"],[0.7777777777777778,\"#fb9f3a\"],[0.8888888888888888,\"#fdca26\"],[1.0,\"#f0f921\"]]}],\"heatmapgl\":[{\"type\":\"heatmapgl\",\"colorbar\":{\"outlinewidth\":0,\"ticks\":\"\"},\"colorscale\":[[0.0,\"#0d0887\"],[0.1111111111111111,\"#46039f\"],[0.2222222222222222,\"#7201a8\"],[0.3333333333333333,\"#9c179e\"],[0.4444444444444444,\"#bd3786\"],[0.5555555555555556,\"#d8576b\"],[0.6666666666666666,\"#ed7953\"],[0.7777777777777778,\"#fb9f3a\"],[0.8888888888888888,\"#fdca26\"],[1.0,\"#f0f921\"]]}],\"contourcarpet\":[{\"type\":\"contourcarpet\",\"colorbar\":{\"outlinewidth\":0,\"ticks\":\"\"}}],\"contour\":[{\"type\":\"contour\",\"colorbar\":{\"outlinewidth\":0,\"ticks\":\"\"},\"colorscale\":[[0.0,\"#0d0887\"],[0.1111111111111111,\"#46039f\"],[0.2222222222222222,\"#7201a8\"],[0.3333333333333333,\"#9c179e\"],[0.4444444444444444,\"#bd3786\"],[0.5555555555555556,\"#d8576b\"],[0.6666666666666666,\"#ed7953\"],[0.7777777777777778,\"#fb9f3a\"],[0.8888888888888888,\"#fdca26\"],[1.0,\"#f0f921\"]]}],\"surface\":[{\"type\":\"surface\",\"colorbar\":{\"outlinewidth\":0,\"ticks\":\"\"},\"colorscale\":[[0.0,\"#0d0887\"],[0.1111111111111111,\"#46039f\"],[0.2222222222222222,\"#7201a8\"],[0.3333333333333333,\"#9c179e\"],[0.4444444444444444,\"#bd3786\"],[0.5555555555555556,\"#d8576b\"],[0.6666666666666666,\"#ed7953\"],[0.7777777777777778,\"#fb9f3a\"],[0.8888888888888888,\"#fdca26\"],[1.0,\"#f0f921\"]]}],\"mesh3d\":[{\"type\":\"mesh3d\",\"colorbar\":{\"outlinewidth\":0,\"ticks\":\"\"}}],\"scatter\":[{\"fillpattern\":{\"fillmode\":\"overlay\",\"size\":10,\"solidity\":0.2},\"type\":\"scatter\"}],\"parcoords\":[{\"type\":\"parcoords\",\"line\":{\"colorbar\":{\"outlinewidth\":0,\"ticks\":\"\"}}}],\"scatterpolargl\":[{\"type\":\"scatterpolargl\",\"marker\":{\"colorbar\":{\"outlinewidth\":0,\"ticks\":\"\"}}}],\"bar\":[{\"error_x\":{\"color\":\"#2a3f5f\"},\"error_y\":{\"color\":\"#2a3f5f\"},\"marker\":{\"line\":{\"color\":\"#E5ECF6\",\"width\":0.5},\"pattern\":{\"fillmode\":\"overlay\",\"size\":10,\"solidity\":0.2}},\"type\":\"bar\"}],\"scattergeo\":[{\"type\":\"scattergeo\",\"marker\":{\"colorbar\":{\"outlinewidth\":0,\"ticks\":\"\"}}}],\"scatterpolar\":[{\"type\":\"scatterpolar\",\"marker\":{\"colorbar\":{\"outlinewidth\":0,\"ticks\":\"\"}}}],\"histogram\":[{\"marker\":{\"pattern\":{\"fillmode\":\"overlay\",\"size\":10,\"solidity\":0.2}},\"type\":\"histogram\"}],\"scattergl\":[{\"type\":\"scattergl\",\"marker\":{\"colorbar\":{\"outlinewidth\":0,\"ticks\":\"\"}}}],\"scatter3d\":[{\"type\":\"scatter3d\",\"line\":{\"colorbar\":{\"outlinewidth\":0,\"ticks\":\"\"}},\"marker\":{\"colorbar\":{\"outlinewidth\":0,\"ticks\":\"\"}}}],\"scattermapbox\":[{\"type\":\"scattermapbox\",\"marker\":{\"colorbar\":{\"outlinewidth\":0,\"ticks\":\"\"}}}],\"scatterternary\":[{\"type\":\"scatterternary\",\"marker\":{\"colorbar\":{\"outlinewidth\":0,\"ticks\":\"\"}}}],\"scattercarpet\":[{\"type\":\"scattercarpet\",\"marker\":{\"colorbar\":{\"outlinewidth\":0,\"ticks\":\"\"}}}],\"carpet\":[{\"aaxis\":{\"endlinecolor\":\"#2a3f5f\",\"gridcolor\":\"white\",\"linecolor\":\"white\",\"minorgridcolor\":\"white\",\"startlinecolor\":\"#2a3f5f\"},\"baxis\":{\"endlinecolor\":\"#2a3f5f\",\"gridcolor\":\"white\",\"linecolor\":\"white\",\"minorgridcolor\":\"white\",\"startlinecolor\":\"#2a3f5f\"},\"type\":\"carpet\"}],\"table\":[{\"cells\":{\"fill\":{\"color\":\"#EBF0F8\"},\"line\":{\"color\":\"white\"}},\"header\":{\"fill\":{\"color\":\"#C8D4E3\"},\"line\":{\"color\":\"white\"}},\"type\":\"table\"}],\"barpolar\":[{\"marker\":{\"line\":{\"color\":\"#E5ECF6\",\"width\":0.5},\"pattern\":{\"fillmode\":\"overlay\",\"size\":10,\"solidity\":0.2}},\"type\":\"barpolar\"}],\"pie\":[{\"automargin\":true,\"type\":\"pie\"}]},\"layout\":{\"autotypenumbers\":\"strict\",\"colorway\":[\"#636efa\",\"#EF553B\",\"#00cc96\",\"#ab63fa\",\"#FFA15A\",\"#19d3f3\",\"#FF6692\",\"#B6E880\",\"#FF97FF\",\"#FECB52\"],\"font\":{\"color\":\"#2a3f5f\"},\"hovermode\":\"closest\",\"hoverlabel\":{\"align\":\"left\"},\"paper_bgcolor\":\"white\",\"plot_bgcolor\":\"#E5ECF6\",\"polar\":{\"bgcolor\":\"#E5ECF6\",\"angularaxis\":{\"gridcolor\":\"white\",\"linecolor\":\"white\",\"ticks\":\"\"},\"radialaxis\":{\"gridcolor\":\"white\",\"linecolor\":\"white\",\"ticks\":\"\"}},\"ternary\":{\"bgcolor\":\"#E5ECF6\",\"aaxis\":{\"gridcolor\":\"white\",\"linecolor\":\"white\",\"ticks\":\"\"},\"baxis\":{\"gridcolor\":\"white\",\"linecolor\":\"white\",\"ticks\":\"\"},\"caxis\":{\"gridcolor\":\"white\",\"linecolor\":\"white\",\"ticks\":\"\"}},\"coloraxis\":{\"colorbar\":{\"outlinewidth\":0,\"ticks\":\"\"}},\"colorscale\":{\"sequential\":[[0.0,\"#0d0887\"],[0.1111111111111111,\"#46039f\"],[0.2222222222222222,\"#7201a8\"],[0.3333333333333333,\"#9c179e\"],[0.4444444444444444,\"#bd3786\"],[0.5555555555555556,\"#d8576b\"],[0.6666666666666666,\"#ed7953\"],[0.7777777777777778,\"#fb9f3a\"],[0.8888888888888888,\"#fdca26\"],[1.0,\"#f0f921\"]],\"sequentialminus\":[[0.0,\"#0d0887\"],[0.1111111111111111,\"#46039f\"],[0.2222222222222222,\"#7201a8\"],[0.3333333333333333,\"#9c179e\"],[0.4444444444444444,\"#bd3786\"],[0.5555555555555556,\"#d8576b\"],[0.6666666666666666,\"#ed7953\"],[0.7777777777777778,\"#fb9f3a\"],[0.8888888888888888,\"#fdca26\"],[1.0,\"#f0f921\"]],\"diverging\":[[0,\"#8e0152\"],[0.1,\"#c51b7d\"],[0.2,\"#de77ae\"],[0.3,\"#f1b6da\"],[0.4,\"#fde0ef\"],[0.5,\"#f7f7f7\"],[0.6,\"#e6f5d0\"],[0.7,\"#b8e186\"],[0.8,\"#7fbc41\"],[0.9,\"#4d9221\"],[1,\"#276419\"]]},\"xaxis\":{\"gridcolor\":\"white\",\"linecolor\":\"white\",\"ticks\":\"\",\"title\":{\"standoff\":15},\"zerolinecolor\":\"white\",\"automargin\":true,\"zerolinewidth\":2},\"yaxis\":{\"gridcolor\":\"white\",\"linecolor\":\"white\",\"ticks\":\"\",\"title\":{\"standoff\":15},\"zerolinecolor\":\"white\",\"automargin\":true,\"zerolinewidth\":2},\"scene\":{\"xaxis\":{\"backgroundcolor\":\"#E5ECF6\",\"gridcolor\":\"white\",\"linecolor\":\"white\",\"showbackground\":true,\"ticks\":\"\",\"zerolinecolor\":\"white\",\"gridwidth\":2},\"yaxis\":{\"backgroundcolor\":\"#E5ECF6\",\"gridcolor\":\"white\",\"linecolor\":\"white\",\"showbackground\":true,\"ticks\":\"\",\"zerolinecolor\":\"white\",\"gridwidth\":2},\"zaxis\":{\"backgroundcolor\":\"#E5ECF6\",\"gridcolor\":\"white\",\"linecolor\":\"white\",\"showbackground\":true,\"ticks\":\"\",\"zerolinecolor\":\"white\",\"gridwidth\":2}},\"shapedefaults\":{\"line\":{\"color\":\"#2a3f5f\"}},\"annotationdefaults\":{\"arrowcolor\":\"#2a3f5f\",\"arrowhead\":0,\"arrowwidth\":1},\"geo\":{\"bgcolor\":\"white\",\"landcolor\":\"#E5ECF6\",\"subunitcolor\":\"white\",\"showland\":true,\"showlakes\":true,\"lakecolor\":\"white\"},\"title\":{\"x\":0.05},\"mapbox\":{\"style\":\"light\"}}},\"xaxis\":{\"anchor\":\"y\",\"domain\":[0.0,1.0],\"title\":{\"text\":\"Recency\"}},\"yaxis\":{\"anchor\":\"x\",\"domain\":[0.0,1.0],\"title\":{\"text\":\"Frequency\"}},\"legend\":{\"title\":{\"text\":\"Cluster\"},\"tracegroupgap\":0},\"margin\":{\"t\":60}},                        {\"responsive\": true}                    ).then(function(){\n",
       "                            \n",
       "var gd = document.getElementById('e20cccc2-07c4-4702-b613-a7a4f4c0eb3b');\n",
       "var x = new MutationObserver(function (mutations, observer) {{\n",
       "        var display = window.getComputedStyle(gd).display;\n",
       "        if (!display || display === 'none') {{\n",
       "            console.log([gd, 'removed!']);\n",
       "            Plotly.purge(gd);\n",
       "            observer.disconnect();\n",
       "        }}\n",
       "}});\n",
       "\n",
       "// Listen for the removal of the full notebook cells\n",
       "var notebookContainer = gd.closest('#notebook-container');\n",
       "if (notebookContainer) {{\n",
       "    x.observe(notebookContainer, {childList: true});\n",
       "}}\n",
       "\n",
       "// Listen for the clearing of the current output cell\n",
       "var outputEl = gd.closest('.output');\n",
       "if (outputEl) {{\n",
       "    x.observe(outputEl, {childList: true});\n",
       "}}\n",
       "\n",
       "                        })                };                });            </script>        </div>"
      ]
     },
     "metadata": {},
     "output_type": "display_data"
    },
    {
     "data": {
      "text/html": [
       "<div>                            <div id=\"6545d17f-df4a-4220-968d-a72fb8e0853a\" class=\"plotly-graph-div\" style=\"height:525px; width:100%;\"></div>            <script type=\"text/javascript\">                require([\"plotly\"], function(Plotly) {                    window.PLOTLYENV=window.PLOTLYENV || {};                                    if (document.getElementById(\"6545d17f-df4a-4220-968d-a72fb8e0853a\")) {                    Plotly.newPlot(                        \"6545d17f-df4a-4220-968d-a72fb8e0853a\",                        [{\"hovertemplate\":\"Cluster=Cluster1<br>Monetary=%{x}<br>Frequency=%{y}<extra></extra>\",\"legendgroup\":\"Cluster1\",\"marker\":{\"color\":\"#636efa\",\"symbol\":\"circle\"},\"mode\":\"markers\",\"name\":\"Cluster1\",\"showlegend\":true,\"x\":[11986.54,11025.96,7259.69,6992.27,6263.44,5841.24,5470.27,5200.53,4967.06,4726.38,3934.05,3933.82,3778.07,3725.48,3660.12,3547.93,3547.7,3401.97,3391.09,3322.83,3305.8,3287.77,3224.55,3211.35,3149.69,3113.08,3088.26,3060.53,3027.11,2944.71,2865.89,2659.31,2609.0,2555.27,2544.48,2534.23,2530.55,2475.84,2469.36,2432.01,2416.13,2390.84,2386.87,2277.34,2274.19,2234.03,2144.1,2120.69,1993.5,1924.45,1890.12,1876.65,1868.29,1756.37,1739.11,1641.58,1633.65,1567.96,1536.78,9006.15,8711.5,5932.66,5797.99,5340.53,5279.99,4771.53,4254.66,4194.19,4154.86,4102.14,4005.15,3589.66,3510.45,3444.56,3427.29,3079.95,2944.74,2863.93,2810.35,2708.35,2668.65,2655.51,2513.52,2426.32,2412.25,2402.37,2387.1,2345.13,2324.04,2287.82,2194.86,2015.35,1969.37,1927.85,1918.88,1351.8,1108.98,7390.98,6812.43,6117.52,5907.81,5331.67,4969.08,4888.02,4762.26,4475.79,4270.99,3546.66,3544.36,3104.16,3030.94,2893.59,2887.88,2842.75,2697.57,2673.29,2617.74,2501.88,2434.87,2422.5,2301.63,2246.06,2085.37,1879.59,1679.9,1544.75,1533.84,1517.4,1466.2,1362.86,1299.65,1245.46,1186.84,7649.71,7173.63,5729.75,5021.83,4763.72,4674.99,4611.88,3987.96,3854.9,3788.24,3763.62,3443.22,3436.28,3412.36,3332.66,3176.64,3121.86,3078.84,3071.84,2784.67,2655.96,2428.36,2198.66,2169.17,2085.7,1975.49,1972.87,1637.97,1515.65,1503.94,1460.23,1441.04,1437.7,1329.76,1184.07,18554.49,9685.37,7721.85,7148.66,6657.88,6024.65,5693.21,5431.7,4932.31,4915.07,4834.79,3391.1,3131.58,3045.3,2877.88,2853.36,2760.87,2644.95,2642.53,2501.72,2447.67,2159.9,2042.67,1961.24,1795.96,1678.7,1651.57,1577.77,1533.86,1240.46,1204.06,1173.95,1041.2,1034.48,892.4,12969.98,9099.36,8854.3,8774.63,8163.52,6821.37,6076.36,5985.21,5230.33,5218.89,5197.83,5068.47,4429.23,4261.02,4237.43,4180.29,3749.79,3497.15,3494.81,3392.95,3352.45,3315.92,3184.86,3099.76,2619.95,2391.6,2361.14,2334.57,2249.64,2227.37,2191.76,2158.95,2113.44,2085.42,2014.86,1838.16,1834.58,1776.97,1715.98,1633.58,1609.63,1402.41,1281.03,945.87,9516.9,7518.0,5313.31,5151.19,5118.83,4930.83,4590.49,4224.3,3821.33,3296.18,3229.64,3212.85,3100.76,2983.44,2525.7,2364.05,2301.67,2011.57,1886.65,1839.43,1828.02,1689.96,1659.66,1647.77,1643.43,1515.62,1328.35,1298.54,1130.1,1065.25,645.63,5499.24,3914.31,3896.81,3850.84,3824.43,3788.62,3719.4,3370.71,3160.05,3142.79,3137.15,3133.94,3107.86,2274.44,2090.55,1947.19,1846.87,1718.66,1627.72,1570.21,1450.88,1291.92,5228.03,4521.4,4513.75,3843.86,3805.24,3773.02,3623.01,3578.99,3540.02,3331.88,3323.09,3283.75,3257.17,3146.99,3078.65,3037.14,2806.77,2733.34,2380.5,2343.98,2098.22,2072.41,2066.83,2015.83,1908.84,1893.75,1847.3,1761.35,1693.3,1348.46,1214.32,966.75,8319.0,7961.37,5126.79,5115.94,4260.84,4250.32,4075.93,3567.95,3549.48,3434.27,3327.85,3241.21,3073.83,2974.94,2694.84,2568.72,2405.23,2364.63,2179.26,2151.83,2023.17,1965.17,1875.33,1846.62,1715.29,1703.1,1639.46,1558.29,1557.16,1540.02,1514.43,1465.4,1442.46,1334.95,1291.51,1251.27,973.01,888.58,5635.22,5149.71,4368.42,3864.0,3746.82,3545.81,3246.87,3139.78,2942.41,2903.88,2765.67,2523.14,2163.91,2137.4,1994.79,1956.83,1776.65,1737.8,1686.32,1539.11,1448.44,1254.26,1204.87,6022.45,5360.83,5333.74,4152.11,4114.97,3972.87,3906.84,3863.88,3759.97,3666.45,3649.27,3404.46,3372.21,3349.69,3326.49,3283.87,3283.03,3165.91,2947.9,2689.34,2570.55,2564.5,2539.58,2533.86,2467.64,2448.0,2373.47,2268.59,2157.07,2118.2,2076.98,1879.57,1868.53,1793.86,1791.12,1777.63,1638.72,1517.63,1352.56,1129.35,824.92,14309.92,12237.79,7953.91,7875.48,6911.51,6404.57,6357.05,4888.13,4720.72,4385.06,4370.23,4171.91,3788.45,3426.39,3287.59,3140.89,3080.56,3071.38,2980.84,2809.12,2663.02,2636.48,2382.62,2128.19,2118.33,2059.73,1988.67,1858.31,1680.08,1607.62,1501.36,1372.66,1327.15,1253.92,1237.15,949.47,13180.85,5996.21,5560.69,5372.93,4383.45,4325.45,4235.91,3960.29,3887.22,3844.97,3766.54,3633.45,3572.96,3423.78,3391.92,3215.94,3152.79,3074.98,3042.22,2929.34,2757.96,2602.49,2578.74,2541.07,2479.64,2378.04,2357.57,2269.26,2267.37,2259.8,2196.48,2020.53,1811.73,1686.71,1241.41,1096.04,1091.74,1063.44,957.44,933.34,852.86,746.34,11828.92,8698.43,7477.36,6164.75,4873.54,4353.0,4259.12,3489.86,3282.46,3276.04,3095.7,3033.75,2789.03,2559.85,2389.61,1997.83,1924.13,1809.32,1241.73,13775.96,7368.47,4428.62,4373.75,3858.6,3316.96,2571.84,2487.61,2306.56,2032.74,1890.55,1884.05,1773.84,1773.32,1636.6,1579.41,1294.01,10210.14,9378.67,4403.07,4221.44,4032.08,3710.8,3515.76,3301.84,3278.52,3080.59,2156.93,2006.51,1959.16,1810.55,1421.48,751.64,639.68,6295.59,5790.7,4804.68,4557.18,4340.85,4339.42,4304.76,4042.72,3622.23,3561.63,3514.19,3507.54,3444.33,3376.73,3310.88,2876.79,2361.4,2154.99,2027.55,1749.25,1694.8,1560.45,966.26,929.66,5645.94,5568.11,4940.29,4761.04,4753.25,4301.37,4274.19,4100.07,3366.33,3207.94,3013.36,2793.38,2586.86,2399.03,2330.31,2244.81,2147.9,2128.07,1956.04,1809.75,1803.16,1615.05,1450.11,1103.56,1021.38,598.75,3944.56,3656.91,3322.18,3237.26,2941.68,2228.87,2009.12,1934.89,1803.16,1522.46,1162.37,858.97,793.15,5303.4,4984.75,4040.14,3743.23,3633.03,3422.77,3237.3,3101.97,3085.94,3010.97,2995.61,2693.28,2678.47,2648.16,2352.9,2099.02,1974.15,1867.68,1270.92,1169.26,6604.96,5135.93,4321.04,4082.68,3878.38,3774.76,3179.43,3157.75,2865.46,2843.71,2781.18,2657.02,2333.86,2184.98,1913.06,1912.7,1710.87,1686.06,1625.96,1527.37,1308.53,877.1,848.95,6461.65,5310.49,4874.34,3741.95,3645.34,3391.52,3380.72,3239.65,2676.55,2622.16,2275.19,1962.96,1787.49,1706.37,1692.35,1310.53,916.89,900.99,4773.66,4540.07,4073.87,4069.65,3632.9,3610.93,3391.57,3180.46,3081.88,2410.96,2358.01,2350.47,2268.17,2224.84,2221.87,1718.22,1590.83,1305.87,1026.9,7122.43,5482.87,4785.24,4384.04,3801.49,3772.46,3649.97,3488.94,3431.96,3367.9,3187.52,3040.08,2971.58,2210.38,2046.87,1825.58,1755.94,1450.95,1439.85,1421.27,1338.87,1292.83,1212.51,936.0,786.91,9000.31,6927.84,5566.18,4971.71,4527.53,4234.0,4230.95,3954.79,3947.67,3571.26,3500.33,3441.31,3335.75,2859.17,2286.77,2170.5,1924.86,1757.57,1709.45,1609.33,1456.63,8610.58,4814.37,4663.6,4396.02,4007.37,3924.8,3641.11,3583.43,3179.37,2742.85,2230.41,2154.81,1964.47,1773.85,1715.12,1505.34,1293.44,947.36,4745.01,3994.89,3982.66,3934.88,3932.29,3583.55,3401.32,3320.78,3288.76,2616.82,2290.81,2116.69,2110.72,2007.97,1572.06,1389.53,1319.75,1021.0,6685.19,5549.67,5297.44,5289.72,3709.85,3411.88,3275.0,3084.03,3058.15,3036.4,2088.81,2067.83,1779.05,1668.0,1360.52,1315.09,987.68,8087.61,5430.03,4784.2,4149.89,3602.95,3190.54,2389.13,2282.97,1877.76,1804.31,1477.27,1444.37,6996.83,6483.53,6128.95,5045.39,4835.83,4541.16,3945.29,3522.44,3438.47,3393.47,3267.96,3140.78,3045.55,2965.6,2835.98,2692.94,2660.75,2520.09,2275.09,2010.27,1961.75,1878.82,1874.63,1497.13,1367.22,1306.98,16693.78,6287.51,5552.51,4229.0,3924.79,3632.08,3596.96,3018.95,2851.94,2580.27,1881.87,1851.28,1832.85,1762.81,1549.79,1469.94,1440.66,959.66,819.52,3844.6,3794.7,3699.73,3666.75,3414.26,3348.89,3220.96,2898.14,2407.14,2182.56,2097.01,2077.33,2058.85,1952.48,1900.24,1569.45,733.04,7064.83,4196.87,4176.19,3867.4,3613.27,3235.7,2509.8,1926.78,1724.24,1695.02,1680.12,1548.21,1431.02,1240.77,883.8,787.96,754.14,12898.64,5237.16,5194.48,5151.87,3494.38,3472.72,3261.83,3249.59,3090.78,2969.46,2594.5,2490.35,2225.57,2133.45,2130.96,2079.04,2034.09,1878.85,5975.13,4357.52,3623.15,3154.47,3095.16,2854.55,2783.17,2489.29,2288.78,2015.65,1985.94,1877.88,1750.31,1667.74,1551.94,1386.8,1223.7,1085.79,5886.08,5001.17,4218.76,3789.19,3536.42,3235.95,3028.05,2370.96,2152.28,2033.94,2006.86,1965.86,1923.96,1857.31,1800.11,1123.36,734.95,4426.34,4353.02,4032.03,3616.59,3257.62,3146.9,3001.64,2958.21,2338.69,1905.35,1483.82,1459.25,1260.84,988.97,957.4,8423.38,3899.27,3803.36,3543.28,3375.05,3128.71,2668.99,2026.88,2016.91,2005.8,1826.78,1810.15,1490.94,1478.51,1475.64,1121.25,975.36,5672.74,5142.93,4882.45,4258.97,4179.81,4156.76,3895.08,3837.42,2577.95,2450.3,2197.45,1983.86,1641.3,1457.66,1444.36,1359.67,1163.98,1151.24,869.96,8292.66,5160.77,4958.04,4456.87,4435.34,3502.05,3187.01,3145.87,3134.79,3021.89,2176.8,2167.76,1906.76,1890.66,1762.95,1631.36,1342.99,1314.08,1269.22,5057.07,4861.62,4405.22,3778.95,3478.81,3453.1,3220.27,2809.53,1386.88,1192.87,4898.17,4766.36,4144.42,3569.46,2918.86,2661.01,2607.54,2112.36,1924.44,1754.47,1392.81,1065.96,911.99,4846.96,4723.75,4373.9,3138.76,3124.4,2684.16,2445.41,2398.77,1604.17,1461.53,14153.58,4498.26,3881.89,2735.52,2667.52,1769.91,1726.92,1686.78,1682.03,1501.36,1481.43,817.94,720.73,6505.59,3796.64,3407.86,3215.13,3082.34,2527.69,2137.1,2083.83,1478.18,1462.85,12230.55,5027.98,4420.37,3889.59,3843.93,3112.0,3063.84,1550.61,1295.63,1004.89,5142.95,5096.45,3778.02,2679.43,2199.71,1579.85,1545.11,1401.35,1248.39,6962.8,6206.7,3859.91,2936.97,2854.15,2069.46,2014.81,1631.84,1389.85,5885.94,5252.83,4322.21,4268.78,3522.99,2679.35,2592.07,2494.67,2451.38,2134.7,1680.83,1412.07,1219.98,8874.28,6796.33,4014.06,3184.83,2809.83,2327.75,2284.78,1944.15,1840.92,1825.96,1461.16,4030.9,3529.86,3340.87,3095.27,3093.37,2511.07,2386.61,2382.69,1335.05,1248.62,845.89,34847.4,24178.97,4273.8,3908.63,3362.11,3293.14,2697.94,1681.32,1336.55,1179.05,4920.85,4895.9,4258.86,3992.53,3782.38,3576.73,3157.75,3147.23,2739.86,2329.36,2270.29,1825.32,1401.61,1094.95,752.33,4696.36,3754.5,3248.02,3218.15,3093.67,2604.37,2552.35,2084.26,2027.57,1892.09,1886.11,1443.79,1239.98,758.94,4982.03,4496.84,3870.5,3697.58,3672.51,3658.73,3586.91,3180.31,3071.65,3068.29,2763.94,2117.37,1895.71,1776.42,1013.18,7096.76,5123.76,3099.59,3037.2,2815.43,2442.37,1180.21,11349.58,4278.98,3615.0,2887.53,2592.31,2434.5,2212.93,2013.84,1979.11,1283.99,878.86,717.67,678.3,4851.06,3901.01,3380.98,3257.01,3188.92,3074.91,2754.75,2105.25,1867.74,1788.69,1486.35,1229.36,1176.37,1019.92,7163.0,3809.96,3805.47,2112.97,1428.15,1281.94,906.37,5786.92,4165.65,3632.77,3527.89,2909.83,2588.97,2445.95,2107.34,2104.72,1849.22,1775.8,1609.47,1417.0,1271.34,1172.75,15840.36,5922.88,5090.73,3768.22,3386.43,3128.46,3044.29,2912.01,2682.75,1960.08,1741.2,6137.82,5490.75,4557.89,3614.05,3086.19,2892.48,2747.8,2540.77,2446.51,2387.04,1804.14,1080.95,880.02,7874.51,5949.74,3638.58,3342.95,3072.14,2850.87,2776.41,1740.34,1291.86,1183.83,809.18,6317.17,4081.49,3578.94,3332.26,3315.21,3026.71,2652.48,2564.39,2547.46,2012.43,1650.15,1639.22,6022.3,4465.42,4005.69,3746.01,3604.93,3257.84,2605.64,1679.56,1484.02,1462.46,1398.35,1003.32,758.71,5508.12,4228.92,3516.61,3411.37,3327.96,3281.03,3254.05,2992.8,2981.19,2819.95,2540.56,2417.04,1763.15,1617.74,1437.26,1053.16,5245.81,4172.93,4031.1,3679.62,3643.01,3346.94,2990.45,2552.8,2130.07,1984.3,1956.25,1699.96,1646.13,1411.08,1390.43,1263.98,852.93,5162.92,4261.88,3163.49,2690.05,2614.42,2055.51,2036.66,1945.86,1925.43,1500.34,1055.46,939.15,4960.41,4788.41,3423.09,2979.05,2579.08,2430.41,1458.8,1394.26,809.84,6265.99,4735.86,4592.1,4165.86,4097.22,3744.11,2185.62,2183.87,2162.76,2066.39,1890.8,1727.76,1724.95,1682.96,1457.32,1300.07,962.87,4856.92,4215.18,4009.41,3993.66,3815.16,3764.5,3322.88,3271.97,3220.88,3167.16,3166.94,3041.83,2526.73,1582.46,1131.54,1079.08,1061.95,900.29,8821.84,1979.92,1510.86,1296.65,1288.22,1205.93,1024.2,10364.66,4052.63,2718.89,2588.43,1825.24,1819.46,1758.78,1545.89,1480.83,1428.85,1072.56,908.58,5840.36,3992.89,3802.62,3670.47,3284.44,2586.85,2354.04,2298.68,2186.71,1900.35,1510.49,1271.46,1270.32,1034.8,977.77,8649.29,3964.49,3502.73,3427.02,3363.87,3258.52,3227.07,3092.24,2883.05,2515.6,2285.8,2207.57,1748.19,1651.34,1594.73,1432.92,1403.4,891.87,4966.92,4329.89,4168.01,4123.53,3986.97,3621.37,3295.47,2132.86,1656.95,1201.48,8530.77,3252.47,3015.81,2066.04,1311.46,1249.1,1219.23,897.86,7664.16,3072.21,2441.96,2238.56,2178.33,1605.89,1274.88,1068.86,966.7,6016.91,5931.42,3815.21,3474.12,3217.91,2659.43,2615.31,2476.3,2223.1,1109.87,1027.89,4571.49,4178.61,3038.94,2454.2,2184.87,2126.35,1564.36,1217.14,1058.16,1051.88,3840.17,3578.72,3398.3,2576.83,2233.56,2072.18,1715.8,6683.75,6061.5,4902.56,4112.21,3445.19,3095.83,2896.7,1901.25,1867.85,1390.87,1348.85,1067.85,5396.85,4133.73,2441.16,2120.24,1735.03,1695.37,1680.26,1465.97,4740.99,3818.25,3672.75,2781.78,2291.27,2220.33,2053.81,1989.39,1557.87,1513.85,1150.49,5718.78,5139.45,3413.67,3208.98,2341.17,2235.5,1750.79,1515.46,1108.26,957.34,10242.0,8261.65,7827.92,3172.14,3036.87,2459.35,2366.8,2250.5,1989.83,1883.14,1792.0,1103.97,3298.85,2622.71,2262.11,2247.82,1800.18,1747.06,1635.65,1436.86,1425.83,1187.91,5138.59,3832.92,2998.79,2257.33,2023.85,1891.79,1886.19,1756.03,1676.7,1591.66,1576.07,1546.84,1017.64,1016.9,863.87,623.11,5219.97,3640.1,3626.26,2922.55,2111.84,2106.86,1639.02,1578.95,1497.21,1365.35,1190.36,6217.61,5578.74,3469.06,2837.73,2491.86,2333.65,1614.78,1408.84,1397.36,1327.46,5819.09,4915.13,3884.55,3778.87,3509.32,2264.69,1999.49,1870.95,1133.86,1114.78,12940.0,3614.23,3488.19,3457.05,3137.67,2717.28,2120.22,1519.51,1443.84,1017.39,1003.79,932.76,32486.98,5439.47,3176.45,3125.86,2062.43,1958.0,1815.41,1588.05,1411.54,1112.11,829.54,8924.16,7420.83,3830.11,3701.87,2852.06,1869.34,1611.46,1290.37,1164.88,8088.62,4242.67,3360.92,2702.14,1961.4,1620.91,1434.9,4395.67,3048.57,2725.56,1069.5,995.47,11127.82,5399.94,3880.3,3354.91,3321.09,2727.51,2630.37,2564.11,1402.23,1102.79,915.98,5667.4,4920.05,4841.68,4224.12,4150.17,3797.83,3495.65,2530.55,1507.87,1447.4,1356.16,943.2,7066.32,4034.96,4005.16,3967.02,3431.25,3307.93,3206.01,2581.88,1849.76,1661.22,1625.75,1587.8,1118.38,851.82,8485.4,6786.96,6086.25,4466.88,3496.03,2982.98,2041.74,1450.14,1420.96,1329.86,1018.81,926.83,4222.77,2785.51,2663.3,2423.79,1648.58,1637.56,1396.87,1326.41,5833.92,5083.12,5056.45,3378.51,3216.33,2556.79,2516.09,2370.58,2245.18,1035.23,995.52,884.58,757.36,5130.41,3978.67,3207.96,2460.46,1742.86,1393.85,1384.82,1123.08,958.93,5013.97,4783.34,4417.95,4038.58,3030.74,1270.05,1076.55,859.91,532.69,5506.03,5000.97,4639.01,4060.84,3804.94,3623.29,2805.2,2638.56,2514.59,2444.02,1498.24,1263.62,7185.17,3244.22,2672.06,2160.07,2037.91,1988.48,1771.75,1659.89,1534.32,1392.67,1207.96,1207.35,998.97,6981.68,3271.48,3143.81,2941.92,2411.52,2407.02,2340.82,2164.85,1880.42,1777.8,1510.96,7361.44,6346.36,2673.86,2578.78,1922.27,1890.85,1867.1,1619.84,1433.46,1176.06,1041.67,931.81,4675.87,3857.2,3688.68,3126.47,3065.36,2808.83,2760.0,2620.27,1920.96,1681.21,1549.85,1406.2,1155.29,1011.9,9281.38,6163.77,3279.01,3004.44,2666.67,1990.44,1969.95,1909.42,1746.09,1655.88,1423.85,1372.49,14526.72,13653.62,5599.75,3986.23,3722.74,3304.76,3190.6,2837.88,2608.91,2378.43,1878.4,1873.43,1079.12,784.48,5309.67,4317.75,2764.31,2034.37,1988.86,1953.45,1760.94,1735.47,1316.57,1153.55,13155.89,4285.9,4208.82,4195.87,3813.88,3282.55,2583.35,2559.82,2491.24,1569.05,621.34,6125.76,4852.21,4104.62,3407.86,2383.72,2063.86,1658.46,1319.85,15999.94,4151.28,3884.86,2206.37,2032.56,1868.14,1549.02,1425.72,1131.73,3937.16,3679.65,2146.04,1837.15,1800.05,1718.86,1600.63,1355.88,1211.03,1190.98,11402.66,4329.94,3459.83,2478.07,1567.87,1211.41,3347.63,3043.7,2266.02,2217.64,1614.48,1573.81,1049.38,5764.56,3804.46,2848.56,2627.84,1337.36,5797.76,5358.28,4604.26,4055.97,3991.36,3780.39,3609.33,3346.16,2495.48,2287.42,1994.05,1360.72,1098.7,5716.13,3647.9,3409.38,2293.65,2185.66,1606.47,1394.81,1131.78,714.32,5707.53,3872.33,3327.4,3134.29,3128.88,1701.01,1235.81,1107.43,7041.4,5157.79,3861.1,3199.37,3132.64,2620.4,2217.35,2073.76,1097.46,1056.55,3673.94,3547.9,3312.91,3237.85,2274.96,1738.76,1106.56,1069.04,6634.07,2660.03,2635.94,1230.14,3032.95,2670.68,2099.06,1772.2,1656.57,1629.36,924.54,916.14,8548.18,2580.78,2492.54,2201.17,2143.24,2114.41,1429.55,1151.05,8668.14,5169.2,4981.15,4589.92,3288.87,2438.56,2307.96,2038.56,1448.1,1229.53,832.08,714.99,16884.99,6241.98,5331.63,4126.06,3473.12,2850.73,2131.67,2112.64,2086.62,2067.86,2060.51,1757.82,1090.57,9823.94,9172.22,6314.83,5089.87,4648.68,4444.72,3896.27,3796.62,2624.99,2506.85,2318.24,1876.94,1868.84,1706.04,1514.3,1401.3,1358.67,1312.66,1259.04,1255.78,728.05,5225.49,4667.37,3243.01,1927.77,1494.52,1211.8,1172.31,1153.42,1065.3,5746.05,3277.57,2772.17,2132.39,1519.08,2151.2,2099.52,4927.35,3760.85,1866.45,1645.87,1214.12,1109.31,7895.44,3181.86,2438.96,2093.0,1946.28,1892.66,1400.06,1390.86,793.87,3614.92,3483.11,3297.86,3104.51,2939.87,1771.07,2696.87,2169.85,1340.75,10254.36,5838.1,799.46,6977.93,3844.88,3204.19,3044.81,3002.7,2913.36,2801.34,1715.05,1673.22,1330.0,4993.54,4519.27,3953.92,3566.69,3060.25,2804.37,2797.49,1044.96,2677.28,2269.57,999.31,7438.61,1987.82,1918.05,1893.84,3230.43,3191.18,2765.65,2005.67,1500.12,1232.13,1130.66,4605.97,3851.88,2663.44,1588.56,1408.87,4735.66,4048.07,3977.64,2470.43,2255.07,1160.94,1144.85,933.85,11661.81,3603.35,2429.56,2338.81,1962.22,747.43,5458.29,2324.84,1851.86,1348.1,3719.98,2372.62,1711.64,1544.36,1524.75,1274.56,5557.64,4659.65,4338.84,3836.51,3065.07,2167.25,1788.85,1185.69,718.93,2116.63,1873.37,1513.93,1423.97,8605.24,6324.41,4274.77,3811.97,2405.84,2349.48,2251.16,1978.87,1454.95,1371.81,2627.49,2354.89,2117.2,1881.53,4267.64,3531.05,3338.99,2551.77,1314.98,13355.0,5328.9,2438.28,1165.92,4685.59,4495.04,3197.14,2791.36,2625.06,2608.84,2121.87,1177.97,4624.81,1950.95,840.32,1453.64,1160.91,739.15,4802.86,4209.33,3818.15,2881.45,2225.07,1062.08,952.87,3099.13,2192.84,2058.81,1092.94,3872.15,2690.0,2521.21,3637.1,2044.94,1571.34,8046.41,1525.77,4161.93,3177.95,2460.26,1727.05,1158.57,3571.96,3276.96,2397.42,2222.74,1723.64,8215.9,4755.26,4351.48,4045.18,4000.98,3411.59,2388.15,1839.75,1274.44,1228.35,3090.94,2872.27,2595.41,1582.84,1344.16,762.16,4838.73,3893.24,3861.49,3618.84,3078.86,3926.38,3232.75,3746.04,3574.68,3262.21,3034.24,3077.01,2777.44,2538.22,2165.72,1876.25,1611.16,3415.08,2524.83,2125.89,1664.32,1227.57,3879.26,3048.46,2198.47,821.87,4629.98,3656.98,2897.37,2471.66,5279.61,3763.3,3757.02,3236.79,1513.1,4685.73,3011.86,2405.76,2200.87,898.61,5455.86,4926.14,4142.87,2036.95,1465.61,1402.47,1224.57,1099.76,3462.34,2469.27,2137.25,2105.9,1688.32,3860.69,3796.33,3253.89,3130.85,2792.55,2316.8,2037.44,3760.89,3480.3,3295.1,2952.23,2026.86,1442.06,1390.99,6055.55,5815.31,3197.73,2779.22,740.87,3894.12,3047.74,2015.25,1743.85,998.07,5842.3,3396.95,1964.78,1406.01,977.45,11225.6,3802.72,3624.75,1866.76,1178.35,1079.39,2496.89,1656.24,1520.68,1266.15,3257.24,2121.84,923.34,2329.12,1823.12,1678.03,886.97,8969.73,3791.96,1164.92,6461.05,4077.06,1716.88,3766.73,3047.94,1895.83,2609.37,2104.86,4189.0,3840.4,3279.83,4738.49,3406.45,2690.89,2203.19,1846.84,1567.47,1525.47,1168.95,994.21,789.43,4685.89,3572.86,3246.0,2770.87,2142.07,951.14,2536.35,1628.84,3186.96,3180.91,4337.32,3167.16,2758.07,2248.69,1719.97,1183.33,2873.0,2145.45,4449.84,1346.86,925.98,7160.0,2929.21,1651.85,1310.33,978.93,803.91,6753.17,3360.93,3048.76,3029.62,2955.23,1662.86,1197.36,2684.78,2590.87,1372.03,1357.57,2576.87,2495.51,2346.88,2335.18,1981.59,1903.73,1824.44,1748.68,1748.65,1601.96,1581.01,1537.86,1533.78,1490.92,1485.48,1413.05,1326.33,1205.86,1169.43,1151.14,1100.41,1054.94,1049.35,1045.84,994.72,901.3,882.52,855.62,844.54,823.82,791.47,763.09],\"xaxis\":\"x\",\"y\":[124,82,43,44,55,49,43,54,19,21,37,20,21,34,31,28,31,11,20,15,29,13,13,19,14,18,18,24,22,24,28,31,19,23,18,22,21,27,29,26,20,18,24,20,40,25,22,25,28,18,18,19,21,25,21,20,21,22,25,44,47,41,22,56,45,24,35,28,18,34,34,33,25,35,30,12,29,20,22,29,21,21,23,38,21,25,16,29,22,26,17,18,21,26,23,23,21,40,54,25,17,48,48,76,42,28,15,22,29,34,7,29,23,19,17,29,29,23,24,25,23,17,16,25,16,22,24,28,27,16,19,15,17,54,43,51,27,41,43,20,31,30,34,49,31,49,16,18,15,15,23,19,28,38,15,25,25,21,17,18,14,19,12,18,20,10,16,16,84,32,20,109,47,50,42,67,22,34,30,28,18,19,15,25,16,30,23,17,34,25,29,20,18,19,14,17,23,18,15,16,18,16,13,36,26,43,107,18,63,55,49,32,15,24,38,41,28,38,48,51,7,11,19,25,11,25,26,24,31,35,31,30,19,19,22,18,19,15,26,22,19,8,24,29,13,11,16,42,39,27,20,17,46,62,21,20,32,27,17,30,31,26,19,20,18,18,28,23,21,26,17,17,34,18,14,15,21,14,28,34,31,32,26,39,40,21,28,35,20,17,26,23,20,21,18,16,14,24,23,22,24,17,18,19,22,42,27,68,16,14,18,22,21,7,35,23,18,28,25,21,19,25,19,26,21,20,25,18,23,16,9,10,39,54,51,21,22,23,20,21,18,28,16,24,39,22,16,30,27,20,24,19,11,28,26,16,20,21,21,17,15,23,26,24,19,7,17,13,8,10,32,33,32,35,27,23,42,22,26,18,36,27,17,22,21,18,9,21,11,26,19,15,14,20,16,48,61,10,43,24,18,21,17,29,13,27,28,24,21,29,21,25,21,27,20,25,17,16,27,22,17,16,23,18,19,23,16,23,29,26,15,18,16,21,47,48,37,60,33,52,34,51,20,15,50,14,40,21,27,22,19,39,24,45,17,18,28,26,31,20,29,19,20,13,17,17,15,12,18,7,50,41,24,20,21,19,12,35,24,59,32,21,7,20,31,14,40,4,15,26,29,25,35,19,37,19,44,23,27,23,25,24,21,15,20,9,22,9,17,16,17,9,101,55,36,17,27,16,11,22,12,29,17,9,27,21,25,18,15,25,23,79,49,13,13,11,9,19,20,23,34,22,25,19,19,28,17,23,41,47,40,17,38,19,31,22,34,21,23,21,21,19,13,15,57,38,29,35,36,25,35,46,34,31,18,15,16,20,22,25,24,23,17,20,17,19,17,16,18,22,28,22,39,27,36,10,19,19,20,29,21,24,24,27,22,17,16,28,21,19,17,15,6,5,11,25,23,23,13,19,20,26,9,15,17,16,16,12,33,39,16,18,34,11,24,7,17,18,28,37,27,20,19,21,26,22,21,17,37,12,23,33,33,49,24,2,40,18,23,25,14,30,14,26,13,22,28,20,24,12,15,36,25,25,16,18,38,44,24,15,18,26,24,29,18,19,11,9,6,41,49,20,24,27,32,28,22,15,17,23,33,15,24,27,24,18,13,9,37,28,28,9,34,22,34,17,26,34,16,29,26,21,14,18,16,15,15,8,20,18,15,19,8,65,68,51,36,20,34,23,36,29,17,21,28,7,21,28,18,15,19,6,15,21,60,29,47,22,13,63,28,30,24,24,24,19,20,17,22,26,22,17,8,16,40,26,49,14,10,46,26,21,15,30,28,17,17,18,17,8,30,79,7,19,19,16,4,27,10,11,17,18,26,5,17,22,6,40,30,11,35,15,9,29,25,32,26,21,14,52,26,27,60,8,10,18,8,23,25,22,10,13,30,28,18,25,19,26,23,16,24,27,18,18,13,66,16,85,16,28,31,19,47,36,18,16,19,18,19,26,8,19,10,10,21,34,13,18,21,19,22,21,21,21,11,21,24,18,30,16,16,39,55,31,22,17,11,28,22,18,19,16,18,8,21,8,9,19,74,41,71,51,32,13,20,45,14,19,27,30,22,21,12,22,20,18,11,15,28,26,35,32,18,24,31,18,18,24,21,26,20,21,28,25,25,30,28,40,20,20,24,20,21,21,17,18,17,17,19,6,8,21,36,27,22,24,27,15,31,23,18,19,26,17,16,9,32,37,27,22,23,29,18,12,12,23,12,20,13,13,16,19,16,41,15,7,5,35,15,35,21,23,29,22,18,24,21,20,18,5,20,7,25,34,32,20,15,16,22,20,29,38,19,16,21,19,11,12,25,13,21,69,33,30,18,32,26,25,34,17,14,18,29,22,18,19,21,19,21,18,14,21,15,8,35,23,16,25,21,18,30,24,19,19,47,25,33,28,23,30,20,17,21,20,19,10,20,22,20,19,32,23,22,24,18,13,21,83,10,22,21,14,31,33,15,23,7,15,23,27,21,22,10,14,17,16,28,26,35,44,28,25,29,20,20,31,50,37,15,23,25,30,16,32,33,18,15,24,30,28,24,43,35,21,23,17,13,15,15,17,24,30,16,28,16,27,27,15,11,8,61,53,27,17,11,35,21,25,17,15,41,57,31,27,21,8,19,29,17,18,24,21,19,9,9,35,26,19,9,21,31,21,15,13,21,22,15,7,9,28,23,22,13,26,23,18,9,12,44,16,25,38,21,20,9,41,23,33,22,17,11,156,21,23,39,27,12,21,18,15,9,10,9,12,20,25,44,18,12,19,36,21,33,18,19,14,16,7,23,18,24,33,19,7,13,27,45,17,15,23,23,19,14,22,12,20,16,12,17,7,19,43,22,20,31,22,19,26,22,16,20,30,40,22,13,18,28,24,21,21,25,17,6,10,47,40,21,21,12,35,30,12,14,24,16,28,54,34,38,19,29,21,17,27,17,17,6,60,62,26,8,18,23,28,18,19,16,19,21,17,41,12,23,16,25,21,20,30,19,30,17,24,26,23,18,14,21,29,30,27,15,14,30,36,14,12,20,17,21,14,22,6,8,15,46,13,16,24,20,21,19,29,16,16,21,19,35,26,25,30,55,14,14,12,28,39,16,27,19,13,25,22,19,18,15,16,17,15,19,20,15,28,20,30,31,32,16,20,7,20,11,15,18,40,17,17,8,9,11,111,7,17,15,22,7,16,49,29,21,26,22,20,22,22,20,26,7,17,37,20,18,15,22,16,18,21,16,16,10,9,18,18,7,25,24,15,22,18,21,20,32,32,19,18,26,6,17,18,32,20,13,34,26,28,18,21,21,17,24,25,12,62,29,22,26,10,22,20,8,30,13,20,19,21,16,13,15,7,46,59,21,24,13,20,22,15,23,13,8,25,32,12,30,19,17,18,10,8,15,41,9,33,20,18,19,20,88,43,48,23,15,7,17,18,15,15,18,17,18,36,18,21,21,18,19,14,30,51,19,22,19,27,21,27,15,18,13,42,12,28,5,19,21,17,16,17,7,10,18,44,37,17,17,19,31,18,19,9,9,24,28,16,21,23,19,21,15,17,19,32,18,31,19,11,18,18,23,16,20,16,16,19,9,11,11,15,14,41,23,21,12,10,15,25,15,14,17,40,26,31,21,18,19,8,12,16,30,13,18,21,22,28,23,18,15,9,10,28,5,30,28,20,24,19,18,13,9,24,59,35,13,18,16,9,13,16,10,17,16,43,32,14,16,18,19,15,7,12,23,9,39,29,22,10,21,22,18,17,9,7,128,24,34,12,20,19,33,21,14,10,11,44,10,42,38,9,32,18,19,25,11,16,16,35,12,31,23,23,13,16,19,19,13,15,18,9,8,26,61,43,20,29,26,10,19,16,14,10,12,29,27,36,16,12,16,13,16,23,32,28,24,19,23,40,23,8,10,14,16,10,31,23,7,23,17,17,17,14,9,34,25,16,19,12,17,15,11,39,29,34,50,30,11,37,23,16,30,24,19,8,25,15,34,28,15,21,35,10,10,25,14,13,8,22,14,23,20,19,11,20,20,21,20,19,46,33,23,24,16,15,18,18,7,6,17,13,51,19,19,16,22,20,20,13,24,19,14,22,10,14,40,42,24,19,28,23,21,20,11,14,16,19,75,32,22,27,22,35,28,16,11,18,18,23,10,13,30,14,36,25,24,9,17,7,13,15,32,27,26,22,21,19,29,22,30,15,16,14,41,32,23,15,20,18,17,81,14,11,19,34,18,11,19,12,17,48,17,18,21,17,9,12,19,14,61,13,27,24,9,8,7,16,22,24,12,20,9,45,12,16,16,15,24,33,23,13,20,17,30,12,20,27,29,11,20,48,13,15,20,16,13,19,14,10,21,27,17,30,15,23,13,9,37,44,28,11,9,16,17,19,7,13,9,20,23,19,16,13,19,19,20,24,13,11,21,22,17,24,14,17,11,16,59,31,17,14,21,23,8,19,44,40,25,27,20,19,26,20,17,11,15,12,26,31,37,49,18,29,19,21,48,17,19,26,14,24,54,18,31,17,29,13,29,22,21,14,42,18,16,21,12,22,19,8,11,12,22,16,21,26,14,8,9,16,13,34,21,21,23,13,19,5,46,15,11,16,14,26,26,14,23,20,15,17,7,17,14,13,10,17,22,16,15,17,18,14,44,47,17,17,17,26,14,24,37,19,18,22,15,35,40,12,17,14,18,24,19,5,15,9,31,20,11,16,22,4,19,14,18,13,16,18,15,17,17,12,11,18,10,21,17,19,7,8,30,26,21,26,18,10,50,20,14,13,12,18,8,15,7,16,24,29,20,32,7,16,15,14,12,19,14,6,16,45,37,29,5,19,17,11,24,16,10,34,13,26,9,22,25,5,15,11,57,15,29,8,17,19,18,18,13,17,14,16,33,10,10,9,7,12,25,21,6,19,24,16,14,9,17,24,9,29,12,26,30,23,18,27,11,17,11,20,19,9,28,10,25,26,7,23,19,23,20,10,23,20,7,17,15,9,24,22,21,14,15,29,28,15,23,21,19,32,12,24,11,30,18,20,26,21,15,15,8,19,17,15,13,45,22,20,14,27,9,20,26,19,23,20,12,19,14,24,19,17,9,47,6,24,16,18,7,13,15,22,24,19,14,20,57,22,19,22,20,21,11,23,13,12,29,14,13,7,26,31,16,26,12,18,19,14,16,13,66,11,20,23,15,31,6,27,24,13,10,20,22,27,18,24,19,10,21,13,17,10,38,10,8,23,24,13,30,11,17,27,15,11,18,9,27,34,23,16,16,15,9,9,9,13,27,16,4,19,20,10,19,17,10,13,30,21,19,19,13,14,24,18,27,7,11,37,32,12,15,11,20,32,13,7,14,21,14,11,22,16,6,17,16,14,14,25,11,9,8,12,27,8,11,15,13,8,21,13,16,23,12,13,9,11,11,12,10,12,9,12,14,11,10,12],\"yaxis\":\"y\",\"type\":\"scattergl\"},{\"hovertemplate\":\"Cluster=Cluster0<br>Monetary=%{x}<br>Frequency=%{y}<extra></extra>\",\"legendgroup\":\"Cluster0\",\"marker\":{\"color\":\"#EF553B\",\"symbol\":\"circle\"},\"mode\":\"markers\",\"name\":\"Cluster0\",\"showlegend\":true,\"x\":[2612.35,2604.78,2402.91,2327.53,2125.67,2024.43,2004.09,1999.14,1957.14,1931.17,1924.96,1924.86,1905.12,1886.04,1879.72,1858.95,1857.86,1813.31,1796.57,1790.97,1757.96,1748.81,1744.81,1726.06,1718.92,1718.6,1699.95,1697.25,1692.57,1682.96,1681.8,1672.6,1640.34,1633.95,1626.43,1625.12,1623.52,1622.99,1614.57,1613.09,1596.22,1594.25,1586.89,1581.2,1576.93,1572.48,1565.06,1562.71,1545.98,1535.92,1512.28,1510.61,1509.56,1507.0,1493.69,1488.12,1487.25,1486.75,1481.97,1480.13,1478.94,1473.48,1472.99,1462.66,1460.55,1452.6,1445.88,1436.5,1432.95,1401.03,1399.86,1386.05,1377.96,1377.61,1376.5,1371.45,1361.93,1344.09,1335.87,1329.08,1320.93,1313.77,1296.68,1282.94,1277.51,1264.93,1259.07,1253.25,1250.0,1247.96,1246.96,1245.2,1234.98,1216.0,1208.48,1207.05,1203.19,1198.84,1193.14,1188.96,1179.83,1178.44,1177.95,1177.76,1177.76,1175.98,1172.97,1169.14,1167.64,1166.0,1158.13,1155.97,1137.39,1134.88,1132.77,1130.88,1123.4,1121.43,1115.04,1107.34,1106.97,1087.21,1083.97,1082.93,1068.37,1061.03,1060.45,1056.0,1049.22,1039.5,1039.48,1032.7,1031.98,1029.83,1029.0,1026.03,1020.97,1017.52,1016.99,1013.95,1009.43,1005.33,1002.8,991.74,991.01,986.58,982.45,975.37,975.37,970.94,968.07,964.9,959.91,959.87,957.1,945.7,945.0,941.39,935.99,931.97,928.77,925.0,923.4,919.49,912.74,910.99,909.75,908.93,906.41,905.99,905.99,901.87,898.07,896.09,895.67,893.76,892.97,892.09,888.82,887.99,880.96,878.58,878.36,877.57,875.8,875.25,874.96,873.99,873.48,867.96,862.42,856.75,851.68,849.58,849.54,846.75,845.37,844.64,838.25,836.0,832.98,829.25,824.97,821.78,821.26,820.99,820.96,819.98,819.47,816.88,816.78,810.98,809.1,804.18,799.18,797.99,797.32,795.95,795.0,792.08,791.0,790.5,789.91,784.69,783.21,776.99,771.86,769.6,764.39,763.95,759.98,756.37,752.97,748.98,743.93,742.21,741.98,739.61,734.99,732.22,731.97,731.65,731.06,726.49,722.24,719.67,716.0,714.96,713.96,711.16,710.83,710.66,708.46,707.28,706.83,693.58,690.0,690.0,683.63,683.53,680.95,679.96,678.52,674.98,674.96,672.65,671.72,667.45,666.34,665.62,663.92,663.75,662.32,660.99,659.97,658.13,656.74,656.01,655.0,652.38,648.94,648.93,643.94,642.97,642.21,640.04,639.3,639.03,638.98,636.65,635.4,634.93,631.97,631.76,630.46,623.99,622.97,617.96,617.13,616.99,613.74,612.0,609.97,606.91,606.65,604.55,604.24,600.51,598.95,597.46,595.4,594.06,593.97,591.96,589.71,589.05,586.15,585.28,584.95,581.5,579.95,579.75,578.74,578.44,577.53,576.97,573.97,573.05,572.93,571.08,570.97,570.47,570.0,566.82,559.13,558.46,557.97,557.6,556.63,556.45,556.12,555.98,555.96,554.66,553.9,550.49,549.99,549.82,548.97,548.97,547.97,547.49,544.92,544.22,543.48,543.23,539.97,539.09,538.99,537.97,535.98,535.97,533.95,533.79,533.35,532.25,531.25,530.0,527.99,527.81,525.99,525.87,524.08,523.9,522.23,519.97,519.96,519.96,519.24,518.99,517.48,517.27,517.17,516.99,516.96,516.49,513.73,513.43,512.02,509.63,508.67,502.96,502.24,501.57,499.07,498.24,496.47,496.26,495.73,495.23,493.49,491.51,490.22,488.99,486.99,483.99,483.59,482.97,482.8,481.75,480.98,480.0,479.59,479.0,478.99,477.63,477.38,476.98,474.96,473.99,473.96,464.99,463.73,463.25,463.25,462.97,462.07,459.97,458.19,456.12,455.97,455.24,455.0,453.98,451.92,451.89,449.47,448.42,448.25,445.98,445.95,443.99,443.55,443.21,443.09,440.78,439.62,436.5,435.08,434.95,434.11,430.59,429.8,428.97,428.86,428.45,426.5,425.13,424.73,424.06,423.69,421.79,420.69,419.96,418.98,418.95,418.49,415.65,413.99,412.34,411.07,410.36,408.39,408.18,407.88,407.49,407.38,407.06,406.6,406.0,404.26,401.98,401.37,401.0,400.99,399.92,398.47,398.3,397.87,395.99,395.48,394.98,394.97,394.49,393.73,392.06,391.99,391.0,390.78,389.99,389.21,388.96,388.74,388.49,386.99,386.64,383.18,381.17,380.99,379.39,378.31,377.98,377.74,377.27,376.97,376.62,376.25,375.0,375.0,374.99,374.0,374.0,373.99,373.88,373.28,372.99,372.98,371.97,371.57,371.23,370.98,370.97,369.99,369.99,369.98,369.32,367.51,367.24,366.97,365.95,365.0,364.59,364.0,363.98,363.5,363.18,362.74,359.98,359.0,358.75,357.48,357.0,356.78,356.47,355.98,354.98,354.98,354.98,354.49,352.57,352.49,351.98,351.97,351.09,351.08,350.96,350.23,349.31,349.2,349.13,349.01,348.5,348.27,347.48,345.99,345.5,344.97,344.29,344.25,344.25,340.98,340.28,339.99,339.99,339.97,339.45,338.97,337.97,337.63,337.07,336.98,336.5,336.48,336.0,335.99,335.75,335.73,334.96,334.9,334.0,332.62,332.29,329.99,329.94,328.75,327.98,326.98,326.83,326.47,325.97,325.84,325.5,325.0,324.99,324.99,323.98,321.99,321.8,320.48,319.75,318.99,318.98,317.99,317.78,316.87,316.49,315.42,315.15,315.0,314.98,314.48,314.19,313.67,312.14,311.98,311.48,311.1,310.98,309.97,309.12,308.45,308.18,307.97,307.38,306.98,305.18,305.18,304.98,304.13,304.07,303.99,303.99,302.8,302.64,301.98,301.87,300.98,300.98,299.73,299.0,298.95,297.99,297.5,297.5,297.5,297.46,297.24,296.46,296.0,295.38,294.99,294.98,293.97,293.75,293.74,293.44,292.99,292.99,292.08,291.99,291.98,291.98,291.48,290.43,290.0,289.98,289.0,289.0,286.89,285.99,285.99,284.99,284.98,284.98,283.99,283.99,283.71,282.99,281.96,281.78,280.29,280.24,280.14,280.0,279.98,279.8,279.65,279.0,278.98,278.46,278.24,278.0,277.98,276.25,275.74,275.48,275.27,274.9,273.93,273.7,272.99,272.98,272.72,271.99,271.98,271.67,271.48,271.48,270.93,270.59,270.0,269.99,268.74,268.48,267.75,267.68,267.24,266.98,266.64,266.29,266.13,266.09,265.99,265.0,264.98,264.07,262.98,262.65,261.99,261.98,261.72,261.53,261.0,260.73,260.64,259.98,259.98,259.97,259.96,259.78,258.1,258.08,257.97,257.8,256.98,256.47,255.94,255.3,255.0,255.0,254.98,254.15,253.98,253.43,253.15,251.57,250.97,250.63,250.0,250.0,249.97,248.08,247.99,247.5,247.48,246.98,245.98,244.98,244.97,243.38,243.0,242.25,241.98,241.53,239.98,239.0,239.0,239.0,238.99,238.98,238.89,238.67,238.0,237.15,237.08,235.99,235.99,235.99,235.74,235.73,235.49,234.6,232.99,232.9,231.99,231.97,231.76,231.07,230.99,230.98,230.27,230.0,230.0,229.99,229.14,228.97,228.0,227.98,227.8,227.07,225.97,225.49,225.0,224.98,224.19,223.48,223.22,222.65,222.38,222.24,221.89,221.82,221.46,221.0,220.99,220.98,220.89,220.74,220.15,220.0,220.0,219.99,219.99,219.98,219.0,219.0,218.97,218.49,218.45,218.0,217.99,217.94,216.99,216.99,215.99,215.88,215.0,215.0,214.99,214.99,214.5,214.0,213.79,212.96,212.5,212.5,212.5,211.49,210.0,210.0,210.0,210.0,210.0,210.0,209.99,209.5,209.48,207.99,207.98,207.15,207.09,206.94,205.99,205.24,205.0,205.0,204.99,204.0,204.0,204.0,203.65,203.19,203.0,202.64,202.48,202.12,201.99,201.99,201.99,201.99,201.56,201.08,201.0,200.0,200.0,200.0,199.99,199.98,199.75,198.99,198.99,198.98,198.9,198.17,197.48,196.97,196.75,195.99,195.99,195.99,195.99,195.98,195.97,195.5,194.99,194.97,193.99,193.99,192.95,192.74,192.0,191.98,191.47,191.25,191.25,191.13,190.99,190.98,190.97,190.62,190.0,190.0,189.99,189.99,189.89,189.0,188.37,188.0,188.0,187.98,187.0,187.0,187.0,186.99,186.99,186.17,185.49,185.3,185.3,184.99,93.1,3412.0,1532.16,756.45,427.83,372.58,336.68,250.75,1974.47,538.41,465.33,343.93,433.37,206.45,124.94,1212.67,771.49,539.94,469.01,387.73,339.65,756.41,722.95,592.9,521.2,370.84,359.55,1018.94,712.64,323.94,320.5,1036.69,823.96,765.19,713.17,653.74,499.15,267.52,903.99,207.35,717.45,551.02,540.26,439.76,418.34,230.02,1126.4,581.94,536.95,253.48,368.77,1183.0,596.2,521.16,400.46],\"xaxis\":\"x\",\"y\":[13,11,13,9,13,8,10,15,17,17,9,15,9,13,12,10,17,13,15,8,10,13,11,18,10,18,16,10,9,8,12,6,14,14,11,9,14,17,16,17,4,8,12,5,11,9,16,8,5,18,9,15,7,15,8,12,12,12,5,15,7,17,8,17,14,13,12,4,6,18,8,9,6,14,4,10,12,2,10,14,11,6,18,13,12,8,8,3,3,7,9,15,6,8,7,10,6,6,13,6,4,11,8,9,8,5,3,2,10,11,7,7,13,14,12,11,14,7,13,9,9,4,8,8,11,13,5,3,4,2,20,10,7,12,4,10,3,10,2,9,7,8,9,9,11,4,8,6,12,10,11,5,10,14,14,13,2,13,5,5,4,5,10,13,6,4,11,10,9,9,3,11,7,10,8,9,7,3,14,5,8,9,7,3,9,11,6,5,5,8,8,3,11,4,9,6,10,6,2,8,4,17,7,12,13,12,6,10,4,16,9,4,7,4,8,2,3,8,3,10,3,3,6,8,5,1,4,7,13,7,5,8,13,5,5,8,10,8,2,4,4,9,6,4,15,3,6,5,6,9,3,6,7,8,4,7,3,3,8,4,5,7,7,5,6,7,5,6,12,7,11,2,6,3,3,8,10,13,5,12,6,8,8,4,2,7,5,5,4,6,10,9,3,4,6,5,4,4,4,2,2,2,5,10,4,5,5,6,8,6,7,6,6,4,6,10,7,5,6,1,6,2,4,6,7,4,3,1,7,12,5,3,1,6,7,6,4,3,4,6,4,4,4,4,3,4,2,6,6,5,7,6,6,4,5,3,3,5,3,3,3,4,6,1,4,3,2,7,7,8,4,3,6,6,3,3,4,4,10,4,4,7,7,5,5,5,12,9,4,7,5,7,2,6,7,8,3,4,5,4,6,5,5,4,1,2,7,3,4,2,4,5,11,2,3,4,5,5,4,2,5,3,4,1,1,6,4,5,4,7,3,2,1,3,4,3,6,8,1,6,6,4,7,7,2,3,5,3,3,5,7,3,2,3,8,8,2,1,4,5,11,8,2,4,2,5,2,1,2,4,5,5,4,4,4,1,3,4,3,3,8,3,3,1,1,9,4,6,4,3,5,3,7,2,2,4,1,1,6,3,6,6,3,1,4,7,8,4,2,6,5,3,4,4,3,6,3,1,1,1,3,3,2,5,4,4,2,5,5,4,6,3,4,5,3,6,6,1,3,6,1,2,3,3,3,3,2,2,6,2,2,1,3,3,3,4,2,2,4,6,3,3,5,2,4,4,3,6,3,8,8,2,2,3,1,2,4,1,1,1,3,4,2,2,3,2,3,3,5,3,2,3,2,1,2,3,3,4,1,2,4,5,1,3,2,4,3,2,2,5,3,1,1,3,3,5,3,4,3,1,2,2,4,6,4,3,4,6,1,2,2,3,3,6,3,2,2,2,4,4,4,5,3,6,2,4,3,4,2,3,2,2,3,1,2,4,2,3,2,1,5,1,1,1,1,5,3,4,1,3,2,3,3,2,2,6,3,2,4,1,3,2,3,8,1,2,4,1,3,1,2,1,3,2,1,2,6,4,4,3,10,3,3,2,4,1,1,1,2,5,2,1,2,1,3,2,3,2,3,3,3,3,4,2,2,3,4,2,3,2,2,2,2,2,2,3,3,2,2,4,3,2,1,1,3,3,3,3,1,3,3,4,3,3,3,3,2,4,7,2,2,3,3,2,4,3,6,3,1,2,2,2,2,2,2,3,3,3,1,1,3,3,2,1,2,2,2,3,3,4,1,2,2,4,2,1,1,1,2,2,1,5,4,2,4,2,1,2,2,3,4,4,3,2,1,3,5,3,2,3,4,2,1,2,2,3,1,2,2,3,3,2,1,2,4,3,4,2,3,3,1,3,4,1,1,2,2,2,1,1,1,2,2,3,1,1,3,3,4,1,2,2,1,1,1,3,1,1,2,2,2,1,2,5,1,1,2,2,1,1,1,1,1,1,1,2,4,1,2,1,4,2,1,2,1,2,1,1,1,2,3,4,2,1,3,4,1,1,1,1,2,3,3,1,2,2,1,2,1,2,1,2,2,3,3,3,3,3,1,1,1,3,3,2,1,3,2,2,3,2,2,2,3,1,3,2,1,2,3,3,1,1,1,2,2,2,3,1,1,3,1,1,1,1,1,4,1,1,1,1,2,6,9,8,6,7,3,3,8,7,3,4,7,4,2,5,5,3,10,4,3,11,5,7,5,3,7,4,6,3,2,4,8,9,9,4,7,4,3,5,7,4,5,5,5,3,4,7,7,4,6,3,6,6,5],\"yaxis\":\"y\",\"type\":\"scattergl\"},{\"hovertemplate\":\"Cluster=Cluster2<br>Monetary=%{x}<br>Frequency=%{y}<extra></extra>\",\"legendgroup\":\"Cluster2\",\"marker\":{\"color\":\"#00cc96\",\"symbol\":\"circle\"},\"mode\":\"markers\",\"name\":\"Cluster2\",\"showlegend\":true,\"x\":[85.05,256.84,175.1,158.95,187.44,182.6,149.88,522.5,519.98,511.44,408.89,261.94,225.45,633.95,457.87,210.99,467.74,597.99,471.94,406.71,270.99,173.95,299.95,198.09,604.18,322.67,236.65,646.0,270.95,633.98,679.17,532.99,149.15,542.64,455.92,433.15,329.01,235.95,166.99,906.54,615.03,283.95,202.99,738.92,460.36,334.18,186.14,628.75,447.14,348.0,263.98,608.69,402.94,439.39,72.7,1156.49,552.0,454.99,445.58,405.2,694.78,232.7,343.69,175.0,313.39,294.95,358.93,273.54,365.59,503.89,466.07,241.44,734.92,671.89,608.5,590.2,279.64,789.29,650.48,629.32,549.03,356.1,135.0,1064.0,492.55,476.9,395.93,370.5,613.96,444.4,222.09,111.19,494.89,491.28,157.74,72.94,969.14,644.93,239.94,244.14,112.99,272.3,235.5,232.09,441.95,141.04,133.09,59.95,938.02,239.0,159.95,98.95,598.84,333.49,92.44,38.5,336.94,318.59,466.18,419.56,342.17,240.49,605.07,99.0,653.08,518.75,348.47,731.49,653.17,645.99,515.99,288.88,210.0,138.95,138.95,649.79,535.64,478.99,252.18,381.03,329.19,265.94,664.99,589.99,454.08,270.99,430.24,301.53,178.68,94.04,448.04,320.08,603.37,600.96,596.86,203.08,194.44,151.94,1186.98,726.2,453.48,315.13,457.9,361.99,351.95,214.09,162.51,364.98,326.68,193.94,181.69,173.85,139.5,1094.95,452.54,206.93,174.94,683.45,640.98,539.95,350.94,273.99,227.83,222.99,281.31,417.99,360.48,319.93,830.44,410.76,833.95,756.41,547.98,391.91,338.77,158.99,670.89,501.93,284.89,239.99,179.94,867.38,646.92,132.99,631.65,321.97,235.97,233.95,191.18,515.98,217.94,587.97,410.36,402.48,717.67,531.0,492.99,458.19,353.83,283.13,215.99,627.98,448.18,597.98,450.86,234.03,117.94,212.49,814.16,526.38,502.6,473.63,343.96,159.69,591.91,471.4,303.08,156.44,144.0,461.92,283.0,252.5,277.96,124.99,310.74,304.12,194.94,166.44,349.93,307.54,306.99,574.03,518.95,365.99,236.69,208.28,172.99,466.38,287.29,273.13,234.87,311.93,171.1,135.0,135.0,595.69,471.42,324.98,252.87,182.04,63.04,361.57,696.07,580.43,417.48,593.98,829.19,754.24,565.43,547.98,467.01,377.32,295.53,221.08,459.44,182.03,559.18,321.98,1386.07,929.0,603.91,539.02,113.95,618.97,565.98,206.95,1314.99,549.46,354.99,287.93,175.59,168.99,144.94,143.89,718.18,637.9,619.94,329.49,328.99,213.94,940.94,784.95,502.94,354.99,1309.12,317.08,311.88,84.99,59.94,770.38,729.37,623.95,259.82,560.03,503.69,239.0,148.13,645.93,297.73,174.89,158.94,104.94,665.96,473.03,466.99,242.35,241.17,852.91,660.51,432.99,332.19,267.93,252.98,99.99,601.72,461.98,331.99,79.93,741.29,512.35,378.52,65.34,1296.47,412.59,364.87,307.93,193.94,128.99,691.26,496.18,437.86,421.26,365.95,227.63,204.14,51.94,762.94,744.69,428.66,85.94,676.99,590.93,567.37,560.92,437.4,353.88,337.37,181.49,132.0,887.45,482.94,332.34,288.44,260.0,200.89,133.89,108.14,403.14,299.95,140.99,45.94,266.93,137.12,674.97,504.94,466.97,526.95,491.63,350.08,793.58,525.19,498.98,252.44,244.95,109.44,968.93,220.24,213.99,540.99,361.38,194.99,530.98,341.99,342.92,252.97,384.48,250.82,153.54,511.0,147.95,657.09,425.99,300.95,423.98,498.94,160.0,451.87,995.48,925.14,760.9,694.88,688.9,581.98,699.68,450.77,424.98,372.89,292.06,162.49,657.97,461.39,318.09,173.89,973.97,458.94,389.94,253.08,1055.93,778.9,714.47,541.18,474.96,399.95,344.86,316.95,385.28,282.09,233.19,932.51,417.99,255.14,228.8,144.15,718.84,296.17,276.98,518.88,566.78,117.38,665.53,652.1,396.89,177.94,405.97,649.6,635.93,530.69,272.42,259.84,120.29,106.04,555.39,373.08,466.93,779.17,463.92,316.47,374.49,282.19,272.99,259.48,848.93,493.97,471.65,464.43,437.06,405.09,374.95,263.93,740.52,599.89,554.07,456.15,235.19,194.44,172.53,537.99,457.23,440.53,316.47,288.98,283.99,265.93,635.47,536.07,438.58,137.94,641.12,434.81,421.11,745.48,630.26,524.22,1054.07,842.38,669.08,324.94,219.23,927.46,694.7,492.98,422.95,316.03,245.03,193.54,1148.49,869.92,544.4,1275.99,1013.97,529.43,352.97,176.89,115.34,988.97,676.43,562.97,459.9,309.42,209.69,167.99,468.88,344.83,464.97,205.99,339.94,521.47,779.04,257.91,218.94,202.09,854.98,287.39,667.98,523.97,312.98,367.99,276.79,152.94,1285.94,395.82,444.82,253.89,521.98,394.99,717.15,585.33,329.59,175.94,127.93,1247.04,895.85,487.38,325.33,274.09,133.94,288.49,247.09,227.18,180.93,172.04,782.19,732.37,192.84,359.99,153.94,69.89,432.13,1586.17,1541.18,1466.98,1422.27,1303.26,1237.98,1191.99,1173.96,1173.68,1163.47,1142.7,1098.97,1090.99,1085.97,1042.97,1015.57,963.65,960.13,958.44,941.19,935.96,929.98,927.74,900.94,897.97,893.07,892.95,857.14,841.95,835.95,829.97,826.56,813.99,811.96,810.98,810.16,806.06,801.99,793.18,791.03,785.69,781.74,779.59,775.29,770.27,767.04,765.95,765.38,755.99,741.44,731.39,726.97,717.97,717.18,715.2,708.39,707.93,707.92,707.28,704.08,698.24,693.77,692.98,691.77,688.33,681.37,680.09,677.15,674.56,674.07,668.03,666.18,665.14,661.06,656.07,655.95,653.07,652.97,645.99,645.94,644.97,644.09,641.98,638.98,637.06,630.92,630.18,629.97,628.95,624.49,621.96,620.99,618.07,616.29,609.97,609.56,603.98,601.96,598.55,594.38,589.58,584.55,583.85,581.99,581.96,579.72,578.17,576.98,569.18,563.91,563.19,562.97,558.8,556.83,553.98,552.78,551.09,549.83,548.97,544.05,540.74,539.65,538.93,535.09,531.96,531.49,528.58,526.59,524.98,524.67,522.72,516.17,512.49,512.37,512.05,510.45,503.06,500.48,499.96,498.48,497.59,494.99,494.08,494.0,492.99,492.99,488.96,488.25,486.09,483.77,483.08,480.48,479.99,476.15,475.49,475.05,474.08,472.19,464.99,464.96,463.99,461.95,459.06,456.96,455.37,452.9,450.97,448.14,446.98,445.0,443.07,441.69,439.99,439.97,439.97,438.0,437.99,437.97,435.99,435.29,434.98,434.96,433.97,432.98,430.36,429.73,427.16,426.96,426.57,424.98,424.26,423.99,423.28,422.37,419.46,417.03,416.19,415.37,413.57,412.57,411.96,411.09,410.99,410.09,409.48,408.99,406.17,406.09,405.99,405.97,397.97,397.49,394.95,392.96,391.09,390.98,389.28,388.46,387.39,387.17,384.99,384.99,380.0,379.0,377.47,375.97,374.48,373.58,372.99,371.47,370.97,370.96,370.0,369.98,369.97,369.17,368.46,368.38,367.99,366.98,365.85,365.47,363.58,361.97,361.38,361.0,360.99,360.37,358.18,356.15,356.08,355.98,355.18,355.0,354.54,353.98,352.96,352.76,351.58,350.97,349.07,348.99,348.58,348.18,348.0,347.97,345.86,344.6,344.44,341.98,339.99,339.35,338.99,338.98,338.97,338.49,337.98,337.49,336.98,333.17,333.08,333.06,332.57,331.17,331.08,330.99,329.99,328.81,326.78,325.99,325.87,324.99,322.97,321.99,320.99,320.0,320.0,320.0,320.0,319.09,317.98,317.38,316.67,314.98,314.47,313.98,313.46,312.98,312.47,312.36,312.17,311.18,310.0,309.98,309.97,309.79,309.37,308.17,307.98,306.99,305.38,305.37,305.09,302.49,302.08,301.97,300.98,299.99,299.09,297.98,297.49,297.08,296.98,296.98,295.99,295.98,295.37,294.99,294.98,293.98,291.67,289.99,288.48,288.0,287.98,286.57,286.36,285.98,285.98,285.98,285.97,285.97,283.98,283.98,283.98,283.58,282.56,281.98,281.97,281.29,281.08,280.98,280.56,279.98,279.27,278.97,278.97,278.55,276.99,276.97,276.09,275.98,275.09,275.0,274.99,274.98,274.58,274.08,274.08,273.57,272.99,272.97,272.49,272.19,272.02,270.18,269.97,268.98,268.97,268.37,267.99,267.47,267.46,266.48,264.97,264.68,264.16,264.0,263.67,263.06,263.0,262.09,261.98,261.49,259.58,258.19,255.99,253.18,253.09,252.49,252.47,252.47,252.46,251.98,250.98,250.18,249.98,249.19,248.99,248.98,248.48,247.98,247.48,246.99,246.68,245.99,245.99,245.0,244.99,244.48,244.08,244.08,243.98,243.57,243.08,242.98,242.09,242.08,242.07,241.99,241.98,241.48,240.99,240.48,240.39,240.08,240.0,240.0,239.99,239.99,239.18,239.08,238.98,238.98,238.98,237.77,237.59,237.08,236.58,235.77,235.08,235.08,235.0,234.56,233.17,232.69,232.47,230.99,230.97,230.58,230.18,230.09,229.99,229.98,229.98,229.97,229.58,229.48,229.19,228.99,228.98,228.98,228.52,228.0,226.99,226.78,226.09,226.08,225.99,225.98,224.18,224.18,224.08,223.98,222.97,222.58,222.17,221.98,221.98,221.98,221.19,220.99,220.98,220.98,220.48,220.09,220.08,219.19,218.46,217.98,217.08,217.08,215.98,215.0,215.0,213.98,213.48,212.99,212.99,212.97,212.49,212.37,211.48,211.46,211.19,211.18,210.99,210.99,210.98,210.98,209.98,209.0,208.98,208.49,208.18,207.49,207.18,206.98,206.59,206.58,206.18,206.08,205.99,205.98,205.98,205.0,205.0,205.0,204.49,203.99,203.59,202.99,202.08,201.07,200.99,200.99,200.98,200.0,199.99,199.99,199.59,199.48,198.99,197.98,197.59,195.99,195.98,195.97,195.48,195.0,194.99,193.99,193.99,193.99,193.99,193.99,193.98,193.57,193.18,192.98,192.78,192.18,192.17,192.08,191.99,191.49,190.99,190.99,190.98,189.99,189.88,189.28,189.08,188.98,188.0,187.08,185.97,185.97,185.09,185.09,185.08,185.0,185.0,184.99,184.99,184.98,183.99,183.99,183.99,183.69,183.39,182.99,182.78,182.48,181.37,181.17,180.99,180.99,180.99,180.99,180.99,180.99,180.99,180.99,180.99,180.99,180.98,180.98,180.69,180.57,180.08,179.99,179.99,179.99,179.99,179.99,179.99,179.98,179.97,179.58,179.18,178.0,177.97,176.99,176.99,176.57,176.18,175.99,175.98,175.98,175.37,175.0,175.0,175.0,175.0,175.0,175.0,175.0,175.0,175.0,174.98,174.48,173.08,172.99,172.49,172.18,171.98,171.59,170.99,170.98,170.0,169.99,169.99,168.98,168.98,168.58,168.19,167.99,167.08,166.73,166.19,165.99,165.99,165.99,165.58,165.18,165.08,165.0,164.99,164.99,164.99,164.99,164.99,164.98,164.19,163.98,163.98,163.98,163.49,162.99,162.59,162.49,162.49,162.49,162.49,162.18,161.99,161.59,161.18,161.08,160.99,160.98,159.98,159.98,159.8,159.09,159.0,158.99,158.98,157.99,157.99,157.68,156.99,156.99,156.58,156.17,156.09,155.98,155.0,155.0,155.0,154.99,154.99,154.99,154.99,154.98,154.58,154.49,154.49,154.49,153.99,153.99,153.59,153.59,153.49,153.48,153.18,152.99,152.57,152.47,152.19,152.18,151.18,150.99,150.98,150.97,150.48,150.0,149.99,149.99,149.99,149.87,149.48,149.38,149.0,148.99,148.99,148.99,148.99,148.98,148.98,148.98,148.94,148.19,148.09,148.09,148.09,148.09,147.98,147.68,147.39,147.19,147.09,146.99,146.88,145.99,145.99,145.99,145.98,145.49,145.08,145.0,145.0,144.99,144.99,144.99,144.99,144.99,144.99,144.99,144.99,144.59,144.59,144.28,143.99,143.99,143.99,143.99,143.98,142.48,142.19,142.19,141.98,141.98,140.99,140.99,140.99,140.99,140.49,140.09,140.0,139.99,139.09,139.09,138.98,138.48,138.0,137.99,137.48,137.48,137.4,137.37,137.29,137.08,136.49,136.39,135.99,135.99,135.49,135.49,135.49,135.38,135.08,135.0,134.99,134.59,133.99,133.99,133.69,133.69,133.48,133.46,133.09,132.98,132.48,132.08,131.99,131.39,130.99,130.99,130.99,130.99,130.99,130.78,130.49,130.38,130.19,130.09,130.0,129.99,129.99,129.99,129.99,129.99,129.99,129.99,129.99,129.99,129.98,129.08,128.98,127.98,127.49,127.49,127.48,127.39,127.18,126.59,126.58,126.49,126.49,126.49,126.49,126.49,126.08,125.99,125.99,125.99,125.99,125.98,125.98,125.38,125.0,125.0,125.0,125.0,125.0,124.99,124.99,124.99,124.99,124.99,124.99,124.99,124.99,124.98,124.98,124.19,123.99,123.99,123.99,123.99,123.97,123.88,123.39,123.09,123.09,122.99,122.09,121.99,121.98,121.58,121.56,121.19,121.09,121.09,120.99,120.99,120.99,120.97,120.48,120.38,120.27,120.19,120.18,120.0,119.99,119.99,119.99,119.99,119.99,119.99,119.08,118.98,118.68,118.59,118.49,118.49,118.08,117.79,117.59,117.49,117.49,117.49,117.49,117.49,117.49,117.49,94.14],\"xaxis\":\"x\",\"y\":[2,3,3,2,2,2,3,3,2,4,5,4,3,3,6,3,3,3,3,4,2,3,2,2,6,4,2,5,2,5,5,3,2,6,6,3,5,2,2,5,3,3,2,6,6,4,2,8,3,4,3,8,3,4,2,4,3,3,6,7,6,2,4,2,3,4,3,6,4,11,5,3,6,7,4,7,5,6,5,6,4,8,2,3,5,6,4,3,4,6,2,2,3,6,2,2,6,4,2,2,2,4,3,3,5,2,2,2,6,2,2,2,6,5,2,3,3,3,5,6,5,4,9,2,2,5,9,5,7,9,3,5,3,3,2,7,7,2,4,4,2,2,4,6,4,2,4,3,3,2,4,3,10,8,6,3,3,3,5,8,3,4,3,2,3,3,5,4,3,3,2,3,2,4,5,3,3,6,3,8,3,2,4,2,6,4,3,3,5,6,5,7,3,5,6,5,6,3,4,2,2,6,6,3,6,5,4,2,4,4,2,4,7,3,5,6,3,3,5,4,2,5,5,4,5,3,2,2,7,6,10,7,6,2,5,6,3,2,3,5,4,3,5,2,2,4,2,2,3,3,2,7,7,2,2,4,2,5,4,3,22,6,3,2,2,3,5,5,6,4,2,4,5,9,5,3,8,4,9,3,10,5,3,5,7,3,10,2,5,7,7,5,5,9,5,4,5,6,2,4,3,2,2,4,4,10,7,2,2,3,6,8,5,3,5,3,4,2,2,7,8,8,6,5,6,3,3,6,3,4,3,2,6,5,2,2,4,8,5,4,5,3,3,2,6,5,3,3,9,8,5,3,5,4,4,4,2,2,8,3,6,6,3,4,4,2,8,5,6,2,4,6,6,5,4,3,5,2,3,7,6,3,3,2,4,3,2,5,2,3,2,3,6,4,5,6,5,7,5,7,8,4,2,2,2,5,4,2,2,4,3,4,3,4,4,4,23,2,3,2,5,3,5,3,2,2,7,5,3,6,7,10,4,5,5,3,5,6,2,4,7,4,3,4,3,2,3,7,9,8,6,5,3,6,3,4,2,2,8,2,2,4,2,8,4,2,5,8,3,6,8,4,2,6,9,5,6,4,2,3,2,6,4,4,9,5,4,2,2,2,3,3,4,6,6,6,6,2,3,6,4,4,7,2,2,4,3,5,4,4,3,2,3,6,5,4,2,6,8,6,7,11,8,7,6,4,3,3,8,8,4,8,5,3,4,6,6,7,4,5,4,4,3,2,7,5,5,5,4,2,2,6,7,5,2,4,6,3,5,3,2,7,4,5,4,3,3,4,2,3,6,8,3,3,7,7,9,2,2,3,3,8,3,4,2,2,2,2,3,3,2,3,6,4,4,2,3,5,5,5,3,4,6,5,6,5,4,5,5,7,4,6,5,6,6,7,6,5,7,2,8,6,7,4,5,9,6,6,6,6,2,6,4,7,5,2,8,9,6,9,4,4,3,7,9,7,4,7,8,3,6,4,8,1,9,9,5,5,8,4,4,5,7,4,4,5,10,8,8,4,6,4,10,7,4,7,1,10,4,3,3,5,6,9,2,4,6,2,5,5,4,6,5,7,4,5,9,7,4,5,10,2,5,5,3,2,2,5,4,4,9,9,4,2,4,9,4,5,7,7,9,2,4,1,5,2,3,5,3,5,3,7,5,6,4,4,4,3,3,2,5,1,4,1,4,5,1,6,4,3,4,7,2,5,2,2,3,4,1,5,4,6,6,6,3,7,3,1,3,2,2,5,3,4,2,6,2,2,2,6,4,6,6,9,8,4,6,2,5,3,4,6,6,4,1,6,4,4,5,3,1,1,3,4,4,4,2,3,3,2,5,4,1,3,3,4,13,6,3,3,3,2,6,3,3,3,5,3,3,4,1,6,4,3,5,2,2,2,6,5,3,8,4,3,3,4,4,5,5,3,7,4,9,4,4,4,5,3,3,2,2,3,1,3,6,4,7,3,4,5,2,2,4,2,4,3,2,5,5,5,3,3,3,5,2,4,5,1,3,2,4,2,2,1,1,2,1,1,2,5,6,2,3,3,7,2,3,4,3,5,3,3,3,1,4,3,3,3,2,5,4,2,2,4,3,1,3,2,1,3,3,5,1,5,3,2,2,3,4,2,2,2,3,4,4,2,3,4,3,3,3,2,4,2,5,2,3,4,3,4,5,2,4,3,4,5,1,4,3,2,1,2,2,3,2,2,2,4,1,8,2,4,3,2,5,2,3,3,3,4,4,3,3,3,4,1,4,5,3,3,2,2,4,4,3,2,2,1,3,3,4,2,2,3,2,3,1,3,2,2,2,1,3,1,1,1,4,2,2,2,2,4,2,2,5,4,4,2,3,2,1,4,3,2,1,1,2,2,2,2,4,2,3,6,3,2,3,6,2,3,1,4,4,1,3,1,3,5,3,1,2,2,2,3,3,2,1,3,2,2,4,2,6,3,2,6,1,2,2,2,3,3,4,2,4,2,4,2,1,2,4,2,2,3,2,2,4,2,2,2,3,1,1,3,2,1,3,3,2,3,2,6,1,2,2,1,2,2,3,3,5,2,2,1,2,3,2,3,3,4,1,2,2,2,2,2,3,1,1,1,2,3,2,3,3,2,1,1,1,2,2,6,2,1,2,4,2,1,2,1,2,1,2,1,2,4,5,2,3,3,3,3,2,1,1,1,2,2,4,3,2,2,2,2,4,3,1,1,2,1,1,1,1,3,1,1,1,2,4,3,4,2,3,5,2,1,2,1,1,1,1,1,1,1,2,2,4,4,2,1,1,1,1,1,1,2,3,4,3,3,3,2,2,4,3,1,3,2,4,1,1,1,1,1,1,1,1,1,2,3,2,3,2,3,3,2,3,2,1,3,1,2,3,2,2,3,2,3,4,2,3,1,3,3,4,1,2,1,2,1,4,2,1,2,2,2,1,1,2,1,1,1,1,2,1,1,5,2,1,2,2,3,4,2,1,1,2,2,1,3,1,2,3,3,2,2,1,1,2,2,1,4,1,2,2,1,1,4,1,1,1,1,2,2,3,1,5,3,3,3,2,1,2,3,2,1,1,1,2,3,2,3,2,2,2,1,2,2,2,2,2,3,1,1,2,1,2,3,2,2,1,1,3,1,1,1,3,2,2,1,1,1,1,1,1,1,1,1,1,1,1,3,1,1,1,1,2,2,2,2,2,5,1,2,1,1,2,1,1,1,1,3,2,3,2,1,3,2,3,3,2,2,2,3,1,1,1,3,1,3,2,1,2,2,1,1,3,3,2,4,2,3,2,3,1,2,1,3,1,1,1,5,2,3,1,3,1,2,1,2,3,1,1,1,1,1,3,2,2,3,1,1,2,4,3,1,3,1,1,1,1,1,3,1,1,1,1,2,2,2,1,1,1,1,1,1,2,1,1,1,1,2,1,2,2,1,1,1,3,1,3,2,2,1,1,1,1,1,3,2,5,2,1,2,1,1,1,3,2,3,3,2,2,2,1,2,1,1,1,1,2,2,3,4,1,1,2,4,1,1,1,1,1,1,1,1,2],\"yaxis\":\"y\",\"type\":\"scattergl\"}],                        {\"template\":{\"data\":{\"histogram2dcontour\":[{\"type\":\"histogram2dcontour\",\"colorbar\":{\"outlinewidth\":0,\"ticks\":\"\"},\"colorscale\":[[0.0,\"#0d0887\"],[0.1111111111111111,\"#46039f\"],[0.2222222222222222,\"#7201a8\"],[0.3333333333333333,\"#9c179e\"],[0.4444444444444444,\"#bd3786\"],[0.5555555555555556,\"#d8576b\"],[0.6666666666666666,\"#ed7953\"],[0.7777777777777778,\"#fb9f3a\"],[0.8888888888888888,\"#fdca26\"],[1.0,\"#f0f921\"]]}],\"choropleth\":[{\"type\":\"choropleth\",\"colorbar\":{\"outlinewidth\":0,\"ticks\":\"\"}}],\"histogram2d\":[{\"type\":\"histogram2d\",\"colorbar\":{\"outlinewidth\":0,\"ticks\":\"\"},\"colorscale\":[[0.0,\"#0d0887\"],[0.1111111111111111,\"#46039f\"],[0.2222222222222222,\"#7201a8\"],[0.3333333333333333,\"#9c179e\"],[0.4444444444444444,\"#bd3786\"],[0.5555555555555556,\"#d8576b\"],[0.6666666666666666,\"#ed7953\"],[0.7777777777777778,\"#fb9f3a\"],[0.8888888888888888,\"#fdca26\"],[1.0,\"#f0f921\"]]}],\"heatmap\":[{\"type\":\"heatmap\",\"colorbar\":{\"outlinewidth\":0,\"ticks\":\"\"},\"colorscale\":[[0.0,\"#0d0887\"],[0.1111111111111111,\"#46039f\"],[0.2222222222222222,\"#7201a8\"],[0.3333333333333333,\"#9c179e\"],[0.4444444444444444,\"#bd3786\"],[0.5555555555555556,\"#d8576b\"],[0.6666666666666666,\"#ed7953\"],[0.7777777777777778,\"#fb9f3a\"],[0.8888888888888888,\"#fdca26\"],[1.0,\"#f0f921\"]]}],\"heatmapgl\":[{\"type\":\"heatmapgl\",\"colorbar\":{\"outlinewidth\":0,\"ticks\":\"\"},\"colorscale\":[[0.0,\"#0d0887\"],[0.1111111111111111,\"#46039f\"],[0.2222222222222222,\"#7201a8\"],[0.3333333333333333,\"#9c179e\"],[0.4444444444444444,\"#bd3786\"],[0.5555555555555556,\"#d8576b\"],[0.6666666666666666,\"#ed7953\"],[0.7777777777777778,\"#fb9f3a\"],[0.8888888888888888,\"#fdca26\"],[1.0,\"#f0f921\"]]}],\"contourcarpet\":[{\"type\":\"contourcarpet\",\"colorbar\":{\"outlinewidth\":0,\"ticks\":\"\"}}],\"contour\":[{\"type\":\"contour\",\"colorbar\":{\"outlinewidth\":0,\"ticks\":\"\"},\"colorscale\":[[0.0,\"#0d0887\"],[0.1111111111111111,\"#46039f\"],[0.2222222222222222,\"#7201a8\"],[0.3333333333333333,\"#9c179e\"],[0.4444444444444444,\"#bd3786\"],[0.5555555555555556,\"#d8576b\"],[0.6666666666666666,\"#ed7953\"],[0.7777777777777778,\"#fb9f3a\"],[0.8888888888888888,\"#fdca26\"],[1.0,\"#f0f921\"]]}],\"surface\":[{\"type\":\"surface\",\"colorbar\":{\"outlinewidth\":0,\"ticks\":\"\"},\"colorscale\":[[0.0,\"#0d0887\"],[0.1111111111111111,\"#46039f\"],[0.2222222222222222,\"#7201a8\"],[0.3333333333333333,\"#9c179e\"],[0.4444444444444444,\"#bd3786\"],[0.5555555555555556,\"#d8576b\"],[0.6666666666666666,\"#ed7953\"],[0.7777777777777778,\"#fb9f3a\"],[0.8888888888888888,\"#fdca26\"],[1.0,\"#f0f921\"]]}],\"mesh3d\":[{\"type\":\"mesh3d\",\"colorbar\":{\"outlinewidth\":0,\"ticks\":\"\"}}],\"scatter\":[{\"fillpattern\":{\"fillmode\":\"overlay\",\"size\":10,\"solidity\":0.2},\"type\":\"scatter\"}],\"parcoords\":[{\"type\":\"parcoords\",\"line\":{\"colorbar\":{\"outlinewidth\":0,\"ticks\":\"\"}}}],\"scatterpolargl\":[{\"type\":\"scatterpolargl\",\"marker\":{\"colorbar\":{\"outlinewidth\":0,\"ticks\":\"\"}}}],\"bar\":[{\"error_x\":{\"color\":\"#2a3f5f\"},\"error_y\":{\"color\":\"#2a3f5f\"},\"marker\":{\"line\":{\"color\":\"#E5ECF6\",\"width\":0.5},\"pattern\":{\"fillmode\":\"overlay\",\"size\":10,\"solidity\":0.2}},\"type\":\"bar\"}],\"scattergeo\":[{\"type\":\"scattergeo\",\"marker\":{\"colorbar\":{\"outlinewidth\":0,\"ticks\":\"\"}}}],\"scatterpolar\":[{\"type\":\"scatterpolar\",\"marker\":{\"colorbar\":{\"outlinewidth\":0,\"ticks\":\"\"}}}],\"histogram\":[{\"marker\":{\"pattern\":{\"fillmode\":\"overlay\",\"size\":10,\"solidity\":0.2}},\"type\":\"histogram\"}],\"scattergl\":[{\"type\":\"scattergl\",\"marker\":{\"colorbar\":{\"outlinewidth\":0,\"ticks\":\"\"}}}],\"scatter3d\":[{\"type\":\"scatter3d\",\"line\":{\"colorbar\":{\"outlinewidth\":0,\"ticks\":\"\"}},\"marker\":{\"colorbar\":{\"outlinewidth\":0,\"ticks\":\"\"}}}],\"scattermapbox\":[{\"type\":\"scattermapbox\",\"marker\":{\"colorbar\":{\"outlinewidth\":0,\"ticks\":\"\"}}}],\"scatterternary\":[{\"type\":\"scatterternary\",\"marker\":{\"colorbar\":{\"outlinewidth\":0,\"ticks\":\"\"}}}],\"scattercarpet\":[{\"type\":\"scattercarpet\",\"marker\":{\"colorbar\":{\"outlinewidth\":0,\"ticks\":\"\"}}}],\"carpet\":[{\"aaxis\":{\"endlinecolor\":\"#2a3f5f\",\"gridcolor\":\"white\",\"linecolor\":\"white\",\"minorgridcolor\":\"white\",\"startlinecolor\":\"#2a3f5f\"},\"baxis\":{\"endlinecolor\":\"#2a3f5f\",\"gridcolor\":\"white\",\"linecolor\":\"white\",\"minorgridcolor\":\"white\",\"startlinecolor\":\"#2a3f5f\"},\"type\":\"carpet\"}],\"table\":[{\"cells\":{\"fill\":{\"color\":\"#EBF0F8\"},\"line\":{\"color\":\"white\"}},\"header\":{\"fill\":{\"color\":\"#C8D4E3\"},\"line\":{\"color\":\"white\"}},\"type\":\"table\"}],\"barpolar\":[{\"marker\":{\"line\":{\"color\":\"#E5ECF6\",\"width\":0.5},\"pattern\":{\"fillmode\":\"overlay\",\"size\":10,\"solidity\":0.2}},\"type\":\"barpolar\"}],\"pie\":[{\"automargin\":true,\"type\":\"pie\"}]},\"layout\":{\"autotypenumbers\":\"strict\",\"colorway\":[\"#636efa\",\"#EF553B\",\"#00cc96\",\"#ab63fa\",\"#FFA15A\",\"#19d3f3\",\"#FF6692\",\"#B6E880\",\"#FF97FF\",\"#FECB52\"],\"font\":{\"color\":\"#2a3f5f\"},\"hovermode\":\"closest\",\"hoverlabel\":{\"align\":\"left\"},\"paper_bgcolor\":\"white\",\"plot_bgcolor\":\"#E5ECF6\",\"polar\":{\"bgcolor\":\"#E5ECF6\",\"angularaxis\":{\"gridcolor\":\"white\",\"linecolor\":\"white\",\"ticks\":\"\"},\"radialaxis\":{\"gridcolor\":\"white\",\"linecolor\":\"white\",\"ticks\":\"\"}},\"ternary\":{\"bgcolor\":\"#E5ECF6\",\"aaxis\":{\"gridcolor\":\"white\",\"linecolor\":\"white\",\"ticks\":\"\"},\"baxis\":{\"gridcolor\":\"white\",\"linecolor\":\"white\",\"ticks\":\"\"},\"caxis\":{\"gridcolor\":\"white\",\"linecolor\":\"white\",\"ticks\":\"\"}},\"coloraxis\":{\"colorbar\":{\"outlinewidth\":0,\"ticks\":\"\"}},\"colorscale\":{\"sequential\":[[0.0,\"#0d0887\"],[0.1111111111111111,\"#46039f\"],[0.2222222222222222,\"#7201a8\"],[0.3333333333333333,\"#9c179e\"],[0.4444444444444444,\"#bd3786\"],[0.5555555555555556,\"#d8576b\"],[0.6666666666666666,\"#ed7953\"],[0.7777777777777778,\"#fb9f3a\"],[0.8888888888888888,\"#fdca26\"],[1.0,\"#f0f921\"]],\"sequentialminus\":[[0.0,\"#0d0887\"],[0.1111111111111111,\"#46039f\"],[0.2222222222222222,\"#7201a8\"],[0.3333333333333333,\"#9c179e\"],[0.4444444444444444,\"#bd3786\"],[0.5555555555555556,\"#d8576b\"],[0.6666666666666666,\"#ed7953\"],[0.7777777777777778,\"#fb9f3a\"],[0.8888888888888888,\"#fdca26\"],[1.0,\"#f0f921\"]],\"diverging\":[[0,\"#8e0152\"],[0.1,\"#c51b7d\"],[0.2,\"#de77ae\"],[0.3,\"#f1b6da\"],[0.4,\"#fde0ef\"],[0.5,\"#f7f7f7\"],[0.6,\"#e6f5d0\"],[0.7,\"#b8e186\"],[0.8,\"#7fbc41\"],[0.9,\"#4d9221\"],[1,\"#276419\"]]},\"xaxis\":{\"gridcolor\":\"white\",\"linecolor\":\"white\",\"ticks\":\"\",\"title\":{\"standoff\":15},\"zerolinecolor\":\"white\",\"automargin\":true,\"zerolinewidth\":2},\"yaxis\":{\"gridcolor\":\"white\",\"linecolor\":\"white\",\"ticks\":\"\",\"title\":{\"standoff\":15},\"zerolinecolor\":\"white\",\"automargin\":true,\"zerolinewidth\":2},\"scene\":{\"xaxis\":{\"backgroundcolor\":\"#E5ECF6\",\"gridcolor\":\"white\",\"linecolor\":\"white\",\"showbackground\":true,\"ticks\":\"\",\"zerolinecolor\":\"white\",\"gridwidth\":2},\"yaxis\":{\"backgroundcolor\":\"#E5ECF6\",\"gridcolor\":\"white\",\"linecolor\":\"white\",\"showbackground\":true,\"ticks\":\"\",\"zerolinecolor\":\"white\",\"gridwidth\":2},\"zaxis\":{\"backgroundcolor\":\"#E5ECF6\",\"gridcolor\":\"white\",\"linecolor\":\"white\",\"showbackground\":true,\"ticks\":\"\",\"zerolinecolor\":\"white\",\"gridwidth\":2}},\"shapedefaults\":{\"line\":{\"color\":\"#2a3f5f\"}},\"annotationdefaults\":{\"arrowcolor\":\"#2a3f5f\",\"arrowhead\":0,\"arrowwidth\":1},\"geo\":{\"bgcolor\":\"white\",\"landcolor\":\"#E5ECF6\",\"subunitcolor\":\"white\",\"showland\":true,\"showlakes\":true,\"lakecolor\":\"white\"},\"title\":{\"x\":0.05},\"mapbox\":{\"style\":\"light\"}}},\"xaxis\":{\"anchor\":\"y\",\"domain\":[0.0,1.0],\"title\":{\"text\":\"Monetary\"}},\"yaxis\":{\"anchor\":\"x\",\"domain\":[0.0,1.0],\"title\":{\"text\":\"Frequency\"}},\"legend\":{\"title\":{\"text\":\"Cluster\"},\"tracegroupgap\":0},\"margin\":{\"t\":60}},                        {\"responsive\": true}                    ).then(function(){\n",
       "                            \n",
       "var gd = document.getElementById('6545d17f-df4a-4220-968d-a72fb8e0853a');\n",
       "var x = new MutationObserver(function (mutations, observer) {{\n",
       "        var display = window.getComputedStyle(gd).display;\n",
       "        if (!display || display === 'none') {{\n",
       "            console.log([gd, 'removed!']);\n",
       "            Plotly.purge(gd);\n",
       "            observer.disconnect();\n",
       "        }}\n",
       "}});\n",
       "\n",
       "// Listen for the removal of the full notebook cells\n",
       "var notebookContainer = gd.closest('#notebook-container');\n",
       "if (notebookContainer) {{\n",
       "    x.observe(notebookContainer, {childList: true});\n",
       "}}\n",
       "\n",
       "// Listen for the clearing of the current output cell\n",
       "var outputEl = gd.closest('.output');\n",
       "if (outputEl) {{\n",
       "    x.observe(outputEl, {childList: true});\n",
       "}}\n",
       "\n",
       "                        })                };                });            </script>        </div>"
      ]
     },
     "metadata": {},
     "output_type": "display_data"
    },
    {
     "data": {
      "text/html": [
       "<div>                            <div id=\"4648bcdb-9556-4a35-a62d-4a888d76ac54\" class=\"plotly-graph-div\" style=\"height:525px; width:100%;\"></div>            <script type=\"text/javascript\">                require([\"plotly\"], function(Plotly) {                    window.PLOTLYENV=window.PLOTLYENV || {};                                    if (document.getElementById(\"4648bcdb-9556-4a35-a62d-4a888d76ac54\")) {                    Plotly.newPlot(                        \"4648bcdb-9556-4a35-a62d-4a888d76ac54\",                        [{\"hovertemplate\":\"Cluster=Cluster1<br>Recency=%{x}<br>Monetary=%{y}<extra></extra>\",\"legendgroup\":\"Cluster1\",\"marker\":{\"color\":\"#636efa\",\"symbol\":\"circle\"},\"mode\":\"markers\",\"name\":\"Cluster1\",\"showlegend\":true,\"x\":[1,1,1,1,1,1,1,1,1,1,1,1,1,1,1,1,1,1,1,1,1,1,1,1,1,1,1,1,1,1,1,1,1,1,1,1,1,1,1,1,1,1,1,1,1,1,1,1,1,1,1,1,1,1,1,1,1,1,1,2,2,2,2,2,2,2,2,2,2,2,2,2,2,2,2,2,2,2,2,2,2,2,2,2,2,2,2,2,2,2,2,2,2,2,2,2,2,3,3,3,3,3,3,3,3,3,3,3,3,3,3,3,3,3,3,3,3,3,3,3,3,3,3,3,3,3,3,3,3,3,3,3,3,4,4,4,4,4,4,4,4,4,4,4,4,4,4,4,4,4,4,4,4,4,4,4,4,4,4,4,4,4,4,4,4,4,4,4,5,5,5,5,5,5,5,5,5,5,5,5,5,5,5,5,5,5,5,5,5,5,5,5,5,5,5,5,5,5,5,5,5,5,5,6,6,6,6,6,6,6,6,6,6,6,6,6,6,6,6,6,6,6,6,6,6,6,6,6,6,6,6,6,6,6,6,6,6,6,6,6,6,6,6,6,6,6,6,7,7,7,7,7,7,7,7,7,7,7,7,7,7,7,7,7,7,7,7,7,7,7,7,7,7,7,7,7,7,7,8,8,8,8,8,8,8,8,8,8,8,8,8,8,8,8,8,8,8,8,8,8,9,9,9,9,9,9,9,9,9,9,9,9,9,9,9,9,9,9,9,9,9,9,9,9,9,9,9,9,9,9,9,9,10,10,10,10,10,10,10,10,10,10,10,10,10,10,10,10,10,10,10,10,10,10,10,10,10,10,10,10,10,10,10,10,10,10,10,10,10,10,11,11,11,11,11,11,11,11,11,11,11,11,11,11,11,11,11,11,11,11,11,11,11,12,12,12,12,12,12,12,12,12,12,12,12,12,12,12,12,12,12,12,12,12,12,12,12,12,12,12,12,12,12,12,12,12,12,12,12,12,12,12,12,12,13,13,13,13,13,13,13,13,13,13,13,13,13,13,13,13,13,13,13,13,13,13,13,13,13,13,13,13,13,13,13,13,13,13,13,13,14,14,14,14,14,14,14,14,14,14,14,14,14,14,14,14,14,14,14,14,14,14,14,14,14,14,14,14,14,14,14,14,14,14,14,14,14,14,14,14,14,14,15,15,15,15,15,15,15,15,15,15,15,15,15,15,15,15,15,15,15,16,16,16,16,16,16,16,16,16,16,16,16,16,16,16,16,16,17,17,17,17,17,17,17,17,17,17,17,17,17,17,17,17,17,18,18,18,18,18,18,18,18,18,18,18,18,18,18,18,18,18,18,18,18,18,18,18,18,19,19,19,19,19,19,19,19,19,19,19,19,19,19,19,19,19,19,19,19,19,19,19,19,19,19,20,20,20,20,20,20,20,20,20,20,20,20,20,21,21,21,21,21,21,21,21,21,21,21,21,21,21,21,21,21,21,21,21,22,22,22,22,22,22,22,22,22,22,22,22,22,22,22,22,22,22,22,22,22,22,22,23,23,23,23,23,23,23,23,23,23,23,23,23,23,23,23,23,23,24,24,24,24,24,24,24,24,24,24,24,24,24,24,24,24,24,24,24,25,25,25,25,25,25,25,25,25,25,25,25,25,25,25,25,25,25,25,25,25,25,25,25,25,26,26,26,26,26,26,26,26,26,26,26,26,26,26,26,26,26,26,26,26,26,27,27,27,27,27,27,27,27,27,27,27,27,27,27,27,27,27,27,28,28,28,28,28,28,28,28,28,28,28,28,28,28,28,28,28,28,29,29,29,29,29,29,29,29,29,29,29,29,29,29,29,29,29,30,30,30,30,30,30,30,30,30,30,30,30,31,31,31,31,31,31,31,31,31,31,31,31,31,31,31,31,31,31,31,31,31,31,31,31,31,31,32,32,32,32,32,32,32,32,32,32,32,32,32,32,32,32,32,32,32,33,33,33,33,33,33,33,33,33,33,33,33,33,33,33,33,33,34,34,34,34,34,34,34,34,34,34,34,34,34,34,34,34,34,35,35,35,35,35,35,35,35,35,35,35,35,35,35,35,35,35,35,36,36,36,36,36,36,36,36,36,36,36,36,36,36,36,36,36,36,37,37,37,37,37,37,37,37,37,37,37,37,37,37,37,37,37,38,38,38,38,38,38,38,38,38,38,38,38,38,38,38,39,39,39,39,39,39,39,39,39,39,39,39,39,39,39,39,39,40,40,40,40,40,40,40,40,40,40,40,40,40,40,40,40,40,40,40,41,41,41,41,41,41,41,41,41,41,41,41,41,41,41,41,41,41,41,42,42,42,42,42,42,42,42,42,42,43,43,43,43,43,43,43,43,43,43,43,43,43,44,44,44,44,44,44,44,44,44,44,45,45,45,45,45,45,45,45,45,45,45,45,45,46,46,46,46,46,46,46,46,46,46,47,47,47,47,47,47,47,47,47,47,48,48,48,48,48,48,48,48,48,49,49,49,49,49,49,49,49,49,50,50,50,50,50,50,50,50,50,50,50,50,50,51,51,51,51,51,51,51,51,51,51,51,52,52,52,52,52,52,52,52,52,52,52,53,53,53,53,53,53,53,53,53,53,54,54,54,54,54,54,54,54,54,54,54,54,54,54,54,55,55,55,55,55,55,55,55,55,55,55,55,55,55,56,56,56,56,56,56,56,56,56,56,56,56,56,56,56,57,57,57,57,57,57,57,58,58,58,58,58,58,58,58,58,58,58,58,58,59,59,59,59,59,59,59,59,59,59,59,59,59,59,60,60,60,60,60,60,60,61,61,61,61,61,61,61,61,61,61,61,61,61,61,61,62,62,62,62,62,62,62,62,62,62,62,63,63,63,63,63,63,63,63,63,63,63,63,63,64,64,64,64,64,64,64,64,64,64,64,65,65,65,65,65,65,65,65,65,65,65,65,66,66,66,66,66,66,66,66,66,66,66,66,66,67,67,67,67,67,67,67,67,67,67,67,67,67,67,67,67,68,68,68,68,68,68,68,68,68,68,68,68,68,68,68,68,68,69,69,69,69,69,69,69,69,69,69,69,69,70,70,70,70,70,70,70,70,70,71,71,71,71,71,71,71,71,71,71,71,71,71,71,71,71,71,72,72,72,72,72,72,72,72,72,72,72,72,72,72,72,72,72,72,73,73,73,73,73,73,73,74,74,74,74,74,74,74,74,74,74,74,74,75,75,75,75,75,75,75,75,75,75,75,75,75,75,75,76,76,76,76,76,76,76,76,76,76,76,76,76,76,76,76,76,76,77,77,77,77,77,77,77,77,77,77,78,78,78,78,78,78,78,78,79,79,79,79,79,79,79,79,79,80,80,80,80,80,80,80,80,80,80,80,81,81,81,81,81,81,81,81,81,81,82,82,82,82,82,82,82,83,83,83,83,83,83,83,83,83,83,83,83,84,84,84,84,84,84,84,84,85,85,85,85,85,85,85,85,85,85,85,86,86,86,86,86,86,86,86,86,86,87,87,87,87,87,87,87,87,87,87,87,87,88,88,88,88,88,88,88,88,88,88,89,89,89,89,89,89,89,89,89,89,89,89,89,89,89,89,90,90,90,90,90,90,90,90,90,90,90,91,91,91,91,91,91,91,91,91,91,92,92,92,92,92,92,92,92,92,92,93,93,93,93,93,93,93,93,93,93,93,93,94,94,94,94,94,94,94,94,94,94,94,95,95,95,95,95,95,95,95,95,96,96,96,96,96,96,96,97,97,97,97,97,98,98,98,98,98,98,98,98,98,98,98,99,99,99,99,99,99,99,99,99,99,99,99,100,100,100,100,100,100,100,100,100,100,100,100,100,100,101,101,101,101,101,101,101,101,101,101,101,101,102,102,102,102,102,102,102,102,103,103,103,103,103,103,103,103,103,103,103,103,103,104,104,104,104,104,104,104,104,104,105,105,105,105,105,105,105,105,105,106,106,106,106,106,106,106,106,106,106,106,106,107,107,107,107,107,107,107,107,107,107,107,107,107,108,108,108,108,108,108,108,108,108,108,108,109,109,109,109,109,109,109,109,109,109,109,109,110,110,110,110,110,110,110,110,110,110,110,110,110,110,111,111,111,111,111,111,111,111,111,111,111,111,112,112,112,112,112,112,112,112,112,112,112,112,112,112,113,113,113,113,113,113,113,113,113,113,114,114,114,114,114,114,114,114,114,114,114,115,115,115,115,115,115,115,115,116,116,116,116,116,116,116,116,116,117,117,117,117,117,117,117,117,117,117,118,118,118,118,118,118,119,119,119,119,119,119,119,120,120,120,120,120,121,121,121,121,121,121,121,121,121,121,121,121,121,122,122,122,122,122,122,122,122,122,123,123,123,123,123,123,123,123,124,124,124,124,124,124,124,124,124,124,125,125,125,125,125,125,125,125,126,126,126,126,127,127,127,127,127,127,127,127,128,128,128,128,128,128,128,128,129,129,129,129,129,129,129,129,129,129,129,129,130,130,130,130,130,130,130,130,130,130,130,130,130,131,131,131,131,131,131,131,131,131,131,131,131,131,131,131,131,131,131,131,131,131,132,132,132,132,132,132,132,132,132,133,133,133,133,133,134,134,135,135,135,135,135,135,136,136,136,136,136,136,136,136,136,137,137,137,137,137,137,138,138,138,139,139,139,140,140,140,140,140,140,140,140,140,140,141,141,141,141,141,141,141,141,142,142,142,143,143,143,143,144,144,144,144,144,144,144,145,145,145,145,145,146,146,146,146,146,146,146,146,147,147,147,147,147,147,148,148,148,148,149,149,149,149,149,149,150,150,150,150,150,150,150,150,150,151,151,151,151,152,152,152,152,152,152,152,152,152,152,153,153,153,153,154,154,154,154,154,155,156,156,156,157,157,157,157,157,157,157,157,158,158,158,159,159,159,160,160,160,160,160,160,160,161,161,161,161,162,162,162,163,163,163,164,164,165,165,165,165,165,166,166,166,166,166,167,167,167,167,167,167,167,167,167,167,168,168,168,168,168,168,169,169,169,169,169,170,170,171,171,171,171,172,172,172,172,172,172,173,173,173,173,173,174,174,174,174,175,175,175,175,176,176,176,176,176,177,177,177,177,177,178,178,178,178,178,178,178,178,179,179,179,179,179,180,180,180,180,180,180,180,181,181,181,181,181,181,181,182,182,182,182,182,183,183,183,184,184,185,185,185,185,185,186,186,186,186,186,186,187,187,187,187,188,188,188,189,189,189,189,190,191,191,192,192,192,193,193,193,194,194,195,196,196,197,197,197,197,197,197,197,197,197,197,198,198,198,198,198,198,199,199,200,200,201,201,201,201,201,201,202,202,203,203,203,204,204,204,204,204,204,205,205,205,205,205,205,205,206,206,206,206,207,207,207,207,207,207,207,207,207,207,207,207,207,207,207,207,207,207,207,207,207,207,207,207,207,207,207,207,207,207,207,207],\"xaxis\":\"x\",\"y\":[11986.54,11025.96,7259.69,6992.27,6263.44,5841.24,5470.27,5200.53,4967.06,4726.38,3934.05,3933.82,3778.07,3725.48,3660.12,3547.93,3547.7,3401.97,3391.09,3322.83,3305.8,3287.77,3224.55,3211.35,3149.69,3113.08,3088.26,3060.53,3027.11,2944.71,2865.89,2659.31,2609.0,2555.27,2544.48,2534.23,2530.55,2475.84,2469.36,2432.01,2416.13,2390.84,2386.87,2277.34,2274.19,2234.03,2144.1,2120.69,1993.5,1924.45,1890.12,1876.65,1868.29,1756.37,1739.11,1641.58,1633.65,1567.96,1536.78,9006.15,8711.5,5932.66,5797.99,5340.53,5279.99,4771.53,4254.66,4194.19,4154.86,4102.14,4005.15,3589.66,3510.45,3444.56,3427.29,3079.95,2944.74,2863.93,2810.35,2708.35,2668.65,2655.51,2513.52,2426.32,2412.25,2402.37,2387.1,2345.13,2324.04,2287.82,2194.86,2015.35,1969.37,1927.85,1918.88,1351.8,1108.98,7390.98,6812.43,6117.52,5907.81,5331.67,4969.08,4888.02,4762.26,4475.79,4270.99,3546.66,3544.36,3104.16,3030.94,2893.59,2887.88,2842.75,2697.57,2673.29,2617.74,2501.88,2434.87,2422.5,2301.63,2246.06,2085.37,1879.59,1679.9,1544.75,1533.84,1517.4,1466.2,1362.86,1299.65,1245.46,1186.84,7649.71,7173.63,5729.75,5021.83,4763.72,4674.99,4611.88,3987.96,3854.9,3788.24,3763.62,3443.22,3436.28,3412.36,3332.66,3176.64,3121.86,3078.84,3071.84,2784.67,2655.96,2428.36,2198.66,2169.17,2085.7,1975.49,1972.87,1637.97,1515.65,1503.94,1460.23,1441.04,1437.7,1329.76,1184.07,18554.49,9685.37,7721.85,7148.66,6657.88,6024.65,5693.21,5431.7,4932.31,4915.07,4834.79,3391.1,3131.58,3045.3,2877.88,2853.36,2760.87,2644.95,2642.53,2501.72,2447.67,2159.9,2042.67,1961.24,1795.96,1678.7,1651.57,1577.77,1533.86,1240.46,1204.06,1173.95,1041.2,1034.48,892.4,12969.98,9099.36,8854.3,8774.63,8163.52,6821.37,6076.36,5985.21,5230.33,5218.89,5197.83,5068.47,4429.23,4261.02,4237.43,4180.29,3749.79,3497.15,3494.81,3392.95,3352.45,3315.92,3184.86,3099.76,2619.95,2391.6,2361.14,2334.57,2249.64,2227.37,2191.76,2158.95,2113.44,2085.42,2014.86,1838.16,1834.58,1776.97,1715.98,1633.58,1609.63,1402.41,1281.03,945.87,9516.9,7518.0,5313.31,5151.19,5118.83,4930.83,4590.49,4224.3,3821.33,3296.18,3229.64,3212.85,3100.76,2983.44,2525.7,2364.05,2301.67,2011.57,1886.65,1839.43,1828.02,1689.96,1659.66,1647.77,1643.43,1515.62,1328.35,1298.54,1130.1,1065.25,645.63,5499.24,3914.31,3896.81,3850.84,3824.43,3788.62,3719.4,3370.71,3160.05,3142.79,3137.15,3133.94,3107.86,2274.44,2090.55,1947.19,1846.87,1718.66,1627.72,1570.21,1450.88,1291.92,5228.03,4521.4,4513.75,3843.86,3805.24,3773.02,3623.01,3578.99,3540.02,3331.88,3323.09,3283.75,3257.17,3146.99,3078.65,3037.14,2806.77,2733.34,2380.5,2343.98,2098.22,2072.41,2066.83,2015.83,1908.84,1893.75,1847.3,1761.35,1693.3,1348.46,1214.32,966.75,8319.0,7961.37,5126.79,5115.94,4260.84,4250.32,4075.93,3567.95,3549.48,3434.27,3327.85,3241.21,3073.83,2974.94,2694.84,2568.72,2405.23,2364.63,2179.26,2151.83,2023.17,1965.17,1875.33,1846.62,1715.29,1703.1,1639.46,1558.29,1557.16,1540.02,1514.43,1465.4,1442.46,1334.95,1291.51,1251.27,973.01,888.58,5635.22,5149.71,4368.42,3864.0,3746.82,3545.81,3246.87,3139.78,2942.41,2903.88,2765.67,2523.14,2163.91,2137.4,1994.79,1956.83,1776.65,1737.8,1686.32,1539.11,1448.44,1254.26,1204.87,6022.45,5360.83,5333.74,4152.11,4114.97,3972.87,3906.84,3863.88,3759.97,3666.45,3649.27,3404.46,3372.21,3349.69,3326.49,3283.87,3283.03,3165.91,2947.9,2689.34,2570.55,2564.5,2539.58,2533.86,2467.64,2448.0,2373.47,2268.59,2157.07,2118.2,2076.98,1879.57,1868.53,1793.86,1791.12,1777.63,1638.72,1517.63,1352.56,1129.35,824.92,14309.92,12237.79,7953.91,7875.48,6911.51,6404.57,6357.05,4888.13,4720.72,4385.06,4370.23,4171.91,3788.45,3426.39,3287.59,3140.89,3080.56,3071.38,2980.84,2809.12,2663.02,2636.48,2382.62,2128.19,2118.33,2059.73,1988.67,1858.31,1680.08,1607.62,1501.36,1372.66,1327.15,1253.92,1237.15,949.47,13180.85,5996.21,5560.69,5372.93,4383.45,4325.45,4235.91,3960.29,3887.22,3844.97,3766.54,3633.45,3572.96,3423.78,3391.92,3215.94,3152.79,3074.98,3042.22,2929.34,2757.96,2602.49,2578.74,2541.07,2479.64,2378.04,2357.57,2269.26,2267.37,2259.8,2196.48,2020.53,1811.73,1686.71,1241.41,1096.04,1091.74,1063.44,957.44,933.34,852.86,746.34,11828.92,8698.43,7477.36,6164.75,4873.54,4353.0,4259.12,3489.86,3282.46,3276.04,3095.7,3033.75,2789.03,2559.85,2389.61,1997.83,1924.13,1809.32,1241.73,13775.96,7368.47,4428.62,4373.75,3858.6,3316.96,2571.84,2487.61,2306.56,2032.74,1890.55,1884.05,1773.84,1773.32,1636.6,1579.41,1294.01,10210.14,9378.67,4403.07,4221.44,4032.08,3710.8,3515.76,3301.84,3278.52,3080.59,2156.93,2006.51,1959.16,1810.55,1421.48,751.64,639.68,6295.59,5790.7,4804.68,4557.18,4340.85,4339.42,4304.76,4042.72,3622.23,3561.63,3514.19,3507.54,3444.33,3376.73,3310.88,2876.79,2361.4,2154.99,2027.55,1749.25,1694.8,1560.45,966.26,929.66,5645.94,5568.11,4940.29,4761.04,4753.25,4301.37,4274.19,4100.07,3366.33,3207.94,3013.36,2793.38,2586.86,2399.03,2330.31,2244.81,2147.9,2128.07,1956.04,1809.75,1803.16,1615.05,1450.11,1103.56,1021.38,598.75,3944.56,3656.91,3322.18,3237.26,2941.68,2228.87,2009.12,1934.89,1803.16,1522.46,1162.37,858.97,793.15,5303.4,4984.75,4040.14,3743.23,3633.03,3422.77,3237.3,3101.97,3085.94,3010.97,2995.61,2693.28,2678.47,2648.16,2352.9,2099.02,1974.15,1867.68,1270.92,1169.26,6604.96,5135.93,4321.04,4082.68,3878.38,3774.76,3179.43,3157.75,2865.46,2843.71,2781.18,2657.02,2333.86,2184.98,1913.06,1912.7,1710.87,1686.06,1625.96,1527.37,1308.53,877.1,848.95,6461.65,5310.49,4874.34,3741.95,3645.34,3391.52,3380.72,3239.65,2676.55,2622.16,2275.19,1962.96,1787.49,1706.37,1692.35,1310.53,916.89,900.99,4773.66,4540.07,4073.87,4069.65,3632.9,3610.93,3391.57,3180.46,3081.88,2410.96,2358.01,2350.47,2268.17,2224.84,2221.87,1718.22,1590.83,1305.87,1026.9,7122.43,5482.87,4785.24,4384.04,3801.49,3772.46,3649.97,3488.94,3431.96,3367.9,3187.52,3040.08,2971.58,2210.38,2046.87,1825.58,1755.94,1450.95,1439.85,1421.27,1338.87,1292.83,1212.51,936.0,786.91,9000.31,6927.84,5566.18,4971.71,4527.53,4234.0,4230.95,3954.79,3947.67,3571.26,3500.33,3441.31,3335.75,2859.17,2286.77,2170.5,1924.86,1757.57,1709.45,1609.33,1456.63,8610.58,4814.37,4663.6,4396.02,4007.37,3924.8,3641.11,3583.43,3179.37,2742.85,2230.41,2154.81,1964.47,1773.85,1715.12,1505.34,1293.44,947.36,4745.01,3994.89,3982.66,3934.88,3932.29,3583.55,3401.32,3320.78,3288.76,2616.82,2290.81,2116.69,2110.72,2007.97,1572.06,1389.53,1319.75,1021.0,6685.19,5549.67,5297.44,5289.72,3709.85,3411.88,3275.0,3084.03,3058.15,3036.4,2088.81,2067.83,1779.05,1668.0,1360.52,1315.09,987.68,8087.61,5430.03,4784.2,4149.89,3602.95,3190.54,2389.13,2282.97,1877.76,1804.31,1477.27,1444.37,6996.83,6483.53,6128.95,5045.39,4835.83,4541.16,3945.29,3522.44,3438.47,3393.47,3267.96,3140.78,3045.55,2965.6,2835.98,2692.94,2660.75,2520.09,2275.09,2010.27,1961.75,1878.82,1874.63,1497.13,1367.22,1306.98,16693.78,6287.51,5552.51,4229.0,3924.79,3632.08,3596.96,3018.95,2851.94,2580.27,1881.87,1851.28,1832.85,1762.81,1549.79,1469.94,1440.66,959.66,819.52,3844.6,3794.7,3699.73,3666.75,3414.26,3348.89,3220.96,2898.14,2407.14,2182.56,2097.01,2077.33,2058.85,1952.48,1900.24,1569.45,733.04,7064.83,4196.87,4176.19,3867.4,3613.27,3235.7,2509.8,1926.78,1724.24,1695.02,1680.12,1548.21,1431.02,1240.77,883.8,787.96,754.14,12898.64,5237.16,5194.48,5151.87,3494.38,3472.72,3261.83,3249.59,3090.78,2969.46,2594.5,2490.35,2225.57,2133.45,2130.96,2079.04,2034.09,1878.85,5975.13,4357.52,3623.15,3154.47,3095.16,2854.55,2783.17,2489.29,2288.78,2015.65,1985.94,1877.88,1750.31,1667.74,1551.94,1386.8,1223.7,1085.79,5886.08,5001.17,4218.76,3789.19,3536.42,3235.95,3028.05,2370.96,2152.28,2033.94,2006.86,1965.86,1923.96,1857.31,1800.11,1123.36,734.95,4426.34,4353.02,4032.03,3616.59,3257.62,3146.9,3001.64,2958.21,2338.69,1905.35,1483.82,1459.25,1260.84,988.97,957.4,8423.38,3899.27,3803.36,3543.28,3375.05,3128.71,2668.99,2026.88,2016.91,2005.8,1826.78,1810.15,1490.94,1478.51,1475.64,1121.25,975.36,5672.74,5142.93,4882.45,4258.97,4179.81,4156.76,3895.08,3837.42,2577.95,2450.3,2197.45,1983.86,1641.3,1457.66,1444.36,1359.67,1163.98,1151.24,869.96,8292.66,5160.77,4958.04,4456.87,4435.34,3502.05,3187.01,3145.87,3134.79,3021.89,2176.8,2167.76,1906.76,1890.66,1762.95,1631.36,1342.99,1314.08,1269.22,5057.07,4861.62,4405.22,3778.95,3478.81,3453.1,3220.27,2809.53,1386.88,1192.87,4898.17,4766.36,4144.42,3569.46,2918.86,2661.01,2607.54,2112.36,1924.44,1754.47,1392.81,1065.96,911.99,4846.96,4723.75,4373.9,3138.76,3124.4,2684.16,2445.41,2398.77,1604.17,1461.53,14153.58,4498.26,3881.89,2735.52,2667.52,1769.91,1726.92,1686.78,1682.03,1501.36,1481.43,817.94,720.73,6505.59,3796.64,3407.86,3215.13,3082.34,2527.69,2137.1,2083.83,1478.18,1462.85,12230.55,5027.98,4420.37,3889.59,3843.93,3112.0,3063.84,1550.61,1295.63,1004.89,5142.95,5096.45,3778.02,2679.43,2199.71,1579.85,1545.11,1401.35,1248.39,6962.8,6206.7,3859.91,2936.97,2854.15,2069.46,2014.81,1631.84,1389.85,5885.94,5252.83,4322.21,4268.78,3522.99,2679.35,2592.07,2494.67,2451.38,2134.7,1680.83,1412.07,1219.98,8874.28,6796.33,4014.06,3184.83,2809.83,2327.75,2284.78,1944.15,1840.92,1825.96,1461.16,4030.9,3529.86,3340.87,3095.27,3093.37,2511.07,2386.61,2382.69,1335.05,1248.62,845.89,34847.4,24178.97,4273.8,3908.63,3362.11,3293.14,2697.94,1681.32,1336.55,1179.05,4920.85,4895.9,4258.86,3992.53,3782.38,3576.73,3157.75,3147.23,2739.86,2329.36,2270.29,1825.32,1401.61,1094.95,752.33,4696.36,3754.5,3248.02,3218.15,3093.67,2604.37,2552.35,2084.26,2027.57,1892.09,1886.11,1443.79,1239.98,758.94,4982.03,4496.84,3870.5,3697.58,3672.51,3658.73,3586.91,3180.31,3071.65,3068.29,2763.94,2117.37,1895.71,1776.42,1013.18,7096.76,5123.76,3099.59,3037.2,2815.43,2442.37,1180.21,11349.58,4278.98,3615.0,2887.53,2592.31,2434.5,2212.93,2013.84,1979.11,1283.99,878.86,717.67,678.3,4851.06,3901.01,3380.98,3257.01,3188.92,3074.91,2754.75,2105.25,1867.74,1788.69,1486.35,1229.36,1176.37,1019.92,7163.0,3809.96,3805.47,2112.97,1428.15,1281.94,906.37,5786.92,4165.65,3632.77,3527.89,2909.83,2588.97,2445.95,2107.34,2104.72,1849.22,1775.8,1609.47,1417.0,1271.34,1172.75,15840.36,5922.88,5090.73,3768.22,3386.43,3128.46,3044.29,2912.01,2682.75,1960.08,1741.2,6137.82,5490.75,4557.89,3614.05,3086.19,2892.48,2747.8,2540.77,2446.51,2387.04,1804.14,1080.95,880.02,7874.51,5949.74,3638.58,3342.95,3072.14,2850.87,2776.41,1740.34,1291.86,1183.83,809.18,6317.17,4081.49,3578.94,3332.26,3315.21,3026.71,2652.48,2564.39,2547.46,2012.43,1650.15,1639.22,6022.3,4465.42,4005.69,3746.01,3604.93,3257.84,2605.64,1679.56,1484.02,1462.46,1398.35,1003.32,758.71,5508.12,4228.92,3516.61,3411.37,3327.96,3281.03,3254.05,2992.8,2981.19,2819.95,2540.56,2417.04,1763.15,1617.74,1437.26,1053.16,5245.81,4172.93,4031.1,3679.62,3643.01,3346.94,2990.45,2552.8,2130.07,1984.3,1956.25,1699.96,1646.13,1411.08,1390.43,1263.98,852.93,5162.92,4261.88,3163.49,2690.05,2614.42,2055.51,2036.66,1945.86,1925.43,1500.34,1055.46,939.15,4960.41,4788.41,3423.09,2979.05,2579.08,2430.41,1458.8,1394.26,809.84,6265.99,4735.86,4592.1,4165.86,4097.22,3744.11,2185.62,2183.87,2162.76,2066.39,1890.8,1727.76,1724.95,1682.96,1457.32,1300.07,962.87,4856.92,4215.18,4009.41,3993.66,3815.16,3764.5,3322.88,3271.97,3220.88,3167.16,3166.94,3041.83,2526.73,1582.46,1131.54,1079.08,1061.95,900.29,8821.84,1979.92,1510.86,1296.65,1288.22,1205.93,1024.2,10364.66,4052.63,2718.89,2588.43,1825.24,1819.46,1758.78,1545.89,1480.83,1428.85,1072.56,908.58,5840.36,3992.89,3802.62,3670.47,3284.44,2586.85,2354.04,2298.68,2186.71,1900.35,1510.49,1271.46,1270.32,1034.8,977.77,8649.29,3964.49,3502.73,3427.02,3363.87,3258.52,3227.07,3092.24,2883.05,2515.6,2285.8,2207.57,1748.19,1651.34,1594.73,1432.92,1403.4,891.87,4966.92,4329.89,4168.01,4123.53,3986.97,3621.37,3295.47,2132.86,1656.95,1201.48,8530.77,3252.47,3015.81,2066.04,1311.46,1249.1,1219.23,897.86,7664.16,3072.21,2441.96,2238.56,2178.33,1605.89,1274.88,1068.86,966.7,6016.91,5931.42,3815.21,3474.12,3217.91,2659.43,2615.31,2476.3,2223.1,1109.87,1027.89,4571.49,4178.61,3038.94,2454.2,2184.87,2126.35,1564.36,1217.14,1058.16,1051.88,3840.17,3578.72,3398.3,2576.83,2233.56,2072.18,1715.8,6683.75,6061.5,4902.56,4112.21,3445.19,3095.83,2896.7,1901.25,1867.85,1390.87,1348.85,1067.85,5396.85,4133.73,2441.16,2120.24,1735.03,1695.37,1680.26,1465.97,4740.99,3818.25,3672.75,2781.78,2291.27,2220.33,2053.81,1989.39,1557.87,1513.85,1150.49,5718.78,5139.45,3413.67,3208.98,2341.17,2235.5,1750.79,1515.46,1108.26,957.34,10242.0,8261.65,7827.92,3172.14,3036.87,2459.35,2366.8,2250.5,1989.83,1883.14,1792.0,1103.97,3298.85,2622.71,2262.11,2247.82,1800.18,1747.06,1635.65,1436.86,1425.83,1187.91,5138.59,3832.92,2998.79,2257.33,2023.85,1891.79,1886.19,1756.03,1676.7,1591.66,1576.07,1546.84,1017.64,1016.9,863.87,623.11,5219.97,3640.1,3626.26,2922.55,2111.84,2106.86,1639.02,1578.95,1497.21,1365.35,1190.36,6217.61,5578.74,3469.06,2837.73,2491.86,2333.65,1614.78,1408.84,1397.36,1327.46,5819.09,4915.13,3884.55,3778.87,3509.32,2264.69,1999.49,1870.95,1133.86,1114.78,12940.0,3614.23,3488.19,3457.05,3137.67,2717.28,2120.22,1519.51,1443.84,1017.39,1003.79,932.76,32486.98,5439.47,3176.45,3125.86,2062.43,1958.0,1815.41,1588.05,1411.54,1112.11,829.54,8924.16,7420.83,3830.11,3701.87,2852.06,1869.34,1611.46,1290.37,1164.88,8088.62,4242.67,3360.92,2702.14,1961.4,1620.91,1434.9,4395.67,3048.57,2725.56,1069.5,995.47,11127.82,5399.94,3880.3,3354.91,3321.09,2727.51,2630.37,2564.11,1402.23,1102.79,915.98,5667.4,4920.05,4841.68,4224.12,4150.17,3797.83,3495.65,2530.55,1507.87,1447.4,1356.16,943.2,7066.32,4034.96,4005.16,3967.02,3431.25,3307.93,3206.01,2581.88,1849.76,1661.22,1625.75,1587.8,1118.38,851.82,8485.4,6786.96,6086.25,4466.88,3496.03,2982.98,2041.74,1450.14,1420.96,1329.86,1018.81,926.83,4222.77,2785.51,2663.3,2423.79,1648.58,1637.56,1396.87,1326.41,5833.92,5083.12,5056.45,3378.51,3216.33,2556.79,2516.09,2370.58,2245.18,1035.23,995.52,884.58,757.36,5130.41,3978.67,3207.96,2460.46,1742.86,1393.85,1384.82,1123.08,958.93,5013.97,4783.34,4417.95,4038.58,3030.74,1270.05,1076.55,859.91,532.69,5506.03,5000.97,4639.01,4060.84,3804.94,3623.29,2805.2,2638.56,2514.59,2444.02,1498.24,1263.62,7185.17,3244.22,2672.06,2160.07,2037.91,1988.48,1771.75,1659.89,1534.32,1392.67,1207.96,1207.35,998.97,6981.68,3271.48,3143.81,2941.92,2411.52,2407.02,2340.82,2164.85,1880.42,1777.8,1510.96,7361.44,6346.36,2673.86,2578.78,1922.27,1890.85,1867.1,1619.84,1433.46,1176.06,1041.67,931.81,4675.87,3857.2,3688.68,3126.47,3065.36,2808.83,2760.0,2620.27,1920.96,1681.21,1549.85,1406.2,1155.29,1011.9,9281.38,6163.77,3279.01,3004.44,2666.67,1990.44,1969.95,1909.42,1746.09,1655.88,1423.85,1372.49,14526.72,13653.62,5599.75,3986.23,3722.74,3304.76,3190.6,2837.88,2608.91,2378.43,1878.4,1873.43,1079.12,784.48,5309.67,4317.75,2764.31,2034.37,1988.86,1953.45,1760.94,1735.47,1316.57,1153.55,13155.89,4285.9,4208.82,4195.87,3813.88,3282.55,2583.35,2559.82,2491.24,1569.05,621.34,6125.76,4852.21,4104.62,3407.86,2383.72,2063.86,1658.46,1319.85,15999.94,4151.28,3884.86,2206.37,2032.56,1868.14,1549.02,1425.72,1131.73,3937.16,3679.65,2146.04,1837.15,1800.05,1718.86,1600.63,1355.88,1211.03,1190.98,11402.66,4329.94,3459.83,2478.07,1567.87,1211.41,3347.63,3043.7,2266.02,2217.64,1614.48,1573.81,1049.38,5764.56,3804.46,2848.56,2627.84,1337.36,5797.76,5358.28,4604.26,4055.97,3991.36,3780.39,3609.33,3346.16,2495.48,2287.42,1994.05,1360.72,1098.7,5716.13,3647.9,3409.38,2293.65,2185.66,1606.47,1394.81,1131.78,714.32,5707.53,3872.33,3327.4,3134.29,3128.88,1701.01,1235.81,1107.43,7041.4,5157.79,3861.1,3199.37,3132.64,2620.4,2217.35,2073.76,1097.46,1056.55,3673.94,3547.9,3312.91,3237.85,2274.96,1738.76,1106.56,1069.04,6634.07,2660.03,2635.94,1230.14,3032.95,2670.68,2099.06,1772.2,1656.57,1629.36,924.54,916.14,8548.18,2580.78,2492.54,2201.17,2143.24,2114.41,1429.55,1151.05,8668.14,5169.2,4981.15,4589.92,3288.87,2438.56,2307.96,2038.56,1448.1,1229.53,832.08,714.99,16884.99,6241.98,5331.63,4126.06,3473.12,2850.73,2131.67,2112.64,2086.62,2067.86,2060.51,1757.82,1090.57,9823.94,9172.22,6314.83,5089.87,4648.68,4444.72,3896.27,3796.62,2624.99,2506.85,2318.24,1876.94,1868.84,1706.04,1514.3,1401.3,1358.67,1312.66,1259.04,1255.78,728.05,5225.49,4667.37,3243.01,1927.77,1494.52,1211.8,1172.31,1153.42,1065.3,5746.05,3277.57,2772.17,2132.39,1519.08,2151.2,2099.52,4927.35,3760.85,1866.45,1645.87,1214.12,1109.31,7895.44,3181.86,2438.96,2093.0,1946.28,1892.66,1400.06,1390.86,793.87,3614.92,3483.11,3297.86,3104.51,2939.87,1771.07,2696.87,2169.85,1340.75,10254.36,5838.1,799.46,6977.93,3844.88,3204.19,3044.81,3002.7,2913.36,2801.34,1715.05,1673.22,1330.0,4993.54,4519.27,3953.92,3566.69,3060.25,2804.37,2797.49,1044.96,2677.28,2269.57,999.31,7438.61,1987.82,1918.05,1893.84,3230.43,3191.18,2765.65,2005.67,1500.12,1232.13,1130.66,4605.97,3851.88,2663.44,1588.56,1408.87,4735.66,4048.07,3977.64,2470.43,2255.07,1160.94,1144.85,933.85,11661.81,3603.35,2429.56,2338.81,1962.22,747.43,5458.29,2324.84,1851.86,1348.1,3719.98,2372.62,1711.64,1544.36,1524.75,1274.56,5557.64,4659.65,4338.84,3836.51,3065.07,2167.25,1788.85,1185.69,718.93,2116.63,1873.37,1513.93,1423.97,8605.24,6324.41,4274.77,3811.97,2405.84,2349.48,2251.16,1978.87,1454.95,1371.81,2627.49,2354.89,2117.2,1881.53,4267.64,3531.05,3338.99,2551.77,1314.98,13355.0,5328.9,2438.28,1165.92,4685.59,4495.04,3197.14,2791.36,2625.06,2608.84,2121.87,1177.97,4624.81,1950.95,840.32,1453.64,1160.91,739.15,4802.86,4209.33,3818.15,2881.45,2225.07,1062.08,952.87,3099.13,2192.84,2058.81,1092.94,3872.15,2690.0,2521.21,3637.1,2044.94,1571.34,8046.41,1525.77,4161.93,3177.95,2460.26,1727.05,1158.57,3571.96,3276.96,2397.42,2222.74,1723.64,8215.9,4755.26,4351.48,4045.18,4000.98,3411.59,2388.15,1839.75,1274.44,1228.35,3090.94,2872.27,2595.41,1582.84,1344.16,762.16,4838.73,3893.24,3861.49,3618.84,3078.86,3926.38,3232.75,3746.04,3574.68,3262.21,3034.24,3077.01,2777.44,2538.22,2165.72,1876.25,1611.16,3415.08,2524.83,2125.89,1664.32,1227.57,3879.26,3048.46,2198.47,821.87,4629.98,3656.98,2897.37,2471.66,5279.61,3763.3,3757.02,3236.79,1513.1,4685.73,3011.86,2405.76,2200.87,898.61,5455.86,4926.14,4142.87,2036.95,1465.61,1402.47,1224.57,1099.76,3462.34,2469.27,2137.25,2105.9,1688.32,3860.69,3796.33,3253.89,3130.85,2792.55,2316.8,2037.44,3760.89,3480.3,3295.1,2952.23,2026.86,1442.06,1390.99,6055.55,5815.31,3197.73,2779.22,740.87,3894.12,3047.74,2015.25,1743.85,998.07,5842.3,3396.95,1964.78,1406.01,977.45,11225.6,3802.72,3624.75,1866.76,1178.35,1079.39,2496.89,1656.24,1520.68,1266.15,3257.24,2121.84,923.34,2329.12,1823.12,1678.03,886.97,8969.73,3791.96,1164.92,6461.05,4077.06,1716.88,3766.73,3047.94,1895.83,2609.37,2104.86,4189.0,3840.4,3279.83,4738.49,3406.45,2690.89,2203.19,1846.84,1567.47,1525.47,1168.95,994.21,789.43,4685.89,3572.86,3246.0,2770.87,2142.07,951.14,2536.35,1628.84,3186.96,3180.91,4337.32,3167.16,2758.07,2248.69,1719.97,1183.33,2873.0,2145.45,4449.84,1346.86,925.98,7160.0,2929.21,1651.85,1310.33,978.93,803.91,6753.17,3360.93,3048.76,3029.62,2955.23,1662.86,1197.36,2684.78,2590.87,1372.03,1357.57,2576.87,2495.51,2346.88,2335.18,1981.59,1903.73,1824.44,1748.68,1748.65,1601.96,1581.01,1537.86,1533.78,1490.92,1485.48,1413.05,1326.33,1205.86,1169.43,1151.14,1100.41,1054.94,1049.35,1045.84,994.72,901.3,882.52,855.62,844.54,823.82,791.47,763.09],\"yaxis\":\"y\",\"type\":\"scattergl\"},{\"hovertemplate\":\"Cluster=Cluster0<br>Recency=%{x}<br>Monetary=%{y}<extra></extra>\",\"legendgroup\":\"Cluster0\",\"marker\":{\"color\":\"#EF553B\",\"symbol\":\"circle\"},\"mode\":\"markers\",\"name\":\"Cluster0\",\"showlegend\":true,\"x\":[1,1,1,1,1,1,1,1,1,1,1,1,1,1,1,1,1,1,1,1,1,1,1,1,1,1,1,1,1,1,1,1,1,1,1,1,1,1,1,1,1,1,1,1,1,1,1,1,1,1,1,1,1,1,1,1,1,1,1,1,1,1,1,1,1,1,1,1,1,1,1,1,1,1,1,1,1,1,1,1,1,1,1,1,1,1,1,1,1,1,1,1,1,1,1,1,1,1,1,1,1,1,1,1,1,1,1,1,1,1,1,1,1,1,1,1,1,1,1,1,1,1,1,1,1,1,1,1,1,1,1,1,1,1,1,1,1,1,1,1,1,1,1,1,1,1,1,1,1,1,1,1,1,1,1,1,1,1,1,1,1,1,1,1,1,1,1,1,1,1,1,1,1,1,1,1,1,1,1,1,1,1,1,1,1,1,1,1,1,1,1,1,1,1,1,1,1,1,1,1,1,1,1,1,1,1,1,1,1,1,1,1,1,1,1,1,1,1,1,1,1,1,1,1,1,1,1,1,1,1,1,1,1,1,1,1,1,1,1,1,1,1,1,1,1,1,1,1,1,1,1,1,1,1,1,1,1,1,1,1,1,1,1,1,1,1,1,1,1,1,1,1,1,1,1,1,1,1,1,1,1,1,1,1,1,1,1,1,1,1,1,1,1,1,1,1,1,1,1,1,1,1,1,1,1,1,1,1,1,1,1,1,1,1,1,1,1,1,1,1,1,1,1,1,1,1,1,1,1,1,1,1,1,1,1,1,1,1,1,1,1,1,1,1,1,1,1,1,1,1,1,1,1,1,1,1,1,1,1,1,1,1,1,1,1,1,1,1,1,1,1,1,1,1,1,1,1,1,1,1,1,1,1,1,1,1,1,1,1,1,1,1,1,1,1,1,1,1,1,1,1,1,1,1,1,1,1,1,1,1,1,1,1,1,1,1,1,1,1,1,1,1,1,1,1,1,1,1,1,1,1,1,1,1,1,1,1,1,1,1,1,1,1,1,1,1,1,1,1,1,1,1,1,1,1,1,1,1,1,1,1,1,1,1,1,1,1,1,1,1,1,1,1,1,1,1,1,1,1,1,1,1,1,1,1,1,1,1,1,1,1,1,1,1,1,1,1,1,1,1,1,1,1,1,1,1,1,1,1,1,1,1,1,1,1,1,1,1,1,1,1,1,1,1,1,1,1,1,1,1,1,1,1,1,1,1,1,1,1,1,1,1,1,1,1,1,1,1,1,1,1,1,1,1,1,1,1,1,1,1,1,1,1,1,1,1,1,1,1,1,1,1,1,1,1,1,1,1,1,1,1,1,1,1,1,1,1,1,1,1,1,1,1,1,1,1,1,1,1,1,1,1,1,1,1,1,1,1,1,1,1,1,1,1,1,1,1,1,1,1,1,1,1,1,1,1,1,1,1,1,1,1,1,1,1,1,1,1,1,1,1,1,1,1,1,1,1,1,1,1,1,1,1,1,1,1,1,1,1,1,1,1,1,1,1,1,1,1,1,1,1,1,1,1,1,1,1,1,1,1,1,1,1,1,1,1,1,1,1,1,1,1,1,1,1,1,1,1,1,1,1,1,1,1,1,1,1,1,1,1,1,1,1,1,1,1,1,1,1,1,1,1,1,1,1,1,1,1,1,1,1,1,1,1,1,1,1,1,1,1,1,1,1,1,1,1,1,1,1,1,1,1,1,1,1,1,1,1,1,1,1,1,1,1,1,1,1,1,1,1,1,1,1,1,1,1,1,1,1,1,1,1,1,1,1,1,1,1,1,1,1,1,1,1,1,1,1,1,1,1,1,1,1,1,1,1,1,1,1,1,1,1,1,1,1,1,1,1,1,1,1,1,1,1,1,1,1,1,1,1,1,1,1,1,1,1,1,1,1,1,1,1,1,1,1,1,1,1,1,1,1,1,1,1,1,1,1,1,1,1,1,1,1,1,1,1,1,1,1,1,1,1,1,1,1,1,1,1,1,1,1,1,1,1,1,1,1,1,1,1,1,1,1,1,1,1,1,1,1,1,1,1,1,1,1,1,1,1,1,1,1,1,1,1,1,1,1,1,1,1,1,1,1,1,1,1,1,1,1,1,1,1,1,1,1,1,1,1,1,1,1,1,1,1,1,1,1,1,1,1,1,1,1,1,1,1,1,1,1,1,1,1,1,1,1,1,1,1,1,1,1,2,2,2,2,2,2,2,3,3,3,3,4,4,4,5,5,5,5,5,5,6,6,6,6,6,6,7,7,7,7,8,8,8,8,8,8,8,9,9,10,10,11,11,11,11,12,12,12,12,13,14,14,14,14],\"xaxis\":\"x\",\"y\":[2612.35,2604.78,2402.91,2327.53,2125.67,2024.43,2004.09,1999.14,1957.14,1931.17,1924.96,1924.86,1905.12,1886.04,1879.72,1858.95,1857.86,1813.31,1796.57,1790.97,1757.96,1748.81,1744.81,1726.06,1718.92,1718.6,1699.95,1697.25,1692.57,1682.96,1681.8,1672.6,1640.34,1633.95,1626.43,1625.12,1623.52,1622.99,1614.57,1613.09,1596.22,1594.25,1586.89,1581.2,1576.93,1572.48,1565.06,1562.71,1545.98,1535.92,1512.28,1510.61,1509.56,1507.0,1493.69,1488.12,1487.25,1486.75,1481.97,1480.13,1478.94,1473.48,1472.99,1462.66,1460.55,1452.6,1445.88,1436.5,1432.95,1401.03,1399.86,1386.05,1377.96,1377.61,1376.5,1371.45,1361.93,1344.09,1335.87,1329.08,1320.93,1313.77,1296.68,1282.94,1277.51,1264.93,1259.07,1253.25,1250.0,1247.96,1246.96,1245.2,1234.98,1216.0,1208.48,1207.05,1203.19,1198.84,1193.14,1188.96,1179.83,1178.44,1177.95,1177.76,1177.76,1175.98,1172.97,1169.14,1167.64,1166.0,1158.13,1155.97,1137.39,1134.88,1132.77,1130.88,1123.4,1121.43,1115.04,1107.34,1106.97,1087.21,1083.97,1082.93,1068.37,1061.03,1060.45,1056.0,1049.22,1039.5,1039.48,1032.7,1031.98,1029.83,1029.0,1026.03,1020.97,1017.52,1016.99,1013.95,1009.43,1005.33,1002.8,991.74,991.01,986.58,982.45,975.37,975.37,970.94,968.07,964.9,959.91,959.87,957.1,945.7,945.0,941.39,935.99,931.97,928.77,925.0,923.4,919.49,912.74,910.99,909.75,908.93,906.41,905.99,905.99,901.87,898.07,896.09,895.67,893.76,892.97,892.09,888.82,887.99,880.96,878.58,878.36,877.57,875.8,875.25,874.96,873.99,873.48,867.96,862.42,856.75,851.68,849.58,849.54,846.75,845.37,844.64,838.25,836.0,832.98,829.25,824.97,821.78,821.26,820.99,820.96,819.98,819.47,816.88,816.78,810.98,809.1,804.18,799.18,797.99,797.32,795.95,795.0,792.08,791.0,790.5,789.91,784.69,783.21,776.99,771.86,769.6,764.39,763.95,759.98,756.37,752.97,748.98,743.93,742.21,741.98,739.61,734.99,732.22,731.97,731.65,731.06,726.49,722.24,719.67,716.0,714.96,713.96,711.16,710.83,710.66,708.46,707.28,706.83,693.58,690.0,690.0,683.63,683.53,680.95,679.96,678.52,674.98,674.96,672.65,671.72,667.45,666.34,665.62,663.92,663.75,662.32,660.99,659.97,658.13,656.74,656.01,655.0,652.38,648.94,648.93,643.94,642.97,642.21,640.04,639.3,639.03,638.98,636.65,635.4,634.93,631.97,631.76,630.46,623.99,622.97,617.96,617.13,616.99,613.74,612.0,609.97,606.91,606.65,604.55,604.24,600.51,598.95,597.46,595.4,594.06,593.97,591.96,589.71,589.05,586.15,585.28,584.95,581.5,579.95,579.75,578.74,578.44,577.53,576.97,573.97,573.05,572.93,571.08,570.97,570.47,570.0,566.82,559.13,558.46,557.97,557.6,556.63,556.45,556.12,555.98,555.96,554.66,553.9,550.49,549.99,549.82,548.97,548.97,547.97,547.49,544.92,544.22,543.48,543.23,539.97,539.09,538.99,537.97,535.98,535.97,533.95,533.79,533.35,532.25,531.25,530.0,527.99,527.81,525.99,525.87,524.08,523.9,522.23,519.97,519.96,519.96,519.24,518.99,517.48,517.27,517.17,516.99,516.96,516.49,513.73,513.43,512.02,509.63,508.67,502.96,502.24,501.57,499.07,498.24,496.47,496.26,495.73,495.23,493.49,491.51,490.22,488.99,486.99,483.99,483.59,482.97,482.8,481.75,480.98,480.0,479.59,479.0,478.99,477.63,477.38,476.98,474.96,473.99,473.96,464.99,463.73,463.25,463.25,462.97,462.07,459.97,458.19,456.12,455.97,455.24,455.0,453.98,451.92,451.89,449.47,448.42,448.25,445.98,445.95,443.99,443.55,443.21,443.09,440.78,439.62,436.5,435.08,434.95,434.11,430.59,429.8,428.97,428.86,428.45,426.5,425.13,424.73,424.06,423.69,421.79,420.69,419.96,418.98,418.95,418.49,415.65,413.99,412.34,411.07,410.36,408.39,408.18,407.88,407.49,407.38,407.06,406.6,406.0,404.26,401.98,401.37,401.0,400.99,399.92,398.47,398.3,397.87,395.99,395.48,394.98,394.97,394.49,393.73,392.06,391.99,391.0,390.78,389.99,389.21,388.96,388.74,388.49,386.99,386.64,383.18,381.17,380.99,379.39,378.31,377.98,377.74,377.27,376.97,376.62,376.25,375.0,375.0,374.99,374.0,374.0,373.99,373.88,373.28,372.99,372.98,371.97,371.57,371.23,370.98,370.97,369.99,369.99,369.98,369.32,367.51,367.24,366.97,365.95,365.0,364.59,364.0,363.98,363.5,363.18,362.74,359.98,359.0,358.75,357.48,357.0,356.78,356.47,355.98,354.98,354.98,354.98,354.49,352.57,352.49,351.98,351.97,351.09,351.08,350.96,350.23,349.31,349.2,349.13,349.01,348.5,348.27,347.48,345.99,345.5,344.97,344.29,344.25,344.25,340.98,340.28,339.99,339.99,339.97,339.45,338.97,337.97,337.63,337.07,336.98,336.5,336.48,336.0,335.99,335.75,335.73,334.96,334.9,334.0,332.62,332.29,329.99,329.94,328.75,327.98,326.98,326.83,326.47,325.97,325.84,325.5,325.0,324.99,324.99,323.98,321.99,321.8,320.48,319.75,318.99,318.98,317.99,317.78,316.87,316.49,315.42,315.15,315.0,314.98,314.48,314.19,313.67,312.14,311.98,311.48,311.1,310.98,309.97,309.12,308.45,308.18,307.97,307.38,306.98,305.18,305.18,304.98,304.13,304.07,303.99,303.99,302.8,302.64,301.98,301.87,300.98,300.98,299.73,299.0,298.95,297.99,297.5,297.5,297.5,297.46,297.24,296.46,296.0,295.38,294.99,294.98,293.97,293.75,293.74,293.44,292.99,292.99,292.08,291.99,291.98,291.98,291.48,290.43,290.0,289.98,289.0,289.0,286.89,285.99,285.99,284.99,284.98,284.98,283.99,283.99,283.71,282.99,281.96,281.78,280.29,280.24,280.14,280.0,279.98,279.8,279.65,279.0,278.98,278.46,278.24,278.0,277.98,276.25,275.74,275.48,275.27,274.9,273.93,273.7,272.99,272.98,272.72,271.99,271.98,271.67,271.48,271.48,270.93,270.59,270.0,269.99,268.74,268.48,267.75,267.68,267.24,266.98,266.64,266.29,266.13,266.09,265.99,265.0,264.98,264.07,262.98,262.65,261.99,261.98,261.72,261.53,261.0,260.73,260.64,259.98,259.98,259.97,259.96,259.78,258.1,258.08,257.97,257.8,256.98,256.47,255.94,255.3,255.0,255.0,254.98,254.15,253.98,253.43,253.15,251.57,250.97,250.63,250.0,250.0,249.97,248.08,247.99,247.5,247.48,246.98,245.98,244.98,244.97,243.38,243.0,242.25,241.98,241.53,239.98,239.0,239.0,239.0,238.99,238.98,238.89,238.67,238.0,237.15,237.08,235.99,235.99,235.99,235.74,235.73,235.49,234.6,232.99,232.9,231.99,231.97,231.76,231.07,230.99,230.98,230.27,230.0,230.0,229.99,229.14,228.97,228.0,227.98,227.8,227.07,225.97,225.49,225.0,224.98,224.19,223.48,223.22,222.65,222.38,222.24,221.89,221.82,221.46,221.0,220.99,220.98,220.89,220.74,220.15,220.0,220.0,219.99,219.99,219.98,219.0,219.0,218.97,218.49,218.45,218.0,217.99,217.94,216.99,216.99,215.99,215.88,215.0,215.0,214.99,214.99,214.5,214.0,213.79,212.96,212.5,212.5,212.5,211.49,210.0,210.0,210.0,210.0,210.0,210.0,209.99,209.5,209.48,207.99,207.98,207.15,207.09,206.94,205.99,205.24,205.0,205.0,204.99,204.0,204.0,204.0,203.65,203.19,203.0,202.64,202.48,202.12,201.99,201.99,201.99,201.99,201.56,201.08,201.0,200.0,200.0,200.0,199.99,199.98,199.75,198.99,198.99,198.98,198.9,198.17,197.48,196.97,196.75,195.99,195.99,195.99,195.99,195.98,195.97,195.5,194.99,194.97,193.99,193.99,192.95,192.74,192.0,191.98,191.47,191.25,191.25,191.13,190.99,190.98,190.97,190.62,190.0,190.0,189.99,189.99,189.89,189.0,188.37,188.0,188.0,187.98,187.0,187.0,187.0,186.99,186.99,186.17,185.49,185.3,185.3,184.99,93.1,3412.0,1532.16,756.45,427.83,372.58,336.68,250.75,1974.47,538.41,465.33,343.93,433.37,206.45,124.94,1212.67,771.49,539.94,469.01,387.73,339.65,756.41,722.95,592.9,521.2,370.84,359.55,1018.94,712.64,323.94,320.5,1036.69,823.96,765.19,713.17,653.74,499.15,267.52,903.99,207.35,717.45,551.02,540.26,439.76,418.34,230.02,1126.4,581.94,536.95,253.48,368.77,1183.0,596.2,521.16,400.46],\"yaxis\":\"y\",\"type\":\"scattergl\"},{\"hovertemplate\":\"Cluster=Cluster2<br>Recency=%{x}<br>Monetary=%{y}<extra></extra>\",\"legendgroup\":\"Cluster2\",\"marker\":{\"color\":\"#00cc96\",\"symbol\":\"circle\"},\"mode\":\"markers\",\"name\":\"Cluster2\",\"showlegend\":true,\"x\":[8,12,12,12,13,13,13,15,15,15,15,16,16,17,17,17,18,19,19,19,19,19,20,20,21,21,21,22,22,23,24,24,24,25,25,25,25,25,25,26,26,26,26,27,27,27,27,28,28,28,28,29,29,30,30,31,31,31,31,32,33,33,34,34,35,35,36,36,38,39,39,39,40,40,40,40,40,41,43,43,43,43,43,45,45,45,45,45,46,46,46,46,47,47,47,47,48,49,49,50,50,53,53,53,54,54,54,54,55,55,55,55,56,56,57,57,58,58,60,60,60,60,61,61,62,63,63,64,64,64,64,64,64,64,64,65,65,66,67,68,68,68,69,69,69,70,71,71,71,71,72,72,73,73,73,73,73,73,74,74,74,74,75,75,75,75,75,76,76,76,76,76,76,77,77,77,77,78,78,78,79,79,79,79,80,81,81,82,83,83,84,84,84,84,84,84,85,85,85,85,85,86,86,86,87,87,88,88,88,89,89,90,90,90,91,91,91,91,91,92,92,93,93,94,94,94,95,96,97,97,97,97,97,97,98,98,98,98,98,99,99,99,100,100,101,101,101,101,102,102,102,103,103,103,103,103,103,104,104,105,105,106,106,106,106,107,107,107,107,107,107,108,109,109,109,110,111,111,111,111,111,111,111,111,112,112,113,113,114,114,114,114,114,115,115,115,116,116,116,116,116,116,116,116,117,117,117,117,117,117,118,118,118,118,119,119,119,119,119,120,120,120,120,121,121,121,121,122,122,122,122,122,123,123,123,123,123,124,124,124,124,124,124,124,125,125,125,125,126,126,126,126,127,127,127,127,127,127,128,128,128,128,128,128,128,128,129,129,129,129,130,130,130,130,130,130,130,130,130,131,131,131,131,131,131,131,131,132,132,132,132,133,133,134,134,134,135,135,135,136,137,137,137,137,137,138,138,138,140,140,140,141,142,143,143,144,144,144,145,145,146,146,146,147,148,148,149,150,150,150,150,150,150,152,152,152,152,152,152,153,153,153,153,154,154,154,154,155,155,155,156,156,156,156,156,157,157,157,158,158,158,158,158,159,159,159,160,161,161,162,163,163,163,164,165,165,166,166,166,166,166,167,167,168,169,169,169,170,170,170,170,171,171,171,171,171,171,171,171,172,172,172,172,172,172,172,173,173,173,173,173,173,173,174,174,174,174,175,175,175,176,176,176,177,177,177,177,177,178,178,178,178,178,178,178,179,179,180,181,181,181,181,181,181,182,183,183,183,183,183,183,184,184,185,185,186,187,188,188,188,189,190,190,191,191,191,192,192,192,193,193,194,194,195,196,197,197,197,197,199,200,200,201,201,201,201,202,202,203,203,203,204,204,204,205,205,205,206,207,207,207,207,207,207,207,207,207,207,207,207,207,207,207,207,207,207,207,207,207,207,207,207,207,207,207,207,207,207,207,207,207,207,207,207,207,207,207,207,207,207,207,207,207,207,207,207,207,207,207,207,207,207,207,207,207,207,207,207,207,207,207,207,207,207,207,207,207,207,207,207,207,207,207,207,207,207,207,207,207,207,207,207,207,207,207,207,207,207,207,207,207,207,207,207,207,207,207,207,207,207,207,207,207,207,207,207,207,207,207,207,207,207,207,207,207,207,207,207,207,207,207,207,207,207,207,207,207,207,207,207,207,207,207,207,207,207,207,207,207,207,207,207,207,207,207,207,207,207,207,207,207,207,207,207,207,207,207,207,207,207,207,207,207,207,207,207,207,207,207,207,207,207,207,207,207,207,207,207,207,207,207,207,207,207,207,207,207,207,207,207,207,207,207,207,207,207,207,207,207,207,207,207,207,207,207,207,207,207,207,207,207,207,207,207,207,207,207,207,207,207,207,207,207,207,207,207,207,207,207,207,207,207,207,207,207,207,207,207,207,207,207,207,207,207,207,207,207,207,207,207,207,207,207,207,207,207,207,207,207,207,207,207,207,207,207,207,207,207,207,207,207,207,207,207,207,207,207,207,207,207,207,207,207,207,207,207,207,207,207,207,207,207,207,207,207,207,207,207,207,207,207,207,207,207,207,207,207,207,207,207,207,207,207,207,207,207,207,207,207,207,207,207,207,207,207,207,207,207,207,207,207,207,207,207,207,207,207,207,207,207,207,207,207,207,207,207,207,207,207,207,207,207,207,207,207,207,207,207,207,207,207,207,207,207,207,207,207,207,207,207,207,207,207,207,207,207,207,207,207,207,207,207,207,207,207,207,207,207,207,207,207,207,207,207,207,207,207,207,207,207,207,207,207,207,207,207,207,207,207,207,207,207,207,207,207,207,207,207,207,207,207,207,207,207,207,207,207,207,207,207,207,207,207,207,207,207,207,207,207,207,207,207,207,207,207,207,207,207,207,207,207,207,207,207,207,207,207,207,207,207,207,207,207,207,207,207,207,207,207,207,207,207,207,207,207,207,207,207,207,207,207,207,207,207,207,207,207,207,207,207,207,207,207,207,207,207,207,207,207,207,207,207,207,207,207,207,207,207,207,207,207,207,207,207,207,207,207,207,207,207,207,207,207,207,207,207,207,207,207,207,207,207,207,207,207,207,207,207,207,207,207,207,207,207,207,207,207,207,207,207,207,207,207,207,207,207,207,207,207,207,207,207,207,207,207,207,207,207,207,207,207,207,207,207,207,207,207,207,207,207,207,207,207,207,207,207,207,207,207,207,207,207,207,207,207,207,207,207,207,207,207,207,207,207,207,207,207,207,207,207,207,207,207,207,207,207,207,207,207,207,207,207,207,207,207,207,207,207,207,207,207,207,207,207,207,207,207,207,207,207,207,207,207,207,207,207,207,207,207,207,207,207,207,207,207,207,207,207,207,207,207,207,207,207,207,207,207,207,207,207,207,207,207,207,207,207,207,207,207,207,207,207,207,207,207,207,207,207,207,207,207,207,207,207,207,207,207,207,207,207,207,207,207,207,207,207,207,207,207,207,207,207,207,207,207,207,207,207,207,207,207,207,207,207,207,207,207,207,207,207,207,207,207,207,207,207,207,207,207,207,207,207,207,207,207,207,207,207,207,207,207,207,207,207,207,207,207,207,207,207,207,207,207,207,207,207,207,207,207,207,207,207,207,207,207,207,207,207,207,207,207,207,207,207,207,207,207,207,207,207,207,207,207,207,207,207,207,207,207,207,207,207,207,207,207,207,207,207,207,207,207,207,207,207,207,207,207,207,207,207,207,207,207,207,207,207,207,207,207,207,207,207,207,207,207,207,207,207,207,207,207,207,207,207,207,207,207,207,207,207,207,207,207,207,207,207,207,207,207,207,207,207,207,207,207,207,207,207,207,207,207,207,207,207,207,207,207,207,207,207,207,207,207,207,207,207,207,207,207,207,207,207,207,207,207,207,207,207,207,207,207,207,207,207,207,207,207,207,207,207,207,207,207,207,207,207,207,207,207,207,207,207,207,207,207,207,207,207,207,207,207,207,207,207,207,207,207,207,207,207,207,207,207,207,207,207,207,207,207,207,207,207,207,207,207,207,207,207,207,207,207,207,207,207,207,207,207],\"xaxis\":\"x\",\"y\":[85.05,256.84,175.1,158.95,187.44,182.6,149.88,522.5,519.98,511.44,408.89,261.94,225.45,633.95,457.87,210.99,467.74,597.99,471.94,406.71,270.99,173.95,299.95,198.09,604.18,322.67,236.65,646.0,270.95,633.98,679.17,532.99,149.15,542.64,455.92,433.15,329.01,235.95,166.99,906.54,615.03,283.95,202.99,738.92,460.36,334.18,186.14,628.75,447.14,348.0,263.98,608.69,402.94,439.39,72.7,1156.49,552.0,454.99,445.58,405.2,694.78,232.7,343.69,175.0,313.39,294.95,358.93,273.54,365.59,503.89,466.07,241.44,734.92,671.89,608.5,590.2,279.64,789.29,650.48,629.32,549.03,356.1,135.0,1064.0,492.55,476.9,395.93,370.5,613.96,444.4,222.09,111.19,494.89,491.28,157.74,72.94,969.14,644.93,239.94,244.14,112.99,272.3,235.5,232.09,441.95,141.04,133.09,59.95,938.02,239.0,159.95,98.95,598.84,333.49,92.44,38.5,336.94,318.59,466.18,419.56,342.17,240.49,605.07,99.0,653.08,518.75,348.47,731.49,653.17,645.99,515.99,288.88,210.0,138.95,138.95,649.79,535.64,478.99,252.18,381.03,329.19,265.94,664.99,589.99,454.08,270.99,430.24,301.53,178.68,94.04,448.04,320.08,603.37,600.96,596.86,203.08,194.44,151.94,1186.98,726.2,453.48,315.13,457.9,361.99,351.95,214.09,162.51,364.98,326.68,193.94,181.69,173.85,139.5,1094.95,452.54,206.93,174.94,683.45,640.98,539.95,350.94,273.99,227.83,222.99,281.31,417.99,360.48,319.93,830.44,410.76,833.95,756.41,547.98,391.91,338.77,158.99,670.89,501.93,284.89,239.99,179.94,867.38,646.92,132.99,631.65,321.97,235.97,233.95,191.18,515.98,217.94,587.97,410.36,402.48,717.67,531.0,492.99,458.19,353.83,283.13,215.99,627.98,448.18,597.98,450.86,234.03,117.94,212.49,814.16,526.38,502.6,473.63,343.96,159.69,591.91,471.4,303.08,156.44,144.0,461.92,283.0,252.5,277.96,124.99,310.74,304.12,194.94,166.44,349.93,307.54,306.99,574.03,518.95,365.99,236.69,208.28,172.99,466.38,287.29,273.13,234.87,311.93,171.1,135.0,135.0,595.69,471.42,324.98,252.87,182.04,63.04,361.57,696.07,580.43,417.48,593.98,829.19,754.24,565.43,547.98,467.01,377.32,295.53,221.08,459.44,182.03,559.18,321.98,1386.07,929.0,603.91,539.02,113.95,618.97,565.98,206.95,1314.99,549.46,354.99,287.93,175.59,168.99,144.94,143.89,718.18,637.9,619.94,329.49,328.99,213.94,940.94,784.95,502.94,354.99,1309.12,317.08,311.88,84.99,59.94,770.38,729.37,623.95,259.82,560.03,503.69,239.0,148.13,645.93,297.73,174.89,158.94,104.94,665.96,473.03,466.99,242.35,241.17,852.91,660.51,432.99,332.19,267.93,252.98,99.99,601.72,461.98,331.99,79.93,741.29,512.35,378.52,65.34,1296.47,412.59,364.87,307.93,193.94,128.99,691.26,496.18,437.86,421.26,365.95,227.63,204.14,51.94,762.94,744.69,428.66,85.94,676.99,590.93,567.37,560.92,437.4,353.88,337.37,181.49,132.0,887.45,482.94,332.34,288.44,260.0,200.89,133.89,108.14,403.14,299.95,140.99,45.94,266.93,137.12,674.97,504.94,466.97,526.95,491.63,350.08,793.58,525.19,498.98,252.44,244.95,109.44,968.93,220.24,213.99,540.99,361.38,194.99,530.98,341.99,342.92,252.97,384.48,250.82,153.54,511.0,147.95,657.09,425.99,300.95,423.98,498.94,160.0,451.87,995.48,925.14,760.9,694.88,688.9,581.98,699.68,450.77,424.98,372.89,292.06,162.49,657.97,461.39,318.09,173.89,973.97,458.94,389.94,253.08,1055.93,778.9,714.47,541.18,474.96,399.95,344.86,316.95,385.28,282.09,233.19,932.51,417.99,255.14,228.8,144.15,718.84,296.17,276.98,518.88,566.78,117.38,665.53,652.1,396.89,177.94,405.97,649.6,635.93,530.69,272.42,259.84,120.29,106.04,555.39,373.08,466.93,779.17,463.92,316.47,374.49,282.19,272.99,259.48,848.93,493.97,471.65,464.43,437.06,405.09,374.95,263.93,740.52,599.89,554.07,456.15,235.19,194.44,172.53,537.99,457.23,440.53,316.47,288.98,283.99,265.93,635.47,536.07,438.58,137.94,641.12,434.81,421.11,745.48,630.26,524.22,1054.07,842.38,669.08,324.94,219.23,927.46,694.7,492.98,422.95,316.03,245.03,193.54,1148.49,869.92,544.4,1275.99,1013.97,529.43,352.97,176.89,115.34,988.97,676.43,562.97,459.9,309.42,209.69,167.99,468.88,344.83,464.97,205.99,339.94,521.47,779.04,257.91,218.94,202.09,854.98,287.39,667.98,523.97,312.98,367.99,276.79,152.94,1285.94,395.82,444.82,253.89,521.98,394.99,717.15,585.33,329.59,175.94,127.93,1247.04,895.85,487.38,325.33,274.09,133.94,288.49,247.09,227.18,180.93,172.04,782.19,732.37,192.84,359.99,153.94,69.89,432.13,1586.17,1541.18,1466.98,1422.27,1303.26,1237.98,1191.99,1173.96,1173.68,1163.47,1142.7,1098.97,1090.99,1085.97,1042.97,1015.57,963.65,960.13,958.44,941.19,935.96,929.98,927.74,900.94,897.97,893.07,892.95,857.14,841.95,835.95,829.97,826.56,813.99,811.96,810.98,810.16,806.06,801.99,793.18,791.03,785.69,781.74,779.59,775.29,770.27,767.04,765.95,765.38,755.99,741.44,731.39,726.97,717.97,717.18,715.2,708.39,707.93,707.92,707.28,704.08,698.24,693.77,692.98,691.77,688.33,681.37,680.09,677.15,674.56,674.07,668.03,666.18,665.14,661.06,656.07,655.95,653.07,652.97,645.99,645.94,644.97,644.09,641.98,638.98,637.06,630.92,630.18,629.97,628.95,624.49,621.96,620.99,618.07,616.29,609.97,609.56,603.98,601.96,598.55,594.38,589.58,584.55,583.85,581.99,581.96,579.72,578.17,576.98,569.18,563.91,563.19,562.97,558.8,556.83,553.98,552.78,551.09,549.83,548.97,544.05,540.74,539.65,538.93,535.09,531.96,531.49,528.58,526.59,524.98,524.67,522.72,516.17,512.49,512.37,512.05,510.45,503.06,500.48,499.96,498.48,497.59,494.99,494.08,494.0,492.99,492.99,488.96,488.25,486.09,483.77,483.08,480.48,479.99,476.15,475.49,475.05,474.08,472.19,464.99,464.96,463.99,461.95,459.06,456.96,455.37,452.9,450.97,448.14,446.98,445.0,443.07,441.69,439.99,439.97,439.97,438.0,437.99,437.97,435.99,435.29,434.98,434.96,433.97,432.98,430.36,429.73,427.16,426.96,426.57,424.98,424.26,423.99,423.28,422.37,419.46,417.03,416.19,415.37,413.57,412.57,411.96,411.09,410.99,410.09,409.48,408.99,406.17,406.09,405.99,405.97,397.97,397.49,394.95,392.96,391.09,390.98,389.28,388.46,387.39,387.17,384.99,384.99,380.0,379.0,377.47,375.97,374.48,373.58,372.99,371.47,370.97,370.96,370.0,369.98,369.97,369.17,368.46,368.38,367.99,366.98,365.85,365.47,363.58,361.97,361.38,361.0,360.99,360.37,358.18,356.15,356.08,355.98,355.18,355.0,354.54,353.98,352.96,352.76,351.58,350.97,349.07,348.99,348.58,348.18,348.0,347.97,345.86,344.6,344.44,341.98,339.99,339.35,338.99,338.98,338.97,338.49,337.98,337.49,336.98,333.17,333.08,333.06,332.57,331.17,331.08,330.99,329.99,328.81,326.78,325.99,325.87,324.99,322.97,321.99,320.99,320.0,320.0,320.0,320.0,319.09,317.98,317.38,316.67,314.98,314.47,313.98,313.46,312.98,312.47,312.36,312.17,311.18,310.0,309.98,309.97,309.79,309.37,308.17,307.98,306.99,305.38,305.37,305.09,302.49,302.08,301.97,300.98,299.99,299.09,297.98,297.49,297.08,296.98,296.98,295.99,295.98,295.37,294.99,294.98,293.98,291.67,289.99,288.48,288.0,287.98,286.57,286.36,285.98,285.98,285.98,285.97,285.97,283.98,283.98,283.98,283.58,282.56,281.98,281.97,281.29,281.08,280.98,280.56,279.98,279.27,278.97,278.97,278.55,276.99,276.97,276.09,275.98,275.09,275.0,274.99,274.98,274.58,274.08,274.08,273.57,272.99,272.97,272.49,272.19,272.02,270.18,269.97,268.98,268.97,268.37,267.99,267.47,267.46,266.48,264.97,264.68,264.16,264.0,263.67,263.06,263.0,262.09,261.98,261.49,259.58,258.19,255.99,253.18,253.09,252.49,252.47,252.47,252.46,251.98,250.98,250.18,249.98,249.19,248.99,248.98,248.48,247.98,247.48,246.99,246.68,245.99,245.99,245.0,244.99,244.48,244.08,244.08,243.98,243.57,243.08,242.98,242.09,242.08,242.07,241.99,241.98,241.48,240.99,240.48,240.39,240.08,240.0,240.0,239.99,239.99,239.18,239.08,238.98,238.98,238.98,237.77,237.59,237.08,236.58,235.77,235.08,235.08,235.0,234.56,233.17,232.69,232.47,230.99,230.97,230.58,230.18,230.09,229.99,229.98,229.98,229.97,229.58,229.48,229.19,228.99,228.98,228.98,228.52,228.0,226.99,226.78,226.09,226.08,225.99,225.98,224.18,224.18,224.08,223.98,222.97,222.58,222.17,221.98,221.98,221.98,221.19,220.99,220.98,220.98,220.48,220.09,220.08,219.19,218.46,217.98,217.08,217.08,215.98,215.0,215.0,213.98,213.48,212.99,212.99,212.97,212.49,212.37,211.48,211.46,211.19,211.18,210.99,210.99,210.98,210.98,209.98,209.0,208.98,208.49,208.18,207.49,207.18,206.98,206.59,206.58,206.18,206.08,205.99,205.98,205.98,205.0,205.0,205.0,204.49,203.99,203.59,202.99,202.08,201.07,200.99,200.99,200.98,200.0,199.99,199.99,199.59,199.48,198.99,197.98,197.59,195.99,195.98,195.97,195.48,195.0,194.99,193.99,193.99,193.99,193.99,193.99,193.98,193.57,193.18,192.98,192.78,192.18,192.17,192.08,191.99,191.49,190.99,190.99,190.98,189.99,189.88,189.28,189.08,188.98,188.0,187.08,185.97,185.97,185.09,185.09,185.08,185.0,185.0,184.99,184.99,184.98,183.99,183.99,183.99,183.69,183.39,182.99,182.78,182.48,181.37,181.17,180.99,180.99,180.99,180.99,180.99,180.99,180.99,180.99,180.99,180.99,180.98,180.98,180.69,180.57,180.08,179.99,179.99,179.99,179.99,179.99,179.99,179.98,179.97,179.58,179.18,178.0,177.97,176.99,176.99,176.57,176.18,175.99,175.98,175.98,175.37,175.0,175.0,175.0,175.0,175.0,175.0,175.0,175.0,175.0,174.98,174.48,173.08,172.99,172.49,172.18,171.98,171.59,170.99,170.98,170.0,169.99,169.99,168.98,168.98,168.58,168.19,167.99,167.08,166.73,166.19,165.99,165.99,165.99,165.58,165.18,165.08,165.0,164.99,164.99,164.99,164.99,164.99,164.98,164.19,163.98,163.98,163.98,163.49,162.99,162.59,162.49,162.49,162.49,162.49,162.18,161.99,161.59,161.18,161.08,160.99,160.98,159.98,159.98,159.8,159.09,159.0,158.99,158.98,157.99,157.99,157.68,156.99,156.99,156.58,156.17,156.09,155.98,155.0,155.0,155.0,154.99,154.99,154.99,154.99,154.98,154.58,154.49,154.49,154.49,153.99,153.99,153.59,153.59,153.49,153.48,153.18,152.99,152.57,152.47,152.19,152.18,151.18,150.99,150.98,150.97,150.48,150.0,149.99,149.99,149.99,149.87,149.48,149.38,149.0,148.99,148.99,148.99,148.99,148.98,148.98,148.98,148.94,148.19,148.09,148.09,148.09,148.09,147.98,147.68,147.39,147.19,147.09,146.99,146.88,145.99,145.99,145.99,145.98,145.49,145.08,145.0,145.0,144.99,144.99,144.99,144.99,144.99,144.99,144.99,144.99,144.59,144.59,144.28,143.99,143.99,143.99,143.99,143.98,142.48,142.19,142.19,141.98,141.98,140.99,140.99,140.99,140.99,140.49,140.09,140.0,139.99,139.09,139.09,138.98,138.48,138.0,137.99,137.48,137.48,137.4,137.37,137.29,137.08,136.49,136.39,135.99,135.99,135.49,135.49,135.49,135.38,135.08,135.0,134.99,134.59,133.99,133.99,133.69,133.69,133.48,133.46,133.09,132.98,132.48,132.08,131.99,131.39,130.99,130.99,130.99,130.99,130.99,130.78,130.49,130.38,130.19,130.09,130.0,129.99,129.99,129.99,129.99,129.99,129.99,129.99,129.99,129.99,129.98,129.08,128.98,127.98,127.49,127.49,127.48,127.39,127.18,126.59,126.58,126.49,126.49,126.49,126.49,126.49,126.08,125.99,125.99,125.99,125.99,125.98,125.98,125.38,125.0,125.0,125.0,125.0,125.0,124.99,124.99,124.99,124.99,124.99,124.99,124.99,124.99,124.98,124.98,124.19,123.99,123.99,123.99,123.99,123.97,123.88,123.39,123.09,123.09,122.99,122.09,121.99,121.98,121.58,121.56,121.19,121.09,121.09,120.99,120.99,120.99,120.97,120.48,120.38,120.27,120.19,120.18,120.0,119.99,119.99,119.99,119.99,119.99,119.99,119.08,118.98,118.68,118.59,118.49,118.49,118.08,117.79,117.59,117.49,117.49,117.49,117.49,117.49,117.49,117.49,94.14],\"yaxis\":\"y\",\"type\":\"scattergl\"}],                        {\"template\":{\"data\":{\"histogram2dcontour\":[{\"type\":\"histogram2dcontour\",\"colorbar\":{\"outlinewidth\":0,\"ticks\":\"\"},\"colorscale\":[[0.0,\"#0d0887\"],[0.1111111111111111,\"#46039f\"],[0.2222222222222222,\"#7201a8\"],[0.3333333333333333,\"#9c179e\"],[0.4444444444444444,\"#bd3786\"],[0.5555555555555556,\"#d8576b\"],[0.6666666666666666,\"#ed7953\"],[0.7777777777777778,\"#fb9f3a\"],[0.8888888888888888,\"#fdca26\"],[1.0,\"#f0f921\"]]}],\"choropleth\":[{\"type\":\"choropleth\",\"colorbar\":{\"outlinewidth\":0,\"ticks\":\"\"}}],\"histogram2d\":[{\"type\":\"histogram2d\",\"colorbar\":{\"outlinewidth\":0,\"ticks\":\"\"},\"colorscale\":[[0.0,\"#0d0887\"],[0.1111111111111111,\"#46039f\"],[0.2222222222222222,\"#7201a8\"],[0.3333333333333333,\"#9c179e\"],[0.4444444444444444,\"#bd3786\"],[0.5555555555555556,\"#d8576b\"],[0.6666666666666666,\"#ed7953\"],[0.7777777777777778,\"#fb9f3a\"],[0.8888888888888888,\"#fdca26\"],[1.0,\"#f0f921\"]]}],\"heatmap\":[{\"type\":\"heatmap\",\"colorbar\":{\"outlinewidth\":0,\"ticks\":\"\"},\"colorscale\":[[0.0,\"#0d0887\"],[0.1111111111111111,\"#46039f\"],[0.2222222222222222,\"#7201a8\"],[0.3333333333333333,\"#9c179e\"],[0.4444444444444444,\"#bd3786\"],[0.5555555555555556,\"#d8576b\"],[0.6666666666666666,\"#ed7953\"],[0.7777777777777778,\"#fb9f3a\"],[0.8888888888888888,\"#fdca26\"],[1.0,\"#f0f921\"]]}],\"heatmapgl\":[{\"type\":\"heatmapgl\",\"colorbar\":{\"outlinewidth\":0,\"ticks\":\"\"},\"colorscale\":[[0.0,\"#0d0887\"],[0.1111111111111111,\"#46039f\"],[0.2222222222222222,\"#7201a8\"],[0.3333333333333333,\"#9c179e\"],[0.4444444444444444,\"#bd3786\"],[0.5555555555555556,\"#d8576b\"],[0.6666666666666666,\"#ed7953\"],[0.7777777777777778,\"#fb9f3a\"],[0.8888888888888888,\"#fdca26\"],[1.0,\"#f0f921\"]]}],\"contourcarpet\":[{\"type\":\"contourcarpet\",\"colorbar\":{\"outlinewidth\":0,\"ticks\":\"\"}}],\"contour\":[{\"type\":\"contour\",\"colorbar\":{\"outlinewidth\":0,\"ticks\":\"\"},\"colorscale\":[[0.0,\"#0d0887\"],[0.1111111111111111,\"#46039f\"],[0.2222222222222222,\"#7201a8\"],[0.3333333333333333,\"#9c179e\"],[0.4444444444444444,\"#bd3786\"],[0.5555555555555556,\"#d8576b\"],[0.6666666666666666,\"#ed7953\"],[0.7777777777777778,\"#fb9f3a\"],[0.8888888888888888,\"#fdca26\"],[1.0,\"#f0f921\"]]}],\"surface\":[{\"type\":\"surface\",\"colorbar\":{\"outlinewidth\":0,\"ticks\":\"\"},\"colorscale\":[[0.0,\"#0d0887\"],[0.1111111111111111,\"#46039f\"],[0.2222222222222222,\"#7201a8\"],[0.3333333333333333,\"#9c179e\"],[0.4444444444444444,\"#bd3786\"],[0.5555555555555556,\"#d8576b\"],[0.6666666666666666,\"#ed7953\"],[0.7777777777777778,\"#fb9f3a\"],[0.8888888888888888,\"#fdca26\"],[1.0,\"#f0f921\"]]}],\"mesh3d\":[{\"type\":\"mesh3d\",\"colorbar\":{\"outlinewidth\":0,\"ticks\":\"\"}}],\"scatter\":[{\"fillpattern\":{\"fillmode\":\"overlay\",\"size\":10,\"solidity\":0.2},\"type\":\"scatter\"}],\"parcoords\":[{\"type\":\"parcoords\",\"line\":{\"colorbar\":{\"outlinewidth\":0,\"ticks\":\"\"}}}],\"scatterpolargl\":[{\"type\":\"scatterpolargl\",\"marker\":{\"colorbar\":{\"outlinewidth\":0,\"ticks\":\"\"}}}],\"bar\":[{\"error_x\":{\"color\":\"#2a3f5f\"},\"error_y\":{\"color\":\"#2a3f5f\"},\"marker\":{\"line\":{\"color\":\"#E5ECF6\",\"width\":0.5},\"pattern\":{\"fillmode\":\"overlay\",\"size\":10,\"solidity\":0.2}},\"type\":\"bar\"}],\"scattergeo\":[{\"type\":\"scattergeo\",\"marker\":{\"colorbar\":{\"outlinewidth\":0,\"ticks\":\"\"}}}],\"scatterpolar\":[{\"type\":\"scatterpolar\",\"marker\":{\"colorbar\":{\"outlinewidth\":0,\"ticks\":\"\"}}}],\"histogram\":[{\"marker\":{\"pattern\":{\"fillmode\":\"overlay\",\"size\":10,\"solidity\":0.2}},\"type\":\"histogram\"}],\"scattergl\":[{\"type\":\"scattergl\",\"marker\":{\"colorbar\":{\"outlinewidth\":0,\"ticks\":\"\"}}}],\"scatter3d\":[{\"type\":\"scatter3d\",\"line\":{\"colorbar\":{\"outlinewidth\":0,\"ticks\":\"\"}},\"marker\":{\"colorbar\":{\"outlinewidth\":0,\"ticks\":\"\"}}}],\"scattermapbox\":[{\"type\":\"scattermapbox\",\"marker\":{\"colorbar\":{\"outlinewidth\":0,\"ticks\":\"\"}}}],\"scatterternary\":[{\"type\":\"scatterternary\",\"marker\":{\"colorbar\":{\"outlinewidth\":0,\"ticks\":\"\"}}}],\"scattercarpet\":[{\"type\":\"scattercarpet\",\"marker\":{\"colorbar\":{\"outlinewidth\":0,\"ticks\":\"\"}}}],\"carpet\":[{\"aaxis\":{\"endlinecolor\":\"#2a3f5f\",\"gridcolor\":\"white\",\"linecolor\":\"white\",\"minorgridcolor\":\"white\",\"startlinecolor\":\"#2a3f5f\"},\"baxis\":{\"endlinecolor\":\"#2a3f5f\",\"gridcolor\":\"white\",\"linecolor\":\"white\",\"minorgridcolor\":\"white\",\"startlinecolor\":\"#2a3f5f\"},\"type\":\"carpet\"}],\"table\":[{\"cells\":{\"fill\":{\"color\":\"#EBF0F8\"},\"line\":{\"color\":\"white\"}},\"header\":{\"fill\":{\"color\":\"#C8D4E3\"},\"line\":{\"color\":\"white\"}},\"type\":\"table\"}],\"barpolar\":[{\"marker\":{\"line\":{\"color\":\"#E5ECF6\",\"width\":0.5},\"pattern\":{\"fillmode\":\"overlay\",\"size\":10,\"solidity\":0.2}},\"type\":\"barpolar\"}],\"pie\":[{\"automargin\":true,\"type\":\"pie\"}]},\"layout\":{\"autotypenumbers\":\"strict\",\"colorway\":[\"#636efa\",\"#EF553B\",\"#00cc96\",\"#ab63fa\",\"#FFA15A\",\"#19d3f3\",\"#FF6692\",\"#B6E880\",\"#FF97FF\",\"#FECB52\"],\"font\":{\"color\":\"#2a3f5f\"},\"hovermode\":\"closest\",\"hoverlabel\":{\"align\":\"left\"},\"paper_bgcolor\":\"white\",\"plot_bgcolor\":\"#E5ECF6\",\"polar\":{\"bgcolor\":\"#E5ECF6\",\"angularaxis\":{\"gridcolor\":\"white\",\"linecolor\":\"white\",\"ticks\":\"\"},\"radialaxis\":{\"gridcolor\":\"white\",\"linecolor\":\"white\",\"ticks\":\"\"}},\"ternary\":{\"bgcolor\":\"#E5ECF6\",\"aaxis\":{\"gridcolor\":\"white\",\"linecolor\":\"white\",\"ticks\":\"\"},\"baxis\":{\"gridcolor\":\"white\",\"linecolor\":\"white\",\"ticks\":\"\"},\"caxis\":{\"gridcolor\":\"white\",\"linecolor\":\"white\",\"ticks\":\"\"}},\"coloraxis\":{\"colorbar\":{\"outlinewidth\":0,\"ticks\":\"\"}},\"colorscale\":{\"sequential\":[[0.0,\"#0d0887\"],[0.1111111111111111,\"#46039f\"],[0.2222222222222222,\"#7201a8\"],[0.3333333333333333,\"#9c179e\"],[0.4444444444444444,\"#bd3786\"],[0.5555555555555556,\"#d8576b\"],[0.6666666666666666,\"#ed7953\"],[0.7777777777777778,\"#fb9f3a\"],[0.8888888888888888,\"#fdca26\"],[1.0,\"#f0f921\"]],\"sequentialminus\":[[0.0,\"#0d0887\"],[0.1111111111111111,\"#46039f\"],[0.2222222222222222,\"#7201a8\"],[0.3333333333333333,\"#9c179e\"],[0.4444444444444444,\"#bd3786\"],[0.5555555555555556,\"#d8576b\"],[0.6666666666666666,\"#ed7953\"],[0.7777777777777778,\"#fb9f3a\"],[0.8888888888888888,\"#fdca26\"],[1.0,\"#f0f921\"]],\"diverging\":[[0,\"#8e0152\"],[0.1,\"#c51b7d\"],[0.2,\"#de77ae\"],[0.3,\"#f1b6da\"],[0.4,\"#fde0ef\"],[0.5,\"#f7f7f7\"],[0.6,\"#e6f5d0\"],[0.7,\"#b8e186\"],[0.8,\"#7fbc41\"],[0.9,\"#4d9221\"],[1,\"#276419\"]]},\"xaxis\":{\"gridcolor\":\"white\",\"linecolor\":\"white\",\"ticks\":\"\",\"title\":{\"standoff\":15},\"zerolinecolor\":\"white\",\"automargin\":true,\"zerolinewidth\":2},\"yaxis\":{\"gridcolor\":\"white\",\"linecolor\":\"white\",\"ticks\":\"\",\"title\":{\"standoff\":15},\"zerolinecolor\":\"white\",\"automargin\":true,\"zerolinewidth\":2},\"scene\":{\"xaxis\":{\"backgroundcolor\":\"#E5ECF6\",\"gridcolor\":\"white\",\"linecolor\":\"white\",\"showbackground\":true,\"ticks\":\"\",\"zerolinecolor\":\"white\",\"gridwidth\":2},\"yaxis\":{\"backgroundcolor\":\"#E5ECF6\",\"gridcolor\":\"white\",\"linecolor\":\"white\",\"showbackground\":true,\"ticks\":\"\",\"zerolinecolor\":\"white\",\"gridwidth\":2},\"zaxis\":{\"backgroundcolor\":\"#E5ECF6\",\"gridcolor\":\"white\",\"linecolor\":\"white\",\"showbackground\":true,\"ticks\":\"\",\"zerolinecolor\":\"white\",\"gridwidth\":2}},\"shapedefaults\":{\"line\":{\"color\":\"#2a3f5f\"}},\"annotationdefaults\":{\"arrowcolor\":\"#2a3f5f\",\"arrowhead\":0,\"arrowwidth\":1},\"geo\":{\"bgcolor\":\"white\",\"landcolor\":\"#E5ECF6\",\"subunitcolor\":\"white\",\"showland\":true,\"showlakes\":true,\"lakecolor\":\"white\"},\"title\":{\"x\":0.05},\"mapbox\":{\"style\":\"light\"}}},\"xaxis\":{\"anchor\":\"y\",\"domain\":[0.0,1.0],\"title\":{\"text\":\"Recency\"}},\"yaxis\":{\"anchor\":\"x\",\"domain\":[0.0,1.0],\"title\":{\"text\":\"Monetary\"}},\"legend\":{\"title\":{\"text\":\"Cluster\"},\"tracegroupgap\":0},\"margin\":{\"t\":60}},                        {\"responsive\": true}                    ).then(function(){\n",
       "                            \n",
       "var gd = document.getElementById('4648bcdb-9556-4a35-a62d-4a888d76ac54');\n",
       "var x = new MutationObserver(function (mutations, observer) {{\n",
       "        var display = window.getComputedStyle(gd).display;\n",
       "        if (!display || display === 'none') {{\n",
       "            console.log([gd, 'removed!']);\n",
       "            Plotly.purge(gd);\n",
       "            observer.disconnect();\n",
       "        }}\n",
       "}});\n",
       "\n",
       "// Listen for the removal of the full notebook cells\n",
       "var notebookContainer = gd.closest('#notebook-container');\n",
       "if (notebookContainer) {{\n",
       "    x.observe(notebookContainer, {childList: true});\n",
       "}}\n",
       "\n",
       "// Listen for the clearing of the current output cell\n",
       "var outputEl = gd.closest('.output');\n",
       "if (outputEl) {{\n",
       "    x.observe(outputEl, {childList: true});\n",
       "}}\n",
       "\n",
       "                        })                };                });            </script>        </div>"
      ]
     },
     "metadata": {},
     "output_type": "display_data"
    }
   ],
   "source": [
    "# Recency V/s Frequency\n",
    "fig = px.scatter(RFM_data_1,x = 'Recency',y = 'Frequency', color = 'Cluster')\n",
    "fig.show()\n",
    "\n",
    "# Frequency V/s Monetary\n",
    "fig = px.scatter(RFM_data_1,x = 'Monetary',y = 'Frequency', color = 'Cluster')\n",
    "fig.show()\n",
    "\n",
    "# Recency V/s Monetary\n",
    "fig = px.scatter(RFM_data_1,x = 'Recency',y = 'Monetary', color = 'Cluster')\n",
    "fig.show()"
   ]
  },
  {
   "cell_type": "markdown",
   "id": "c3c2c2c2",
   "metadata": {
    "papermill": {
     "duration": 0.02277,
     "end_time": "2023-02-02T07:31:10.798227",
     "exception": false,
     "start_time": "2023-02-02T07:31:10.775457",
     "status": "completed"
    },
    "tags": []
   },
   "source": [
    "## Step 8: Findings"
   ]
  },
  {
   "cell_type": "markdown",
   "id": "96711f5d",
   "metadata": {
    "papermill": {
     "duration": 0.021753,
     "end_time": "2023-02-02T07:31:10.842822",
     "exception": false,
     "start_time": "2023-02-02T07:31:10.821069",
     "status": "completed"
    },
    "tags": []
   },
   "source": [
    "* __1: Most of the customer orders placed during last week of the month__\n",
    "\n",
    "    \n",
    "* __2: Thursday, Friday, and Sunday are the most prominent days for customers to purchase products.__\n",
    "\n",
    "\n",
    "* __3: average recency of the  customers are 87 days (approx), an average customer are purchasing the product 13 times and spending an average 1681.52 unitprice__\n",
    "    \n",
    "    \n",
    "* __4: The customers whose Recency is less than two month have high Frequency i.e the customers buying more when their recency is less__\n",
    "    \n",
    "    \n",
    "* __5: customers buying frequently are spending less amount.__\n",
    "\n",
    "\n",
    "* __6: the customers whose Recency is less than two month have high Monetory i.e the customers spending more when their recency is less.__\n",
    "\n",
    "\n",
    "* __7: almost 50% customers are spend time and buy products and  around 25-30% customers are potential customers and 20-25% customers need attention.__"
   ]
  },
  {
   "cell_type": "markdown",
   "id": "4d6b81ee",
   "metadata": {
    "papermill": {
     "duration": 0.021822,
     "end_time": "2023-02-02T07:31:10.886614",
     "exception": false,
     "start_time": "2023-02-02T07:31:10.864792",
     "status": "completed"
    },
    "tags": []
   },
   "source": [
    "## Step 8: Suggestions"
   ]
  },
  {
   "cell_type": "markdown",
   "id": "f20df5d5",
   "metadata": {
    "papermill": {
     "duration": 0.021433,
     "end_time": "2023-02-02T07:31:10.930256",
     "exception": false,
     "start_time": "2023-02-02T07:31:10.908823",
     "status": "completed"
    },
    "tags": []
   },
   "source": [
    " __I. Based on the above R-F-M score, we can give some Recommendations.__\n",
    "* __1: Champions: We can Reward them for their multiples purchases. They can be early adopters to very new products. Suggest them “Refer a friend”. Also, they can be the most loyal customers that have the habit to order.__\n",
    "\n",
    "    \n",
    "* __2: Potential customers: Create loyalty cards in which they can gain points each time of purchasing and these points could transfer into a discount__\n",
    "\n",
    "\n",
    "* __3: Need attention: Send them personalized emails/messages/notifications to encourage them to order. Also Notify them about the discounts to keep them spending more and more money on your products.__\n",
    "\n",
    "\n",
    "\n",
    "\n",
    "__II. Based On the visualization of data :__\n",
    "\n",
    "* __1. Allow discounts on products at the beginning of the month so that customers can start spending from week one..__\n",
    "\n",
    "   \n",
    "* __2. Take survey from need attention customers about service, offers and what they required from us.__\n",
    "    "
   ]
  },
  {
   "cell_type": "markdown",
   "id": "e8adfb67",
   "metadata": {
    "papermill": {
     "duration": 0.02156,
     "end_time": "2023-02-02T07:31:10.974290",
     "exception": false,
     "start_time": "2023-02-02T07:31:10.952730",
     "status": "completed"
    },
    "tags": []
   },
   "source": [
    "# THANK YOU..."
   ]
  }
 ],
 "metadata": {
  "kernelspec": {
   "display_name": "Python 3",
   "language": "python",
   "name": "python3"
  },
  "language_info": {
   "codemirror_mode": {
    "name": "ipython",
    "version": 3
   },
   "file_extension": ".py",
   "mimetype": "text/x-python",
   "name": "python",
   "nbconvert_exporter": "python",
   "pygments_lexer": "ipython3",
   "version": "3.7.12"
  },
  "papermill": {
   "default_parameters": {},
   "duration": 69.975416,
   "end_time": "2023-02-02T07:31:12.018191",
   "environment_variables": {},
   "exception": null,
   "input_path": "__notebook__.ipynb",
   "output_path": "__notebook__.ipynb",
   "parameters": {},
   "start_time": "2023-02-02T07:30:02.042775",
   "version": "2.3.4"
  }
 },
 "nbformat": 4,
 "nbformat_minor": 5
}
